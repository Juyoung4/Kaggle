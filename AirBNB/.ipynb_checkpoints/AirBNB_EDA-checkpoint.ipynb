{
 "cells": [
  {
   "cell_type": "markdown",
   "id": "bd861f2e-ef83-4c9e-b070-9286bfb3f85e",
   "metadata": {},
   "source": [
    "### 데이터 세트 종류 확인"
   ]
  },
  {
   "cell_type": "code",
   "execution_count": 1,
   "id": "704aa447-a96e-4f40-8047-57439930e0cf",
   "metadata": {},
   "outputs": [],
   "source": [
    "import re, json\n",
    "import pandas as pd\n",
    "import numpy as np\n",
    "import os\n",
    "\n",
    "import matplotlib.pyplot as plt\n",
    "import seaborn as sns\n",
    "%matplotlib inline"
   ]
  },
  {
   "cell_type": "code",
   "execution_count": 2,
   "id": "424420bf-9e15-4821-a144-2d715776a171",
   "metadata": {},
   "outputs": [],
   "source": [
    "PATH = '/home/ai-sjjy/workspace/juyoung/airBNB/dataset/'"
   ]
  },
  {
   "cell_type": "code",
   "execution_count": 3,
   "id": "9d7604de-67ce-48e1-a210-104190fc3dd5",
   "metadata": {},
   "outputs": [],
   "source": [
    "AGE_GENDER = 'age_gender_bkts.csv'\n",
    "COUNTRIY = 'countries.csv'\n",
    "SESSIONS = 'sessions.csv'\n",
    "\n",
    "TRAIN_USERS = 'train_users_2.csv'\n",
    "TEST_USERS = 'test_users.csv'\n",
    "\n",
    "SAMPLE = 'sample_submission_NDF.csv'"
   ]
  },
  {
   "cell_type": "code",
   "execution_count": 4,
   "id": "01f15ef2-2979-4730-9d87-95e9e2c77bbb",
   "metadata": {},
   "outputs": [],
   "source": [
    "age_df = pd.read_csv(PATH + AGE_GENDER)\n",
    "country_df = pd.read_csv(PATH + COUNTRIY)\n",
    "session_df = pd.read_csv(PATH + SESSIONS)\n",
    "\n",
    "train_df = pd.read_csv(PATH + TRAIN_USERS)\n",
    "test_df = pd.read_csv(PATH + TEST_USERS)\n",
    "\n",
    "sample_df = pd.read_csv(PATH + SAMPLE)"
   ]
  },
  {
   "cell_type": "markdown",
   "id": "db7d49cd-d960-4ffa-8895-6502608a34c5",
   "metadata": {},
   "source": [
    "#### [1-1] 구조 확인 (속성)"
   ]
  },
  {
   "cell_type": "code",
   "execution_count": 5,
   "id": "3a714342-c00b-4afb-8a18-496a02a2d209",
   "metadata": {},
   "outputs": [
    {
     "data": {
      "text/html": [
       "<div>\n",
       "<style scoped>\n",
       "    .dataframe tbody tr th:only-of-type {\n",
       "        vertical-align: middle;\n",
       "    }\n",
       "\n",
       "    .dataframe tbody tr th {\n",
       "        vertical-align: top;\n",
       "    }\n",
       "\n",
       "    .dataframe thead th {\n",
       "        text-align: right;\n",
       "    }\n",
       "</style>\n",
       "<table border=\"1\" class=\"dataframe\">\n",
       "  <thead>\n",
       "    <tr style=\"text-align: right;\">\n",
       "      <th></th>\n",
       "      <th>age_bucket</th>\n",
       "      <th>country_destination</th>\n",
       "      <th>gender</th>\n",
       "      <th>population_in_thousands</th>\n",
       "      <th>year</th>\n",
       "    </tr>\n",
       "  </thead>\n",
       "  <tbody>\n",
       "    <tr>\n",
       "      <th>0</th>\n",
       "      <td>100+</td>\n",
       "      <td>AU</td>\n",
       "      <td>male</td>\n",
       "      <td>1.0</td>\n",
       "      <td>2015.0</td>\n",
       "    </tr>\n",
       "    <tr>\n",
       "      <th>1</th>\n",
       "      <td>95-99</td>\n",
       "      <td>AU</td>\n",
       "      <td>male</td>\n",
       "      <td>9.0</td>\n",
       "      <td>2015.0</td>\n",
       "    </tr>\n",
       "    <tr>\n",
       "      <th>2</th>\n",
       "      <td>90-94</td>\n",
       "      <td>AU</td>\n",
       "      <td>male</td>\n",
       "      <td>47.0</td>\n",
       "      <td>2015.0</td>\n",
       "    </tr>\n",
       "    <tr>\n",
       "      <th>3</th>\n",
       "      <td>85-89</td>\n",
       "      <td>AU</td>\n",
       "      <td>male</td>\n",
       "      <td>118.0</td>\n",
       "      <td>2015.0</td>\n",
       "    </tr>\n",
       "    <tr>\n",
       "      <th>4</th>\n",
       "      <td>80-84</td>\n",
       "      <td>AU</td>\n",
       "      <td>male</td>\n",
       "      <td>199.0</td>\n",
       "      <td>2015.0</td>\n",
       "    </tr>\n",
       "  </tbody>\n",
       "</table>\n",
       "</div>"
      ],
      "text/plain": [
       "  age_bucket country_destination gender  population_in_thousands    year\n",
       "0       100+                  AU   male                      1.0  2015.0\n",
       "1      95-99                  AU   male                      9.0  2015.0\n",
       "2      90-94                  AU   male                     47.0  2015.0\n",
       "3      85-89                  AU   male                    118.0  2015.0\n",
       "4      80-84                  AU   male                    199.0  2015.0"
      ]
     },
     "execution_count": 5,
     "metadata": {},
     "output_type": "execute_result"
    }
   ],
   "source": [
    "age_df.head(5)"
   ]
  },
  {
   "cell_type": "code",
   "execution_count": 6,
   "id": "a67131c3-2a46-4535-b35d-7b6fc7f94e92",
   "metadata": {},
   "outputs": [
    {
     "data": {
      "text/html": [
       "<div>\n",
       "<style scoped>\n",
       "    .dataframe tbody tr th:only-of-type {\n",
       "        vertical-align: middle;\n",
       "    }\n",
       "\n",
       "    .dataframe tbody tr th {\n",
       "        vertical-align: top;\n",
       "    }\n",
       "\n",
       "    .dataframe thead th {\n",
       "        text-align: right;\n",
       "    }\n",
       "</style>\n",
       "<table border=\"1\" class=\"dataframe\">\n",
       "  <thead>\n",
       "    <tr style=\"text-align: right;\">\n",
       "      <th></th>\n",
       "      <th>country_destination</th>\n",
       "      <th>lat_destination</th>\n",
       "      <th>lng_destination</th>\n",
       "      <th>distance_km</th>\n",
       "      <th>destination_km2</th>\n",
       "      <th>destination_language</th>\n",
       "      <th>language_levenshtein_distance</th>\n",
       "    </tr>\n",
       "  </thead>\n",
       "  <tbody>\n",
       "    <tr>\n",
       "      <th>0</th>\n",
       "      <td>AU</td>\n",
       "      <td>-26.853388</td>\n",
       "      <td>133.275160</td>\n",
       "      <td>15297.7440</td>\n",
       "      <td>7741220.0</td>\n",
       "      <td>eng</td>\n",
       "      <td>0.00</td>\n",
       "    </tr>\n",
       "    <tr>\n",
       "      <th>1</th>\n",
       "      <td>CA</td>\n",
       "      <td>62.393303</td>\n",
       "      <td>-96.818146</td>\n",
       "      <td>2828.1333</td>\n",
       "      <td>9984670.0</td>\n",
       "      <td>eng</td>\n",
       "      <td>0.00</td>\n",
       "    </tr>\n",
       "    <tr>\n",
       "      <th>2</th>\n",
       "      <td>DE</td>\n",
       "      <td>51.165707</td>\n",
       "      <td>10.452764</td>\n",
       "      <td>7879.5680</td>\n",
       "      <td>357022.0</td>\n",
       "      <td>deu</td>\n",
       "      <td>72.61</td>\n",
       "    </tr>\n",
       "    <tr>\n",
       "      <th>3</th>\n",
       "      <td>ES</td>\n",
       "      <td>39.896027</td>\n",
       "      <td>-2.487694</td>\n",
       "      <td>7730.7240</td>\n",
       "      <td>505370.0</td>\n",
       "      <td>spa</td>\n",
       "      <td>92.25</td>\n",
       "    </tr>\n",
       "    <tr>\n",
       "      <th>4</th>\n",
       "      <td>FR</td>\n",
       "      <td>46.232193</td>\n",
       "      <td>2.209667</td>\n",
       "      <td>7682.9450</td>\n",
       "      <td>643801.0</td>\n",
       "      <td>fra</td>\n",
       "      <td>92.06</td>\n",
       "    </tr>\n",
       "  </tbody>\n",
       "</table>\n",
       "</div>"
      ],
      "text/plain": [
       "  country_destination  lat_destination  lng_destination  distance_km  \\\n",
       "0                  AU       -26.853388       133.275160   15297.7440   \n",
       "1                  CA        62.393303       -96.818146    2828.1333   \n",
       "2                  DE        51.165707        10.452764    7879.5680   \n",
       "3                  ES        39.896027        -2.487694    7730.7240   \n",
       "4                  FR        46.232193         2.209667    7682.9450   \n",
       "\n",
       "   destination_km2 destination_language   language_levenshtein_distance  \n",
       "0        7741220.0                   eng                           0.00  \n",
       "1        9984670.0                   eng                           0.00  \n",
       "2         357022.0                   deu                          72.61  \n",
       "3         505370.0                   spa                          92.25  \n",
       "4         643801.0                   fra                          92.06  "
      ]
     },
     "execution_count": 6,
     "metadata": {},
     "output_type": "execute_result"
    }
   ],
   "source": [
    "country_df.head(5)"
   ]
  },
  {
   "cell_type": "code",
   "execution_count": 7,
   "id": "5d1eb40b-e7d0-4495-bfa8-7330b5b12d74",
   "metadata": {},
   "outputs": [
    {
     "data": {
      "text/html": [
       "<div>\n",
       "<style scoped>\n",
       "    .dataframe tbody tr th:only-of-type {\n",
       "        vertical-align: middle;\n",
       "    }\n",
       "\n",
       "    .dataframe tbody tr th {\n",
       "        vertical-align: top;\n",
       "    }\n",
       "\n",
       "    .dataframe thead th {\n",
       "        text-align: right;\n",
       "    }\n",
       "</style>\n",
       "<table border=\"1\" class=\"dataframe\">\n",
       "  <thead>\n",
       "    <tr style=\"text-align: right;\">\n",
       "      <th></th>\n",
       "      <th>user_id</th>\n",
       "      <th>action</th>\n",
       "      <th>action_type</th>\n",
       "      <th>action_detail</th>\n",
       "      <th>device_type</th>\n",
       "      <th>secs_elapsed</th>\n",
       "    </tr>\n",
       "  </thead>\n",
       "  <tbody>\n",
       "    <tr>\n",
       "      <th>0</th>\n",
       "      <td>d1mm9tcy42</td>\n",
       "      <td>lookup</td>\n",
       "      <td>NaN</td>\n",
       "      <td>NaN</td>\n",
       "      <td>Windows Desktop</td>\n",
       "      <td>319.0</td>\n",
       "    </tr>\n",
       "    <tr>\n",
       "      <th>1</th>\n",
       "      <td>d1mm9tcy42</td>\n",
       "      <td>search_results</td>\n",
       "      <td>click</td>\n",
       "      <td>view_search_results</td>\n",
       "      <td>Windows Desktop</td>\n",
       "      <td>67753.0</td>\n",
       "    </tr>\n",
       "    <tr>\n",
       "      <th>2</th>\n",
       "      <td>d1mm9tcy42</td>\n",
       "      <td>lookup</td>\n",
       "      <td>NaN</td>\n",
       "      <td>NaN</td>\n",
       "      <td>Windows Desktop</td>\n",
       "      <td>301.0</td>\n",
       "    </tr>\n",
       "    <tr>\n",
       "      <th>3</th>\n",
       "      <td>d1mm9tcy42</td>\n",
       "      <td>search_results</td>\n",
       "      <td>click</td>\n",
       "      <td>view_search_results</td>\n",
       "      <td>Windows Desktop</td>\n",
       "      <td>22141.0</td>\n",
       "    </tr>\n",
       "    <tr>\n",
       "      <th>4</th>\n",
       "      <td>d1mm9tcy42</td>\n",
       "      <td>lookup</td>\n",
       "      <td>NaN</td>\n",
       "      <td>NaN</td>\n",
       "      <td>Windows Desktop</td>\n",
       "      <td>435.0</td>\n",
       "    </tr>\n",
       "  </tbody>\n",
       "</table>\n",
       "</div>"
      ],
      "text/plain": [
       "      user_id          action action_type        action_detail  \\\n",
       "0  d1mm9tcy42          lookup         NaN                  NaN   \n",
       "1  d1mm9tcy42  search_results       click  view_search_results   \n",
       "2  d1mm9tcy42          lookup         NaN                  NaN   \n",
       "3  d1mm9tcy42  search_results       click  view_search_results   \n",
       "4  d1mm9tcy42          lookup         NaN                  NaN   \n",
       "\n",
       "       device_type  secs_elapsed  \n",
       "0  Windows Desktop         319.0  \n",
       "1  Windows Desktop       67753.0  \n",
       "2  Windows Desktop         301.0  \n",
       "3  Windows Desktop       22141.0  \n",
       "4  Windows Desktop         435.0  "
      ]
     },
     "execution_count": 7,
     "metadata": {},
     "output_type": "execute_result"
    }
   ],
   "source": [
    "session_df.head(5)"
   ]
  },
  {
   "cell_type": "code",
   "execution_count": 8,
   "id": "b9e9fde2-5fb0-4142-9231-f3f093db415b",
   "metadata": {},
   "outputs": [
    {
     "data": {
      "text/html": [
       "<div>\n",
       "<style scoped>\n",
       "    .dataframe tbody tr th:only-of-type {\n",
       "        vertical-align: middle;\n",
       "    }\n",
       "\n",
       "    .dataframe tbody tr th {\n",
       "        vertical-align: top;\n",
       "    }\n",
       "\n",
       "    .dataframe thead th {\n",
       "        text-align: right;\n",
       "    }\n",
       "</style>\n",
       "<table border=\"1\" class=\"dataframe\">\n",
       "  <thead>\n",
       "    <tr style=\"text-align: right;\">\n",
       "      <th></th>\n",
       "      <th>id</th>\n",
       "      <th>date_account_created</th>\n",
       "      <th>timestamp_first_active</th>\n",
       "      <th>date_first_booking</th>\n",
       "      <th>gender</th>\n",
       "      <th>age</th>\n",
       "      <th>signup_method</th>\n",
       "      <th>signup_flow</th>\n",
       "      <th>language</th>\n",
       "      <th>affiliate_channel</th>\n",
       "      <th>affiliate_provider</th>\n",
       "      <th>first_affiliate_tracked</th>\n",
       "      <th>signup_app</th>\n",
       "      <th>first_device_type</th>\n",
       "      <th>first_browser</th>\n",
       "      <th>country_destination</th>\n",
       "    </tr>\n",
       "  </thead>\n",
       "  <tbody>\n",
       "    <tr>\n",
       "      <th>0</th>\n",
       "      <td>gxn3p5htnn</td>\n",
       "      <td>2010-06-28</td>\n",
       "      <td>20090319043255</td>\n",
       "      <td>NaN</td>\n",
       "      <td>-unknown-</td>\n",
       "      <td>NaN</td>\n",
       "      <td>facebook</td>\n",
       "      <td>0</td>\n",
       "      <td>en</td>\n",
       "      <td>direct</td>\n",
       "      <td>direct</td>\n",
       "      <td>untracked</td>\n",
       "      <td>Web</td>\n",
       "      <td>Mac Desktop</td>\n",
       "      <td>Chrome</td>\n",
       "      <td>NDF</td>\n",
       "    </tr>\n",
       "    <tr>\n",
       "      <th>1</th>\n",
       "      <td>820tgsjxq7</td>\n",
       "      <td>2011-05-25</td>\n",
       "      <td>20090523174809</td>\n",
       "      <td>NaN</td>\n",
       "      <td>MALE</td>\n",
       "      <td>38.0</td>\n",
       "      <td>facebook</td>\n",
       "      <td>0</td>\n",
       "      <td>en</td>\n",
       "      <td>seo</td>\n",
       "      <td>google</td>\n",
       "      <td>untracked</td>\n",
       "      <td>Web</td>\n",
       "      <td>Mac Desktop</td>\n",
       "      <td>Chrome</td>\n",
       "      <td>NDF</td>\n",
       "    </tr>\n",
       "    <tr>\n",
       "      <th>2</th>\n",
       "      <td>4ft3gnwmtx</td>\n",
       "      <td>2010-09-28</td>\n",
       "      <td>20090609231247</td>\n",
       "      <td>2010-08-02</td>\n",
       "      <td>FEMALE</td>\n",
       "      <td>56.0</td>\n",
       "      <td>basic</td>\n",
       "      <td>3</td>\n",
       "      <td>en</td>\n",
       "      <td>direct</td>\n",
       "      <td>direct</td>\n",
       "      <td>untracked</td>\n",
       "      <td>Web</td>\n",
       "      <td>Windows Desktop</td>\n",
       "      <td>IE</td>\n",
       "      <td>US</td>\n",
       "    </tr>\n",
       "    <tr>\n",
       "      <th>3</th>\n",
       "      <td>bjjt8pjhuk</td>\n",
       "      <td>2011-12-05</td>\n",
       "      <td>20091031060129</td>\n",
       "      <td>2012-09-08</td>\n",
       "      <td>FEMALE</td>\n",
       "      <td>42.0</td>\n",
       "      <td>facebook</td>\n",
       "      <td>0</td>\n",
       "      <td>en</td>\n",
       "      <td>direct</td>\n",
       "      <td>direct</td>\n",
       "      <td>untracked</td>\n",
       "      <td>Web</td>\n",
       "      <td>Mac Desktop</td>\n",
       "      <td>Firefox</td>\n",
       "      <td>other</td>\n",
       "    </tr>\n",
       "    <tr>\n",
       "      <th>4</th>\n",
       "      <td>87mebub9p4</td>\n",
       "      <td>2010-09-14</td>\n",
       "      <td>20091208061105</td>\n",
       "      <td>2010-02-18</td>\n",
       "      <td>-unknown-</td>\n",
       "      <td>41.0</td>\n",
       "      <td>basic</td>\n",
       "      <td>0</td>\n",
       "      <td>en</td>\n",
       "      <td>direct</td>\n",
       "      <td>direct</td>\n",
       "      <td>untracked</td>\n",
       "      <td>Web</td>\n",
       "      <td>Mac Desktop</td>\n",
       "      <td>Chrome</td>\n",
       "      <td>US</td>\n",
       "    </tr>\n",
       "  </tbody>\n",
       "</table>\n",
       "</div>"
      ],
      "text/plain": [
       "           id date_account_created  timestamp_first_active date_first_booking  \\\n",
       "0  gxn3p5htnn           2010-06-28          20090319043255                NaN   \n",
       "1  820tgsjxq7           2011-05-25          20090523174809                NaN   \n",
       "2  4ft3gnwmtx           2010-09-28          20090609231247         2010-08-02   \n",
       "3  bjjt8pjhuk           2011-12-05          20091031060129         2012-09-08   \n",
       "4  87mebub9p4           2010-09-14          20091208061105         2010-02-18   \n",
       "\n",
       "      gender   age signup_method  signup_flow language affiliate_channel  \\\n",
       "0  -unknown-   NaN      facebook            0       en            direct   \n",
       "1       MALE  38.0      facebook            0       en               seo   \n",
       "2     FEMALE  56.0         basic            3       en            direct   \n",
       "3     FEMALE  42.0      facebook            0       en            direct   \n",
       "4  -unknown-  41.0         basic            0       en            direct   \n",
       "\n",
       "  affiliate_provider first_affiliate_tracked signup_app first_device_type  \\\n",
       "0             direct               untracked        Web       Mac Desktop   \n",
       "1             google               untracked        Web       Mac Desktop   \n",
       "2             direct               untracked        Web   Windows Desktop   \n",
       "3             direct               untracked        Web       Mac Desktop   \n",
       "4             direct               untracked        Web       Mac Desktop   \n",
       "\n",
       "  first_browser country_destination  \n",
       "0        Chrome                 NDF  \n",
       "1        Chrome                 NDF  \n",
       "2            IE                  US  \n",
       "3       Firefox               other  \n",
       "4        Chrome                  US  "
      ]
     },
     "execution_count": 8,
     "metadata": {},
     "output_type": "execute_result"
    }
   ],
   "source": [
    "train_df.head(5)"
   ]
  },
  {
   "cell_type": "code",
   "execution_count": 9,
   "id": "95e1bcef-4606-4bd7-a94a-60c54f42a5a8",
   "metadata": {},
   "outputs": [
    {
     "data": {
      "text/html": [
       "<div>\n",
       "<style scoped>\n",
       "    .dataframe tbody tr th:only-of-type {\n",
       "        vertical-align: middle;\n",
       "    }\n",
       "\n",
       "    .dataframe tbody tr th {\n",
       "        vertical-align: top;\n",
       "    }\n",
       "\n",
       "    .dataframe thead th {\n",
       "        text-align: right;\n",
       "    }\n",
       "</style>\n",
       "<table border=\"1\" class=\"dataframe\">\n",
       "  <thead>\n",
       "    <tr style=\"text-align: right;\">\n",
       "      <th></th>\n",
       "      <th>id</th>\n",
       "      <th>date_account_created</th>\n",
       "      <th>timestamp_first_active</th>\n",
       "      <th>date_first_booking</th>\n",
       "      <th>gender</th>\n",
       "      <th>age</th>\n",
       "      <th>signup_method</th>\n",
       "      <th>signup_flow</th>\n",
       "      <th>language</th>\n",
       "      <th>affiliate_channel</th>\n",
       "      <th>affiliate_provider</th>\n",
       "      <th>first_affiliate_tracked</th>\n",
       "      <th>signup_app</th>\n",
       "      <th>first_device_type</th>\n",
       "      <th>first_browser</th>\n",
       "    </tr>\n",
       "  </thead>\n",
       "  <tbody>\n",
       "    <tr>\n",
       "      <th>0</th>\n",
       "      <td>5uwns89zht</td>\n",
       "      <td>2014-07-01</td>\n",
       "      <td>20140701000006</td>\n",
       "      <td>NaN</td>\n",
       "      <td>FEMALE</td>\n",
       "      <td>35.0</td>\n",
       "      <td>facebook</td>\n",
       "      <td>0</td>\n",
       "      <td>en</td>\n",
       "      <td>direct</td>\n",
       "      <td>direct</td>\n",
       "      <td>untracked</td>\n",
       "      <td>Moweb</td>\n",
       "      <td>iPhone</td>\n",
       "      <td>Mobile Safari</td>\n",
       "    </tr>\n",
       "    <tr>\n",
       "      <th>1</th>\n",
       "      <td>jtl0dijy2j</td>\n",
       "      <td>2014-07-01</td>\n",
       "      <td>20140701000051</td>\n",
       "      <td>NaN</td>\n",
       "      <td>-unknown-</td>\n",
       "      <td>NaN</td>\n",
       "      <td>basic</td>\n",
       "      <td>0</td>\n",
       "      <td>en</td>\n",
       "      <td>direct</td>\n",
       "      <td>direct</td>\n",
       "      <td>untracked</td>\n",
       "      <td>Moweb</td>\n",
       "      <td>iPhone</td>\n",
       "      <td>Mobile Safari</td>\n",
       "    </tr>\n",
       "    <tr>\n",
       "      <th>2</th>\n",
       "      <td>xx0ulgorjt</td>\n",
       "      <td>2014-07-01</td>\n",
       "      <td>20140701000148</td>\n",
       "      <td>NaN</td>\n",
       "      <td>-unknown-</td>\n",
       "      <td>NaN</td>\n",
       "      <td>basic</td>\n",
       "      <td>0</td>\n",
       "      <td>en</td>\n",
       "      <td>direct</td>\n",
       "      <td>direct</td>\n",
       "      <td>linked</td>\n",
       "      <td>Web</td>\n",
       "      <td>Windows Desktop</td>\n",
       "      <td>Chrome</td>\n",
       "    </tr>\n",
       "    <tr>\n",
       "      <th>3</th>\n",
       "      <td>6c6puo6ix0</td>\n",
       "      <td>2014-07-01</td>\n",
       "      <td>20140701000215</td>\n",
       "      <td>NaN</td>\n",
       "      <td>-unknown-</td>\n",
       "      <td>NaN</td>\n",
       "      <td>basic</td>\n",
       "      <td>0</td>\n",
       "      <td>en</td>\n",
       "      <td>direct</td>\n",
       "      <td>direct</td>\n",
       "      <td>linked</td>\n",
       "      <td>Web</td>\n",
       "      <td>Windows Desktop</td>\n",
       "      <td>IE</td>\n",
       "    </tr>\n",
       "    <tr>\n",
       "      <th>4</th>\n",
       "      <td>czqhjk3yfe</td>\n",
       "      <td>2014-07-01</td>\n",
       "      <td>20140701000305</td>\n",
       "      <td>NaN</td>\n",
       "      <td>-unknown-</td>\n",
       "      <td>NaN</td>\n",
       "      <td>basic</td>\n",
       "      <td>0</td>\n",
       "      <td>en</td>\n",
       "      <td>direct</td>\n",
       "      <td>direct</td>\n",
       "      <td>untracked</td>\n",
       "      <td>Web</td>\n",
       "      <td>Mac Desktop</td>\n",
       "      <td>Safari</td>\n",
       "    </tr>\n",
       "  </tbody>\n",
       "</table>\n",
       "</div>"
      ],
      "text/plain": [
       "           id date_account_created  timestamp_first_active  \\\n",
       "0  5uwns89zht           2014-07-01          20140701000006   \n",
       "1  jtl0dijy2j           2014-07-01          20140701000051   \n",
       "2  xx0ulgorjt           2014-07-01          20140701000148   \n",
       "3  6c6puo6ix0           2014-07-01          20140701000215   \n",
       "4  czqhjk3yfe           2014-07-01          20140701000305   \n",
       "\n",
       "   date_first_booking     gender   age signup_method  signup_flow language  \\\n",
       "0                 NaN     FEMALE  35.0      facebook            0       en   \n",
       "1                 NaN  -unknown-   NaN         basic            0       en   \n",
       "2                 NaN  -unknown-   NaN         basic            0       en   \n",
       "3                 NaN  -unknown-   NaN         basic            0       en   \n",
       "4                 NaN  -unknown-   NaN         basic            0       en   \n",
       "\n",
       "  affiliate_channel affiliate_provider first_affiliate_tracked signup_app  \\\n",
       "0            direct             direct               untracked      Moweb   \n",
       "1            direct             direct               untracked      Moweb   \n",
       "2            direct             direct                  linked        Web   \n",
       "3            direct             direct                  linked        Web   \n",
       "4            direct             direct               untracked        Web   \n",
       "\n",
       "  first_device_type  first_browser  \n",
       "0            iPhone  Mobile Safari  \n",
       "1            iPhone  Mobile Safari  \n",
       "2   Windows Desktop         Chrome  \n",
       "3   Windows Desktop             IE  \n",
       "4       Mac Desktop         Safari  "
      ]
     },
     "execution_count": 9,
     "metadata": {},
     "output_type": "execute_result"
    }
   ],
   "source": [
    "test_df.head(5)"
   ]
  },
  {
   "cell_type": "markdown",
   "id": "e833284c-f251-4d7a-8652-6f18356e4007",
   "metadata": {},
   "source": [
    "## 데이터 분석"
   ]
  },
  {
   "cell_type": "markdown",
   "id": "93af2e1e-5084-4637-9d3c-6261cb7f662e",
   "metadata": {},
   "source": [
    "### 데이터 개수 확인"
   ]
  },
  {
   "cell_type": "code",
   "execution_count": 10,
   "id": "d6c6ed62-911f-46b1-9e15-c85fc1df16a0",
   "metadata": {},
   "outputs": [
    {
     "data": {
      "text/plain": [
       "213451"
      ]
     },
     "execution_count": 10,
     "metadata": {},
     "output_type": "execute_result"
    }
   ],
   "source": [
    "len(train_df)"
   ]
  },
  {
   "cell_type": "markdown",
   "id": "87928e22-8cf9-4485-98e9-b7426493abc3",
   "metadata": {},
   "source": [
    "### [1] 정답 데이터 : country_destination 확인"
   ]
  },
  {
   "cell_type": "code",
   "execution_count": 11,
   "id": "6d53b5ca-bd08-4bba-9e08-b1c4a3903e91",
   "metadata": {},
   "outputs": [
    {
     "name": "stdout",
     "output_type": "stream",
     "text": [
      "정답(country_destination)의 속성 값 종류 :  ['NDF' 'US' 'other' 'FR' 'CA' 'GB' 'ES' 'IT' 'PT' 'NL' 'DE' 'AU']\n"
     ]
    }
   ],
   "source": [
    "print(\"정답(country_destination)의 속성 값 종류 : \", train_df.country_destination.unique())"
   ]
  },
  {
   "cell_type": "markdown",
   "id": "74a9618c-9f28-4470-a0e0-b3ceb75b2496",
   "metadata": {},
   "source": [
    "* 정답 중 NAN값은 지워야 한다"
   ]
  },
  {
   "cell_type": "code",
   "execution_count": 12,
   "id": "d337f463-add7-437f-8719-0990eabd6d38",
   "metadata": {},
   "outputs": [
    {
     "name": "stdout",
     "output_type": "stream",
     "text": [
      "정답(country_destination)의 속성 값 종류 :  ['NDF' 'US' 'other' 'FR' 'CA' 'GB' 'ES' 'IT' 'PT' 'NL' 'DE' 'AU']\n"
     ]
    }
   ],
   "source": [
    "train_df = train_df[~train_df['country_destination'].isnull()]\n",
    "print(\"정답(country_destination)의 속성 값 종류 : \", train_df.country_destination.unique())"
   ]
  },
  {
   "cell_type": "code",
   "execution_count": 13,
   "id": "6f02450e-412b-449f-9924-81bbc3adee1a",
   "metadata": {},
   "outputs": [
    {
     "name": "stderr",
     "output_type": "stream",
     "text": [
      "/home/ai-sjjy/anaconda3/envs/juyoung/lib/python3.8/site-packages/seaborn/_decorators.py:36: FutureWarning: Pass the following variables as keyword args: x, y. From version 0.12, the only valid positional argument will be `data`, and passing other arguments without an explicit keyword will result in an error or misinterpretation.\n",
      "  warnings.warn(\n"
     ]
    },
    {
     "data": {
      "image/png": "[encoded data removed]",
      "text/plain": [
       "<Figure size 576x288 with 1 Axes>"
      ]
     },
     "metadata": {
      "needs_background": "light"
     },
     "output_type": "display_data"
    }
   ],
   "source": [
    "feat_train = train_df['country_destination'].value_counts()\n",
    "fig = plt.figure(figsize=(8,4))\n",
    "sns.barplot(feat_train.index.values, feat_train.values)\n",
    "plt.title('country_destination of training dataset')\n",
    "plt.ylabel('Counts')\n",
    "plt.tight_layout()"
   ]
  },
  {
   "cell_type": "markdown",
   "id": "be96a52a-0978-41f2-95d6-15f3180b8647",
   "metadata": {},
   "source": [
    "#### [2-1] 먼저 어떤 속성에 결측치가 존재하는지 확인"
   ]
  },
  {
   "cell_type": "code",
   "execution_count": 14,
   "id": "84e59b13-e2c5-46c2-bfbe-db5c826c4af2",
   "metadata": {},
   "outputs": [
    {
     "data": {
      "text/plain": [
       "id                              0\n",
       "date_account_created            0\n",
       "timestamp_first_active          0\n",
       "date_first_booking         124543\n",
       "gender                          0\n",
       "age                         87990\n",
       "signup_method                   0\n",
       "signup_flow                     0\n",
       "language                        0\n",
       "affiliate_channel               0\n",
       "affiliate_provider              0\n",
       "first_affiliate_tracked      6065\n",
       "signup_app                      0\n",
       "first_device_type               0\n",
       "first_browser                   0\n",
       "country_destination             0\n",
       "dtype: int64"
      ]
     },
     "execution_count": 14,
     "metadata": {},
     "output_type": "execute_result"
    }
   ],
   "source": [
    "train_df.isnull().sum()"
   ]
  },
  {
   "cell_type": "code",
   "execution_count": 15,
   "id": "fa51f2bf-e7b3-4d0b-a285-b9e7fc7087e3",
   "metadata": {},
   "outputs": [
    {
     "data": {
      "text/plain": [
       "id                             0\n",
       "date_account_created           0\n",
       "timestamp_first_active         0\n",
       "date_first_booking         62096\n",
       "gender                         0\n",
       "age                        28876\n",
       "signup_method                  0\n",
       "signup_flow                    0\n",
       "language                       0\n",
       "affiliate_channel              0\n",
       "affiliate_provider             0\n",
       "first_affiliate_tracked       20\n",
       "signup_app                     0\n",
       "first_device_type              0\n",
       "first_browser                  0\n",
       "dtype: int64"
      ]
     },
     "execution_count": 15,
     "metadata": {},
     "output_type": "execute_result"
    }
   ],
   "source": [
    "test_df.isnull().sum()"
   ]
  },
  {
   "cell_type": "markdown",
   "id": "0eb8b16e-27fe-4c2c-a86b-318ceda9e1f8",
   "metadata": {},
   "source": [
    "### [2] AGE"
   ]
  },
  {
   "cell_type": "markdown",
   "id": "4a552304-4611-4cb9-9f4d-aa57851b9f15",
   "metadata": {},
   "source": [
    "#### [2-2] age에 대한 값 조정\n",
    "\n",
    "* airBNB는 신규 사용자가 첫 여행 경험을 어디서(목적지)로 예약할 것인지 예측하는 문제이다\n",
    "* 그렇기 때문에 사실 상 나이가 18 미만, 100 초과인 사람은 본인이 예약한 것이 아니기 때문에 중요치 않다\n",
    "* 그래서 (18 ~ 100)사이 나이를 가지지 않은 사람을 nan으로 업데이트 해준다."
   ]
  },
  {
   "cell_type": "code",
   "execution_count": 16,
   "id": "34fc8b99-c712-4dbc-8228-dcc494312f21",
   "metadata": {},
   "outputs": [],
   "source": [
    "train_df.loc[~train_df['age'].between(18, 100), 'age'] = np.nan\n",
    "test_df.loc[~test_df['age'].between(18, 100), 'age'] = np.nan"
   ]
  },
  {
   "cell_type": "code",
   "execution_count": 17,
   "id": "c2ec9254-8562-41c6-8869-cbec5fe5c44b",
   "metadata": {},
   "outputs": [
    {
     "name": "stdout",
     "output_type": "stream",
     "text": [
      "train age :  90493\n",
      "train age :  29251\n"
     ]
    }
   ],
   "source": [
    "print(\"train age : \", train_df['age'].isnull().sum()) # 87990 -> 90493\n",
    "print(\"train age : \", test_df['age'].isnull().sum()) # 28876 -> 29251"
   ]
  },
  {
   "cell_type": "markdown",
   "id": "6190363c-7ea2-4a49-b5ff-5f76753610da",
   "metadata": {},
   "source": [
    "#### [2-2] 데이터 시각화 1 (age에 따른 사람 수 check)"
   ]
  },
  {
   "cell_type": "code",
   "execution_count": 18,
   "id": "df6835ad-cf7a-4b8b-9acf-b38eda6dafa6",
   "metadata": {},
   "outputs": [
    {
     "data": {
      "text/plain": [
       "<AxesSubplot:>"
      ]
     },
     "execution_count": 18,
     "metadata": {},
     "output_type": "execute_result"
    },
    {
     "data": {
      "image/png": "[encoded data removed]",
      "text/plain": [
       "<Figure size 432x288 with 1 Axes>"
      ]
     },
     "metadata": {
      "needs_background": "light"
     },
     "output_type": "display_data"
    }
   ],
   "source": [
    "train_df[(train_df.age >= 18) & (train_df.age <= 100)][\"age\"].hist()"
   ]
  },
  {
   "cell_type": "code",
   "execution_count": 37,
   "id": "e6107465-22c9-4a7d-971d-ee53353c6385",
   "metadata": {},
   "outputs": [],
   "source": [
    "age_groups_train = [\n",
    "    train_df[train_df.age.isnull()],\n",
    "    train_df.query('age >= 18 & age < 25'),\n",
    "    train_df.query('age >= 25 & age < 35'),\n",
    "    train_df.query('age >= 35 & age < 45'),\n",
    "    train_df.query('age >= 45 & age < 55'),\n",
    "    train_df.query(\"age >= 55 & age < 65\"),\n",
    "    train_df.query(\"age >= 65 & age < 75\"),\n",
    "    train_df.query(\"age >= 75 & age < 85\"),\n",
    "    train_df.query('age >= 85')\n",
    "]\n",
    "\n",
    "age_groups_test = [\n",
    "    test_df[test_df.age.isnull()],\n",
    "    test_df.query('age >= 18 & age < 25'),\n",
    "    test_df.query('age >= 25 & age < 35'),\n",
    "    test_df.query('age >= 35 & age < 45'),\n",
    "    test_df.query('age >= 45 & age < 55'),\n",
    "    test_df.query(\"age >= 55 & age < 65\"),\n",
    "    test_df.query(\"age >= 65 & age < 75\"),\n",
    "    test_df.query(\"age >= 75 & age < 85\"),\n",
    "    test_df.query('age >= 85')\n",
    "]"
   ]
  },
  {
   "cell_type": "code",
   "execution_count": 20,
   "id": "604f44e3-cdaa-4752-b285-ad4188e81c46",
   "metadata": {},
   "outputs": [
    {
     "name": "stderr",
     "output_type": "stream",
     "text": [
      "/home/ai-sjjy/anaconda3/envs/juyoung/lib/python3.8/site-packages/seaborn/_decorators.py:36: FutureWarning: Pass the following variables as keyword args: x, y. From version 0.12, the only valid positional argument will be `data`, and passing other arguments without an explicit keyword will result in an error or misinterpretation.\n",
      "  warnings.warn(\n",
      "/home/ai-sjjy/anaconda3/envs/juyoung/lib/python3.8/site-packages/seaborn/_decorators.py:36: FutureWarning: Pass the following variables as keyword args: x, y. From version 0.12, the only valid positional argument will be `data`, and passing other arguments without an explicit keyword will result in an error or misinterpretation.\n",
      "  warnings.warn(\n"
     ]
    },
    {
     "data": {
      "text/plain": [
       "Text(0, 0.5, 'counts')"
      ]
     },
     "execution_count": 20,
     "metadata": {},
     "output_type": "execute_result"
    },
    {
     "data": {
      "image/png": "[encoded data removed]",
      "text/plain": [
       "<Figure size 1440x360 with 2 Axes>"
      ]
     },
     "metadata": {
      "needs_background": "light"
     },
     "output_type": "display_data"
    }
   ],
   "source": [
    "age_train = [age_group.age.shape[0] for age_group in age_groups_train]\n",
    "\n",
    "age_test = [age_group.age.shape[0] for age_group in age_groups_test]\n",
    "\n",
    "columns = ['Null', '(18,24)','(25,34)','(35,44)','(45,54)','(55,64)','(65,74)','(75,84)', 'age >= 85']\n",
    "\n",
    "# plot\n",
    "fig, (ax1,ax2) = plt.subplots(1,2,sharex=True, sharey = True,figsize=(20,5))\n",
    "\n",
    "sns.barplot(columns, age_train, ax = ax1)\n",
    "sns.barplot(columns, age_test, ax = ax2)\n",
    "\n",
    "ax1.set_title('training dataset')\n",
    "ax2.set_title('test dataset')\n",
    "ax1.set_ylabel('counts')"
   ]
  },
  {
   "cell_type": "markdown",
   "id": "3d17381a-97f9-411b-896a-6a3e84a69210",
   "metadata": {},
   "source": [
    "* null이 너무 많음 -> 이 값을 제거하면 안된다\n",
    "\n",
    "* (문제 생김 -> 이 속성을 사용하지 않거나, 또는 mean()값으로 채워 넣어야 한다)"
   ]
  },
  {
   "cell_type": "markdown",
   "id": "a1c075a1-ff46-463c-a345-d0aa4fc02321",
   "metadata": {},
   "source": [
    "#### [2-4] age와 country destination간의 관계"
   ]
  },
  {
   "cell_type": "code",
   "execution_count": 21,
   "id": "75b56a6b-8f90-4e28-bda1-6a8728f091e2",
   "metadata": {},
   "outputs": [
    {
     "name": "stderr",
     "output_type": "stream",
     "text": [
      "/home/ai-sjjy/anaconda3/envs/juyoung/lib/python3.8/site-packages/seaborn/_decorators.py:36: FutureWarning: Pass the following variables as keyword args: x, y. From version 0.12, the only valid positional argument will be `data`, and passing other arguments without an explicit keyword will result in an error or misinterpretation.\n",
      "  warnings.warn(\n",
      "/home/ai-sjjy/anaconda3/envs/juyoung/lib/python3.8/site-packages/seaborn/_decorators.py:36: FutureWarning: Pass the following variables as keyword args: x, y. From version 0.12, the only valid positional argument will be `data`, and passing other arguments without an explicit keyword will result in an error or misinterpretation.\n",
      "  warnings.warn(\n",
      "/home/ai-sjjy/anaconda3/envs/juyoung/lib/python3.8/site-packages/seaborn/_decorators.py:36: FutureWarning: Pass the following variables as keyword args: x, y. From version 0.12, the only valid positional argument will be `data`, and passing other arguments without an explicit keyword will result in an error or misinterpretation.\n",
      "  warnings.warn(\n",
      "/home/ai-sjjy/anaconda3/envs/juyoung/lib/python3.8/site-packages/seaborn/_decorators.py:36: FutureWarning: Pass the following variables as keyword args: x, y. From version 0.12, the only valid positional argument will be `data`, and passing other arguments without an explicit keyword will result in an error or misinterpretation.\n",
      "  warnings.warn(\n",
      "/home/ai-sjjy/anaconda3/envs/juyoung/lib/python3.8/site-packages/seaborn/_decorators.py:36: FutureWarning: Pass the following variables as keyword args: x, y. From version 0.12, the only valid positional argument will be `data`, and passing other arguments without an explicit keyword will result in an error or misinterpretation.\n",
      "  warnings.warn(\n",
      "/home/ai-sjjy/anaconda3/envs/juyoung/lib/python3.8/site-packages/seaborn/_decorators.py:36: FutureWarning: Pass the following variables as keyword args: x, y. From version 0.12, the only valid positional argument will be `data`, and passing other arguments without an explicit keyword will result in an error or misinterpretation.\n",
      "  warnings.warn(\n",
      "/home/ai-sjjy/anaconda3/envs/juyoung/lib/python3.8/site-packages/seaborn/_decorators.py:36: FutureWarning: Pass the following variables as keyword args: x, y. From version 0.12, the only valid positional argument will be `data`, and passing other arguments without an explicit keyword will result in an error or misinterpretation.\n",
      "  warnings.warn(\n",
      "/home/ai-sjjy/anaconda3/envs/juyoung/lib/python3.8/site-packages/seaborn/_decorators.py:36: FutureWarning: Pass the following variables as keyword args: x, y. From version 0.12, the only valid positional argument will be `data`, and passing other arguments without an explicit keyword will result in an error or misinterpretation.\n",
      "  warnings.warn(\n",
      "/home/ai-sjjy/anaconda3/envs/juyoung/lib/python3.8/site-packages/seaborn/_decorators.py:36: FutureWarning: Pass the following variables as keyword args: x, y. From version 0.12, the only valid positional argument will be `data`, and passing other arguments without an explicit keyword will result in an error or misinterpretation.\n",
      "  warnings.warn(\n"
     ]
    },
    {
     "data": {
      "image/png": "[encoded data removed]",
      "text/plain": [
       "<Figure size 1296x720 with 9 Axes>"
      ]
     },
     "metadata": {
      "needs_background": "light"
     },
     "output_type": "display_data"
    }
   ],
   "source": [
    "# subplot을 이용해 시각화 진행\n",
    "age_train = [age_group['country_destination'].value_counts() for age_group in age_groups_train]\n",
    "\n",
    "columns = ['Null', '(18,24)','(25,34)','(35,44)','(45,54)','(55,64)','(65,74)','(75,84)', 'age >= 85']\n",
    "\n",
    "fig, axes = plt.subplots(3,3, sharex=True, sharey = True,figsize=(18,10))\n",
    "\n",
    "for idx, age_group in enumerate(age_train):\n",
    "    x, y = idx//3, idx%3\n",
    "    sns.barplot(age_group.index.values, age_group.values, ax = axes[x, y]) # 가로 : 목적지\\\n",
    "    axes[x, y].set_title('training dataset - AGE '+columns[idx])\n",
    "    axes[x, y].set_ylabel('counts')"
   ]
  },
  {
   "cell_type": "markdown",
   "id": "319e1b6f-8b70-484b-a65a-78e88d719a56",
   "metadata": {},
   "source": [
    "* 25 ~ 34 나이 : 가장 많이 여행 다님 + [NDF -> US -> Other]\n",
    "* 35 ~ 44 : 두 번째로 가장 많이 여행 다님 + [NDF -> US -> Other]\n",
    "\n",
    "* 대부분 연령대가 [NDF -> US -> Other] 순으로 많이 여행 감"
   ]
  },
  {
   "cell_type": "markdown",
   "id": "8472ea38-a0e7-4f59-a40a-9bf57c0c7234",
   "metadata": {},
   "source": [
    "### [3] GENDER 수정"
   ]
  },
  {
   "cell_type": "code",
   "execution_count": 22,
   "id": "93dc3aee-e256-4082-8eff-6ada36f79dc1",
   "metadata": {},
   "outputs": [
    {
     "name": "stdout",
     "output_type": "stream",
     "text": [
      "train gender의 속성 값 종류 :  ['-unknown-' 'MALE' 'FEMALE' 'OTHER']\n",
      "test gender의 속성 값 종류 :  ['FEMALE' '-unknown-' 'MALE' 'OTHER']\n"
     ]
    }
   ],
   "source": [
    "print(\"train gender의 속성 값 종류 : \", train_df.gender.unique())\n",
    "print(\"test gender의 속성 값 종류 : \", test_df.gender.unique())"
   ]
  },
  {
   "cell_type": "markdown",
   "id": "ce42f7f2-556e-4d3c-9c4a-c7f3d21d5ed0",
   "metadata": {},
   "source": [
    "* '-unknown'은 필요 없는 값이다 => nan으로 업데이트 해준다"
   ]
  },
  {
   "cell_type": "code",
   "execution_count": 23,
   "id": "b452c8c4-8d58-4751-9fc4-d21ac487640c",
   "metadata": {},
   "outputs": [],
   "source": [
    "train_df.loc[train_df['gender'] == '-unknown-'] = np.nan"
   ]
  },
  {
   "cell_type": "code",
   "execution_count": 24,
   "id": "0c531dbe-5674-453c-bd15-65caa03dc66a",
   "metadata": {},
   "outputs": [
    {
     "name": "stdout",
     "output_type": "stream",
     "text": [
      "train gender의 속성 값 종류 :  [nan 'MALE' 'FEMALE' 'OTHER']\n"
     ]
    }
   ],
   "source": [
    "print(\"train gender의 속성 값 종류 : \", train_df.gender.unique())"
   ]
  },
  {
   "cell_type": "code",
   "execution_count": 25,
   "id": "0861519b-aa92-4099-a45e-1721f85fc21a",
   "metadata": {},
   "outputs": [
    {
     "name": "stdout",
     "output_type": "stream",
     "text": [
      "test gender의 속성 값 종류 :  ['FEMALE' nan 'MALE' 'OTHER']\n"
     ]
    }
   ],
   "source": [
    "test_df.loc[test_df['gender'] == '-unknown-'] = np.nan\n",
    "print(\"test gender의 속성 값 종류 : \", test_df.gender.unique())"
   ]
  },
  {
   "cell_type": "markdown",
   "id": "6a2f4fd5-82ac-440d-a1dc-1a604ba561fa",
   "metadata": {},
   "source": [
    "#### [3-1] Gender 시각화"
   ]
  },
  {
   "cell_type": "code",
   "execution_count": 26,
   "id": "fb4267ef-4b96-491c-bfc3-4f0bfeb2d475",
   "metadata": {},
   "outputs": [
    {
     "data": {
      "text/plain": [
       "<AxesSubplot:>"
      ]
     },
     "execution_count": 26,
     "metadata": {},
     "output_type": "execute_result"
    },
    {
     "data": {
      "image/png": "[encoded data removed]",
      "text/plain": [
       "<Figure size 432x288 with 1 Axes>"
      ]
     },
     "metadata": {
      "needs_background": "light"
     },
     "output_type": "display_data"
    }
   ],
   "source": [
    "train_df[\"gender\"].hist()"
   ]
  },
  {
   "cell_type": "code",
   "execution_count": 27,
   "id": "45a75ab9-6804-4524-8d18-a67034d79504",
   "metadata": {},
   "outputs": [
    {
     "data": {
      "text/plain": [
       "(array([0, 1, 2]),\n",
       " [Text(0, 0, 'MALE'), Text(1, 0, 'FEMALE'), Text(2, 0, 'OTHER')])"
      ]
     },
     "execution_count": 27,
     "metadata": {},
     "output_type": "execute_result"
    },
    {
     "data": {
      "image/png": "[encoded data removed]",
      "text/plain": [
       "<Figure size 864x576 with 1 Axes>"
      ]
     },
     "metadata": {
      "needs_background": "light"
     },
     "output_type": "display_data"
    }
   ],
   "source": [
    "plt.figure(figsize=(12, 8))\n",
    "sns.countplot(x=train_df['gender'], hue='country_destination',\n",
    "              data=train_df)\n",
    "plt.xticks(rotation=45)"
   ]
  },
  {
   "cell_type": "markdown",
   "id": "65155790-0db4-4014-ae92-f793ae8d6bbc",
   "metadata": {},
   "source": [
    "* 여자가 더 많이 여행 다님 + [NDF -> US -> Other]\n",
    "* 남자도 여행 많이 다님 + [NDF -> US -> Other]\n",
    "* other 데이터는 거의 없는 수준이라 빼는 거 고려!"
   ]
  },
  {
   "cell_type": "markdown",
   "id": "65fee549-e125-4d79-a7a2-c4438858008d",
   "metadata": {},
   "source": [
    "### [4] date_account_created, timestamp_first_active, date_first_booking 날짜 형식으로 변경"
   ]
  },
  {
   "cell_type": "markdown",
   "id": "13a9da52-043d-410f-808d-7fee697ac892",
   "metadata": {},
   "source": [
    "* date_account_created : 처음 회원가입한 날짜\n",
    "* timestamp_first_active : 처음 활동한 날짜  (이 feature는 계정 생성 or  첫 예약 날짜보다 이전일 이어야 한다)\n",
    "* date_first_booking : 처음 비행기 예약한 날짜"
   ]
  },
  {
   "cell_type": "code",
   "execution_count": 21,
   "id": "0c1b9516-6cb1-49ab-b180-122170a96dcb",
   "metadata": {},
   "outputs": [
    {
     "data": {
      "text/plain": [
       "0          NaT\n",
       "1   2011-05-25\n",
       "2   2010-09-28\n",
       "3   2011-12-05\n",
       "4          NaT\n",
       "Name: date_account_created, dtype: datetime64[ns]"
      ]
     },
     "execution_count": 21,
     "metadata": {},
     "output_type": "execute_result"
    }
   ],
   "source": [
    "train_df[\"date_account_created\"] = pd.to_datetime(train_df.date_account_created)\n",
    "train_df[\"date_account_created\"].head()"
   ]
  },
  {
   "cell_type": "code",
   "execution_count": 22,
   "id": "f266442b-d92f-43a9-951d-59cc29b0fd4a",
   "metadata": {},
   "outputs": [
    {
     "data": {
      "text/plain": [
       "0   2014-07-01\n",
       "1          NaT\n",
       "2          NaT\n",
       "3          NaT\n",
       "4          NaT\n",
       "Name: date_account_created, dtype: datetime64[ns]"
      ]
     },
     "execution_count": 22,
     "metadata": {},
     "output_type": "execute_result"
    }
   ],
   "source": [
    "test_df[\"date_account_created\"] = pd.to_datetime(test_df.date_account_created)\n",
    "test_df[\"date_account_created\"].head()"
   ]
  },
  {
   "cell_type": "code",
   "execution_count": 23,
   "id": "a8948171-1f33-4c66-a6cc-5de12288db09",
   "metadata": {},
   "outputs": [
    {
     "data": {
      "text/plain": [
       "0                   NaT\n",
       "1   2009-05-23 17:48:09\n",
       "2   2009-06-09 23:12:47\n",
       "3   2009-10-31 06:01:29\n",
       "4                   NaT\n",
       "Name: timestamp_first_active, dtype: datetime64[ns]"
      ]
     },
     "execution_count": 23,
     "metadata": {},
     "output_type": "execute_result"
    }
   ],
   "source": [
    "train_df[\"timestamp_first_active\"] = pd.to_datetime(train_df.timestamp_first_active, format=\"%Y%m%d%H%M%S\")\n",
    "train_df[\"timestamp_first_active\"].head()"
   ]
  },
  {
   "cell_type": "code",
   "execution_count": 24,
   "id": "365a2739-019a-4acc-83b7-0c7df5b3d797",
   "metadata": {},
   "outputs": [
    {
     "data": {
      "text/plain": [
       "0   2014-07-01 00:00:06\n",
       "1                   NaT\n",
       "2                   NaT\n",
       "3                   NaT\n",
       "4                   NaT\n",
       "Name: timestamp_first_active, dtype: datetime64[ns]"
      ]
     },
     "execution_count": 24,
     "metadata": {},
     "output_type": "execute_result"
    }
   ],
   "source": [
    "test_df[\"timestamp_first_active\"] = pd.to_datetime(test_df.timestamp_first_active, format=\"%Y%m%d%H%M%S\")\n",
    "test_df[\"timestamp_first_active\"].head()"
   ]
  },
  {
   "cell_type": "code",
   "execution_count": 25,
   "id": "5f23321d-3e5f-4e53-95ef-1fbd7dcfc112",
   "metadata": {},
   "outputs": [
    {
     "data": {
      "text/plain": [
       "0          NaT\n",
       "1          NaT\n",
       "2   2010-08-02\n",
       "3   2012-09-08\n",
       "4          NaT\n",
       "Name: date_first_booking, dtype: datetime64[ns]"
      ]
     },
     "execution_count": 25,
     "metadata": {},
     "output_type": "execute_result"
    }
   ],
   "source": [
    "train_df[\"date_first_booking\"] = pd.to_datetime(train_df.date_first_booking)\n",
    "train_df[\"date_first_booking\"].head()"
   ]
  },
  {
   "cell_type": "code",
   "execution_count": 26,
   "id": "756ca7e4-c9fb-4324-8ed5-0406b81f059e",
   "metadata": {},
   "outputs": [
    {
     "data": {
      "text/plain": [
       "0   NaT\n",
       "1   NaT\n",
       "2   NaT\n",
       "3   NaT\n",
       "4   NaT\n",
       "Name: date_first_booking, dtype: datetime64[ns]"
      ]
     },
     "execution_count": 26,
     "metadata": {},
     "output_type": "execute_result"
    }
   ],
   "source": [
    "test_df[\"date_first_booking\"] = pd.to_datetime(test_df.date_first_booking)\n",
    "test_df[\"date_first_booking\"].head()"
   ]
  },
  {
   "cell_type": "markdown",
   "id": "5520d489-fa9d-448e-a826-c2daeedf4da7",
   "metadata": {},
   "source": [
    "#### [4-1] booked를 찾아라!"
   ]
  },
  {
   "cell_type": "code",
   "execution_count": 33,
   "id": "f6091392-f405-42cb-91ba-5ae4b1939228",
   "metadata": {},
   "outputs": [],
   "source": [
    "train_df.loc[train_df['date_first_booking'].notnull(), 'booked'] = True\n",
    "train_df.loc[train_df['date_first_booking'].isnull(), 'booked'] = False"
   ]
  },
  {
   "cell_type": "code",
   "execution_count": 34,
   "id": "322d6abb-6eba-479f-b1d5-47d19a57ed01",
   "metadata": {},
   "outputs": [],
   "source": [
    "test_df.loc[test_df['date_first_booking'].notnull(), 'booked'] = True\n",
    "test_df.loc[test_df['date_first_booking'].isnull(), 'booked'] = False"
   ]
  },
  {
   "cell_type": "code",
   "execution_count": 35,
   "id": "280063bb-fa08-4514-8ff3-e14c67a66f74",
   "metadata": {},
   "outputs": [
    {
     "data": {
      "text/html": [
       "<div>\n",
       "<style scoped>\n",
       "    .dataframe tbody tr th:only-of-type {\n",
       "        vertical-align: middle;\n",
       "    }\n",
       "\n",
       "    .dataframe tbody tr th {\n",
       "        vertical-align: top;\n",
       "    }\n",
       "\n",
       "    .dataframe thead th {\n",
       "        text-align: right;\n",
       "    }\n",
       "</style>\n",
       "<table border=\"1\" class=\"dataframe\">\n",
       "  <thead>\n",
       "    <tr style=\"text-align: right;\">\n",
       "      <th></th>\n",
       "      <th>id</th>\n",
       "      <th>date_account_created</th>\n",
       "      <th>timestamp_first_active</th>\n",
       "      <th>date_first_booking</th>\n",
       "      <th>gender</th>\n",
       "      <th>age</th>\n",
       "      <th>signup_method</th>\n",
       "      <th>signup_flow</th>\n",
       "      <th>language</th>\n",
       "      <th>affiliate_channel</th>\n",
       "      <th>affiliate_provider</th>\n",
       "      <th>first_affiliate_tracked</th>\n",
       "      <th>signup_app</th>\n",
       "      <th>first_device_type</th>\n",
       "      <th>first_browser</th>\n",
       "      <th>country_destination</th>\n",
       "      <th>booked</th>\n",
       "    </tr>\n",
       "  </thead>\n",
       "  <tbody>\n",
       "    <tr>\n",
       "      <th>0</th>\n",
       "      <td>NaN</td>\n",
       "      <td>NaN</td>\n",
       "      <td>NaN</td>\n",
       "      <td>NaN</td>\n",
       "      <td>NaN</td>\n",
       "      <td>NaN</td>\n",
       "      <td>NaN</td>\n",
       "      <td>NaN</td>\n",
       "      <td>NaN</td>\n",
       "      <td>NaN</td>\n",
       "      <td>NaN</td>\n",
       "      <td>NaN</td>\n",
       "      <td>NaN</td>\n",
       "      <td>NaN</td>\n",
       "      <td>NaN</td>\n",
       "      <td>NaN</td>\n",
       "      <td>False</td>\n",
       "    </tr>\n",
       "    <tr>\n",
       "      <th>1</th>\n",
       "      <td>820tgsjxq7</td>\n",
       "      <td>2011-05-25</td>\n",
       "      <td>2.009052e+13</td>\n",
       "      <td>NaN</td>\n",
       "      <td>MALE</td>\n",
       "      <td>38.0</td>\n",
       "      <td>facebook</td>\n",
       "      <td>0.0</td>\n",
       "      <td>en</td>\n",
       "      <td>seo</td>\n",
       "      <td>google</td>\n",
       "      <td>untracked</td>\n",
       "      <td>Web</td>\n",
       "      <td>Mac Desktop</td>\n",
       "      <td>Chrome</td>\n",
       "      <td>NDF</td>\n",
       "      <td>False</td>\n",
       "    </tr>\n",
       "    <tr>\n",
       "      <th>2</th>\n",
       "      <td>4ft3gnwmtx</td>\n",
       "      <td>2010-09-28</td>\n",
       "      <td>2.009061e+13</td>\n",
       "      <td>2010-08-02</td>\n",
       "      <td>FEMALE</td>\n",
       "      <td>56.0</td>\n",
       "      <td>basic</td>\n",
       "      <td>3.0</td>\n",
       "      <td>en</td>\n",
       "      <td>direct</td>\n",
       "      <td>direct</td>\n",
       "      <td>untracked</td>\n",
       "      <td>Web</td>\n",
       "      <td>Windows Desktop</td>\n",
       "      <td>IE</td>\n",
       "      <td>US</td>\n",
       "      <td>True</td>\n",
       "    </tr>\n",
       "    <tr>\n",
       "      <th>3</th>\n",
       "      <td>bjjt8pjhuk</td>\n",
       "      <td>2011-12-05</td>\n",
       "      <td>2.009103e+13</td>\n",
       "      <td>2012-09-08</td>\n",
       "      <td>FEMALE</td>\n",
       "      <td>42.0</td>\n",
       "      <td>facebook</td>\n",
       "      <td>0.0</td>\n",
       "      <td>en</td>\n",
       "      <td>direct</td>\n",
       "      <td>direct</td>\n",
       "      <td>untracked</td>\n",
       "      <td>Web</td>\n",
       "      <td>Mac Desktop</td>\n",
       "      <td>Firefox</td>\n",
       "      <td>other</td>\n",
       "      <td>True</td>\n",
       "    </tr>\n",
       "    <tr>\n",
       "      <th>4</th>\n",
       "      <td>NaN</td>\n",
       "      <td>NaN</td>\n",
       "      <td>NaN</td>\n",
       "      <td>NaN</td>\n",
       "      <td>NaN</td>\n",
       "      <td>NaN</td>\n",
       "      <td>NaN</td>\n",
       "      <td>NaN</td>\n",
       "      <td>NaN</td>\n",
       "      <td>NaN</td>\n",
       "      <td>NaN</td>\n",
       "      <td>NaN</td>\n",
       "      <td>NaN</td>\n",
       "      <td>NaN</td>\n",
       "      <td>NaN</td>\n",
       "      <td>NaN</td>\n",
       "      <td>False</td>\n",
       "    </tr>\n",
       "  </tbody>\n",
       "</table>\n",
       "</div>"
      ],
      "text/plain": [
       "           id date_account_created  timestamp_first_active date_first_booking  \\\n",
       "0         NaN                  NaN                     NaN                NaN   \n",
       "1  820tgsjxq7           2011-05-25            2.009052e+13                NaN   \n",
       "2  4ft3gnwmtx           2010-09-28            2.009061e+13         2010-08-02   \n",
       "3  bjjt8pjhuk           2011-12-05            2.009103e+13         2012-09-08   \n",
       "4         NaN                  NaN                     NaN                NaN   \n",
       "\n",
       "   gender   age signup_method  signup_flow language affiliate_channel  \\\n",
       "0     NaN   NaN           NaN          NaN      NaN               NaN   \n",
       "1    MALE  38.0      facebook          0.0       en               seo   \n",
       "2  FEMALE  56.0         basic          3.0       en            direct   \n",
       "3  FEMALE  42.0      facebook          0.0       en            direct   \n",
       "4     NaN   NaN           NaN          NaN      NaN               NaN   \n",
       "\n",
       "  affiliate_provider first_affiliate_tracked signup_app first_device_type  \\\n",
       "0                NaN                     NaN        NaN               NaN   \n",
       "1             google               untracked        Web       Mac Desktop   \n",
       "2             direct               untracked        Web   Windows Desktop   \n",
       "3             direct               untracked        Web       Mac Desktop   \n",
       "4                NaN                     NaN        NaN               NaN   \n",
       "\n",
       "  first_browser country_destination booked  \n",
       "0           NaN                 NaN  False  \n",
       "1        Chrome                 NDF  False  \n",
       "2            IE                  US   True  \n",
       "3       Firefox               other   True  \n",
       "4           NaN                 NaN  False  "
      ]
     },
     "execution_count": 35,
     "metadata": {},
     "output_type": "execute_result"
    }
   ],
   "source": [
    "train_df.head()"
   ]
  },
  {
   "cell_type": "code",
   "execution_count": 38,
   "id": "457a8a7f-e6ea-4dd1-b94e-5bed526b89ca",
   "metadata": {},
   "outputs": [
    {
     "name": "stderr",
     "output_type": "stream",
     "text": [
      "/home/ai-sjjy/anaconda3/envs/juyoung/lib/python3.8/site-packages/seaborn/_decorators.py:36: FutureWarning: Pass the following variables as keyword args: x, y. From version 0.12, the only valid positional argument will be `data`, and passing other arguments without an explicit keyword will result in an error or misinterpretation.\n",
      "  warnings.warn(\n",
      "/home/ai-sjjy/anaconda3/envs/juyoung/lib/python3.8/site-packages/seaborn/_decorators.py:36: FutureWarning: Pass the following variables as keyword args: x, y. From version 0.12, the only valid positional argument will be `data`, and passing other arguments without an explicit keyword will result in an error or misinterpretation.\n",
      "  warnings.warn(\n",
      "/home/ai-sjjy/anaconda3/envs/juyoung/lib/python3.8/site-packages/seaborn/_decorators.py:36: FutureWarning: Pass the following variables as keyword args: x, y. From version 0.12, the only valid positional argument will be `data`, and passing other arguments without an explicit keyword will result in an error or misinterpretation.\n",
      "  warnings.warn(\n",
      "/home/ai-sjjy/anaconda3/envs/juyoung/lib/python3.8/site-packages/seaborn/_decorators.py:36: FutureWarning: Pass the following variables as keyword args: x, y. From version 0.12, the only valid positional argument will be `data`, and passing other arguments without an explicit keyword will result in an error or misinterpretation.\n",
      "  warnings.warn(\n",
      "/home/ai-sjjy/anaconda3/envs/juyoung/lib/python3.8/site-packages/seaborn/_decorators.py:36: FutureWarning: Pass the following variables as keyword args: x, y. From version 0.12, the only valid positional argument will be `data`, and passing other arguments without an explicit keyword will result in an error or misinterpretation.\n",
      "  warnings.warn(\n",
      "/home/ai-sjjy/anaconda3/envs/juyoung/lib/python3.8/site-packages/seaborn/_decorators.py:36: FutureWarning: Pass the following variables as keyword args: x, y. From version 0.12, the only valid positional argument will be `data`, and passing other arguments without an explicit keyword will result in an error or misinterpretation.\n",
      "  warnings.warn(\n",
      "/home/ai-sjjy/anaconda3/envs/juyoung/lib/python3.8/site-packages/seaborn/_decorators.py:36: FutureWarning: Pass the following variables as keyword args: x, y. From version 0.12, the only valid positional argument will be `data`, and passing other arguments without an explicit keyword will result in an error or misinterpretation.\n",
      "  warnings.warn(\n",
      "/home/ai-sjjy/anaconda3/envs/juyoung/lib/python3.8/site-packages/seaborn/_decorators.py:36: FutureWarning: Pass the following variables as keyword args: x, y. From version 0.12, the only valid positional argument will be `data`, and passing other arguments without an explicit keyword will result in an error or misinterpretation.\n",
      "  warnings.warn(\n",
      "/home/ai-sjjy/anaconda3/envs/juyoung/lib/python3.8/site-packages/seaborn/_decorators.py:36: FutureWarning: Pass the following variables as keyword args: x, y. From version 0.12, the only valid positional argument will be `data`, and passing other arguments without an explicit keyword will result in an error or misinterpretation.\n",
      "  warnings.warn(\n"
     ]
    },
    {
     "data": {
      "image/png": "[encoded data removed]",
      "text/plain": [
       "<Figure size 1296x720 with 9 Axes>"
      ]
     },
     "metadata": {
      "needs_background": "light"
     },
     "output_type": "display_data"
    }
   ],
   "source": [
    "# subplot을 이용해 시각화 진행\n",
    "age_train = [age_group['booked'].value_counts() for age_group in age_groups_train]\n",
    "\n",
    "columns = ['Null', '(18,24)','(25,34)','(35,44)','(45,54)','(55,64)','(65,74)','(75,84)', 'age >= 85']\n",
    "\n",
    "fig, axes = plt.subplots(3,3, sharex=True, sharey = True,figsize=(18,10))\n",
    "\n",
    "for idx, age_group in enumerate(age_train):\n",
    "    x, y = idx//3, idx%3\n",
    "    sns.barplot(age_group.index.values, age_group.values, ax = axes[x, y]) # 가로 : 목적지\\\n",
    "    axes[x, y].set_title('training dataset - AGE '+columns[idx])\n",
    "    axes[x, y].set_ylabel('counts')"
   ]
  },
  {
   "cell_type": "markdown",
   "id": "d59011f5-7605-4edb-8406-ce70b387943f",
   "metadata": {},
   "source": [
    "#### [4-2] 처음으로 간 여행지"
   ]
  },
  {
   "cell_type": "code",
   "execution_count": 39,
   "id": "49f4028f-0324-49a6-a048-fd00e88fc617",
   "metadata": {},
   "outputs": [
    {
     "name": "stderr",
     "output_type": "stream",
     "text": [
      "/home/ai-sjjy/anaconda3/envs/juyoung/lib/python3.8/site-packages/seaborn/_decorators.py:36: FutureWarning: Pass the following variables as keyword args: x, y. From version 0.12, the only valid positional argument will be `data`, and passing other arguments without an explicit keyword will result in an error or misinterpretation.\n",
      "  warnings.warn(\n"
     ]
    },
    {
     "data": {
      "image/png": "[encoded data removed]",
      "text/plain": [
       "<Figure size 576x288 with 1 Axes>"
      ]
     },
     "metadata": {
      "needs_background": "light"
     },
     "output_type": "display_data"
    }
   ],
   "source": [
    "feat_train = train_df[train_df['booked']==True]['country_destination'].value_counts()\n",
    "fig = plt.figure(figsize=(8,4))\n",
    "sns.barplot(feat_train.index.values, feat_train.values)\n",
    "plt.title('country_destination + booked check')\n",
    "plt.ylabel('Counts')\n",
    "plt.tight_layout()"
   ]
  },
  {
   "cell_type": "markdown",
   "id": "3ddf134d-50ef-41df-bd98-55d4458da638",
   "metadata": {},
   "source": [
    "* booked(예약)한 것만 출력하면 보시다시피 위에서 NDF값 안나옴\n",
    "=> 이 값에 해당되는 데이터들로 예측 할 예정"
   ]
  },
  {
   "cell_type": "markdown",
   "id": "30c4df3c-97d0-46f8-8117-6aeba678c022",
   "metadata": {},
   "source": [
    "### [5] Language"
   ]
  },
  {
   "cell_type": "code",
   "execution_count": 42,
   "id": "1de71b9b-eb90-40d2-ac94-c7b2ef180e16",
   "metadata": {},
   "outputs": [
    {
     "data": {
      "text/plain": [
       "array([nan, 'en', 'de', 'fr', 'es', 'pt', 'zh', 'ko', 'ja', 'it', 'ru',\n",
       "       'nl', 'sv', 'pl', 'hu', 'da', 'id', 'fi', 'no', 'tr', 'el', 'th',\n",
       "       'cs', 'hr', 'ca', 'is'], dtype=object)"
      ]
     },
     "execution_count": 42,
     "metadata": {},
     "output_type": "execute_result"
    }
   ],
   "source": [
    "train_df.language.unique()"
   ]
  },
  {
   "cell_type": "code",
   "execution_count": 43,
   "id": "9ed5640f-44f2-40b9-9759-f50ef778df2f",
   "metadata": {},
   "outputs": [
    {
     "data": {
      "text/plain": [
       "en    113359\n",
       "zh       860\n",
       "fr       802\n",
       "es       630\n",
       "ko       395\n",
       "de       390\n",
       "it       365\n",
       "ru       275\n",
       "pt       173\n",
       "ja       132\n",
       "sv        80\n",
       "nl        48\n",
       "tr        42\n",
       "pl        41\n",
       "da        35\n",
       "no        21\n",
       "el        21\n",
       "cs        20\n",
       "id        18\n",
       "th        18\n",
       "hu        17\n",
       "fi        11\n",
       "is         4\n",
       "ca         4\n",
       "hr         2\n",
       "Name: language, dtype: int64"
      ]
     },
     "execution_count": 43,
     "metadata": {},
     "output_type": "execute_result"
    }
   ],
   "source": [
    "train_df.language.value_counts()"
   ]
  },
  {
   "cell_type": "code",
   "execution_count": 47,
   "id": "1ab3d785-f0ad-4f50-bea3-5971011314e2",
   "metadata": {},
   "outputs": [
    {
     "data": {
      "text/plain": [
       "(array([ 0,  1,  2,  3,  4,  5,  6,  7,  8,  9, 10, 11, 12, 13, 14, 15, 16,\n",
       "        17, 18, 19, 20, 21, 22, 23, 24]),\n",
       " [Text(0, 0, 'en'),\n",
       "  Text(1, 0, 'de'),\n",
       "  Text(2, 0, 'fr'),\n",
       "  Text(3, 0, 'es'),\n",
       "  Text(4, 0, 'pt'),\n",
       "  Text(5, 0, 'zh'),\n",
       "  Text(6, 0, 'ko'),\n",
       "  Text(7, 0, 'ja'),\n",
       "  Text(8, 0, 'it'),\n",
       "  Text(9, 0, 'ru'),\n",
       "  Text(10, 0, 'nl'),\n",
       "  Text(11, 0, 'sv'),\n",
       "  Text(12, 0, 'pl'),\n",
       "  Text(13, 0, 'hu'),\n",
       "  Text(14, 0, 'da'),\n",
       "  Text(15, 0, 'id'),\n",
       "  Text(16, 0, 'fi'),\n",
       "  Text(17, 0, 'no'),\n",
       "  Text(18, 0, 'tr'),\n",
       "  Text(19, 0, 'el'),\n",
       "  Text(20, 0, 'th'),\n",
       "  Text(21, 0, 'cs'),\n",
       "  Text(22, 0, 'hr'),\n",
       "  Text(23, 0, 'ca'),\n",
       "  Text(24, 0, 'is')])"
      ]
     },
     "execution_count": 47,
     "metadata": {},
     "output_type": "execute_result"
    },
    {
     "data": {
      "image/png": "[encoded data removed]",
      "text/plain": [
       "<Figure size 1800x576 with 1 Axes>"
      ]
     },
     "metadata": {
      "needs_background": "light"
     },
     "output_type": "display_data"
    }
   ],
   "source": [
    "plt.figure(figsize=(25, 8))\n",
    "sns.countplot(x=train_df['language'], hue='country_destination',\n",
    "              data=train_df)\n",
    "plt.xticks(rotation=45)"
   ]
  },
  {
   "cell_type": "code",
   "execution_count": 50,
   "id": "6edf92c4-8295-404a-81b9-3d688bdb2524",
   "metadata": {},
   "outputs": [
    {
     "data": {
      "image/png": "[encoded data removed]",
      "text/plain": [
       "<Figure size 2160x576 with 1 Axes>"
      ]
     },
     "metadata": {
      "needs_background": "light"
     },
     "output_type": "display_data"
    }
   ],
   "source": [
    "plt.figure(figsize=(30, 8))\n",
    "sns.countplot(x=train_df['language'], hue='country_destination',\n",
    "              data=train_df)\n",
    "plt.xticks(rotation=45)\n",
    "plt.yscale(\"log\")"
   ]
  },
  {
   "cell_type": "code",
   "execution_count": 51,
   "id": "837690a1-8d5f-49e4-a64a-d1062cea1bdd",
   "metadata": {},
   "outputs": [
    {
     "data": {
      "image/png": "[encoded data removed]",
      "text/plain": [
       "<Figure size 2160x576 with 1 Axes>"
      ]
     },
     "metadata": {
      "needs_background": "light"
     },
     "output_type": "display_data"
    }
   ],
   "source": [
    "plt.figure(figsize=(30, 8))\n",
    "sns.countplot(x=train_df[train_df['country_destination'] != 'NDF']['language'], hue='country_destination',\n",
    "              data=train_df)\n",
    "plt.xticks(rotation=45)\n",
    "plt.yscale(\"log\")"
   ]
  },
  {
   "cell_type": "code",
   "execution_count": 52,
   "id": "f1bf64db-31d9-4e59-a633-6466e315c983",
   "metadata": {},
   "outputs": [
    {
     "data": {
      "image/png": "[encoded data removed]",
      "text/plain": [
       "<Figure size 2160x576 with 1 Axes>"
      ]
     },
     "metadata": {
      "needs_background": "light"
     },
     "output_type": "display_data"
    }
   ],
   "source": [
    "plt.figure(figsize=(30, 8))\n",
    "sns.countplot(x=train_df[train_df['booked'] == True]['language'], hue='country_destination',\n",
    "              data=train_df)\n",
    "plt.xticks(rotation=45)\n",
    "plt.yscale(\"log\")"
   ]
  },
  {
   "cell_type": "markdown",
   "id": "83492a5c-dd1b-4de7-9a02-04f07d9024f4",
   "metadata": {},
   "source": [
    "* 어느 나라든 영어를 사용함\n",
    "* en은 어떤 언어든 자유롭게 사용"
   ]
  },
  {
   "cell_type": "markdown",
   "id": "163813d2-c51d-4033-8bcc-36693141019b",
   "metadata": {},
   "source": [
    "### [6] singup으로 확인"
   ]
  },
  {
   "cell_type": "code",
   "execution_count": 55,
   "id": "8075270e-ae0a-471e-b002-b4903e857a5b",
   "metadata": {},
   "outputs": [],
   "source": [
    "booked = train_df[train_df['booked']==True]"
   ]
  },
  {
   "cell_type": "code",
   "execution_count": 58,
   "id": "59644b7e-c8a3-4754-a964-2a54b70db847",
   "metadata": {},
   "outputs": [
    {
     "data": {
      "text/plain": [
       "(array([0, 1, 2]),\n",
       " [Text(0, 0, 'basic'), Text(1, 0, 'facebook'), Text(2, 0, 'google')])"
      ]
     },
     "execution_count": 58,
     "metadata": {},
     "output_type": "execute_result"
    },
    {
     "data": {
      "image/png": "[encoded data removed]",
      "text/plain": [
       "<Figure size 1440x576 with 1 Axes>"
      ]
     },
     "metadata": {
      "needs_background": "light"
     },
     "output_type": "display_data"
    }
   ],
   "source": [
    "plt.figure(figsize=(20, 8))\n",
    "sns.countplot(x=booked['signup_method'], hue='country_destination',\n",
    "              data=train_df)\n",
    "plt.xticks(rotation=45)"
   ]
  },
  {
   "cell_type": "markdown",
   "id": "619dcac8-ef7b-4b17-9c31-4b2fd780f11e",
   "metadata": {},
   "source": [
    "* 대부분 basic(AirBNB)로 가입을 했고, BASIC으로 가입한 사람들 중에서는 US가 많다."
   ]
  },
  {
   "cell_type": "code",
   "execution_count": 59,
   "id": "a4822cb9-2b11-4d8b-9edb-ea68896feff9",
   "metadata": {},
   "outputs": [
    {
     "data": {
      "text/plain": [
       "(array([0, 1, 2, 3]),\n",
       " [Text(0, 0, 'Web'),\n",
       "  Text(1, 0, 'Moweb'),\n",
       "  Text(2, 0, 'iOS'),\n",
       "  Text(3, 0, 'Android')])"
      ]
     },
     "execution_count": 59,
     "metadata": {},
     "output_type": "execute_result"
    },
    {
     "data": {
      "image/png": "[encoded data removed]",
      "text/plain": [
       "<Figure size 1440x576 with 1 Axes>"
      ]
     },
     "metadata": {
      "needs_background": "light"
     },
     "output_type": "display_data"
    }
   ],
   "source": [
    "plt.figure(figsize=(20, 8))\n",
    "sns.countplot(x=booked['signup_app'], hue='country_destination',\n",
    "              data=train_df)\n",
    "plt.xticks(rotation=45)"
   ]
  },
  {
   "cell_type": "code",
   "execution_count": 61,
   "id": "9b5c1b50-8d89-40c8-96a5-837154948cfd",
   "metadata": {},
   "outputs": [
    {
     "data": {
      "text/plain": [
       "(array([ 0,  1,  2,  3,  4,  5,  6,  7,  8,  9, 10, 11, 12, 13, 14, 15, 16,\n",
       "        17, 18, 19, 20, 21, 22, 23, 24, 25, 26, 27, 28, 29, 30, 31, 32, 33,\n",
       "        34, 35, 36, 37]),\n",
       " [Text(0, 0, 'IE'),\n",
       "  Text(1, 0, 'Firefox'),\n",
       "  Text(2, 0, 'Safari'),\n",
       "  Text(3, 0, 'Chrome'),\n",
       "  Text(4, 0, '-unknown-'),\n",
       "  Text(5, 0, 'RockMelt'),\n",
       "  Text(6, 0, 'Chromium'),\n",
       "  Text(7, 0, 'Android Browser'),\n",
       "  Text(8, 0, 'Mobile Safari'),\n",
       "  Text(9, 0, 'Chrome Mobile'),\n",
       "  Text(10, 0, 'Palm Pre web browser'),\n",
       "  Text(11, 0, 'AOL Explorer'),\n",
       "  Text(12, 0, 'Opera'),\n",
       "  Text(13, 0, 'Apple Mail'),\n",
       "  Text(14, 0, 'Silk'),\n",
       "  Text(15, 0, 'Camino'),\n",
       "  Text(16, 0, 'BlackBerry Browser'),\n",
       "  Text(17, 0, 'SeaMonkey'),\n",
       "  Text(18, 0, 'Mobile Firefox'),\n",
       "  Text(19, 0, 'IE Mobile'),\n",
       "  Text(20, 0, 'Kindle Browser'),\n",
       "  Text(21, 0, 'CoolNovo'),\n",
       "  Text(22, 0, 'Maxthon'),\n",
       "  Text(23, 0, 'wOSBrowser'),\n",
       "  Text(24, 0, 'Sogou Explorer'),\n",
       "  Text(25, 0, 'Mozilla'),\n",
       "  Text(26, 0, 'Iron'),\n",
       "  Text(27, 0, 'NetNewsWire'),\n",
       "  Text(28, 0, 'CometBird'),\n",
       "  Text(29, 0, 'IceWeasel'),\n",
       "  Text(30, 0, 'Avant Browser'),\n",
       "  Text(31, 0, 'TenFourFox'),\n",
       "  Text(32, 0, 'TheWorld Browser'),\n",
       "  Text(33, 0, 'Pale Moon'),\n",
       "  Text(34, 0, 'SiteKiosk'),\n",
       "  Text(35, 0, 'Stainless'),\n",
       "  Text(36, 0, 'Opera Mini'),\n",
       "  Text(37, 0, 'Yandex.Browser')])"
      ]
     },
     "execution_count": 61,
     "metadata": {},
     "output_type": "execute_result"
    },
    {
     "data": {
      "image/png": "[encoded data removed]",
      "text/plain": [
       "<Figure size 2160x576 with 1 Axes>"
      ]
     },
     "metadata": {
      "needs_background": "light"
     },
     "output_type": "display_data"
    }
   ],
   "source": [
    "plt.figure(figsize=(30, 8))\n",
    "sns.countplot(x=booked['first_browser'], hue='country_destination',\n",
    "              data=train_df)\n",
    "plt.xticks(rotation=45)"
   ]
  },
  {
   "cell_type": "markdown",
   "id": "633d278a-c356-455c-ab78-ef445bf91a2b",
   "metadata": {},
   "source": [
    "## 데이터 정리"
   ]
  },
  {
   "cell_type": "markdown",
   "id": "ed14ced1-0898-40cb-b79b-176f0d0b355d",
   "metadata": {},
   "source": [
    "#### 1. Country_destination\n",
    "* NDF 처리 : Country_destination => date_first_booking에서 none 값을 찾아 그 부분을 nan으로 변경해 제거해서 사용한다.\n",
    "* "
   ]
  },
  {
   "cell_type": "markdown",
   "id": "6dcbbf7e-5331-4152-9dd0-2a409f2ff1e7",
   "metadata": {},
   "source": [
    "#### 2. Age\n",
    "* null 값이 많다 -> null로 하는게 아니라, mean으로 취급하여 진행한다.\n",
    "* "
   ]
  },
  {
   "cell_type": "markdown",
   "id": "f748dd55-d42d-4eff-914f-8ea12fde5e34",
   "metadata": {},
   "source": [
    "#### 3. "
   ]
  }
 ],
 "metadata": {
  "kernelspec": {
   "display_name": "Python 3",
   "language": "python",
   "name": "python3"
  },
  "language_info": {
   "codemirror_mode": {
    "name": "ipython",
    "version": 3
   },
   "file_extension": ".py",
   "mimetype": "text/x-python",
   "name": "python",
   "nbconvert_exporter": "python",
   "pygments_lexer": "ipython3",
   "version": "3.8.10"
  }
 },
 "nbformat": 4,
 "nbformat_minor": 5
}
