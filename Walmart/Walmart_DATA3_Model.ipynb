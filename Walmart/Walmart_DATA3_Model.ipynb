{
 "cells": [
  {
   "cell_type": "code",
   "execution_count": 1,
   "id": "0584603a-e520-4f04-876e-be404fb72e05",
   "metadata": {},
   "outputs": [],
   "source": [
    "import re, json\n",
    "import pandas as pd\n",
    "import numpy as np\n",
    "import os\n",
    "\n",
    "import matplotlib.pyplot as plt\n",
    "import seaborn as sns\n",
    "%matplotlib inline"
   ]
  },
  {
   "cell_type": "markdown",
   "id": "704ef329-d575-4e3c-9e9e-844fe3f3eae9",
   "metadata": {},
   "source": [
    "## 데이터 불러오기"
   ]
  },
  {
   "cell_type": "code",
   "execution_count": 2,
   "id": "159c6c24-0199-4e16-9a74-47765f3c6211",
   "metadata": {},
   "outputs": [],
   "source": [
    "PATH = '/dataset/'"
   ]
  },
  {
   "cell_type": "code",
   "execution_count": 3,
   "id": "a9e8c80a-c7fb-45d8-9859-13285d9931ef",
   "metadata": {},
   "outputs": [],
   "source": [
    "TRAIN_DATA = 'clean_dataset3.csv'"
   ]
  },
  {
   "cell_type": "code",
   "execution_count": 4,
   "id": "afbfc14e-ab06-4cf4-b35c-1098a1896cf2",
   "metadata": {},
   "outputs": [],
   "source": [
    "total_df = pd.read_csv(PATH+TRAIN_DATA)"
   ]
  },
  {
   "cell_type": "code",
   "execution_count": 5,
   "id": "49d1fdfd-0ab4-4791-8a84-2cb4c78030c5",
   "metadata": {},
   "outputs": [
    {
     "data": {
      "text/html": [
       "<div>\n",
       "<style scoped>\n",
       "    .dataframe tbody tr th:only-of-type {\n",
       "        vertical-align: middle;\n",
       "    }\n",
       "\n",
       "    .dataframe tbody tr th {\n",
       "        vertical-align: top;\n",
       "    }\n",
       "\n",
       "    .dataframe thead th {\n",
       "        text-align: right;\n",
       "    }\n",
       "</style>\n",
       "<table border=\"1\" class=\"dataframe\">\n",
       "  <thead>\n",
       "    <tr style=\"text-align: right;\">\n",
       "      <th></th>\n",
       "      <th>Store</th>\n",
       "      <th>Dept</th>\n",
       "      <th>Date</th>\n",
       "      <th>Weekly_Sales</th>\n",
       "      <th>IsHoliday</th>\n",
       "      <th>Size</th>\n",
       "      <th>CPI</th>\n",
       "      <th>Unemployment</th>\n",
       "      <th>Year</th>\n",
       "      <th>Week</th>\n",
       "      <th>Type_A</th>\n",
       "      <th>Type_B</th>\n",
       "      <th>Type_C</th>\n",
       "    </tr>\n",
       "  </thead>\n",
       "  <tbody>\n",
       "    <tr>\n",
       "      <th>0</th>\n",
       "      <td>1</td>\n",
       "      <td>1</td>\n",
       "      <td>2010-02-05</td>\n",
       "      <td>24924.50</td>\n",
       "      <td>1</td>\n",
       "      <td>151315</td>\n",
       "      <td>211.096358</td>\n",
       "      <td>8.106</td>\n",
       "      <td>2010</td>\n",
       "      <td>5</td>\n",
       "      <td>1</td>\n",
       "      <td>0</td>\n",
       "      <td>0</td>\n",
       "    </tr>\n",
       "    <tr>\n",
       "      <th>1</th>\n",
       "      <td>1</td>\n",
       "      <td>1</td>\n",
       "      <td>2010-02-12</td>\n",
       "      <td>46039.49</td>\n",
       "      <td>0</td>\n",
       "      <td>151315</td>\n",
       "      <td>211.242170</td>\n",
       "      <td>8.106</td>\n",
       "      <td>2010</td>\n",
       "      <td>6</td>\n",
       "      <td>1</td>\n",
       "      <td>0</td>\n",
       "      <td>0</td>\n",
       "    </tr>\n",
       "    <tr>\n",
       "      <th>2</th>\n",
       "      <td>1</td>\n",
       "      <td>1</td>\n",
       "      <td>2010-02-19</td>\n",
       "      <td>41595.55</td>\n",
       "      <td>1</td>\n",
       "      <td>151315</td>\n",
       "      <td>211.289143</td>\n",
       "      <td>8.106</td>\n",
       "      <td>2010</td>\n",
       "      <td>7</td>\n",
       "      <td>1</td>\n",
       "      <td>0</td>\n",
       "      <td>0</td>\n",
       "    </tr>\n",
       "    <tr>\n",
       "      <th>3</th>\n",
       "      <td>1</td>\n",
       "      <td>1</td>\n",
       "      <td>2010-02-26</td>\n",
       "      <td>19403.54</td>\n",
       "      <td>1</td>\n",
       "      <td>151315</td>\n",
       "      <td>211.319643</td>\n",
       "      <td>8.106</td>\n",
       "      <td>2010</td>\n",
       "      <td>8</td>\n",
       "      <td>1</td>\n",
       "      <td>0</td>\n",
       "      <td>0</td>\n",
       "    </tr>\n",
       "    <tr>\n",
       "      <th>4</th>\n",
       "      <td>1</td>\n",
       "      <td>1</td>\n",
       "      <td>2010-03-05</td>\n",
       "      <td>21827.90</td>\n",
       "      <td>1</td>\n",
       "      <td>151315</td>\n",
       "      <td>211.350143</td>\n",
       "      <td>8.106</td>\n",
       "      <td>2010</td>\n",
       "      <td>9</td>\n",
       "      <td>1</td>\n",
       "      <td>0</td>\n",
       "      <td>0</td>\n",
       "    </tr>\n",
       "    <tr>\n",
       "      <th>...</th>\n",
       "      <td>...</td>\n",
       "      <td>...</td>\n",
       "      <td>...</td>\n",
       "      <td>...</td>\n",
       "      <td>...</td>\n",
       "      <td>...</td>\n",
       "      <td>...</td>\n",
       "      <td>...</td>\n",
       "      <td>...</td>\n",
       "      <td>...</td>\n",
       "      <td>...</td>\n",
       "      <td>...</td>\n",
       "      <td>...</td>\n",
       "    </tr>\n",
       "    <tr>\n",
       "      <th>536629</th>\n",
       "      <td>45</td>\n",
       "      <td>98</td>\n",
       "      <td>2013-06-28</td>\n",
       "      <td>NaN</td>\n",
       "      <td>1</td>\n",
       "      <td>118221</td>\n",
       "      <td>193.589304</td>\n",
       "      <td>8.335</td>\n",
       "      <td>2013</td>\n",
       "      <td>26</td>\n",
       "      <td>0</td>\n",
       "      <td>1</td>\n",
       "      <td>0</td>\n",
       "    </tr>\n",
       "    <tr>\n",
       "      <th>536630</th>\n",
       "      <td>45</td>\n",
       "      <td>98</td>\n",
       "      <td>2013-07-05</td>\n",
       "      <td>NaN</td>\n",
       "      <td>1</td>\n",
       "      <td>118221</td>\n",
       "      <td>193.589304</td>\n",
       "      <td>8.335</td>\n",
       "      <td>2013</td>\n",
       "      <td>27</td>\n",
       "      <td>0</td>\n",
       "      <td>1</td>\n",
       "      <td>0</td>\n",
       "    </tr>\n",
       "    <tr>\n",
       "      <th>536631</th>\n",
       "      <td>45</td>\n",
       "      <td>98</td>\n",
       "      <td>2013-07-12</td>\n",
       "      <td>NaN</td>\n",
       "      <td>1</td>\n",
       "      <td>118221</td>\n",
       "      <td>193.589304</td>\n",
       "      <td>8.335</td>\n",
       "      <td>2013</td>\n",
       "      <td>28</td>\n",
       "      <td>0</td>\n",
       "      <td>1</td>\n",
       "      <td>0</td>\n",
       "    </tr>\n",
       "    <tr>\n",
       "      <th>536632</th>\n",
       "      <td>45</td>\n",
       "      <td>98</td>\n",
       "      <td>2013-07-19</td>\n",
       "      <td>NaN</td>\n",
       "      <td>1</td>\n",
       "      <td>118221</td>\n",
       "      <td>193.589304</td>\n",
       "      <td>8.335</td>\n",
       "      <td>2013</td>\n",
       "      <td>29</td>\n",
       "      <td>0</td>\n",
       "      <td>1</td>\n",
       "      <td>0</td>\n",
       "    </tr>\n",
       "    <tr>\n",
       "      <th>536633</th>\n",
       "      <td>45</td>\n",
       "      <td>98</td>\n",
       "      <td>2013-07-26</td>\n",
       "      <td>NaN</td>\n",
       "      <td>1</td>\n",
       "      <td>118221</td>\n",
       "      <td>193.589304</td>\n",
       "      <td>8.335</td>\n",
       "      <td>2013</td>\n",
       "      <td>30</td>\n",
       "      <td>0</td>\n",
       "      <td>1</td>\n",
       "      <td>0</td>\n",
       "    </tr>\n",
       "  </tbody>\n",
       "</table>\n",
       "<p>536634 rows × 13 columns</p>\n",
       "</div>"
      ],
      "text/plain": [
       "        Store  Dept        Date  Weekly_Sales  IsHoliday    Size         CPI  \\\n",
       "0           1     1  2010-02-05      24924.50          1  151315  211.096358   \n",
       "1           1     1  2010-02-12      46039.49          0  151315  211.242170   \n",
       "2           1     1  2010-02-19      41595.55          1  151315  211.289143   \n",
       "3           1     1  2010-02-26      19403.54          1  151315  211.319643   \n",
       "4           1     1  2010-03-05      21827.90          1  151315  211.350143   \n",
       "...       ...   ...         ...           ...        ...     ...         ...   \n",
       "536629     45    98  2013-06-28           NaN          1  118221  193.589304   \n",
       "536630     45    98  2013-07-05           NaN          1  118221  193.589304   \n",
       "536631     45    98  2013-07-12           NaN          1  118221  193.589304   \n",
       "536632     45    98  2013-07-19           NaN          1  118221  193.589304   \n",
       "536633     45    98  2013-07-26           NaN          1  118221  193.589304   \n",
       "\n",
       "        Unemployment  Year  Week  Type_A  Type_B  Type_C  \n",
       "0              8.106  2010     5       1       0       0  \n",
       "1              8.106  2010     6       1       0       0  \n",
       "2              8.106  2010     7       1       0       0  \n",
       "3              8.106  2010     8       1       0       0  \n",
       "4              8.106  2010     9       1       0       0  \n",
       "...              ...   ...   ...     ...     ...     ...  \n",
       "536629         8.335  2013    26       0       1       0  \n",
       "536630         8.335  2013    27       0       1       0  \n",
       "536631         8.335  2013    28       0       1       0  \n",
       "536632         8.335  2013    29       0       1       0  \n",
       "536633         8.335  2013    30       0       1       0  \n",
       "\n",
       "[536634 rows x 13 columns]"
      ]
     },
     "execution_count": 5,
     "metadata": {},
     "output_type": "execute_result"
    }
   ],
   "source": [
    "total_df"
   ]
  },
  {
   "cell_type": "markdown",
   "id": "b9ae252a-00c8-45c9-b6f7-2a94fd21ed72",
   "metadata": {},
   "source": [
    "## 데이터 split"
   ]
  },
  {
   "cell_type": "markdown",
   "id": "cf362c01-c6f8-42f0-907d-9e6378a9225f",
   "metadata": {},
   "source": [
    "#### [1] train-test로 나누기\n",
    "\n",
    "* 나누는 방법은 => Weekly_Sales가 NULL인것\n",
    "* 그리고 test_id 생성 : Store+Dept+Date"
   ]
  },
  {
   "cell_type": "code",
   "execution_count": 6,
   "id": "7d6e2bb4-ef0d-4550-9bd2-0b2d36932f38",
   "metadata": {},
   "outputs": [
    {
     "name": "stdout",
     "output_type": "stream",
     "text": [
      "536634\n"
     ]
    }
   ],
   "source": [
    "print(len(total_df))"
   ]
  },
  {
   "cell_type": "code",
   "execution_count": 7,
   "id": "c3c2e501-0a2f-472c-86aa-704fdb61f099",
   "metadata": {},
   "outputs": [],
   "source": [
    "train_df = total_df[~total_df['Weekly_Sales'].isnull()]\n",
    "test_df = total_df[total_df['Weekly_Sales'].isnull()]"
   ]
  },
  {
   "cell_type": "markdown",
   "id": "6c7e600b-3b61-4a5b-ba31-eb33399e4f3d",
   "metadata": {},
   "source": [
    "train len  421570\n",
    "\n",
    "test len :  115064"
   ]
  },
  {
   "cell_type": "code",
   "execution_count": 8,
   "id": "dc0aac74-308d-406d-bd0f-17f76f72d7e7",
   "metadata": {},
   "outputs": [
    {
     "name": "stdout",
     "output_type": "stream",
     "text": [
      "421570\n",
      "115064\n"
     ]
    }
   ],
   "source": [
    "print(len(train_df))\n",
    "print(len(test_df))"
   ]
  },
  {
   "cell_type": "code",
   "execution_count": 9,
   "id": "e28678ba-266a-4b77-801a-12e0606ea335",
   "metadata": {
    "tags": []
   },
   "outputs": [
    {
     "name": "stderr",
     "output_type": "stream",
     "text": [
      "/home/ai-sjjy/anaconda3/lib/python3.8/site-packages/pandas/core/frame.py:4308: SettingWithCopyWarning: \n",
      "A value is trying to be set on a copy of a slice from a DataFrame\n",
      "\n",
      "See the caveats in the documentation: https://pandas.pydata.org/pandas-docs/stable/user_guide/indexing.html#returning-a-view-versus-a-copy\n",
      "  return super().drop(\n"
     ]
    }
   ],
   "source": [
    "# train 필요없는 속성 = Date drop\n",
    "\n",
    "train_df.drop('Date', axis=1, inplace=True)"
   ]
  },
  {
   "cell_type": "code",
   "execution_count": 10,
   "id": "4b218dcf-08fd-4622-83e6-99b5f38a51dd",
   "metadata": {
    "tags": []
   },
   "outputs": [
    {
     "name": "stderr",
     "output_type": "stream",
     "text": [
      "<ipython-input-10-16c91f4b8f2a>:8: SettingWithCopyWarning: \n",
      "A value is trying to be set on a copy of a slice from a DataFrame.\n",
      "Try using .loc[row_indexer,col_indexer] = value instead\n",
      "\n",
      "See the caveats in the documentation: https://pandas.pydata.org/pandas-docs/stable/user_guide/indexing.html#returning-a-view-versus-a-copy\n",
      "  test_df['Id'] = IDs\n"
     ]
    }
   ],
   "source": [
    "# test 필요 없는 속성 Weekly_Sales drop\n",
    "# test 필요한 속성 => ID(Store+Dept+Date) 합치기\n",
    "# 그다음 Date 삭제\n",
    "\n",
    "test_df.drop('Weekly_Sales', axis=1, inplace=True)\n",
    "\n",
    "IDs = [str(a)+'_'+str(b)+'_'+c for a, b, c in zip(test_df['Store'].tolist(), test_df['Dept'].tolist(), test_df['Date'].tolist())]\n",
    "test_df['Id'] = IDs\n",
    "\n",
    "test_df.drop('Date', axis=1, inplace=True)"
   ]
  },
  {
   "cell_type": "code",
   "execution_count": 11,
   "id": "067bb533-c3cb-45d3-9e39-80c6f8abb126",
   "metadata": {
    "tags": []
   },
   "outputs": [
    {
     "data": {
      "text/html": [
       "<div>\n",
       "<style scoped>\n",
       "    .dataframe tbody tr th:only-of-type {\n",
       "        vertical-align: middle;\n",
       "    }\n",
       "\n",
       "    .dataframe tbody tr th {\n",
       "        vertical-align: top;\n",
       "    }\n",
       "\n",
       "    .dataframe thead th {\n",
       "        text-align: right;\n",
       "    }\n",
       "</style>\n",
       "<table border=\"1\" class=\"dataframe\">\n",
       "  <thead>\n",
       "    <tr style=\"text-align: right;\">\n",
       "      <th></th>\n",
       "      <th>Store</th>\n",
       "      <th>Dept</th>\n",
       "      <th>IsHoliday</th>\n",
       "      <th>Size</th>\n",
       "      <th>CPI</th>\n",
       "      <th>Unemployment</th>\n",
       "      <th>Year</th>\n",
       "      <th>Week</th>\n",
       "      <th>Type_A</th>\n",
       "      <th>Type_B</th>\n",
       "      <th>Type_C</th>\n",
       "      <th>Id</th>\n",
       "    </tr>\n",
       "  </thead>\n",
       "  <tbody>\n",
       "    <tr>\n",
       "      <th>421570</th>\n",
       "      <td>1</td>\n",
       "      <td>1</td>\n",
       "      <td>1</td>\n",
       "      <td>151315</td>\n",
       "      <td>223.462779</td>\n",
       "      <td>6.573</td>\n",
       "      <td>2012</td>\n",
       "      <td>44</td>\n",
       "      <td>1</td>\n",
       "      <td>0</td>\n",
       "      <td>0</td>\n",
       "      <td>1_1_2012-11-02</td>\n",
       "    </tr>\n",
       "    <tr>\n",
       "      <th>421571</th>\n",
       "      <td>1</td>\n",
       "      <td>1</td>\n",
       "      <td>1</td>\n",
       "      <td>151315</td>\n",
       "      <td>223.481307</td>\n",
       "      <td>6.573</td>\n",
       "      <td>2012</td>\n",
       "      <td>45</td>\n",
       "      <td>1</td>\n",
       "      <td>0</td>\n",
       "      <td>0</td>\n",
       "      <td>1_1_2012-11-09</td>\n",
       "    </tr>\n",
       "    <tr>\n",
       "      <th>421572</th>\n",
       "      <td>1</td>\n",
       "      <td>1</td>\n",
       "      <td>1</td>\n",
       "      <td>151315</td>\n",
       "      <td>223.512911</td>\n",
       "      <td>6.573</td>\n",
       "      <td>2012</td>\n",
       "      <td>46</td>\n",
       "      <td>1</td>\n",
       "      <td>0</td>\n",
       "      <td>0</td>\n",
       "      <td>1_1_2012-11-16</td>\n",
       "    </tr>\n",
       "    <tr>\n",
       "      <th>421573</th>\n",
       "      <td>1</td>\n",
       "      <td>1</td>\n",
       "      <td>0</td>\n",
       "      <td>151315</td>\n",
       "      <td>223.561947</td>\n",
       "      <td>6.573</td>\n",
       "      <td>2012</td>\n",
       "      <td>47</td>\n",
       "      <td>1</td>\n",
       "      <td>0</td>\n",
       "      <td>0</td>\n",
       "      <td>1_1_2012-11-23</td>\n",
       "    </tr>\n",
       "    <tr>\n",
       "      <th>421574</th>\n",
       "      <td>1</td>\n",
       "      <td>1</td>\n",
       "      <td>1</td>\n",
       "      <td>151315</td>\n",
       "      <td>223.610984</td>\n",
       "      <td>6.573</td>\n",
       "      <td>2012</td>\n",
       "      <td>48</td>\n",
       "      <td>1</td>\n",
       "      <td>0</td>\n",
       "      <td>0</td>\n",
       "      <td>1_1_2012-11-30</td>\n",
       "    </tr>\n",
       "    <tr>\n",
       "      <th>...</th>\n",
       "      <td>...</td>\n",
       "      <td>...</td>\n",
       "      <td>...</td>\n",
       "      <td>...</td>\n",
       "      <td>...</td>\n",
       "      <td>...</td>\n",
       "      <td>...</td>\n",
       "      <td>...</td>\n",
       "      <td>...</td>\n",
       "      <td>...</td>\n",
       "      <td>...</td>\n",
       "      <td>...</td>\n",
       "    </tr>\n",
       "    <tr>\n",
       "      <th>536629</th>\n",
       "      <td>45</td>\n",
       "      <td>98</td>\n",
       "      <td>1</td>\n",
       "      <td>118221</td>\n",
       "      <td>193.589304</td>\n",
       "      <td>8.335</td>\n",
       "      <td>2013</td>\n",
       "      <td>26</td>\n",
       "      <td>0</td>\n",
       "      <td>1</td>\n",
       "      <td>0</td>\n",
       "      <td>45_98_2013-06-28</td>\n",
       "    </tr>\n",
       "    <tr>\n",
       "      <th>536630</th>\n",
       "      <td>45</td>\n",
       "      <td>98</td>\n",
       "      <td>1</td>\n",
       "      <td>118221</td>\n",
       "      <td>193.589304</td>\n",
       "      <td>8.335</td>\n",
       "      <td>2013</td>\n",
       "      <td>27</td>\n",
       "      <td>0</td>\n",
       "      <td>1</td>\n",
       "      <td>0</td>\n",
       "      <td>45_98_2013-07-05</td>\n",
       "    </tr>\n",
       "    <tr>\n",
       "      <th>536631</th>\n",
       "      <td>45</td>\n",
       "      <td>98</td>\n",
       "      <td>1</td>\n",
       "      <td>118221</td>\n",
       "      <td>193.589304</td>\n",
       "      <td>8.335</td>\n",
       "      <td>2013</td>\n",
       "      <td>28</td>\n",
       "      <td>0</td>\n",
       "      <td>1</td>\n",
       "      <td>0</td>\n",
       "      <td>45_98_2013-07-12</td>\n",
       "    </tr>\n",
       "    <tr>\n",
       "      <th>536632</th>\n",
       "      <td>45</td>\n",
       "      <td>98</td>\n",
       "      <td>1</td>\n",
       "      <td>118221</td>\n",
       "      <td>193.589304</td>\n",
       "      <td>8.335</td>\n",
       "      <td>2013</td>\n",
       "      <td>29</td>\n",
       "      <td>0</td>\n",
       "      <td>1</td>\n",
       "      <td>0</td>\n",
       "      <td>45_98_2013-07-19</td>\n",
       "    </tr>\n",
       "    <tr>\n",
       "      <th>536633</th>\n",
       "      <td>45</td>\n",
       "      <td>98</td>\n",
       "      <td>1</td>\n",
       "      <td>118221</td>\n",
       "      <td>193.589304</td>\n",
       "      <td>8.335</td>\n",
       "      <td>2013</td>\n",
       "      <td>30</td>\n",
       "      <td>0</td>\n",
       "      <td>1</td>\n",
       "      <td>0</td>\n",
       "      <td>45_98_2013-07-26</td>\n",
       "    </tr>\n",
       "  </tbody>\n",
       "</table>\n",
       "<p>115064 rows × 12 columns</p>\n",
       "</div>"
      ],
      "text/plain": [
       "        Store  Dept  IsHoliday    Size         CPI  Unemployment  Year  Week  \\\n",
       "421570      1     1          1  151315  223.462779         6.573  2012    44   \n",
       "421571      1     1          1  151315  223.481307         6.573  2012    45   \n",
       "421572      1     1          1  151315  223.512911         6.573  2012    46   \n",
       "421573      1     1          0  151315  223.561947         6.573  2012    47   \n",
       "421574      1     1          1  151315  223.610984         6.573  2012    48   \n",
       "...       ...   ...        ...     ...         ...           ...   ...   ...   \n",
       "536629     45    98          1  118221  193.589304         8.335  2013    26   \n",
       "536630     45    98          1  118221  193.589304         8.335  2013    27   \n",
       "536631     45    98          1  118221  193.589304         8.335  2013    28   \n",
       "536632     45    98          1  118221  193.589304         8.335  2013    29   \n",
       "536633     45    98          1  118221  193.589304         8.335  2013    30   \n",
       "\n",
       "        Type_A  Type_B  Type_C                Id  \n",
       "421570       1       0       0    1_1_2012-11-02  \n",
       "421571       1       0       0    1_1_2012-11-09  \n",
       "421572       1       0       0    1_1_2012-11-16  \n",
       "421573       1       0       0    1_1_2012-11-23  \n",
       "421574       1       0       0    1_1_2012-11-30  \n",
       "...        ...     ...     ...               ...  \n",
       "536629       0       1       0  45_98_2013-06-28  \n",
       "536630       0       1       0  45_98_2013-07-05  \n",
       "536631       0       1       0  45_98_2013-07-12  \n",
       "536632       0       1       0  45_98_2013-07-19  \n",
       "536633       0       1       0  45_98_2013-07-26  \n",
       "\n",
       "[115064 rows x 12 columns]"
      ]
     },
     "execution_count": 11,
     "metadata": {},
     "output_type": "execute_result"
    }
   ],
   "source": [
    "test_df"
   ]
  },
  {
   "cell_type": "markdown",
   "id": "611d5816-0be9-42ae-a154-11a6e492e6d2",
   "metadata": {},
   "source": [
    "#### [2] train-validation으로로 나누기"
   ]
  },
  {
   "cell_type": "code",
   "execution_count": 12,
   "id": "d9b0ce0d-7add-4f52-a53b-22e309e04095",
   "metadata": {},
   "outputs": [],
   "source": [
    "y = train_df['Weekly_Sales']\n",
    "X = train_df.drop('Weekly_Sales', axis=1)"
   ]
  },
  {
   "cell_type": "code",
   "execution_count": 13,
   "id": "a124f9f8-f6da-48c3-9848-8a1f68d73fe9",
   "metadata": {},
   "outputs": [],
   "source": [
    "from sklearn.model_selection import train_test_split # 데이터 셋 \n",
    "\n",
    "# 방법 1\n",
    "X_train, X_val, y_train, y_val = train_test_split(X, y, test_size=0.2, random_state=101)"
   ]
  },
  {
   "cell_type": "code",
   "execution_count": 14,
   "id": "b6dc9257-571c-4d5c-b960-2c6c0a51196f",
   "metadata": {},
   "outputs": [
    {
     "name": "stdout",
     "output_type": "stream",
     "text": [
      "421570\n",
      "337256\n",
      "84314\n"
     ]
    }
   ],
   "source": [
    "print(len(train_df))\n",
    "print(len(X_train))\n",
    "print(len(X_val))"
   ]
  },
  {
   "cell_type": "markdown",
   "id": "902347f9-d585-4f03-beeb-9ec97049f002",
   "metadata": {},
   "source": [
    "## 모델링"
   ]
  },
  {
   "cell_type": "markdown",
   "id": "c6323d9c-423d-4e37-9104-9c1f3a429366",
   "metadata": {},
   "source": [
    "#### [참고]\n",
    "\n",
    "* WMAE 가중평균 절대오차\n",
    "    - WMAE는 Sklearn에 정의된 메트릭 x"
   ]
  },
  {
   "cell_type": "code",
   "execution_count": 15,
   "id": "711f1921-8bcd-4568-8d27-2498e24d8231",
   "metadata": {},
   "outputs": [],
   "source": [
    "from sklearn.tree import DecisionTreeRegressor\n",
    "from sklearn.ensemble import RandomForestRegressor\n",
    "from xgboost.sklearn import XGBRegressor\n",
    "from sklearn.neighbors import KNeighborsRegressor\n",
    "\n",
    "\n",
    "from sklearn.metrics import r2_score, mean_absolute_error, mean_squared_error\n",
    "from sklearn.model_selection import cross_val_score\n",
    "\n",
    "\n",
    "import xgboost"
   ]
  },
  {
   "cell_type": "code",
   "execution_count": 16,
   "id": "0473fd7c-2cfc-4abe-a977-587a9c3e1ea9",
   "metadata": {},
   "outputs": [],
   "source": [
    "def evaluation(model, train_x, train_y, val_x, val_y):\n",
    "    cv = cross_val_score(model, train_x, train_y, cv = 10)\n",
    "    y_pred = model.predict(val_x)\n",
    "    cv = np.mean(cv)\n",
    "    r2=r2_score(y_pred, val_y)\n",
    "    mae = mean_absolute_error(y_pred, val_y)\n",
    "\n",
    "    return cv, r2, mae"
   ]
  },
  {
   "cell_type": "code",
   "execution_count": 17,
   "id": "b626a835-c251-4bb4-a489-f1a16e06c621",
   "metadata": {},
   "outputs": [],
   "source": [
    "def show_plot(model, val_x, val_y):\n",
    "    y_pred = model.predict(val_x)\n",
    "\n",
    "    plt.scatter(val_y, y_pred)\n",
    "    plt.xlabel(\"Price Index: $Y_i$\")\n",
    "    plt.ylabel(\"Predicted price Index: $\\hat{Y}_i$\")\n",
    "    plt.title(\"Prices vs Predicted price Index: $Y_i$ vs $\\hat{Y}_i$\")"
   ]
  },
  {
   "cell_type": "code",
   "execution_count": 18,
   "id": "a29da879-05a5-4f7f-8e91-ff2c47e85eda",
   "metadata": {},
   "outputs": [],
   "source": [
    "def wmae(model, val_x, val_y): #x_val, y_val\n",
    "    y_pred = model.predict(val_x)\n",
    "    \n",
    "    weights = val_x.IsHoliday.apply(lambda x:5 if x else 1)\n",
    "    metric = np.sum(weights*abs(np.array(val_y) - np.array(y_pred)))\n",
    "    return np.round(\n",
    "        np.sum(weights*abs(np.array(val_y) - np.array(y_pred)))/(np.sum(weights)), 2\n",
    "    )"
   ]
  },
  {
   "cell_type": "markdown",
   "id": "ab1e839d-1d2d-4add-94d2-cf22c7bb0c1e",
   "metadata": {},
   "source": [
    "#### [1] Decision Tree (회귀)"
   ]
  },
  {
   "cell_type": "code",
   "execution_count": 19,
   "id": "299e97ef-d623-4a48-aec2-21bf5c1e1f90",
   "metadata": {},
   "outputs": [
    {
     "data": {
      "text/plain": [
       "DecisionTreeRegressor()"
      ]
     },
     "execution_count": 19,
     "metadata": {},
     "output_type": "execute_result"
    }
   ],
   "source": [
    "tree = DecisionTreeRegressor()\n",
    "tree.fit(X_train, y_train)"
   ]
  },
  {
   "cell_type": "code",
   "execution_count": 20,
   "id": "7d6b8647-5a40-45a6-8c8a-ca7de345a613",
   "metadata": {},
   "outputs": [
    {
     "name": "stdout",
     "output_type": "stream",
     "text": [
      "Cross val score: 0.9608563880581734\n",
      "R^2 score: 0.9631585558075348\n",
      "Mean Absolute Erro: 1722.6137502668596\n"
     ]
    }
   ],
   "source": [
    "result = evaluation(tree, X_train, y_train, X_val, y_val)\n",
    "print(\"Cross val score: \" + str(result[0]))\n",
    "print(\"R^2 score: \" + str(result[1]))\n",
    "print(\"Mean Absolute Erro: \" + str(result[2]))"
   ]
  },
  {
   "cell_type": "code",
   "execution_count": 21,
   "id": "9770479b-5248-4ace-8f3e-860e1688534e",
   "metadata": {},
   "outputs": [
    {
     "data": {
      "image/png": "[encoded data removed]",
      "text/plain": [
       "<Figure size 432x288 with 1 Axes>"
      ]
     },
     "metadata": {
      "needs_background": "light"
     },
     "output_type": "display_data"
    }
   ],
   "source": [
    "show_plot(tree, X_val, y_val)"
   ]
  },
  {
   "cell_type": "markdown",
   "id": "4e6c2570-bf5f-401b-a560-c227da658192",
   "metadata": {},
   "source": [
    "### [2] RandomForest"
   ]
  },
  {
   "cell_type": "code",
   "execution_count": 22,
   "id": "24297db9-c051-4718-8ffc-ee5f589b9594",
   "metadata": {},
   "outputs": [
    {
     "data": {
      "text/plain": [
       "RandomForestRegressor(max_depth=45, max_features=8, n_estimators=150)"
      ]
     },
     "execution_count": 22,
     "metadata": {},
     "output_type": "execute_result"
    }
   ],
   "source": [
    "forest = RandomForestRegressor(n_estimators=150, max_depth=45, max_features=8, min_samples_split=2, min_samples_leaf=1)\n",
    "forest.fit(X_train, y_train)"
   ]
  },
  {
   "cell_type": "code",
   "execution_count": 23,
   "id": "5f176dd2-8905-4f6e-bc27-98216046e8f3",
   "metadata": {},
   "outputs": [
    {
     "data": {
      "text/plain": [
       "0.9781313313481608"
      ]
     },
     "execution_count": 23,
     "metadata": {},
     "output_type": "execute_result"
    }
   ],
   "source": [
    "forest.score(X_val, y_val)"
   ]
  },
  {
   "cell_type": "code",
   "execution_count": 24,
   "id": "bf9519fb-2942-433c-ae15-0f9c80b62737",
   "metadata": {},
   "outputs": [
    {
     "data": {
      "text/plain": [
       "1348.09"
      ]
     },
     "execution_count": 24,
     "metadata": {},
     "output_type": "execute_result"
    }
   ],
   "source": [
    "wmae(forest, X_val, y_val)"
   ]
  },
  {
   "cell_type": "code",
   "execution_count": 25,
   "id": "f7552e65-d38b-47cd-9676-7471b6ff32eb",
   "metadata": {},
   "outputs": [
    {
     "data": {
      "image/png": "[encoded data removed]",
      "text/plain": [
       "<Figure size 432x288 with 1 Axes>"
      ]
     },
     "metadata": {
      "needs_background": "light"
     },
     "output_type": "display_data"
    }
   ],
   "source": [
    "show_plot(forest, X_val, y_val)"
   ]
  },
  {
   "cell_type": "markdown",
   "id": "040d9792-617c-478e-ab47-e4e59573bfff",
   "metadata": {},
   "source": [
    "### [3] XGBoost"
   ]
  },
  {
   "cell_type": "code",
   "execution_count": 26,
   "id": "56bf1a90-d046-46d5-a24f-dd532b81efa8",
   "metadata": {},
   "outputs": [
    {
     "data": {
      "text/plain": [
       "XGBRegressor(base_score=0.5, booster='gbtree', colsample_bylevel=1,\n",
       "             colsample_bynode=1, colsample_bytree=1, gamma=0, gpu_id=-1,\n",
       "             importance_type='gain', interaction_constraints='',\n",
       "             learning_rate=0.300000012, max_delta_step=0, max_depth=6,\n",
       "             min_child_weight=1, missing=nan, monotone_constraints='()',\n",
       "             n_estimators=100, n_jobs=8, num_parallel_tree=1, random_state=0,\n",
       "             reg_alpha=0, reg_lambda=1, scale_pos_weight=1, subsample=1,\n",
       "             tree_method='exact', validate_parameters=1, verbosity=None)"
      ]
     },
     "execution_count": 26,
     "metadata": {},
     "output_type": "execute_result"
    }
   ],
   "source": [
    "xgb = XGBRegressor()\n",
    "\n",
    "xgb.fit(X_train, y_train)"
   ]
  },
  {
   "cell_type": "code",
   "execution_count": 27,
   "id": "ba9cc031-92c4-4b42-8a14-6798c931a367",
   "metadata": {},
   "outputs": [
    {
     "data": {
      "text/plain": [
       "0.950621043340993"
      ]
     },
     "execution_count": 27,
     "metadata": {},
     "output_type": "execute_result"
    }
   ],
   "source": [
    "xgb.score(X_val, y_val)"
   ]
  },
  {
   "cell_type": "code",
   "execution_count": 28,
   "id": "a8f46df3-0ad2-4417-9317-e4d79f603d2d",
   "metadata": {},
   "outputs": [
    {
     "data": {
      "text/plain": [
       "2850.5"
      ]
     },
     "execution_count": 28,
     "metadata": {},
     "output_type": "execute_result"
    }
   ],
   "source": [
    "wmae(xgb, X_val, y_val)"
   ]
  },
  {
   "cell_type": "code",
   "execution_count": 29,
   "id": "b43496d8-cde1-4324-b893-133ead442bc7",
   "metadata": {},
   "outputs": [
    {
     "data": {
      "image/png": "[encoded data removed]",
      "text/plain": [
       "<Figure size 432x288 with 1 Axes>"
      ]
     },
     "metadata": {
      "needs_background": "light"
     },
     "output_type": "display_data"
    }
   ],
   "source": [
    "show_plot(xgb, X_val, y_val)"
   ]
  },
  {
   "cell_type": "markdown",
   "id": "b6a90f00-a8a8-4cff-9bfe-2d521cc4dac3",
   "metadata": {},
   "source": [
    "### [4] KNeighborsRegressor"
   ]
  },
  {
   "cell_type": "code",
   "execution_count": 30,
   "id": "1b027d01-f287-46fe-a2a6-2d9924d3740c",
   "metadata": {},
   "outputs": [
    {
     "data": {
      "text/plain": [
       "KNeighborsRegressor()"
      ]
     },
     "execution_count": 30,
     "metadata": {},
     "output_type": "execute_result"
    }
   ],
   "source": [
    "knn = KNeighborsRegressor()\n",
    "knn.fit(X_train, y_train)"
   ]
  },
  {
   "cell_type": "code",
   "execution_count": 31,
   "id": "18d85bdf-d343-4a13-95a9-a9fc3103addc",
   "metadata": {},
   "outputs": [
    {
     "name": "stdout",
     "output_type": "stream",
     "text": [
      "Cross val score: 0.5489114918108318\n",
      "R^2 score: 0.3111360300774437\n",
      "Mean Absolute Erro: 8688.794618805892\n"
     ]
    }
   ],
   "source": [
    "result = evaluation(knn, X_train, y_train, X_val, y_val)\n",
    "print(\"Cross val score: \" + str(result[0]))\n",
    "print(\"R^2 score: \" + str(result[1]))\n",
    "print(\"Mean Absolute Erro: \" + str(result[2]))"
   ]
  },
  {
   "cell_type": "code",
   "execution_count": 32,
   "id": "efdbcf50-684f-4db4-9de3-617386766cdc",
   "metadata": {},
   "outputs": [
    {
     "data": {
      "image/png": "[encoded data removed]",
      "text/plain": [
       "<Figure size 432x288 with 1 Axes>"
      ]
     },
     "metadata": {
      "needs_background": "light"
     },
     "output_type": "display_data"
    }
   ],
   "source": [
    "show_plot(knn, X_val, y_val)"
   ]
  },
  {
   "cell_type": "markdown",
   "id": "0e79771c-fe55-4058-801c-272b7adf9e84",
   "metadata": {},
   "source": [
    "### TEST 결과 보기"
   ]
  },
  {
   "cell_type": "code",
   "execution_count": 33,
   "id": "3b64adc6-1986-4c80-93d9-97b69d293072",
   "metadata": {},
   "outputs": [
    {
     "data": {
      "text/html": [
       "<div>\n",
       "<style scoped>\n",
       "    .dataframe tbody tr th:only-of-type {\n",
       "        vertical-align: middle;\n",
       "    }\n",
       "\n",
       "    .dataframe tbody tr th {\n",
       "        vertical-align: top;\n",
       "    }\n",
       "\n",
       "    .dataframe thead th {\n",
       "        text-align: right;\n",
       "    }\n",
       "</style>\n",
       "<table border=\"1\" class=\"dataframe\">\n",
       "  <thead>\n",
       "    <tr style=\"text-align: right;\">\n",
       "      <th></th>\n",
       "      <th>Store</th>\n",
       "      <th>Dept</th>\n",
       "      <th>IsHoliday</th>\n",
       "      <th>Size</th>\n",
       "      <th>CPI</th>\n",
       "      <th>Unemployment</th>\n",
       "      <th>Year</th>\n",
       "      <th>Week</th>\n",
       "      <th>Type_A</th>\n",
       "      <th>Type_B</th>\n",
       "      <th>Type_C</th>\n",
       "      <th>Id</th>\n",
       "    </tr>\n",
       "  </thead>\n",
       "  <tbody>\n",
       "    <tr>\n",
       "      <th>421570</th>\n",
       "      <td>1</td>\n",
       "      <td>1</td>\n",
       "      <td>1</td>\n",
       "      <td>151315</td>\n",
       "      <td>223.462779</td>\n",
       "      <td>6.573</td>\n",
       "      <td>2012</td>\n",
       "      <td>44</td>\n",
       "      <td>1</td>\n",
       "      <td>0</td>\n",
       "      <td>0</td>\n",
       "      <td>1_1_2012-11-02</td>\n",
       "    </tr>\n",
       "    <tr>\n",
       "      <th>421571</th>\n",
       "      <td>1</td>\n",
       "      <td>1</td>\n",
       "      <td>1</td>\n",
       "      <td>151315</td>\n",
       "      <td>223.481307</td>\n",
       "      <td>6.573</td>\n",
       "      <td>2012</td>\n",
       "      <td>45</td>\n",
       "      <td>1</td>\n",
       "      <td>0</td>\n",
       "      <td>0</td>\n",
       "      <td>1_1_2012-11-09</td>\n",
       "    </tr>\n",
       "    <tr>\n",
       "      <th>421572</th>\n",
       "      <td>1</td>\n",
       "      <td>1</td>\n",
       "      <td>1</td>\n",
       "      <td>151315</td>\n",
       "      <td>223.512911</td>\n",
       "      <td>6.573</td>\n",
       "      <td>2012</td>\n",
       "      <td>46</td>\n",
       "      <td>1</td>\n",
       "      <td>0</td>\n",
       "      <td>0</td>\n",
       "      <td>1_1_2012-11-16</td>\n",
       "    </tr>\n",
       "    <tr>\n",
       "      <th>421573</th>\n",
       "      <td>1</td>\n",
       "      <td>1</td>\n",
       "      <td>0</td>\n",
       "      <td>151315</td>\n",
       "      <td>223.561947</td>\n",
       "      <td>6.573</td>\n",
       "      <td>2012</td>\n",
       "      <td>47</td>\n",
       "      <td>1</td>\n",
       "      <td>0</td>\n",
       "      <td>0</td>\n",
       "      <td>1_1_2012-11-23</td>\n",
       "    </tr>\n",
       "    <tr>\n",
       "      <th>421574</th>\n",
       "      <td>1</td>\n",
       "      <td>1</td>\n",
       "      <td>1</td>\n",
       "      <td>151315</td>\n",
       "      <td>223.610984</td>\n",
       "      <td>6.573</td>\n",
       "      <td>2012</td>\n",
       "      <td>48</td>\n",
       "      <td>1</td>\n",
       "      <td>0</td>\n",
       "      <td>0</td>\n",
       "      <td>1_1_2012-11-30</td>\n",
       "    </tr>\n",
       "    <tr>\n",
       "      <th>...</th>\n",
       "      <td>...</td>\n",
       "      <td>...</td>\n",
       "      <td>...</td>\n",
       "      <td>...</td>\n",
       "      <td>...</td>\n",
       "      <td>...</td>\n",
       "      <td>...</td>\n",
       "      <td>...</td>\n",
       "      <td>...</td>\n",
       "      <td>...</td>\n",
       "      <td>...</td>\n",
       "      <td>...</td>\n",
       "    </tr>\n",
       "    <tr>\n",
       "      <th>536629</th>\n",
       "      <td>45</td>\n",
       "      <td>98</td>\n",
       "      <td>1</td>\n",
       "      <td>118221</td>\n",
       "      <td>193.589304</td>\n",
       "      <td>8.335</td>\n",
       "      <td>2013</td>\n",
       "      <td>26</td>\n",
       "      <td>0</td>\n",
       "      <td>1</td>\n",
       "      <td>0</td>\n",
       "      <td>45_98_2013-06-28</td>\n",
       "    </tr>\n",
       "    <tr>\n",
       "      <th>536630</th>\n",
       "      <td>45</td>\n",
       "      <td>98</td>\n",
       "      <td>1</td>\n",
       "      <td>118221</td>\n",
       "      <td>193.589304</td>\n",
       "      <td>8.335</td>\n",
       "      <td>2013</td>\n",
       "      <td>27</td>\n",
       "      <td>0</td>\n",
       "      <td>1</td>\n",
       "      <td>0</td>\n",
       "      <td>45_98_2013-07-05</td>\n",
       "    </tr>\n",
       "    <tr>\n",
       "      <th>536631</th>\n",
       "      <td>45</td>\n",
       "      <td>98</td>\n",
       "      <td>1</td>\n",
       "      <td>118221</td>\n",
       "      <td>193.589304</td>\n",
       "      <td>8.335</td>\n",
       "      <td>2013</td>\n",
       "      <td>28</td>\n",
       "      <td>0</td>\n",
       "      <td>1</td>\n",
       "      <td>0</td>\n",
       "      <td>45_98_2013-07-12</td>\n",
       "    </tr>\n",
       "    <tr>\n",
       "      <th>536632</th>\n",
       "      <td>45</td>\n",
       "      <td>98</td>\n",
       "      <td>1</td>\n",
       "      <td>118221</td>\n",
       "      <td>193.589304</td>\n",
       "      <td>8.335</td>\n",
       "      <td>2013</td>\n",
       "      <td>29</td>\n",
       "      <td>0</td>\n",
       "      <td>1</td>\n",
       "      <td>0</td>\n",
       "      <td>45_98_2013-07-19</td>\n",
       "    </tr>\n",
       "    <tr>\n",
       "      <th>536633</th>\n",
       "      <td>45</td>\n",
       "      <td>98</td>\n",
       "      <td>1</td>\n",
       "      <td>118221</td>\n",
       "      <td>193.589304</td>\n",
       "      <td>8.335</td>\n",
       "      <td>2013</td>\n",
       "      <td>30</td>\n",
       "      <td>0</td>\n",
       "      <td>1</td>\n",
       "      <td>0</td>\n",
       "      <td>45_98_2013-07-26</td>\n",
       "    </tr>\n",
       "  </tbody>\n",
       "</table>\n",
       "<p>115064 rows × 12 columns</p>\n",
       "</div>"
      ],
      "text/plain": [
       "        Store  Dept  IsHoliday    Size         CPI  Unemployment  Year  Week  \\\n",
       "421570      1     1          1  151315  223.462779         6.573  2012    44   \n",
       "421571      1     1          1  151315  223.481307         6.573  2012    45   \n",
       "421572      1     1          1  151315  223.512911         6.573  2012    46   \n",
       "421573      1     1          0  151315  223.561947         6.573  2012    47   \n",
       "421574      1     1          1  151315  223.610984         6.573  2012    48   \n",
       "...       ...   ...        ...     ...         ...           ...   ...   ...   \n",
       "536629     45    98          1  118221  193.589304         8.335  2013    26   \n",
       "536630     45    98          1  118221  193.589304         8.335  2013    27   \n",
       "536631     45    98          1  118221  193.589304         8.335  2013    28   \n",
       "536632     45    98          1  118221  193.589304         8.335  2013    29   \n",
       "536633     45    98          1  118221  193.589304         8.335  2013    30   \n",
       "\n",
       "        Type_A  Type_B  Type_C                Id  \n",
       "421570       1       0       0    1_1_2012-11-02  \n",
       "421571       1       0       0    1_1_2012-11-09  \n",
       "421572       1       0       0    1_1_2012-11-16  \n",
       "421573       1       0       0    1_1_2012-11-23  \n",
       "421574       1       0       0    1_1_2012-11-30  \n",
       "...        ...     ...     ...               ...  \n",
       "536629       0       1       0  45_98_2013-06-28  \n",
       "536630       0       1       0  45_98_2013-07-05  \n",
       "536631       0       1       0  45_98_2013-07-12  \n",
       "536632       0       1       0  45_98_2013-07-19  \n",
       "536633       0       1       0  45_98_2013-07-26  \n",
       "\n",
       "[115064 rows x 12 columns]"
      ]
     },
     "execution_count": 33,
     "metadata": {},
     "output_type": "execute_result"
    }
   ],
   "source": [
    "test_df"
   ]
  }
 ],
 "metadata": {
  "kernelspec": {
   "display_name": "Python 3",
   "language": "python",
   "name": "python3"
  },
  "language_info": {
   "codemirror_mode": {
    "name": "ipython",
    "version": 3
   },
   "file_extension": ".py",
   "mimetype": "text/x-python",
   "name": "python",
   "nbconvert_exporter": "python",
   "pygments_lexer": "ipython3",
   "version": "3.8.8"
  }
 },
 "nbformat": 4,
 "nbformat_minor": 5
}
