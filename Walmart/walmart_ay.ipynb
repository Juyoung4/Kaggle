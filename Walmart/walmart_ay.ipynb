{
 "cells": [
  {
   "cell_type": "markdown",
   "id": "e3f5a0de",
   "metadata": {},
   "source": [
    "# 월마트 부서별 매출 분석"
   ]
  },
  {
   "cell_type": "markdown",
   "id": "c707589b",
   "metadata": {},
   "source": [
    "기본 패키지 임포트"
   ]
  },
  {
   "cell_type": "code",
   "execution_count": null,
   "id": "55e3689c",
   "metadata": {},
   "outputs": [],
   "source": [
    "import re, json\n",
    "import pandas as pd\n",
    "import numpy as np\n",
    "import os\n",
    "\n",
    "import matplotlib.pyplot as plt\n",
    "import seaborn as sns\n",
    "from itertools import cycle\n",
    "color_cycle = cycle(plt.rcParams['axes.prop_cycle'].by_key()['color'])\n",
    "%matplotlib inline"
   ]
  },
  {
   "cell_type": "code",
   "execution_count": 90,
   "id": "539dada8",
   "metadata": {},
   "outputs": [
    {
     "data": {
      "text/html": [
       "        <script type=\"text/javascript\">\n",
       "        window.PlotlyConfig = {MathJaxConfig: 'local'};\n",
       "        if (window.MathJax) {MathJax.Hub.Config({SVG: {font: \"STIX-Web\"}});}\n",
       "        if (typeof require !== 'undefined') {\n",
       "        require.undef(\"plotly\");\n",
       "        requirejs.config({\n",
       "            paths: {\n",
       "                'plotly': ['https://cdn.plot.ly/plotly-2.2.0.min']\n",
       "            }\n",
       "        });\n",
       "        require(['plotly'], function(Plotly) {\n",
       "            window._Plotly = Plotly;\n",
       "        });\n",
       "        }\n",
       "        </script>\n",
       "        "
      ]
     },
     "metadata": {},
     "output_type": "display_data"
    }
   ],
   "source": [
    "import warnings\n",
    "warnings.filterwarnings('ignore')\n",
    "\n",
    "import plotly.graph_objs as go\n",
    "import plotly as py\n",
    "from plotly.offline import init_notebook_mode\n",
    "init_notebook_mode(connected=True)"
   ]
  },
  {
   "cell_type": "markdown",
   "id": "49cc7340",
   "metadata": {},
   "source": [
    "## 데이터 읽기"
   ]
  },
  {
   "cell_type": "code",
   "execution_count": 91,
   "id": "debd0eac",
   "metadata": {},
   "outputs": [],
   "source": [
    "path = \"data/\"\n",
    "\n",
    "TRAIN = 'train.csv'\n",
    "TEST = 'test.csv'\n",
    "SAMPLE = 'sampleSubmission.csv'\n",
    "FEATURE = 'features.csv'\n",
    "STORE = 'stores.csv'"
   ]
  },
  {
   "cell_type": "code",
   "execution_count": 218,
   "id": "a66ca2e8",
   "metadata": {},
   "outputs": [],
   "source": [
    "df_train = pd.read_csv(path + TRAIN)\n",
    "df_test = pd.read_csv(path + TEST)\n",
    "sample_df = pd.read_csv(path+SAMPLE)\n",
    "feature_df = pd.read_csv(path+FEATURE)\n",
    "store_df = pd.read_csv(path+STORE)"
   ]
  },
  {
   "cell_type": "markdown",
   "id": "912bd79d",
   "metadata": {},
   "source": [
    "데이터 다운로드 확인"
   ]
  },
  {
   "cell_type": "code",
   "execution_count": 93,
   "id": "f67d5b95",
   "metadata": {},
   "outputs": [
    {
     "name": "stdout",
     "output_type": "stream",
     "text": [
      "<class 'pandas.core.frame.DataFrame'>\n",
      "RangeIndex: 421570 entries, 0 to 421569\n",
      "Data columns (total 5 columns):\n",
      " #   Column        Non-Null Count   Dtype  \n",
      "---  ------        --------------   -----  \n",
      " 0   Store         421570 non-null  int64  \n",
      " 1   Dept          421570 non-null  int64  \n",
      " 2   Date          421570 non-null  object \n",
      " 3   Weekly_Sales  421570 non-null  float64\n",
      " 4   IsHoliday     421570 non-null  bool   \n",
      "dtypes: bool(1), float64(1), int64(2), object(1)\n",
      "memory usage: 13.3+ MB\n",
      "\n",
      "\n",
      "\n",
      "<class 'pandas.core.frame.DataFrame'>\n",
      "RangeIndex: 115064 entries, 0 to 115063\n",
      "Data columns (total 4 columns):\n",
      " #   Column     Non-Null Count   Dtype \n",
      "---  ------     --------------   ----- \n",
      " 0   Store      115064 non-null  int64 \n",
      " 1   Dept       115064 non-null  int64 \n",
      " 2   Date       115064 non-null  object\n",
      " 3   IsHoliday  115064 non-null  bool  \n",
      "dtypes: bool(1), int64(2), object(1)\n",
      "memory usage: 2.7+ MB\n",
      "\n",
      "\n",
      "\n",
      "<class 'pandas.core.frame.DataFrame'>\n",
      "RangeIndex: 115064 entries, 0 to 115063\n",
      "Data columns (total 2 columns):\n",
      " #   Column        Non-Null Count   Dtype \n",
      "---  ------        --------------   ----- \n",
      " 0   Id            115064 non-null  object\n",
      " 1   Weekly_Sales  115064 non-null  int64 \n",
      "dtypes: int64(1), object(1)\n",
      "memory usage: 1.8+ MB\n",
      "\n",
      "\n",
      "\n",
      "<class 'pandas.core.frame.DataFrame'>\n",
      "RangeIndex: 8190 entries, 0 to 8189\n",
      "Data columns (total 12 columns):\n",
      " #   Column        Non-Null Count  Dtype  \n",
      "---  ------        --------------  -----  \n",
      " 0   Store         8190 non-null   int64  \n",
      " 1   Date          8190 non-null   object \n",
      " 2   Temperature   8190 non-null   float64\n",
      " 3   Fuel_Price    8190 non-null   float64\n",
      " 4   MarkDown1     4032 non-null   float64\n",
      " 5   MarkDown2     2921 non-null   float64\n",
      " 6   MarkDown3     3613 non-null   float64\n",
      " 7   MarkDown4     3464 non-null   float64\n",
      " 8   MarkDown5     4050 non-null   float64\n",
      " 9   CPI           7605 non-null   float64\n",
      " 10  Unemployment  7605 non-null   float64\n",
      " 11  IsHoliday     8190 non-null   bool   \n",
      "dtypes: bool(1), float64(9), int64(1), object(1)\n",
      "memory usage: 712.0+ KB\n",
      "\n",
      "\n",
      "\n",
      "<class 'pandas.core.frame.DataFrame'>\n",
      "RangeIndex: 45 entries, 0 to 44\n",
      "Data columns (total 3 columns):\n",
      " #   Column  Non-Null Count  Dtype \n",
      "---  ------  --------------  ----- \n",
      " 0   Store   45 non-null     int64 \n",
      " 1   Type    45 non-null     object\n",
      " 2   Size    45 non-null     int64 \n",
      "dtypes: int64(2), object(1)\n",
      "memory usage: 1.2+ KB\n"
     ]
    }
   ],
   "source": [
    "try:\n",
    "    df_train.info()\n",
    "    print(\"\\n\\n\")\n",
    "    df_test.info()\n",
    "    print(\"\\n\\n\")\n",
    "    sample_df.info()\n",
    "    print(\"\\n\\n\")\n",
    "    feature_df.info()\n",
    "    print(\"\\n\\n\")\n",
    "    store_df.info()\n",
    "except:\n",
    "    print(\"error downloading file\")"
   ]
  },
  {
   "cell_type": "markdown",
   "id": "9ebc5d4d",
   "metadata": {},
   "source": [
    "## 데이터 전처리"
   ]
  },
  {
   "cell_type": "markdown",
   "id": "798f57d9",
   "metadata": {},
   "source": [
    "### 결측치 확인"
   ]
  },
  {
   "cell_type": "code",
   "execution_count": 220,
   "id": "8f67bc8f",
   "metadata": {},
   "outputs": [
    {
     "data": {
      "text/plain": [
       "<AxesSubplot:>"
      ]
     },
     "execution_count": 220,
     "metadata": {},
     "output_type": "execute_result"
    },
    {
     "data": {
      "image/png": "[encoded data removed]",
      "text/plain": [
       "<Figure size 1800x720 with 2 Axes>"
      ]
     },
     "metadata": {
      "needs_background": "light"
     },
     "output_type": "display_data"
    }
   ],
   "source": [
    "import missingno as msno\n",
    "msno.matrix(feature_df)"
   ]
  },
  {
   "cell_type": "markdown",
   "id": "f52e0c49",
   "metadata": {},
   "source": [
    "### feature_df 특징별 결측률"
   ]
  },
  {
   "cell_type": "code",
   "execution_count": 221,
   "id": "31a5cbc7",
   "metadata": {},
   "outputs": [
    {
     "data": {
      "text/html": [
       "<div>\n",
       "<style scoped>\n",
       "    .dataframe tbody tr th:only-of-type {\n",
       "        vertical-align: middle;\n",
       "    }\n",
       "\n",
       "    .dataframe tbody tr th {\n",
       "        vertical-align: top;\n",
       "    }\n",
       "\n",
       "    .dataframe thead th {\n",
       "        text-align: right;\n",
       "    }\n",
       "</style>\n",
       "<table border=\"1\" class=\"dataframe\">\n",
       "  <thead>\n",
       "    <tr style=\"text-align: right;\">\n",
       "      <th></th>\n",
       "      <th>Missing Ratio</th>\n",
       "    </tr>\n",
       "  </thead>\n",
       "  <tbody>\n",
       "    <tr>\n",
       "      <th>MarkDown2</th>\n",
       "      <td>64.334554</td>\n",
       "    </tr>\n",
       "    <tr>\n",
       "      <th>MarkDown4</th>\n",
       "      <td>57.704518</td>\n",
       "    </tr>\n",
       "    <tr>\n",
       "      <th>MarkDown3</th>\n",
       "      <td>55.885226</td>\n",
       "    </tr>\n",
       "    <tr>\n",
       "      <th>MarkDown1</th>\n",
       "      <td>50.769231</td>\n",
       "    </tr>\n",
       "    <tr>\n",
       "      <th>MarkDown5</th>\n",
       "      <td>50.549451</td>\n",
       "    </tr>\n",
       "    <tr>\n",
       "      <th>CPI</th>\n",
       "      <td>7.142857</td>\n",
       "    </tr>\n",
       "    <tr>\n",
       "      <th>Unemployment</th>\n",
       "      <td>7.142857</td>\n",
       "    </tr>\n",
       "  </tbody>\n",
       "</table>\n",
       "</div>"
      ],
      "text/plain": [
       "              Missing Ratio\n",
       "MarkDown2         64.334554\n",
       "MarkDown4         57.704518\n",
       "MarkDown3         55.885226\n",
       "MarkDown1         50.769231\n",
       "MarkDown5         50.549451\n",
       "CPI                7.142857\n",
       "Unemployment       7.142857"
      ]
     },
     "execution_count": 221,
     "metadata": {},
     "output_type": "execute_result"
    }
   ],
   "source": [
    "all_data_na = (feature_df.isnull().sum() / len(feature_df)) * 100\n",
    "all_data_na = all_data_na.drop(all_data_na[all_data_na == 0].index).sort_values(ascending=False)[:30]\n",
    "\n",
    "missing_data = pd.DataFrame({\"Missing Ratio\" : all_data_na})\n",
    "missing_data.head(20)"
   ]
  },
  {
   "cell_type": "markdown",
   "id": "28838adf",
   "metadata": {},
   "source": [
    "Markdown은 결측률이 너무 높으니 제거하자"
   ]
  },
  {
   "cell_type": "code",
   "execution_count": 94,
   "id": "c4677fe9",
   "metadata": {},
   "outputs": [],
   "source": [
    "feature_df = feature_df.drop(\"MarkDown1\",axis=1)\n",
    "feature_df = feature_df.drop(\"MarkDown2\",axis=1)\n",
    "feature_df = feature_df.drop(\"MarkDown3\",axis=1)\n",
    "feature_df = feature_df.drop(\"MarkDown4\",axis=1)\n",
    "feature_df = feature_df.drop(\"MarkDown5\",axis=1)"
   ]
  },
  {
   "cell_type": "markdown",
   "id": "4ba9fab1",
   "metadata": {},
   "source": [
    "### CPI, Unemployment 처리"
   ]
  },
  {
   "cell_type": "markdown",
   "id": "1014d14b",
   "metadata": {},
   "source": [
    "CPI는 시간에 따라서 증가, Unemployment는 시간에 따라서 감소한다\n",
    "따라서 가장 최신 값으로 대체한다 (결측값은 최신시점임)"
   ]
  },
  {
   "cell_type": "code",
   "execution_count": 230,
   "id": "9abab5fd",
   "metadata": {},
   "outputs": [],
   "source": [
    "recent_CPI = feature_df[~feature_df['CPI'].isna()]['CPI'].tolist()[-1] #가장 최근값\n",
    "recent_Unemployment = feature_df[~feature_df['Unemployment'].isna()]['Unemployment'].tolist()[-1] #가장 최근값"
   ]
  },
  {
   "cell_type": "code",
   "execution_count": 96,
   "id": "ec70268a",
   "metadata": {},
   "outputs": [],
   "source": [
    "feature_df.loc[feature_df['CPI'].isna(), 'CPI'] = recent_CPI\n",
    "feature_df.loc[feature_df['Unemployment'].isna(), 'Unemployment'] = recent_Unemployment"
   ]
  },
  {
   "cell_type": "code",
   "execution_count": 97,
   "id": "9448dc82",
   "metadata": {},
   "outputs": [],
   "source": [
    "dataset = df_train.merge(store_df, how='left').merge(feature_df, how='left')"
   ]
  },
  {
   "cell_type": "code",
   "execution_count": 98,
   "id": "ebf92926",
   "metadata": {},
   "outputs": [],
   "source": [
    "dataset_test = df_test.merge(store_df, how='left').merge(feature_df, how='left')"
   ]
  },
  {
   "cell_type": "code",
   "execution_count": 99,
   "id": "e7e5e9a7",
   "metadata": {},
   "outputs": [
    {
     "data": {
      "text/html": [
       "<div>\n",
       "<style scoped>\n",
       "    .dataframe tbody tr th:only-of-type {\n",
       "        vertical-align: middle;\n",
       "    }\n",
       "\n",
       "    .dataframe tbody tr th {\n",
       "        vertical-align: top;\n",
       "    }\n",
       "\n",
       "    .dataframe thead th {\n",
       "        text-align: right;\n",
       "    }\n",
       "</style>\n",
       "<table border=\"1\" class=\"dataframe\">\n",
       "  <thead>\n",
       "    <tr style=\"text-align: right;\">\n",
       "      <th></th>\n",
       "      <th>Store</th>\n",
       "      <th>Dept</th>\n",
       "      <th>Date</th>\n",
       "      <th>Weekly_Sales</th>\n",
       "      <th>IsHoliday</th>\n",
       "      <th>Type</th>\n",
       "      <th>Size</th>\n",
       "      <th>Temperature</th>\n",
       "      <th>Fuel_Price</th>\n",
       "      <th>CPI</th>\n",
       "      <th>Unemployment</th>\n",
       "    </tr>\n",
       "  </thead>\n",
       "  <tbody>\n",
       "    <tr>\n",
       "      <th>0</th>\n",
       "      <td>1</td>\n",
       "      <td>1</td>\n",
       "      <td>2010-02-05</td>\n",
       "      <td>24924.50</td>\n",
       "      <td>False</td>\n",
       "      <td>A</td>\n",
       "      <td>151315</td>\n",
       "      <td>42.31</td>\n",
       "      <td>2.572</td>\n",
       "      <td>211.096358</td>\n",
       "      <td>8.106</td>\n",
       "    </tr>\n",
       "    <tr>\n",
       "      <th>1</th>\n",
       "      <td>1</td>\n",
       "      <td>1</td>\n",
       "      <td>2010-02-12</td>\n",
       "      <td>46039.49</td>\n",
       "      <td>True</td>\n",
       "      <td>A</td>\n",
       "      <td>151315</td>\n",
       "      <td>38.51</td>\n",
       "      <td>2.548</td>\n",
       "      <td>211.242170</td>\n",
       "      <td>8.106</td>\n",
       "    </tr>\n",
       "    <tr>\n",
       "      <th>2</th>\n",
       "      <td>1</td>\n",
       "      <td>1</td>\n",
       "      <td>2010-02-19</td>\n",
       "      <td>41595.55</td>\n",
       "      <td>False</td>\n",
       "      <td>A</td>\n",
       "      <td>151315</td>\n",
       "      <td>39.93</td>\n",
       "      <td>2.514</td>\n",
       "      <td>211.289143</td>\n",
       "      <td>8.106</td>\n",
       "    </tr>\n",
       "    <tr>\n",
       "      <th>3</th>\n",
       "      <td>1</td>\n",
       "      <td>1</td>\n",
       "      <td>2010-02-26</td>\n",
       "      <td>19403.54</td>\n",
       "      <td>False</td>\n",
       "      <td>A</td>\n",
       "      <td>151315</td>\n",
       "      <td>46.63</td>\n",
       "      <td>2.561</td>\n",
       "      <td>211.319643</td>\n",
       "      <td>8.106</td>\n",
       "    </tr>\n",
       "    <tr>\n",
       "      <th>4</th>\n",
       "      <td>1</td>\n",
       "      <td>1</td>\n",
       "      <td>2010-03-05</td>\n",
       "      <td>21827.90</td>\n",
       "      <td>False</td>\n",
       "      <td>A</td>\n",
       "      <td>151315</td>\n",
       "      <td>46.50</td>\n",
       "      <td>2.625</td>\n",
       "      <td>211.350143</td>\n",
       "      <td>8.106</td>\n",
       "    </tr>\n",
       "    <tr>\n",
       "      <th>...</th>\n",
       "      <td>...</td>\n",
       "      <td>...</td>\n",
       "      <td>...</td>\n",
       "      <td>...</td>\n",
       "      <td>...</td>\n",
       "      <td>...</td>\n",
       "      <td>...</td>\n",
       "      <td>...</td>\n",
       "      <td>...</td>\n",
       "      <td>...</td>\n",
       "      <td>...</td>\n",
       "    </tr>\n",
       "    <tr>\n",
       "      <th>421565</th>\n",
       "      <td>45</td>\n",
       "      <td>98</td>\n",
       "      <td>2012-09-28</td>\n",
       "      <td>508.37</td>\n",
       "      <td>False</td>\n",
       "      <td>B</td>\n",
       "      <td>118221</td>\n",
       "      <td>64.88</td>\n",
       "      <td>3.997</td>\n",
       "      <td>192.013558</td>\n",
       "      <td>8.684</td>\n",
       "    </tr>\n",
       "    <tr>\n",
       "      <th>421566</th>\n",
       "      <td>45</td>\n",
       "      <td>98</td>\n",
       "      <td>2012-10-05</td>\n",
       "      <td>628.10</td>\n",
       "      <td>False</td>\n",
       "      <td>B</td>\n",
       "      <td>118221</td>\n",
       "      <td>64.89</td>\n",
       "      <td>3.985</td>\n",
       "      <td>192.170412</td>\n",
       "      <td>8.667</td>\n",
       "    </tr>\n",
       "    <tr>\n",
       "      <th>421567</th>\n",
       "      <td>45</td>\n",
       "      <td>98</td>\n",
       "      <td>2012-10-12</td>\n",
       "      <td>1061.02</td>\n",
       "      <td>False</td>\n",
       "      <td>B</td>\n",
       "      <td>118221</td>\n",
       "      <td>54.47</td>\n",
       "      <td>4.000</td>\n",
       "      <td>192.327265</td>\n",
       "      <td>8.667</td>\n",
       "    </tr>\n",
       "    <tr>\n",
       "      <th>421568</th>\n",
       "      <td>45</td>\n",
       "      <td>98</td>\n",
       "      <td>2012-10-19</td>\n",
       "      <td>760.01</td>\n",
       "      <td>False</td>\n",
       "      <td>B</td>\n",
       "      <td>118221</td>\n",
       "      <td>56.47</td>\n",
       "      <td>3.969</td>\n",
       "      <td>192.330854</td>\n",
       "      <td>8.667</td>\n",
       "    </tr>\n",
       "    <tr>\n",
       "      <th>421569</th>\n",
       "      <td>45</td>\n",
       "      <td>98</td>\n",
       "      <td>2012-10-26</td>\n",
       "      <td>1076.80</td>\n",
       "      <td>False</td>\n",
       "      <td>B</td>\n",
       "      <td>118221</td>\n",
       "      <td>58.85</td>\n",
       "      <td>3.882</td>\n",
       "      <td>192.308899</td>\n",
       "      <td>8.667</td>\n",
       "    </tr>\n",
       "  </tbody>\n",
       "</table>\n",
       "<p>421570 rows × 11 columns</p>\n",
       "</div>"
      ],
      "text/plain": [
       "        Store  Dept        Date  Weekly_Sales  IsHoliday Type    Size  \\\n",
       "0           1     1  2010-02-05      24924.50      False    A  151315   \n",
       "1           1     1  2010-02-12      46039.49       True    A  151315   \n",
       "2           1     1  2010-02-19      41595.55      False    A  151315   \n",
       "3           1     1  2010-02-26      19403.54      False    A  151315   \n",
       "4           1     1  2010-03-05      21827.90      False    A  151315   \n",
       "...       ...   ...         ...           ...        ...  ...     ...   \n",
       "421565     45    98  2012-09-28        508.37      False    B  118221   \n",
       "421566     45    98  2012-10-05        628.10      False    B  118221   \n",
       "421567     45    98  2012-10-12       1061.02      False    B  118221   \n",
       "421568     45    98  2012-10-19        760.01      False    B  118221   \n",
       "421569     45    98  2012-10-26       1076.80      False    B  118221   \n",
       "\n",
       "        Temperature  Fuel_Price         CPI  Unemployment  \n",
       "0             42.31       2.572  211.096358         8.106  \n",
       "1             38.51       2.548  211.242170         8.106  \n",
       "2             39.93       2.514  211.289143         8.106  \n",
       "3             46.63       2.561  211.319643         8.106  \n",
       "4             46.50       2.625  211.350143         8.106  \n",
       "...             ...         ...         ...           ...  \n",
       "421565        64.88       3.997  192.013558         8.684  \n",
       "421566        64.89       3.985  192.170412         8.667  \n",
       "421567        54.47       4.000  192.327265         8.667  \n",
       "421568        56.47       3.969  192.330854         8.667  \n",
       "421569        58.85       3.882  192.308899         8.667  \n",
       "\n",
       "[421570 rows x 11 columns]"
      ]
     },
     "execution_count": 99,
     "metadata": {},
     "output_type": "execute_result"
    }
   ],
   "source": [
    "dataset"
   ]
  },
  {
   "cell_type": "code",
   "execution_count": 100,
   "id": "1e1f37b6",
   "metadata": {},
   "outputs": [],
   "source": [
    "#날짜를 년/월/일로 구분\n",
    "dataset['Date'] = pd.to_datetime(dataset['Date'])\n",
    "dataset['Year'] = pd.to_datetime(dataset['Date']).dt.year\n",
    "dataset['Month'] = pd.to_datetime(dataset['Date']).dt.month\n",
    "dataset['Day'] = pd.to_datetime(dataset['Date']).dt.day\n",
    "\n",
    "dataset_test['Date'] = pd.to_datetime(dataset_test['Date'])\n",
    "dataset_test['Year'] = pd.to_datetime(dataset_test['Date']).dt.year\n",
    "dataset_test['Month'] = pd.to_datetime(dataset_test['Date']).dt.month\n",
    "dataset_test['Day'] = pd.to_datetime(dataset_test['Date']).dt.day\n",
    "\n",
    "\n",
    "#문자를 숫자로 인덱싱\n",
    "dataset.replace({'A': 1, 'B': 2,'C':3},inplace=True)\n",
    "dataset_test.replace({'A': 1, 'B': 2,'C':3},inplace=True)"
   ]
  },
  {
   "cell_type": "code",
   "execution_count": 101,
   "id": "0243a495",
   "metadata": {},
   "outputs": [
    {
     "data": {
      "text/html": [
       "<div>\n",
       "<style scoped>\n",
       "    .dataframe tbody tr th:only-of-type {\n",
       "        vertical-align: middle;\n",
       "    }\n",
       "\n",
       "    .dataframe tbody tr th {\n",
       "        vertical-align: top;\n",
       "    }\n",
       "\n",
       "    .dataframe thead th {\n",
       "        text-align: right;\n",
       "    }\n",
       "</style>\n",
       "<table border=\"1\" class=\"dataframe\">\n",
       "  <thead>\n",
       "    <tr style=\"text-align: right;\">\n",
       "      <th></th>\n",
       "      <th>Store</th>\n",
       "      <th>Dept</th>\n",
       "      <th>Date</th>\n",
       "      <th>Weekly_Sales</th>\n",
       "      <th>IsHoliday</th>\n",
       "      <th>Type</th>\n",
       "      <th>Size</th>\n",
       "      <th>Temperature</th>\n",
       "      <th>Fuel_Price</th>\n",
       "      <th>CPI</th>\n",
       "      <th>Unemployment</th>\n",
       "      <th>Year</th>\n",
       "      <th>Month</th>\n",
       "      <th>Day</th>\n",
       "    </tr>\n",
       "  </thead>\n",
       "  <tbody>\n",
       "    <tr>\n",
       "      <th>0</th>\n",
       "      <td>1</td>\n",
       "      <td>1</td>\n",
       "      <td>2010-02-05</td>\n",
       "      <td>24924.50</td>\n",
       "      <td>False</td>\n",
       "      <td>1</td>\n",
       "      <td>151315</td>\n",
       "      <td>42.31</td>\n",
       "      <td>2.572</td>\n",
       "      <td>211.096358</td>\n",
       "      <td>8.106</td>\n",
       "      <td>2010</td>\n",
       "      <td>2</td>\n",
       "      <td>5</td>\n",
       "    </tr>\n",
       "    <tr>\n",
       "      <th>1</th>\n",
       "      <td>1</td>\n",
       "      <td>1</td>\n",
       "      <td>2010-02-12</td>\n",
       "      <td>46039.49</td>\n",
       "      <td>True</td>\n",
       "      <td>1</td>\n",
       "      <td>151315</td>\n",
       "      <td>38.51</td>\n",
       "      <td>2.548</td>\n",
       "      <td>211.242170</td>\n",
       "      <td>8.106</td>\n",
       "      <td>2010</td>\n",
       "      <td>2</td>\n",
       "      <td>12</td>\n",
       "    </tr>\n",
       "    <tr>\n",
       "      <th>2</th>\n",
       "      <td>1</td>\n",
       "      <td>1</td>\n",
       "      <td>2010-02-19</td>\n",
       "      <td>41595.55</td>\n",
       "      <td>False</td>\n",
       "      <td>1</td>\n",
       "      <td>151315</td>\n",
       "      <td>39.93</td>\n",
       "      <td>2.514</td>\n",
       "      <td>211.289143</td>\n",
       "      <td>8.106</td>\n",
       "      <td>2010</td>\n",
       "      <td>2</td>\n",
       "      <td>19</td>\n",
       "    </tr>\n",
       "    <tr>\n",
       "      <th>3</th>\n",
       "      <td>1</td>\n",
       "      <td>1</td>\n",
       "      <td>2010-02-26</td>\n",
       "      <td>19403.54</td>\n",
       "      <td>False</td>\n",
       "      <td>1</td>\n",
       "      <td>151315</td>\n",
       "      <td>46.63</td>\n",
       "      <td>2.561</td>\n",
       "      <td>211.319643</td>\n",
       "      <td>8.106</td>\n",
       "      <td>2010</td>\n",
       "      <td>2</td>\n",
       "      <td>26</td>\n",
       "    </tr>\n",
       "    <tr>\n",
       "      <th>4</th>\n",
       "      <td>1</td>\n",
       "      <td>1</td>\n",
       "      <td>2010-03-05</td>\n",
       "      <td>21827.90</td>\n",
       "      <td>False</td>\n",
       "      <td>1</td>\n",
       "      <td>151315</td>\n",
       "      <td>46.50</td>\n",
       "      <td>2.625</td>\n",
       "      <td>211.350143</td>\n",
       "      <td>8.106</td>\n",
       "      <td>2010</td>\n",
       "      <td>3</td>\n",
       "      <td>5</td>\n",
       "    </tr>\n",
       "    <tr>\n",
       "      <th>...</th>\n",
       "      <td>...</td>\n",
       "      <td>...</td>\n",
       "      <td>...</td>\n",
       "      <td>...</td>\n",
       "      <td>...</td>\n",
       "      <td>...</td>\n",
       "      <td>...</td>\n",
       "      <td>...</td>\n",
       "      <td>...</td>\n",
       "      <td>...</td>\n",
       "      <td>...</td>\n",
       "      <td>...</td>\n",
       "      <td>...</td>\n",
       "      <td>...</td>\n",
       "    </tr>\n",
       "    <tr>\n",
       "      <th>421565</th>\n",
       "      <td>45</td>\n",
       "      <td>98</td>\n",
       "      <td>2012-09-28</td>\n",
       "      <td>508.37</td>\n",
       "      <td>False</td>\n",
       "      <td>2</td>\n",
       "      <td>118221</td>\n",
       "      <td>64.88</td>\n",
       "      <td>3.997</td>\n",
       "      <td>192.013558</td>\n",
       "      <td>8.684</td>\n",
       "      <td>2012</td>\n",
       "      <td>9</td>\n",
       "      <td>28</td>\n",
       "    </tr>\n",
       "    <tr>\n",
       "      <th>421566</th>\n",
       "      <td>45</td>\n",
       "      <td>98</td>\n",
       "      <td>2012-10-05</td>\n",
       "      <td>628.10</td>\n",
       "      <td>False</td>\n",
       "      <td>2</td>\n",
       "      <td>118221</td>\n",
       "      <td>64.89</td>\n",
       "      <td>3.985</td>\n",
       "      <td>192.170412</td>\n",
       "      <td>8.667</td>\n",
       "      <td>2012</td>\n",
       "      <td>10</td>\n",
       "      <td>5</td>\n",
       "    </tr>\n",
       "    <tr>\n",
       "      <th>421567</th>\n",
       "      <td>45</td>\n",
       "      <td>98</td>\n",
       "      <td>2012-10-12</td>\n",
       "      <td>1061.02</td>\n",
       "      <td>False</td>\n",
       "      <td>2</td>\n",
       "      <td>118221</td>\n",
       "      <td>54.47</td>\n",
       "      <td>4.000</td>\n",
       "      <td>192.327265</td>\n",
       "      <td>8.667</td>\n",
       "      <td>2012</td>\n",
       "      <td>10</td>\n",
       "      <td>12</td>\n",
       "    </tr>\n",
       "    <tr>\n",
       "      <th>421568</th>\n",
       "      <td>45</td>\n",
       "      <td>98</td>\n",
       "      <td>2012-10-19</td>\n",
       "      <td>760.01</td>\n",
       "      <td>False</td>\n",
       "      <td>2</td>\n",
       "      <td>118221</td>\n",
       "      <td>56.47</td>\n",
       "      <td>3.969</td>\n",
       "      <td>192.330854</td>\n",
       "      <td>8.667</td>\n",
       "      <td>2012</td>\n",
       "      <td>10</td>\n",
       "      <td>19</td>\n",
       "    </tr>\n",
       "    <tr>\n",
       "      <th>421569</th>\n",
       "      <td>45</td>\n",
       "      <td>98</td>\n",
       "      <td>2012-10-26</td>\n",
       "      <td>1076.80</td>\n",
       "      <td>False</td>\n",
       "      <td>2</td>\n",
       "      <td>118221</td>\n",
       "      <td>58.85</td>\n",
       "      <td>3.882</td>\n",
       "      <td>192.308899</td>\n",
       "      <td>8.667</td>\n",
       "      <td>2012</td>\n",
       "      <td>10</td>\n",
       "      <td>26</td>\n",
       "    </tr>\n",
       "  </tbody>\n",
       "</table>\n",
       "<p>421570 rows × 14 columns</p>\n",
       "</div>"
      ],
      "text/plain": [
       "        Store  Dept       Date  Weekly_Sales  IsHoliday  Type    Size  \\\n",
       "0           1     1 2010-02-05      24924.50      False     1  151315   \n",
       "1           1     1 2010-02-12      46039.49       True     1  151315   \n",
       "2           1     1 2010-02-19      41595.55      False     1  151315   \n",
       "3           1     1 2010-02-26      19403.54      False     1  151315   \n",
       "4           1     1 2010-03-05      21827.90      False     1  151315   \n",
       "...       ...   ...        ...           ...        ...   ...     ...   \n",
       "421565     45    98 2012-09-28        508.37      False     2  118221   \n",
       "421566     45    98 2012-10-05        628.10      False     2  118221   \n",
       "421567     45    98 2012-10-12       1061.02      False     2  118221   \n",
       "421568     45    98 2012-10-19        760.01      False     2  118221   \n",
       "421569     45    98 2012-10-26       1076.80      False     2  118221   \n",
       "\n",
       "        Temperature  Fuel_Price         CPI  Unemployment  Year  Month  Day  \n",
       "0             42.31       2.572  211.096358         8.106  2010      2    5  \n",
       "1             38.51       2.548  211.242170         8.106  2010      2   12  \n",
       "2             39.93       2.514  211.289143         8.106  2010      2   19  \n",
       "3             46.63       2.561  211.319643         8.106  2010      2   26  \n",
       "4             46.50       2.625  211.350143         8.106  2010      3    5  \n",
       "...             ...         ...         ...           ...   ...    ...  ...  \n",
       "421565        64.88       3.997  192.013558         8.684  2012      9   28  \n",
       "421566        64.89       3.985  192.170412         8.667  2012     10    5  \n",
       "421567        54.47       4.000  192.327265         8.667  2012     10   12  \n",
       "421568        56.47       3.969  192.330854         8.667  2012     10   19  \n",
       "421569        58.85       3.882  192.308899         8.667  2012     10   26  \n",
       "\n",
       "[421570 rows x 14 columns]"
      ]
     },
     "execution_count": 101,
     "metadata": {},
     "output_type": "execute_result"
    }
   ],
   "source": [
    "dataset"
   ]
  },
  {
   "cell_type": "markdown",
   "id": "032d1b12",
   "metadata": {},
   "source": [
    "## 학습"
   ]
  },
  {
   "cell_type": "code",
   "execution_count": 103,
   "id": "c20ab2bf",
   "metadata": {},
   "outputs": [],
   "source": [
    "from sklearn import preprocessing\n",
    "from sklearn.metrics import mean_absolute_error, r2_score\n",
    "from sklearn.model_selection import train_test_split, cross_val_score, GridSearchCV\n",
    "\n",
    "from sklearn.tree import DecisionTreeRegressor\n",
    "from sklearn.ensemble import ExtraTreesRegressor, RandomForestRegressor"
   ]
  },
  {
   "cell_type": "code",
   "execution_count": 104,
   "id": "2550cc81",
   "metadata": {},
   "outputs": [],
   "source": [
    "drop_list = ['Weekly_Sales','Date','IsHoliday']\n",
    "X = dataset.drop(drop_list,axis=1)\n",
    "y = dataset['Weekly_Sales']\n",
    "X_train, X_test, y_train, y_test = train_test_split(X, y)"
   ]
  },
  {
   "cell_type": "code",
   "execution_count": 105,
   "id": "7bb2153a",
   "metadata": {},
   "outputs": [
    {
     "data": {
      "text/plain": [
       "Store             int64\n",
       "Dept              int64\n",
       "Type              int64\n",
       "Size              int64\n",
       "Temperature     float64\n",
       "Fuel_Price      float64\n",
       "CPI             float64\n",
       "Unemployment    float64\n",
       "Year              int64\n",
       "Month             int64\n",
       "Day               int64\n",
       "dtype: object"
      ]
     },
     "execution_count": 105,
     "metadata": {},
     "output_type": "execute_result"
    }
   ],
   "source": [
    "X.dtypes"
   ]
  },
  {
   "cell_type": "code",
   "execution_count": 187,
   "id": "14739346",
   "metadata": {},
   "outputs": [],
   "source": [
    "obj_like_cols = ['Type','Date']\n",
    "train = dataset.drop(obj_like_cols, axis = 1)\n",
    "test = dataset_test.drop(obj_like_cols, axis = 1)\n",
    "cat_cols = test.select_dtypes('category').columns\n",
    "train[cat_cols] = train[cat_cols].astype('int64')\n",
    "test[cat_cols] = test[cat_cols].astype('int64')\n",
    "train[train.select_dtypes('uint8').columns] = train[train.select_dtypes('uint8').columns].astype('int')\n",
    "test[test.select_dtypes('uint8').columns] = test[test.select_dtypes('uint8').columns].astype('int')\n",
    "cols_to_scale = train.select_dtypes(['int', 'float']).drop(['Weekly_Sales'], axis=1).columns\n",
    "scaler = preprocessing.StandardScaler().fit(train[cols_to_scale])\n",
    "train[cols_to_scale] = scaler.transform(train[cols_to_scale])"
   ]
  },
  {
   "cell_type": "code",
   "execution_count": 194,
   "id": "9dbfd50f",
   "metadata": {},
   "outputs": [],
   "source": [
    "obj_like_cols = ['Type','Date']\n",
    "train = dataset.drop(obj_like_cols, axis = 1)\n",
    "test = dataset_test.drop(obj_like_cols, axis = 1)"
   ]
  },
  {
   "cell_type": "code",
   "execution_count": 195,
   "id": "914a4379",
   "metadata": {},
   "outputs": [],
   "source": [
    "def WMAE(y, y_pred, isholiday):\n",
    "    W = np.ones(y_hat.shape)\n",
    "    W[isholiday == 1] = 5\n",
    "    metric = (1/np.sum(W))*np.sum(W*np.abs(y-y_hat))\n",
    "\n",
    "    return metric"
   ]
  },
  {
   "cell_type": "code",
   "execution_count": 199,
   "id": "6a27c7fd",
   "metadata": {},
   "outputs": [
    {
     "data": {
      "text/html": [
       "<div>\n",
       "<style scoped>\n",
       "    .dataframe tbody tr th:only-of-type {\n",
       "        vertical-align: middle;\n",
       "    }\n",
       "\n",
       "    .dataframe tbody tr th {\n",
       "        vertical-align: top;\n",
       "    }\n",
       "\n",
       "    .dataframe thead th {\n",
       "        text-align: right;\n",
       "    }\n",
       "</style>\n",
       "<table border=\"1\" class=\"dataframe\">\n",
       "  <thead>\n",
       "    <tr style=\"text-align: right;\">\n",
       "      <th></th>\n",
       "      <th>Store</th>\n",
       "      <th>Dept</th>\n",
       "      <th>IsHoliday</th>\n",
       "      <th>Size</th>\n",
       "      <th>Temperature</th>\n",
       "      <th>Fuel_Price</th>\n",
       "      <th>CPI</th>\n",
       "      <th>Unemployment</th>\n",
       "      <th>Year</th>\n",
       "      <th>Month</th>\n",
       "      <th>Day</th>\n",
       "    </tr>\n",
       "  </thead>\n",
       "  <tbody>\n",
       "    <tr>\n",
       "      <th>352966</th>\n",
       "      <td>37</td>\n",
       "      <td>93</td>\n",
       "      <td>False</td>\n",
       "      <td>39910</td>\n",
       "      <td>70.48</td>\n",
       "      <td>3.845</td>\n",
       "      <td>220.045486</td>\n",
       "      <td>7.244</td>\n",
       "      <td>2012</td>\n",
       "      <td>3</td>\n",
       "      <td>30</td>\n",
       "    </tr>\n",
       "    <tr>\n",
       "      <th>78879</th>\n",
       "      <td>9</td>\n",
       "      <td>2</td>\n",
       "      <td>False</td>\n",
       "      <td>125833</td>\n",
       "      <td>91.63</td>\n",
       "      <td>3.638</td>\n",
       "      <td>219.192985</td>\n",
       "      <td>6.404</td>\n",
       "      <td>2011</td>\n",
       "      <td>8</td>\n",
       "      <td>12</td>\n",
       "    </tr>\n",
       "    <tr>\n",
       "      <th>219024</th>\n",
       "      <td>23</td>\n",
       "      <td>17</td>\n",
       "      <td>False</td>\n",
       "      <td>114533</td>\n",
       "      <td>29.44</td>\n",
       "      <td>3.638</td>\n",
       "      <td>134.068258</td>\n",
       "      <td>4.781</td>\n",
       "      <td>2011</td>\n",
       "      <td>4</td>\n",
       "      <td>1</td>\n",
       "    </tr>\n",
       "    <tr>\n",
       "      <th>41923</th>\n",
       "      <td>5</td>\n",
       "      <td>16</td>\n",
       "      <td>False</td>\n",
       "      <td>34875</td>\n",
       "      <td>86.96</td>\n",
       "      <td>3.494</td>\n",
       "      <td>222.547299</td>\n",
       "      <td>5.603</td>\n",
       "      <td>2012</td>\n",
       "      <td>8</td>\n",
       "      <td>10</td>\n",
       "    </tr>\n",
       "    <tr>\n",
       "      <th>409386</th>\n",
       "      <td>44</td>\n",
       "      <td>72</td>\n",
       "      <td>False</td>\n",
       "      <td>39910</td>\n",
       "      <td>82.27</td>\n",
       "      <td>2.797</td>\n",
       "      <td>126.128355</td>\n",
       "      <td>7.804</td>\n",
       "      <td>2010</td>\n",
       "      <td>7</td>\n",
       "      <td>23</td>\n",
       "    </tr>\n",
       "    <tr>\n",
       "      <th>...</th>\n",
       "      <td>...</td>\n",
       "      <td>...</td>\n",
       "      <td>...</td>\n",
       "      <td>...</td>\n",
       "      <td>...</td>\n",
       "      <td>...</td>\n",
       "      <td>...</td>\n",
       "      <td>...</td>\n",
       "      <td>...</td>\n",
       "      <td>...</td>\n",
       "      <td>...</td>\n",
       "    </tr>\n",
       "    <tr>\n",
       "      <th>360880</th>\n",
       "      <td>38</td>\n",
       "      <td>97</td>\n",
       "      <td>False</td>\n",
       "      <td>39690</td>\n",
       "      <td>67.41</td>\n",
       "      <td>3.727</td>\n",
       "      <td>129.793677</td>\n",
       "      <td>12.890</td>\n",
       "      <td>2011</td>\n",
       "      <td>10</td>\n",
       "      <td>28</td>\n",
       "    </tr>\n",
       "    <tr>\n",
       "      <th>13747</th>\n",
       "      <td>2</td>\n",
       "      <td>26</td>\n",
       "      <td>False</td>\n",
       "      <td>202307</td>\n",
       "      <td>45.99</td>\n",
       "      <td>3.261</td>\n",
       "      <td>219.532820</td>\n",
       "      <td>7.057</td>\n",
       "      <td>2012</td>\n",
       "      <td>1</td>\n",
       "      <td>13</td>\n",
       "    </tr>\n",
       "    <tr>\n",
       "      <th>250263</th>\n",
       "      <td>26</td>\n",
       "      <td>25</td>\n",
       "      <td>False</td>\n",
       "      <td>152513</td>\n",
       "      <td>22.53</td>\n",
       "      <td>3.413</td>\n",
       "      <td>136.588387</td>\n",
       "      <td>7.598</td>\n",
       "      <td>2011</td>\n",
       "      <td>12</td>\n",
       "      <td>23</td>\n",
       "    </tr>\n",
       "    <tr>\n",
       "      <th>249214</th>\n",
       "      <td>26</td>\n",
       "      <td>18</td>\n",
       "      <td>False</td>\n",
       "      <td>152513</td>\n",
       "      <td>52.47</td>\n",
       "      <td>2.718</td>\n",
       "      <td>132.761933</td>\n",
       "      <td>8.445</td>\n",
       "      <td>2010</td>\n",
       "      <td>9</td>\n",
       "      <td>24</td>\n",
       "    </tr>\n",
       "    <tr>\n",
       "      <th>244847</th>\n",
       "      <td>25</td>\n",
       "      <td>79</td>\n",
       "      <td>False</td>\n",
       "      <td>128107</td>\n",
       "      <td>28.50</td>\n",
       "      <td>3.638</td>\n",
       "      <td>207.882304</td>\n",
       "      <td>7.287</td>\n",
       "      <td>2011</td>\n",
       "      <td>4</td>\n",
       "      <td>1</td>\n",
       "    </tr>\n",
       "  </tbody>\n",
       "</table>\n",
       "<p>316177 rows × 11 columns</p>\n",
       "</div>"
      ],
      "text/plain": [
       "        Store  Dept  IsHoliday    Size  Temperature  Fuel_Price         CPI  \\\n",
       "352966     37    93      False   39910        70.48       3.845  220.045486   \n",
       "78879       9     2      False  125833        91.63       3.638  219.192985   \n",
       "219024     23    17      False  114533        29.44       3.638  134.068258   \n",
       "41923       5    16      False   34875        86.96       3.494  222.547299   \n",
       "409386     44    72      False   39910        82.27       2.797  126.128355   \n",
       "...       ...   ...        ...     ...          ...         ...         ...   \n",
       "360880     38    97      False   39690        67.41       3.727  129.793677   \n",
       "13747       2    26      False  202307        45.99       3.261  219.532820   \n",
       "250263     26    25      False  152513        22.53       3.413  136.588387   \n",
       "249214     26    18      False  152513        52.47       2.718  132.761933   \n",
       "244847     25    79      False  128107        28.50       3.638  207.882304   \n",
       "\n",
       "        Unemployment  Year  Month  Day  \n",
       "352966         7.244  2012      3   30  \n",
       "78879          6.404  2011      8   12  \n",
       "219024         4.781  2011      4    1  \n",
       "41923          5.603  2012      8   10  \n",
       "409386         7.804  2010      7   23  \n",
       "...              ...   ...    ...  ...  \n",
       "360880        12.890  2011     10   28  \n",
       "13747          7.057  2012      1   13  \n",
       "250263         7.598  2011     12   23  \n",
       "249214         8.445  2010      9   24  \n",
       "244847         7.287  2011      4    1  \n",
       "\n",
       "[316177 rows x 11 columns]"
      ]
     },
     "execution_count": 199,
     "metadata": {},
     "output_type": "execute_result"
    }
   ],
   "source": [
    "drop_list = ['Weekly_Sales']\n",
    "X = train.drop(drop_list,axis=1)\n",
    "y = train[\"Weekly_Sales\"]\n",
    "X_train, X_test, y_train, y_test = train_test_split(X, y)\n",
    "\n",
    "X_train"
   ]
  },
  {
   "cell_type": "code",
   "execution_count": 200,
   "id": "cc3ff143",
   "metadata": {},
   "outputs": [
    {
     "name": "stdout",
     "output_type": "stream",
     "text": [
      "DecisionTreeRegressor:\n",
      "WMAE = 15958.31190025486 and R-square = 0.9571873340915257 and MAE = 1827.785466017667\n",
      "RandomForestRegressor:\n",
      "WMAE = 16005.049592383746 and R-square = 0.9766889519759514 and MAE = 1388.0514068192385\n"
     ]
    }
   ],
   "source": [
    "models = {\n",
    "    'DecisionTreeRegressor': DecisionTreeRegressor(random_state=1),\n",
    "    #'extraTreesRegressor': ExtraTreesRegressor(n_estimators=100, max_features='auto', random_state=1),\n",
    "    #이 모델 쓰려다가 메모리 터져서 지움;;;;\n",
    "    'RandomForestRegressor': RandomForestRegressor(n_estimators=100, random_state=1)\n",
    "}\n",
    "yhats = {}\n",
    "res = {}\n",
    "for model_name, model in models.items():\n",
    "    model.fit(X_train, y_train)\n",
    "    y_hat = model.predict(X_test)\n",
    "    yhats[model_name] = y_hat\n",
    "    wmae = WMAE(X_test.IsHoliday, y_test, y_hat)\n",
    "    mae = mean_absolute_error(y_test, y_hat)\n",
    "    r2 = r2_score(y_test, y_hat)\n",
    "    res[model_name] = (model, wmae, r2)\n",
    "    print(f'{model_name}:')\n",
    "    print(f'WMAE = {wmae} and R-square = {r2} and MAE = {mae}')"
   ]
  },
  {
   "cell_type": "code",
   "execution_count": 202,
   "id": "c1eb0787",
   "metadata": {},
   "outputs": [],
   "source": [
    "def wmae2(dataset, real, predicted):\n",
    "    weights = dataset.IsHoliday.apply(lambda x: 5 if x else 1)\n",
    "    return np.round(np.sum(weights*abs(real-predicted))/(np.sum(weights)), 2)"
   ]
  },
  {
   "cell_type": "code",
   "execution_count": 204,
   "id": "2ce702fe",
   "metadata": {
    "scrolled": true
   },
   "outputs": [
    {
     "name": "stdout",
     "output_type": "stream",
     "text": [
      "DecisionTreeRegressor:\n",
      "WMAE = 2054.33 and R-square = 0.9571873340915257 and MAE = 1827.785466017667\n",
      "RandomForestRegressor:\n",
      "WMAE = 1569.83 and R-square = 0.9766889519759514 and MAE = 1388.0514068192385\n"
     ]
    }
   ],
   "source": [
    "models = {\n",
    "    'DecisionTreeRegressor': DecisionTreeRegressor(random_state=1),\n",
    "    #'extraTreesRegressor': ExtraTreesRegressor(n_estimators=100, max_features='auto', random_state=1),\n",
    "    #이 모델 쓰려다가 메모리 터져서 지움;;;;\n",
    "    'RandomForestRegressor': RandomForestRegressor(n_estimators=100, random_state=1)\n",
    "}\n",
    "yhats = {}\n",
    "res = {}\n",
    "for model_name, model in models.items():\n",
    "    model.fit(X_train, y_train)\n",
    "    y_hat = model.predict(X_test)\n",
    "    yhats[model_name] = y_hat\n",
    "    wmae = wmae2(X_test, y_test, y_hat)\n",
    "    mae = mean_absolute_error(y_test, y_hat)\n",
    "    r2 = r2_score(y_test, y_hat)\n",
    "    res[model_name] = (model, wmae, r2)\n",
    "    print(f'{model_name}:')\n",
    "    print(f'WMAE = {wmae} and R-square = {r2} and MAE = {mae}')"
   ]
  },
  {
   "cell_type": "code",
   "execution_count": 208,
   "id": "c48acd2f",
   "metadata": {},
   "outputs": [
    {
     "data": {
      "text/plain": [
       "XGBRegressor(base_score=0.5, booster='gbtree', colsample_bylevel=1,\n",
       "             colsample_bynode=1, colsample_bytree=1, gamma=0, gpu_id=-1,\n",
       "             importance_type='gain', interaction_constraints='',\n",
       "             learning_rate=0.01, max_delta_step=0, max_depth=6,\n",
       "             min_child_weight=1, missing=nan, monotone_constraints='()',\n",
       "             n_estimators=500, n_jobs=12, num_parallel_tree=1, random_state=31,\n",
       "             reg_alpha=0, reg_lambda=1, scale_pos_weight=1, subsample=1,\n",
       "             tree_method='exact', validate_parameters=1, verbosity=None)"
      ]
     },
     "execution_count": 208,
     "metadata": {},
     "output_type": "execute_result"
    }
   ],
   "source": [
    "from xgboost.sklearn import XGBRegressor\n",
    "xgb = XGBRegressor(learning_rate=0.01, n_estimators=500, \\\n",
    "                       objective='reg:squarederror', random_state = 31)\n",
    "\n",
    "xgb.fit(X_train, y_train)"
   ]
  },
  {
   "cell_type": "code",
   "execution_count": 214,
   "id": "5aec0a02",
   "metadata": {},
   "outputs": [],
   "source": [
    "def evaluation(model, train_x, train_y, val_x, val_y):\n",
    "    cv = cross_val_score(model, train_x, train_y, cv = 10)\n",
    "    y_pred = model.predict(val_x)\n",
    "    cv = np.mean(cv)\n",
    "    r2=r2_score(y_pred, val_y)\n",
    "    wmae = wmae2(val_x, val_y, y_pred)\n",
    "    \n",
    "    return cv, r2, wmae"
   ]
  },
  {
   "cell_type": "code",
   "execution_count": 215,
   "id": "30cea2ee",
   "metadata": {},
   "outputs": [],
   "source": [
    "result = evaluation(xgb, X_train, y_train, X_test, y_test)"
   ]
  },
  {
   "cell_type": "code",
   "execution_count": 216,
   "id": "0b2048b3",
   "metadata": {},
   "outputs": [
    {
     "data": {
      "text/plain": [
       "(0.8551440115168425, 0.7857110170077525, 5216.64)"
      ]
     },
     "execution_count": 216,
     "metadata": {},
     "output_type": "execute_result"
    }
   ],
   "source": [
    "result"
   ]
  },
  {
   "cell_type": "markdown",
   "id": "32bbc6aa",
   "metadata": {},
   "source": [
    "마지막이 WMAE!"
   ]
  },
  {
   "cell_type": "code",
   "execution_count": 201,
   "id": "ebd3bd96",
   "metadata": {},
   "outputs": [],
   "source": [
    "random_yhat = yhats['RandomForestRegressor']\n",
    "decision_yhat = yhats['DecisionTreeRegressor']"
   ]
  },
  {
   "cell_type": "code",
   "execution_count": 116,
   "id": "a8cbfa15",
   "metadata": {},
   "outputs": [
    {
     "data": {
      "text/html": [
       "<div>\n",
       "<style scoped>\n",
       "    .dataframe tbody tr th:only-of-type {\n",
       "        vertical-align: middle;\n",
       "    }\n",
       "\n",
       "    .dataframe tbody tr th {\n",
       "        vertical-align: top;\n",
       "    }\n",
       "\n",
       "    .dataframe thead th {\n",
       "        text-align: right;\n",
       "    }\n",
       "</style>\n",
       "<table border=\"1\" class=\"dataframe\">\n",
       "  <thead>\n",
       "    <tr style=\"text-align: right;\">\n",
       "      <th></th>\n",
       "      <th>actual</th>\n",
       "      <th>random_yhat</th>\n",
       "      <th>decision_yhat</th>\n",
       "    </tr>\n",
       "  </thead>\n",
       "  <tbody>\n",
       "    <tr>\n",
       "      <th>186824</th>\n",
       "      <td>84213.77</td>\n",
       "      <td>88785.3666</td>\n",
       "      <td>86260.83</td>\n",
       "    </tr>\n",
       "    <tr>\n",
       "      <th>184191</th>\n",
       "      <td>548.67</td>\n",
       "      <td>554.9950</td>\n",
       "      <td>426.34</td>\n",
       "    </tr>\n",
       "    <tr>\n",
       "      <th>183869</th>\n",
       "      <td>3582.12</td>\n",
       "      <td>2458.9271</td>\n",
       "      <td>2225.38</td>\n",
       "    </tr>\n",
       "    <tr>\n",
       "      <th>162617</th>\n",
       "      <td>51197.86</td>\n",
       "      <td>48836.5011</td>\n",
       "      <td>48510.15</td>\n",
       "    </tr>\n",
       "    <tr>\n",
       "      <th>313576</th>\n",
       "      <td>82427.21</td>\n",
       "      <td>87204.1776</td>\n",
       "      <td>79827.93</td>\n",
       "    </tr>\n",
       "    <tr>\n",
       "      <th>...</th>\n",
       "      <td>...</td>\n",
       "      <td>...</td>\n",
       "      <td>...</td>\n",
       "    </tr>\n",
       "    <tr>\n",
       "      <th>191050</th>\n",
       "      <td>616.35</td>\n",
       "      <td>550.3569</td>\n",
       "      <td>642.11</td>\n",
       "    </tr>\n",
       "    <tr>\n",
       "      <th>128973</th>\n",
       "      <td>34938.07</td>\n",
       "      <td>36851.4969</td>\n",
       "      <td>36740.96</td>\n",
       "    </tr>\n",
       "    <tr>\n",
       "      <th>212922</th>\n",
       "      <td>28839.21</td>\n",
       "      <td>25566.5637</td>\n",
       "      <td>25740.81</td>\n",
       "    </tr>\n",
       "    <tr>\n",
       "      <th>150372</th>\n",
       "      <td>22229.50</td>\n",
       "      <td>21432.6109</td>\n",
       "      <td>16164.04</td>\n",
       "    </tr>\n",
       "    <tr>\n",
       "      <th>27563</th>\n",
       "      <td>13400.35</td>\n",
       "      <td>13758.1618</td>\n",
       "      <td>15880.94</td>\n",
       "    </tr>\n",
       "  </tbody>\n",
       "</table>\n",
       "<p>105393 rows × 3 columns</p>\n",
       "</div>"
      ],
      "text/plain": [
       "          actual  random_yhat  decision_yhat\n",
       "186824  84213.77   88785.3666       86260.83\n",
       "184191    548.67     554.9950         426.34\n",
       "183869   3582.12    2458.9271        2225.38\n",
       "162617  51197.86   48836.5011       48510.15\n",
       "313576  82427.21   87204.1776       79827.93\n",
       "...          ...          ...            ...\n",
       "191050    616.35     550.3569         642.11\n",
       "128973  34938.07   36851.4969       36740.96\n",
       "212922  28839.21   25566.5637       25740.81\n",
       "150372  22229.50   21432.6109       16164.04\n",
       "27563   13400.35   13758.1618       15880.94\n",
       "\n",
       "[105393 rows x 3 columns]"
      ]
     },
     "execution_count": 116,
     "metadata": {},
     "output_type": "execute_result"
    }
   ],
   "source": [
    "testCheck = pd.DataFrame({'actual' : y_test, 'random_yhat':random_yhat, 'decision_yhat':decision_yhat})\n",
    "testCheck"
   ]
  },
  {
   "cell_type": "code",
   "execution_count": 142,
   "id": "c3150715",
   "metadata": {},
   "outputs": [
    {
     "name": "stdout",
     "output_type": "stream",
     "text": [
      "랜덤포레스트 모델 예측값 비교\n"
     ]
    },
    {
     "data": {
      "text/plain": [
       "[]"
      ]
     },
     "execution_count": 142,
     "metadata": {},
     "output_type": "execute_result"
    },
    {
     "data": {
      "image/png": "[encoded data removed]",
      "text/plain": [
       "<Figure size 432x288 with 1 Axes>"
      ]
     },
     "metadata": {
      "needs_background": "light"
     },
     "output_type": "display_data"
    }
   ],
   "source": [
    "print(\"랜덤포레스트 모델 예측값 비교\")\n",
    "scatter_plot=testCheck.plot.scatter(x='actual',y='random_yhat', c= 'deeppink')\n",
    "scatter_plot.plot()"
   ]
  },
  {
   "cell_type": "code",
   "execution_count": 143,
   "id": "7751eed5",
   "metadata": {},
   "outputs": [
    {
     "name": "stdout",
     "output_type": "stream",
     "text": [
      "결정트리 모델 예측값 비교\n"
     ]
    },
    {
     "data": {
      "text/plain": [
       "[]"
      ]
     },
     "execution_count": 143,
     "metadata": {},
     "output_type": "execute_result"
    },
    {
     "data": {
      "image/png": "[encoded data removed]",
      "text/plain": [
       "<Figure size 432x288 with 1 Axes>"
      ]
     },
     "metadata": {
      "needs_background": "light"
     },
     "output_type": "display_data"
    }
   ],
   "source": [
    "print(\"결정트리 모델 예측값 비교\")\n",
    "scatter_plot=testCheck.plot.scatter(x='actual', y='decision_yhat', c='skyblue')\n",
    "scatter_plot.plot()"
   ]
  },
  {
   "cell_type": "code",
   "execution_count": 140,
   "id": "bdb10349",
   "metadata": {},
   "outputs": [
    {
     "name": "stdout",
     "output_type": "stream",
     "text": [
      "=======랜덤포레스트=======\n",
      "오차가 100 비율 : 20.26%\n",
      "오차가 1000 비율 : 66.49%\n",
      "오차가 5000 비율 : 94.67%\n",
      "오차가 10000미만인 비율 : 98.40%\n"
     ]
    }
   ],
   "source": [
    "print(\"=======랜덤포레스트=======\")\n",
    "sub = abs(testCheck['actual']-testCheck['random_yhat'])\n",
    "print(\"오차가 100 비율 : {:.2f}%\".format(len([x for x in sub if x<100])/len(sub)*100))\n",
    "print(\"오차가 1000 비율 : {:.2f}%\".format(len([x for x in sub if x<1000])/len(sub)*100))\n",
    "print(\"오차가 5000 비율 : {:.2f}%\".format(len([x for x in sub if x<5000])/len(sub)*100))\n",
    "print(\"오차가 10000미만인 비율 : {:.2f}%\".format(len([x for x in sub if x<10000])/len(sub)*100))"
   ]
  },
  {
   "cell_type": "code",
   "execution_count": 141,
   "id": "1c564871",
   "metadata": {},
   "outputs": [
    {
     "name": "stdout",
     "output_type": "stream",
     "text": [
      "=======결정트리=======\n",
      "오차가 100 비율 : 17.71%\n",
      "오차가 1000 비율 : 60.53%\n",
      "오차가 5000 비율 : 91.94%\n",
      "오차가 10000미만인 비율 : 97.16%\n"
     ]
    }
   ],
   "source": [
    "print(\"=======결정트리=======\")\n",
    "sub = abs(testCheck['actual']-testCheck['decision_yhat'])\n",
    "print(\"오차가 100 비율 : {:.2f}%\".format(len([x for x in sub if x<100])/len(sub)*100))\n",
    "print(\"오차가 1000 비율 : {:.2f}%\".format(len([x for x in sub if x<1000])/len(sub)*100))\n",
    "print(\"오차가 5000 비율 : {:.2f}%\".format(len([x for x in sub if x<5000])/len(sub)*100))\n",
    "print(\"오차가 10000미만인 비율 : {:.2f}%\".format(len([x for x in sub if x<10000])/len(sub)*100))"
   ]
  },
  {
   "cell_type": "code",
   "execution_count": null,
   "id": "7c7e635b",
   "metadata": {},
   "outputs": [],
   "source": []
  }
 ],
 "metadata": {
  "kernelspec": {
   "display_name": "Python 3 (ipykernel)",
   "language": "python",
   "name": "python3"
  },
  "language_info": {
   "codemirror_mode": {
    "name": "ipython",
    "version": 3
   },
   "file_extension": ".py",
   "mimetype": "text/x-python",
   "name": "python",
   "nbconvert_exporter": "python",
   "pygments_lexer": "ipython3",
   "version": "3.7.10"
  }
 },
 "nbformat": 4,
 "nbformat_minor": 5
}
