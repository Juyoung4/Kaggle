{
 "cells": [
  {
   "cell_type": "markdown",
   "id": "2603c120-aa5e-46f3-b04c-c5aa8c3c557e",
   "metadata": {},
   "source": [
    "# 머신러닝 돌리기"
   ]
  },
  {
   "cell_type": "markdown",
   "id": "3d8ff100-5cc1-4726-b68b-20a6bc6e18b6",
   "metadata": {},
   "source": [
    "## 데이터 불러오기"
   ]
  },
  {
   "cell_type": "code",
   "execution_count": 1,
   "id": "580f17aa-c867-428a-a2d0-42928a08829a",
   "metadata": {},
   "outputs": [],
   "source": [
    "import re, json\n",
    "import pandas as pd\n",
    "import numpy as np\n",
    "import os\n",
    "\n",
    "import matplotlib.pyplot as plt\n",
    "import seaborn as sns\n",
    "%matplotlib inline"
   ]
  },
  {
   "cell_type": "code",
   "execution_count": 2,
   "id": "0dd15291-2108-43b9-ad5a-cb15e5f63650",
   "metadata": {},
   "outputs": [],
   "source": [
    "PATH = '/home/ai-sjjy/workspace/juyoung/HousePrices/dataset/'"
   ]
  },
  {
   "cell_type": "code",
   "execution_count": 3,
   "id": "fb3f10a8-a6d9-47b8-a31e-6fd4bb343593",
   "metadata": {},
   "outputs": [],
   "source": [
    "TRAIN = 'train.csv'\n",
    "TEST = 'test.csv'\n",
    "\n",
    "SAMPLE = 'sample_submission.csv'"
   ]
  },
  {
   "cell_type": "code",
   "execution_count": 4,
   "id": "72043847-a9f4-4fb3-91d1-ab6a1f9ddaf5",
   "metadata": {},
   "outputs": [],
   "source": [
    "TRAIN = pd.read_csv(PATH + TRAIN)\n",
    "TEST = pd.read_csv(PATH + TEST)"
   ]
  },
  {
   "cell_type": "markdown",
   "id": "b11bf16a-a073-4183-a49f-5fa1648f121d",
   "metadata": {},
   "source": [
    "## 데이터 전처리"
   ]
  },
  {
   "cell_type": "markdown",
   "id": "0a7a07f2-9635-4f47-9ef8-29e0a1fcc932",
   "metadata": {},
   "source": [
    "OverallQual      0.790982 <br>\n",
    "GrLivArea        0.708624 <br>\n",
    "GarageCars       0.640409 <br>\n",
    "GarageArea       0.623431 <br>\n",
    "TotalBsmtSF      0.613581 <br>\n",
    "\n",
    "이 속성 값만 가지고 진행 일단\n",
    "\n",
    "* 결측치는 drop 일단!"
   ]
  },
  {
   "cell_type": "code",
   "execution_count": 5,
   "id": "f821e8ca-fecb-4254-8368-500d72d5c1c9",
   "metadata": {},
   "outputs": [],
   "source": [
    "categorical_features = ['OverallQual', 'GrLivArea', 'GarageCars', 'GarageArea', 'TotalBsmtSF', 'ExterQual']"
   ]
  },
  {
   "cell_type": "code",
   "execution_count": 6,
   "id": "01b5eafa-6fe4-4937-a3d8-f70e601bf279",
   "metadata": {},
   "outputs": [],
   "source": [
    "train_df = TRAIN[categorical_features + ['SalePrice']]\n",
    "test_df = TEST[categorical_features+['Id']]"
   ]
  },
  {
   "cell_type": "code",
   "execution_count": 7,
   "id": "884f0cc7-d73b-4da7-b245-5ff59cb71aa3",
   "metadata": {},
   "outputs": [
    {
     "data": {
      "text/html": [
       "<div>\n",
       "<style scoped>\n",
       "    .dataframe tbody tr th:only-of-type {\n",
       "        vertical-align: middle;\n",
       "    }\n",
       "\n",
       "    .dataframe tbody tr th {\n",
       "        vertical-align: top;\n",
       "    }\n",
       "\n",
       "    .dataframe thead th {\n",
       "        text-align: right;\n",
       "    }\n",
       "</style>\n",
       "<table border=\"1\" class=\"dataframe\">\n",
       "  <thead>\n",
       "    <tr style=\"text-align: right;\">\n",
       "      <th></th>\n",
       "      <th>OverallQual</th>\n",
       "      <th>GrLivArea</th>\n",
       "      <th>GarageCars</th>\n",
       "      <th>GarageArea</th>\n",
       "      <th>TotalBsmtSF</th>\n",
       "      <th>ExterQual</th>\n",
       "      <th>SalePrice</th>\n",
       "    </tr>\n",
       "  </thead>\n",
       "  <tbody>\n",
       "    <tr>\n",
       "      <th>0</th>\n",
       "      <td>7</td>\n",
       "      <td>1710</td>\n",
       "      <td>2</td>\n",
       "      <td>548</td>\n",
       "      <td>856</td>\n",
       "      <td>Gd</td>\n",
       "      <td>208500</td>\n",
       "    </tr>\n",
       "    <tr>\n",
       "      <th>1</th>\n",
       "      <td>6</td>\n",
       "      <td>1262</td>\n",
       "      <td>2</td>\n",
       "      <td>460</td>\n",
       "      <td>1262</td>\n",
       "      <td>TA</td>\n",
       "      <td>181500</td>\n",
       "    </tr>\n",
       "    <tr>\n",
       "      <th>2</th>\n",
       "      <td>7</td>\n",
       "      <td>1786</td>\n",
       "      <td>2</td>\n",
       "      <td>608</td>\n",
       "      <td>920</td>\n",
       "      <td>Gd</td>\n",
       "      <td>223500</td>\n",
       "    </tr>\n",
       "    <tr>\n",
       "      <th>3</th>\n",
       "      <td>7</td>\n",
       "      <td>1717</td>\n",
       "      <td>3</td>\n",
       "      <td>642</td>\n",
       "      <td>756</td>\n",
       "      <td>TA</td>\n",
       "      <td>140000</td>\n",
       "    </tr>\n",
       "    <tr>\n",
       "      <th>4</th>\n",
       "      <td>8</td>\n",
       "      <td>2198</td>\n",
       "      <td>3</td>\n",
       "      <td>836</td>\n",
       "      <td>1145</td>\n",
       "      <td>Gd</td>\n",
       "      <td>250000</td>\n",
       "    </tr>\n",
       "  </tbody>\n",
       "</table>\n",
       "</div>"
      ],
      "text/plain": [
       "   OverallQual  GrLivArea  GarageCars  GarageArea  TotalBsmtSF ExterQual  \\\n",
       "0            7       1710           2         548          856        Gd   \n",
       "1            6       1262           2         460         1262        TA   \n",
       "2            7       1786           2         608          920        Gd   \n",
       "3            7       1717           3         642          756        TA   \n",
       "4            8       2198           3         836         1145        Gd   \n",
       "\n",
       "   SalePrice  \n",
       "0     208500  \n",
       "1     181500  \n",
       "2     223500  \n",
       "3     140000  \n",
       "4     250000  "
      ]
     },
     "execution_count": 7,
     "metadata": {},
     "output_type": "execute_result"
    }
   ],
   "source": [
    "train_df.head()"
   ]
  },
  {
   "cell_type": "code",
   "execution_count": 8,
   "id": "902ad0c5-b5c2-4ca0-9781-b2877c374c1c",
   "metadata": {},
   "outputs": [
    {
     "data": {
      "text/html": [
       "<div>\n",
       "<style scoped>\n",
       "    .dataframe tbody tr th:only-of-type {\n",
       "        vertical-align: middle;\n",
       "    }\n",
       "\n",
       "    .dataframe tbody tr th {\n",
       "        vertical-align: top;\n",
       "    }\n",
       "\n",
       "    .dataframe thead th {\n",
       "        text-align: right;\n",
       "    }\n",
       "</style>\n",
       "<table border=\"1\" class=\"dataframe\">\n",
       "  <thead>\n",
       "    <tr style=\"text-align: right;\">\n",
       "      <th></th>\n",
       "      <th>OverallQual</th>\n",
       "      <th>GrLivArea</th>\n",
       "      <th>GarageCars</th>\n",
       "      <th>GarageArea</th>\n",
       "      <th>TotalBsmtSF</th>\n",
       "      <th>ExterQual</th>\n",
       "      <th>Id</th>\n",
       "    </tr>\n",
       "  </thead>\n",
       "  <tbody>\n",
       "    <tr>\n",
       "      <th>0</th>\n",
       "      <td>5</td>\n",
       "      <td>896</td>\n",
       "      <td>1.0</td>\n",
       "      <td>730.0</td>\n",
       "      <td>882.0</td>\n",
       "      <td>TA</td>\n",
       "      <td>1461</td>\n",
       "    </tr>\n",
       "    <tr>\n",
       "      <th>1</th>\n",
       "      <td>6</td>\n",
       "      <td>1329</td>\n",
       "      <td>1.0</td>\n",
       "      <td>312.0</td>\n",
       "      <td>1329.0</td>\n",
       "      <td>TA</td>\n",
       "      <td>1462</td>\n",
       "    </tr>\n",
       "    <tr>\n",
       "      <th>2</th>\n",
       "      <td>5</td>\n",
       "      <td>1629</td>\n",
       "      <td>2.0</td>\n",
       "      <td>482.0</td>\n",
       "      <td>928.0</td>\n",
       "      <td>TA</td>\n",
       "      <td>1463</td>\n",
       "    </tr>\n",
       "    <tr>\n",
       "      <th>3</th>\n",
       "      <td>6</td>\n",
       "      <td>1604</td>\n",
       "      <td>2.0</td>\n",
       "      <td>470.0</td>\n",
       "      <td>926.0</td>\n",
       "      <td>TA</td>\n",
       "      <td>1464</td>\n",
       "    </tr>\n",
       "    <tr>\n",
       "      <th>4</th>\n",
       "      <td>8</td>\n",
       "      <td>1280</td>\n",
       "      <td>2.0</td>\n",
       "      <td>506.0</td>\n",
       "      <td>1280.0</td>\n",
       "      <td>Gd</td>\n",
       "      <td>1465</td>\n",
       "    </tr>\n",
       "  </tbody>\n",
       "</table>\n",
       "</div>"
      ],
      "text/plain": [
       "   OverallQual  GrLivArea  GarageCars  GarageArea  TotalBsmtSF ExterQual    Id\n",
       "0            5        896         1.0       730.0        882.0        TA  1461\n",
       "1            6       1329         1.0       312.0       1329.0        TA  1462\n",
       "2            5       1629         2.0       482.0        928.0        TA  1463\n",
       "3            6       1604         2.0       470.0        926.0        TA  1464\n",
       "4            8       1280         2.0       506.0       1280.0        Gd  1465"
      ]
     },
     "execution_count": 8,
     "metadata": {},
     "output_type": "execute_result"
    }
   ],
   "source": [
    "test_df.head()"
   ]
  },
  {
   "cell_type": "code",
   "execution_count": 9,
   "id": "2de23ba4-7241-46d6-97d5-5dc9a5da343e",
   "metadata": {},
   "outputs": [
    {
     "data": {
      "text/plain": [
       "OverallQual    0\n",
       "GrLivArea      0\n",
       "GarageCars     0\n",
       "GarageArea     0\n",
       "TotalBsmtSF    0\n",
       "ExterQual      0\n",
       "SalePrice      0\n",
       "dtype: int64"
      ]
     },
     "execution_count": 9,
     "metadata": {},
     "output_type": "execute_result"
    }
   ],
   "source": [
    "train_df.isnull().sum()"
   ]
  },
  {
   "cell_type": "code",
   "execution_count": 10,
   "id": "4c84d27f-7bfd-4899-b755-802427ebef14",
   "metadata": {},
   "outputs": [
    {
     "data": {
      "text/plain": [
       "OverallQual    0\n",
       "GrLivArea      0\n",
       "GarageCars     1\n",
       "GarageArea     1\n",
       "TotalBsmtSF    1\n",
       "ExterQual      0\n",
       "Id             0\n",
       "dtype: int64"
      ]
     },
     "execution_count": 10,
     "metadata": {},
     "output_type": "execute_result"
    }
   ],
   "source": [
    "test_df.isnull().sum()"
   ]
  },
  {
   "cell_type": "code",
   "execution_count": 11,
   "id": "3b453418-457f-4156-9f38-a21c0c5eb8a4",
   "metadata": {},
   "outputs": [
    {
     "name": "stderr",
     "output_type": "stream",
     "text": [
      "<ipython-input-11-0c8d76f02737>:2: SettingWithCopyWarning: \n",
      "A value is trying to be set on a copy of a slice from a DataFrame\n",
      "\n",
      "See the caveats in the documentation: https://pandas.pydata.org/pandas-docs/stable/user_guide/indexing.html#returning-a-view-versus-a-copy\n",
      "  test_df.dropna(axis=0, inplace=True)\n"
     ]
    }
   ],
   "source": [
    "# 일단 결측치 제거!\n",
    "test_df.dropna(axis=0, inplace=True)"
   ]
  },
  {
   "cell_type": "code",
   "execution_count": 12,
   "id": "9da3f5b8-104e-4dac-bfaa-86e22a6a4cf7",
   "metadata": {},
   "outputs": [
    {
     "data": {
      "text/plain": [
       "OverallQual    0\n",
       "GrLivArea      0\n",
       "GarageCars     0\n",
       "GarageArea     0\n",
       "TotalBsmtSF    0\n",
       "ExterQual      0\n",
       "Id             0\n",
       "dtype: int64"
      ]
     },
     "execution_count": 12,
     "metadata": {},
     "output_type": "execute_result"
    }
   ],
   "source": [
    "test_df.isnull().sum()"
   ]
  },
  {
   "cell_type": "markdown",
   "id": "29d039ca-6cf1-45f0-863f-a78592f89b65",
   "metadata": {},
   "source": [
    "#### 카테고리형 데이터(Categorical Data)를 수치형 데이터(Numerical Data)로 변환\n",
    "\n",
    "* [방법 1] : from sklearn.preprocessing import LabelEncoder\n",
    "    \n",
    "    => (ex) le.fit_transform(train['Sex']) => 정수로 인덱싱\n",
    "           \n",
    "           # array([1, 0, 0, 0, 1, 1, 1, 1, 0, 0, 0, 0, 1, 1, 0, 0, 1, 1, 0, 0, 1, 1,\n",
    "            #        0, 1, 0, 0, 1, 1, 0, 1, 1, 0, 0, 1, 1, 1, 1, 1, 0, 0, 0, 0, 1, 0,\n",
    "            #        0, 1, 1, 0, 1, 0, 1, 1, 0, 0, 1, 1, 0, 1, 0, 1, 1, 0, 1, 1, 1, 1,\n",
    "            #        0, 1, 0, 1, 1, 0, 1, 1, 1, 1, 1, 1, 1, 0, 1, 1, 0, 1, 0, 0, 1, 1,\n",
    "            #        0, 1, 1, 1, 1.... 1, 1])\n",
    "    => le.inverse_transform(result)를 통해 역 변환 가능!\n",
    "    \n",
    "* [방법 2] : get_dummies\n",
    "\n",
    "    => get_dummies는 원핫인코딩을 매우 쉽게 해준다.\n",
    "    => category형 데이터 컬럼을 선택하여 자동으로 원핫인코딩을 해준다.\n",
    "    => (ex) pd.get_dummies(train['Sex'])\n",
    "    \n",
    "            female과 male 컬럼 생성"
   ]
  },
  {
   "cell_type": "markdown",
   "id": "45910d6c-696a-4c77-a04a-4d3b8c81ccd9",
   "metadata": {},
   "source": [
    "#### [방법 1] - LabelEncoder() 이용\n",
    "\n",
    "* method1_train_df = train_df\n",
    "* method1_test_df = test_df"
   ]
  },
  {
   "cell_type": "code",
   "execution_count": 13,
   "id": "d92c6fb0-877b-485a-bd6e-c14b8a1de094",
   "metadata": {},
   "outputs": [],
   "source": [
    "from sklearn.preprocessing import LabelEncoder"
   ]
  },
  {
   "cell_type": "code",
   "execution_count": 14,
   "id": "9af2258f-be2c-4307-9d5f-4d5306009a91",
   "metadata": {},
   "outputs": [],
   "source": [
    "method1_train_df = train_df.copy()\n",
    "method1_test_df = test_df.copy()"
   ]
  },
  {
   "cell_type": "code",
   "execution_count": 15,
   "id": "7b6b470c-78d4-47e0-a894-f49645873f0f",
   "metadata": {},
   "outputs": [],
   "source": [
    "# 범주형 데이터만\n",
    "category = ['ExterQual']"
   ]
  },
  {
   "cell_type": "code",
   "execution_count": 16,
   "id": "bb204c02-0e00-43a5-95fa-0ab03ef1a04c",
   "metadata": {},
   "outputs": [],
   "source": [
    "for categorical_feature in category:\n",
    "    method1_train_df[categorical_feature] = method1_train_df[categorical_feature].astype('category')\n",
    "for categorical_feature in category:\n",
    "    method1_test_df[categorical_feature] = method1_test_df[categorical_feature].astype('category') "
   ]
  },
  {
   "cell_type": "code",
   "execution_count": 17,
   "id": "247d9d10-422c-435b-b614-3f8d87051ce0",
   "metadata": {},
   "outputs": [
    {
     "data": {
      "text/html": [
       "<div>\n",
       "<style scoped>\n",
       "    .dataframe tbody tr th:only-of-type {\n",
       "        vertical-align: middle;\n",
       "    }\n",
       "\n",
       "    .dataframe tbody tr th {\n",
       "        vertical-align: top;\n",
       "    }\n",
       "\n",
       "    .dataframe thead th {\n",
       "        text-align: right;\n",
       "    }\n",
       "</style>\n",
       "<table border=\"1\" class=\"dataframe\">\n",
       "  <thead>\n",
       "    <tr style=\"text-align: right;\">\n",
       "      <th></th>\n",
       "      <th>OverallQual</th>\n",
       "      <th>GrLivArea</th>\n",
       "      <th>GarageCars</th>\n",
       "      <th>GarageArea</th>\n",
       "      <th>TotalBsmtSF</th>\n",
       "      <th>ExterQual</th>\n",
       "      <th>SalePrice</th>\n",
       "    </tr>\n",
       "  </thead>\n",
       "  <tbody>\n",
       "    <tr>\n",
       "      <th>0</th>\n",
       "      <td>7</td>\n",
       "      <td>1710</td>\n",
       "      <td>2</td>\n",
       "      <td>548</td>\n",
       "      <td>856</td>\n",
       "      <td>Gd</td>\n",
       "      <td>208500</td>\n",
       "    </tr>\n",
       "    <tr>\n",
       "      <th>1</th>\n",
       "      <td>6</td>\n",
       "      <td>1262</td>\n",
       "      <td>2</td>\n",
       "      <td>460</td>\n",
       "      <td>1262</td>\n",
       "      <td>TA</td>\n",
       "      <td>181500</td>\n",
       "    </tr>\n",
       "    <tr>\n",
       "      <th>2</th>\n",
       "      <td>7</td>\n",
       "      <td>1786</td>\n",
       "      <td>2</td>\n",
       "      <td>608</td>\n",
       "      <td>920</td>\n",
       "      <td>Gd</td>\n",
       "      <td>223500</td>\n",
       "    </tr>\n",
       "    <tr>\n",
       "      <th>3</th>\n",
       "      <td>7</td>\n",
       "      <td>1717</td>\n",
       "      <td>3</td>\n",
       "      <td>642</td>\n",
       "      <td>756</td>\n",
       "      <td>TA</td>\n",
       "      <td>140000</td>\n",
       "    </tr>\n",
       "    <tr>\n",
       "      <th>4</th>\n",
       "      <td>8</td>\n",
       "      <td>2198</td>\n",
       "      <td>3</td>\n",
       "      <td>836</td>\n",
       "      <td>1145</td>\n",
       "      <td>Gd</td>\n",
       "      <td>250000</td>\n",
       "    </tr>\n",
       "    <tr>\n",
       "      <th>...</th>\n",
       "      <td>...</td>\n",
       "      <td>...</td>\n",
       "      <td>...</td>\n",
       "      <td>...</td>\n",
       "      <td>...</td>\n",
       "      <td>...</td>\n",
       "      <td>...</td>\n",
       "    </tr>\n",
       "    <tr>\n",
       "      <th>1455</th>\n",
       "      <td>6</td>\n",
       "      <td>1647</td>\n",
       "      <td>2</td>\n",
       "      <td>460</td>\n",
       "      <td>953</td>\n",
       "      <td>TA</td>\n",
       "      <td>175000</td>\n",
       "    </tr>\n",
       "    <tr>\n",
       "      <th>1456</th>\n",
       "      <td>6</td>\n",
       "      <td>2073</td>\n",
       "      <td>2</td>\n",
       "      <td>500</td>\n",
       "      <td>1542</td>\n",
       "      <td>TA</td>\n",
       "      <td>210000</td>\n",
       "    </tr>\n",
       "    <tr>\n",
       "      <th>1457</th>\n",
       "      <td>7</td>\n",
       "      <td>2340</td>\n",
       "      <td>1</td>\n",
       "      <td>252</td>\n",
       "      <td>1152</td>\n",
       "      <td>Ex</td>\n",
       "      <td>266500</td>\n",
       "    </tr>\n",
       "    <tr>\n",
       "      <th>1458</th>\n",
       "      <td>5</td>\n",
       "      <td>1078</td>\n",
       "      <td>1</td>\n",
       "      <td>240</td>\n",
       "      <td>1078</td>\n",
       "      <td>TA</td>\n",
       "      <td>142125</td>\n",
       "    </tr>\n",
       "    <tr>\n",
       "      <th>1459</th>\n",
       "      <td>5</td>\n",
       "      <td>1256</td>\n",
       "      <td>1</td>\n",
       "      <td>276</td>\n",
       "      <td>1256</td>\n",
       "      <td>Gd</td>\n",
       "      <td>147500</td>\n",
       "    </tr>\n",
       "  </tbody>\n",
       "</table>\n",
       "<p>1460 rows × 7 columns</p>\n",
       "</div>"
      ],
      "text/plain": [
       "      OverallQual  GrLivArea  GarageCars  GarageArea  TotalBsmtSF ExterQual  \\\n",
       "0               7       1710           2         548          856        Gd   \n",
       "1               6       1262           2         460         1262        TA   \n",
       "2               7       1786           2         608          920        Gd   \n",
       "3               7       1717           3         642          756        TA   \n",
       "4               8       2198           3         836         1145        Gd   \n",
       "...           ...        ...         ...         ...          ...       ...   \n",
       "1455            6       1647           2         460          953        TA   \n",
       "1456            6       2073           2         500         1542        TA   \n",
       "1457            7       2340           1         252         1152        Ex   \n",
       "1458            5       1078           1         240         1078        TA   \n",
       "1459            5       1256           1         276         1256        Gd   \n",
       "\n",
       "      SalePrice  \n",
       "0        208500  \n",
       "1        181500  \n",
       "2        223500  \n",
       "3        140000  \n",
       "4        250000  \n",
       "...         ...  \n",
       "1455     175000  \n",
       "1456     210000  \n",
       "1457     266500  \n",
       "1458     142125  \n",
       "1459     147500  \n",
       "\n",
       "[1460 rows x 7 columns]"
      ]
     },
     "execution_count": 17,
     "metadata": {},
     "output_type": "execute_result"
    }
   ],
   "source": [
    "method1_train_df"
   ]
  },
  {
   "cell_type": "code",
   "execution_count": 18,
   "id": "efb548dc-f0e1-4910-8bc5-89fea848ba5b",
   "metadata": {},
   "outputs": [],
   "source": [
    "le = LabelEncoder()\n",
    "\n",
    "for categorical_feature in category:\n",
    "    method1_train_df[categorical_feature] = le.fit_transform(method1_train_df[categorical_feature])\n",
    "    \n",
    "for categorical_feature in category:\n",
    "    method1_test_df[categorical_feature] = le.fit_transform(method1_test_df[categorical_feature])"
   ]
  },
  {
   "cell_type": "code",
   "execution_count": 19,
   "id": "5c995eb9-74a4-4493-9484-b17c4a11422a",
   "metadata": {
    "tags": []
   },
   "outputs": [
    {
     "data": {
      "text/html": [
       "<div>\n",
       "<style scoped>\n",
       "    .dataframe tbody tr th:only-of-type {\n",
       "        vertical-align: middle;\n",
       "    }\n",
       "\n",
       "    .dataframe tbody tr th {\n",
       "        vertical-align: top;\n",
       "    }\n",
       "\n",
       "    .dataframe thead th {\n",
       "        text-align: right;\n",
       "    }\n",
       "</style>\n",
       "<table border=\"1\" class=\"dataframe\">\n",
       "  <thead>\n",
       "    <tr style=\"text-align: right;\">\n",
       "      <th></th>\n",
       "      <th>OverallQual</th>\n",
       "      <th>GrLivArea</th>\n",
       "      <th>GarageCars</th>\n",
       "      <th>GarageArea</th>\n",
       "      <th>TotalBsmtSF</th>\n",
       "      <th>ExterQual</th>\n",
       "      <th>SalePrice</th>\n",
       "    </tr>\n",
       "  </thead>\n",
       "  <tbody>\n",
       "    <tr>\n",
       "      <th>0</th>\n",
       "      <td>7</td>\n",
       "      <td>1710</td>\n",
       "      <td>2</td>\n",
       "      <td>548</td>\n",
       "      <td>856</td>\n",
       "      <td>2</td>\n",
       "      <td>208500</td>\n",
       "    </tr>\n",
       "    <tr>\n",
       "      <th>1</th>\n",
       "      <td>6</td>\n",
       "      <td>1262</td>\n",
       "      <td>2</td>\n",
       "      <td>460</td>\n",
       "      <td>1262</td>\n",
       "      <td>3</td>\n",
       "      <td>181500</td>\n",
       "    </tr>\n",
       "    <tr>\n",
       "      <th>2</th>\n",
       "      <td>7</td>\n",
       "      <td>1786</td>\n",
       "      <td>2</td>\n",
       "      <td>608</td>\n",
       "      <td>920</td>\n",
       "      <td>2</td>\n",
       "      <td>223500</td>\n",
       "    </tr>\n",
       "    <tr>\n",
       "      <th>3</th>\n",
       "      <td>7</td>\n",
       "      <td>1717</td>\n",
       "      <td>3</td>\n",
       "      <td>642</td>\n",
       "      <td>756</td>\n",
       "      <td>3</td>\n",
       "      <td>140000</td>\n",
       "    </tr>\n",
       "    <tr>\n",
       "      <th>4</th>\n",
       "      <td>8</td>\n",
       "      <td>2198</td>\n",
       "      <td>3</td>\n",
       "      <td>836</td>\n",
       "      <td>1145</td>\n",
       "      <td>2</td>\n",
       "      <td>250000</td>\n",
       "    </tr>\n",
       "    <tr>\n",
       "      <th>...</th>\n",
       "      <td>...</td>\n",
       "      <td>...</td>\n",
       "      <td>...</td>\n",
       "      <td>...</td>\n",
       "      <td>...</td>\n",
       "      <td>...</td>\n",
       "      <td>...</td>\n",
       "    </tr>\n",
       "    <tr>\n",
       "      <th>1455</th>\n",
       "      <td>6</td>\n",
       "      <td>1647</td>\n",
       "      <td>2</td>\n",
       "      <td>460</td>\n",
       "      <td>953</td>\n",
       "      <td>3</td>\n",
       "      <td>175000</td>\n",
       "    </tr>\n",
       "    <tr>\n",
       "      <th>1456</th>\n",
       "      <td>6</td>\n",
       "      <td>2073</td>\n",
       "      <td>2</td>\n",
       "      <td>500</td>\n",
       "      <td>1542</td>\n",
       "      <td>3</td>\n",
       "      <td>210000</td>\n",
       "    </tr>\n",
       "    <tr>\n",
       "      <th>1457</th>\n",
       "      <td>7</td>\n",
       "      <td>2340</td>\n",
       "      <td>1</td>\n",
       "      <td>252</td>\n",
       "      <td>1152</td>\n",
       "      <td>0</td>\n",
       "      <td>266500</td>\n",
       "    </tr>\n",
       "    <tr>\n",
       "      <th>1458</th>\n",
       "      <td>5</td>\n",
       "      <td>1078</td>\n",
       "      <td>1</td>\n",
       "      <td>240</td>\n",
       "      <td>1078</td>\n",
       "      <td>3</td>\n",
       "      <td>142125</td>\n",
       "    </tr>\n",
       "    <tr>\n",
       "      <th>1459</th>\n",
       "      <td>5</td>\n",
       "      <td>1256</td>\n",
       "      <td>1</td>\n",
       "      <td>276</td>\n",
       "      <td>1256</td>\n",
       "      <td>2</td>\n",
       "      <td>147500</td>\n",
       "    </tr>\n",
       "  </tbody>\n",
       "</table>\n",
       "<p>1460 rows × 7 columns</p>\n",
       "</div>"
      ],
      "text/plain": [
       "      OverallQual  GrLivArea  GarageCars  GarageArea  TotalBsmtSF  ExterQual  \\\n",
       "0               7       1710           2         548          856          2   \n",
       "1               6       1262           2         460         1262          3   \n",
       "2               7       1786           2         608          920          2   \n",
       "3               7       1717           3         642          756          3   \n",
       "4               8       2198           3         836         1145          2   \n",
       "...           ...        ...         ...         ...          ...        ...   \n",
       "1455            6       1647           2         460          953          3   \n",
       "1456            6       2073           2         500         1542          3   \n",
       "1457            7       2340           1         252         1152          0   \n",
       "1458            5       1078           1         240         1078          3   \n",
       "1459            5       1256           1         276         1256          2   \n",
       "\n",
       "      SalePrice  \n",
       "0        208500  \n",
       "1        181500  \n",
       "2        223500  \n",
       "3        140000  \n",
       "4        250000  \n",
       "...         ...  \n",
       "1455     175000  \n",
       "1456     210000  \n",
       "1457     266500  \n",
       "1458     142125  \n",
       "1459     147500  \n",
       "\n",
       "[1460 rows x 7 columns]"
      ]
     },
     "execution_count": 19,
     "metadata": {},
     "output_type": "execute_result"
    }
   ],
   "source": [
    "method1_train_df"
   ]
  },
  {
   "cell_type": "code",
   "execution_count": 20,
   "id": "26a4be08-b902-48e9-939d-b7cc3fa29f42",
   "metadata": {
    "tags": []
   },
   "outputs": [
    {
     "data": {
      "text/html": [
       "<div>\n",
       "<style scoped>\n",
       "    .dataframe tbody tr th:only-of-type {\n",
       "        vertical-align: middle;\n",
       "    }\n",
       "\n",
       "    .dataframe tbody tr th {\n",
       "        vertical-align: top;\n",
       "    }\n",
       "\n",
       "    .dataframe thead th {\n",
       "        text-align: right;\n",
       "    }\n",
       "</style>\n",
       "<table border=\"1\" class=\"dataframe\">\n",
       "  <thead>\n",
       "    <tr style=\"text-align: right;\">\n",
       "      <th></th>\n",
       "      <th>OverallQual</th>\n",
       "      <th>GrLivArea</th>\n",
       "      <th>GarageCars</th>\n",
       "      <th>GarageArea</th>\n",
       "      <th>TotalBsmtSF</th>\n",
       "      <th>ExterQual</th>\n",
       "      <th>Id</th>\n",
       "    </tr>\n",
       "  </thead>\n",
       "  <tbody>\n",
       "    <tr>\n",
       "      <th>0</th>\n",
       "      <td>5</td>\n",
       "      <td>896</td>\n",
       "      <td>1.0</td>\n",
       "      <td>730.0</td>\n",
       "      <td>882.0</td>\n",
       "      <td>3</td>\n",
       "      <td>1461</td>\n",
       "    </tr>\n",
       "    <tr>\n",
       "      <th>1</th>\n",
       "      <td>6</td>\n",
       "      <td>1329</td>\n",
       "      <td>1.0</td>\n",
       "      <td>312.0</td>\n",
       "      <td>1329.0</td>\n",
       "      <td>3</td>\n",
       "      <td>1462</td>\n",
       "    </tr>\n",
       "    <tr>\n",
       "      <th>2</th>\n",
       "      <td>5</td>\n",
       "      <td>1629</td>\n",
       "      <td>2.0</td>\n",
       "      <td>482.0</td>\n",
       "      <td>928.0</td>\n",
       "      <td>3</td>\n",
       "      <td>1463</td>\n",
       "    </tr>\n",
       "    <tr>\n",
       "      <th>3</th>\n",
       "      <td>6</td>\n",
       "      <td>1604</td>\n",
       "      <td>2.0</td>\n",
       "      <td>470.0</td>\n",
       "      <td>926.0</td>\n",
       "      <td>3</td>\n",
       "      <td>1464</td>\n",
       "    </tr>\n",
       "    <tr>\n",
       "      <th>4</th>\n",
       "      <td>8</td>\n",
       "      <td>1280</td>\n",
       "      <td>2.0</td>\n",
       "      <td>506.0</td>\n",
       "      <td>1280.0</td>\n",
       "      <td>2</td>\n",
       "      <td>1465</td>\n",
       "    </tr>\n",
       "    <tr>\n",
       "      <th>...</th>\n",
       "      <td>...</td>\n",
       "      <td>...</td>\n",
       "      <td>...</td>\n",
       "      <td>...</td>\n",
       "      <td>...</td>\n",
       "      <td>...</td>\n",
       "      <td>...</td>\n",
       "    </tr>\n",
       "    <tr>\n",
       "      <th>1454</th>\n",
       "      <td>4</td>\n",
       "      <td>1092</td>\n",
       "      <td>0.0</td>\n",
       "      <td>0.0</td>\n",
       "      <td>546.0</td>\n",
       "      <td>3</td>\n",
       "      <td>2915</td>\n",
       "    </tr>\n",
       "    <tr>\n",
       "      <th>1455</th>\n",
       "      <td>4</td>\n",
       "      <td>1092</td>\n",
       "      <td>1.0</td>\n",
       "      <td>286.0</td>\n",
       "      <td>546.0</td>\n",
       "      <td>3</td>\n",
       "      <td>2916</td>\n",
       "    </tr>\n",
       "    <tr>\n",
       "      <th>1456</th>\n",
       "      <td>5</td>\n",
       "      <td>1224</td>\n",
       "      <td>2.0</td>\n",
       "      <td>576.0</td>\n",
       "      <td>1224.0</td>\n",
       "      <td>3</td>\n",
       "      <td>2917</td>\n",
       "    </tr>\n",
       "    <tr>\n",
       "      <th>1457</th>\n",
       "      <td>5</td>\n",
       "      <td>970</td>\n",
       "      <td>0.0</td>\n",
       "      <td>0.0</td>\n",
       "      <td>912.0</td>\n",
       "      <td>3</td>\n",
       "      <td>2918</td>\n",
       "    </tr>\n",
       "    <tr>\n",
       "      <th>1458</th>\n",
       "      <td>7</td>\n",
       "      <td>2000</td>\n",
       "      <td>3.0</td>\n",
       "      <td>650.0</td>\n",
       "      <td>996.0</td>\n",
       "      <td>3</td>\n",
       "      <td>2919</td>\n",
       "    </tr>\n",
       "  </tbody>\n",
       "</table>\n",
       "<p>1457 rows × 7 columns</p>\n",
       "</div>"
      ],
      "text/plain": [
       "      OverallQual  GrLivArea  GarageCars  GarageArea  TotalBsmtSF  ExterQual  \\\n",
       "0               5        896         1.0       730.0        882.0          3   \n",
       "1               6       1329         1.0       312.0       1329.0          3   \n",
       "2               5       1629         2.0       482.0        928.0          3   \n",
       "3               6       1604         2.0       470.0        926.0          3   \n",
       "4               8       1280         2.0       506.0       1280.0          2   \n",
       "...           ...        ...         ...         ...          ...        ...   \n",
       "1454            4       1092         0.0         0.0        546.0          3   \n",
       "1455            4       1092         1.0       286.0        546.0          3   \n",
       "1456            5       1224         2.0       576.0       1224.0          3   \n",
       "1457            5        970         0.0         0.0        912.0          3   \n",
       "1458            7       2000         3.0       650.0        996.0          3   \n",
       "\n",
       "        Id  \n",
       "0     1461  \n",
       "1     1462  \n",
       "2     1463  \n",
       "3     1464  \n",
       "4     1465  \n",
       "...    ...  \n",
       "1454  2915  \n",
       "1455  2916  \n",
       "1456  2917  \n",
       "1457  2918  \n",
       "1458  2919  \n",
       "\n",
       "[1457 rows x 7 columns]"
      ]
     },
     "execution_count": 20,
     "metadata": {},
     "output_type": "execute_result"
    }
   ],
   "source": [
    "method1_test_df"
   ]
  },
  {
   "cell_type": "code",
   "execution_count": 21,
   "id": "0071f663-2274-47a9-8f29-1a14e44cc617",
   "metadata": {},
   "outputs": [
    {
     "name": "stdout",
     "output_type": "stream",
     "text": [
      "{'SalePrice'}\n",
      "\n",
      "{'Id'}\n"
     ]
    }
   ],
   "source": [
    "train_col = set(method1_train_df.columns.tolist())\n",
    "test_col = set(method1_test_df.columns.tolist())\n",
    "print(train_col - test_col)\n",
    "print()\n",
    "print(test_col - train_col)"
   ]
  },
  {
   "cell_type": "markdown",
   "id": "4a67f8cd-dac0-420f-8225-c9b324b5244a",
   "metadata": {},
   "source": [
    "#### [방법 2] - get dummies 이용\n",
    "\n",
    "* method2_train_df = train_df\n",
    "* method2_test_df = test_df"
   ]
  },
  {
   "cell_type": "code",
   "execution_count": 22,
   "id": "1bc99851-48cc-42a5-8fd7-a113b00bdc8c",
   "metadata": {},
   "outputs": [],
   "source": [
    "method2_train_df = train_df.copy()\n",
    "method2_test_df = test_df.copy()"
   ]
  },
  {
   "cell_type": "code",
   "execution_count": 23,
   "id": "2c591e66-34e8-4464-9335-34d46576b6cd",
   "metadata": {},
   "outputs": [],
   "source": [
    "# get dummies => one_hot encoding과 동일하게 만들어 준다\n",
    "for categorical_feature in category:\n",
    "    df_all_dummy = pd.get_dummies(method2_train_df[categorical_feature], prefix=categorical_feature)\n",
    "    method2_train_df = method2_train_df.drop([categorical_feature], axis=1)\n",
    "    method2_train_df = pd.concat((method2_train_df, df_all_dummy), axis=1)\n",
    "    \n",
    "# get dummies => one_hot encoding과 동일하게 만들어 준다\n",
    "for categorical_feature in category:\n",
    "    df_all_dummy = pd.get_dummies(method2_test_df[categorical_feature], prefix=categorical_feature)\n",
    "    method2_test_df = method2_test_df.drop([categorical_feature], axis=1)\n",
    "    method2_test_df = pd.concat((method2_test_df, df_all_dummy), axis=1)"
   ]
  },
  {
   "cell_type": "code",
   "execution_count": 24,
   "id": "11d0591d-4ae4-4783-8204-768f7e1be1af",
   "metadata": {},
   "outputs": [
    {
     "data": {
      "text/html": [
       "<div>\n",
       "<style scoped>\n",
       "    .dataframe tbody tr th:only-of-type {\n",
       "        vertical-align: middle;\n",
       "    }\n",
       "\n",
       "    .dataframe tbody tr th {\n",
       "        vertical-align: top;\n",
       "    }\n",
       "\n",
       "    .dataframe thead th {\n",
       "        text-align: right;\n",
       "    }\n",
       "</style>\n",
       "<table border=\"1\" class=\"dataframe\">\n",
       "  <thead>\n",
       "    <tr style=\"text-align: right;\">\n",
       "      <th></th>\n",
       "      <th>OverallQual</th>\n",
       "      <th>GrLivArea</th>\n",
       "      <th>GarageCars</th>\n",
       "      <th>GarageArea</th>\n",
       "      <th>TotalBsmtSF</th>\n",
       "      <th>SalePrice</th>\n",
       "      <th>ExterQual_Ex</th>\n",
       "      <th>ExterQual_Fa</th>\n",
       "      <th>ExterQual_Gd</th>\n",
       "      <th>ExterQual_TA</th>\n",
       "    </tr>\n",
       "  </thead>\n",
       "  <tbody>\n",
       "    <tr>\n",
       "      <th>0</th>\n",
       "      <td>7</td>\n",
       "      <td>1710</td>\n",
       "      <td>2</td>\n",
       "      <td>548</td>\n",
       "      <td>856</td>\n",
       "      <td>208500</td>\n",
       "      <td>0</td>\n",
       "      <td>0</td>\n",
       "      <td>1</td>\n",
       "      <td>0</td>\n",
       "    </tr>\n",
       "    <tr>\n",
       "      <th>1</th>\n",
       "      <td>6</td>\n",
       "      <td>1262</td>\n",
       "      <td>2</td>\n",
       "      <td>460</td>\n",
       "      <td>1262</td>\n",
       "      <td>181500</td>\n",
       "      <td>0</td>\n",
       "      <td>0</td>\n",
       "      <td>0</td>\n",
       "      <td>1</td>\n",
       "    </tr>\n",
       "    <tr>\n",
       "      <th>2</th>\n",
       "      <td>7</td>\n",
       "      <td>1786</td>\n",
       "      <td>2</td>\n",
       "      <td>608</td>\n",
       "      <td>920</td>\n",
       "      <td>223500</td>\n",
       "      <td>0</td>\n",
       "      <td>0</td>\n",
       "      <td>1</td>\n",
       "      <td>0</td>\n",
       "    </tr>\n",
       "    <tr>\n",
       "      <th>3</th>\n",
       "      <td>7</td>\n",
       "      <td>1717</td>\n",
       "      <td>3</td>\n",
       "      <td>642</td>\n",
       "      <td>756</td>\n",
       "      <td>140000</td>\n",
       "      <td>0</td>\n",
       "      <td>0</td>\n",
       "      <td>0</td>\n",
       "      <td>1</td>\n",
       "    </tr>\n",
       "    <tr>\n",
       "      <th>4</th>\n",
       "      <td>8</td>\n",
       "      <td>2198</td>\n",
       "      <td>3</td>\n",
       "      <td>836</td>\n",
       "      <td>1145</td>\n",
       "      <td>250000</td>\n",
       "      <td>0</td>\n",
       "      <td>0</td>\n",
       "      <td>1</td>\n",
       "      <td>0</td>\n",
       "    </tr>\n",
       "    <tr>\n",
       "      <th>...</th>\n",
       "      <td>...</td>\n",
       "      <td>...</td>\n",
       "      <td>...</td>\n",
       "      <td>...</td>\n",
       "      <td>...</td>\n",
       "      <td>...</td>\n",
       "      <td>...</td>\n",
       "      <td>...</td>\n",
       "      <td>...</td>\n",
       "      <td>...</td>\n",
       "    </tr>\n",
       "    <tr>\n",
       "      <th>1455</th>\n",
       "      <td>6</td>\n",
       "      <td>1647</td>\n",
       "      <td>2</td>\n",
       "      <td>460</td>\n",
       "      <td>953</td>\n",
       "      <td>175000</td>\n",
       "      <td>0</td>\n",
       "      <td>0</td>\n",
       "      <td>0</td>\n",
       "      <td>1</td>\n",
       "    </tr>\n",
       "    <tr>\n",
       "      <th>1456</th>\n",
       "      <td>6</td>\n",
       "      <td>2073</td>\n",
       "      <td>2</td>\n",
       "      <td>500</td>\n",
       "      <td>1542</td>\n",
       "      <td>210000</td>\n",
       "      <td>0</td>\n",
       "      <td>0</td>\n",
       "      <td>0</td>\n",
       "      <td>1</td>\n",
       "    </tr>\n",
       "    <tr>\n",
       "      <th>1457</th>\n",
       "      <td>7</td>\n",
       "      <td>2340</td>\n",
       "      <td>1</td>\n",
       "      <td>252</td>\n",
       "      <td>1152</td>\n",
       "      <td>266500</td>\n",
       "      <td>1</td>\n",
       "      <td>0</td>\n",
       "      <td>0</td>\n",
       "      <td>0</td>\n",
       "    </tr>\n",
       "    <tr>\n",
       "      <th>1458</th>\n",
       "      <td>5</td>\n",
       "      <td>1078</td>\n",
       "      <td>1</td>\n",
       "      <td>240</td>\n",
       "      <td>1078</td>\n",
       "      <td>142125</td>\n",
       "      <td>0</td>\n",
       "      <td>0</td>\n",
       "      <td>0</td>\n",
       "      <td>1</td>\n",
       "    </tr>\n",
       "    <tr>\n",
       "      <th>1459</th>\n",
       "      <td>5</td>\n",
       "      <td>1256</td>\n",
       "      <td>1</td>\n",
       "      <td>276</td>\n",
       "      <td>1256</td>\n",
       "      <td>147500</td>\n",
       "      <td>0</td>\n",
       "      <td>0</td>\n",
       "      <td>1</td>\n",
       "      <td>0</td>\n",
       "    </tr>\n",
       "  </tbody>\n",
       "</table>\n",
       "<p>1460 rows × 10 columns</p>\n",
       "</div>"
      ],
      "text/plain": [
       "      OverallQual  GrLivArea  GarageCars  GarageArea  TotalBsmtSF  SalePrice  \\\n",
       "0               7       1710           2         548          856     208500   \n",
       "1               6       1262           2         460         1262     181500   \n",
       "2               7       1786           2         608          920     223500   \n",
       "3               7       1717           3         642          756     140000   \n",
       "4               8       2198           3         836         1145     250000   \n",
       "...           ...        ...         ...         ...          ...        ...   \n",
       "1455            6       1647           2         460          953     175000   \n",
       "1456            6       2073           2         500         1542     210000   \n",
       "1457            7       2340           1         252         1152     266500   \n",
       "1458            5       1078           1         240         1078     142125   \n",
       "1459            5       1256           1         276         1256     147500   \n",
       "\n",
       "      ExterQual_Ex  ExterQual_Fa  ExterQual_Gd  ExterQual_TA  \n",
       "0                0             0             1             0  \n",
       "1                0             0             0             1  \n",
       "2                0             0             1             0  \n",
       "3                0             0             0             1  \n",
       "4                0             0             1             0  \n",
       "...            ...           ...           ...           ...  \n",
       "1455             0             0             0             1  \n",
       "1456             0             0             0             1  \n",
       "1457             1             0             0             0  \n",
       "1458             0             0             0             1  \n",
       "1459             0             0             1             0  \n",
       "\n",
       "[1460 rows x 10 columns]"
      ]
     },
     "execution_count": 24,
     "metadata": {},
     "output_type": "execute_result"
    }
   ],
   "source": [
    "method2_train_df"
   ]
  },
  {
   "cell_type": "code",
   "execution_count": 25,
   "id": "12ebadd5-4fd0-4836-a69f-01e5ff04fcba",
   "metadata": {},
   "outputs": [],
   "source": [
    "method1_y = method1_train_df['SalePrice']\n",
    "method1_train_df = method1_train_df.drop('SalePrice', axis=1)"
   ]
  },
  {
   "cell_type": "code",
   "execution_count": 26,
   "id": "76f67661-cb1f-4360-9957-05749a168dd2",
   "metadata": {},
   "outputs": [],
   "source": [
    "method2_y = method2_train_df['SalePrice']\n",
    "method2_train_df = method2_train_df.drop('SalePrice', axis=1)"
   ]
  },
  {
   "cell_type": "markdown",
   "id": "ff02c318-f9f3-4f37-8e92-df3fecb98cc0",
   "metadata": {},
   "source": [
    "## 데이터 세트(train, validation)a split\n",
    "\n",
    "#### 입력 데이터 확인\n",
    "[method1_test_df, method2_test_df]\n",
    "\n",
    "* X : method1_train_df, method2_train_df\n",
    "* y : method1_y, method2_y"
   ]
  },
  {
   "cell_type": "code",
   "execution_count": 27,
   "id": "41c933fa-c341-483c-afb5-ab8b255f57e2",
   "metadata": {},
   "outputs": [],
   "source": [
    "from sklearn.model_selection import train_test_split # 데이터 셋 \n",
    "\n",
    "# 방법 1\n",
    "X_train1, X_val1, y_train1, y_val1 = train_test_split(method1_train_df, method1_y, \\\n",
    "                                                      test_size=0.2, random_state=0)\n",
    "\n",
    "# 방법 2\n",
    "X_train2, X_val2, y_train2, y_val2 = train_test_split(method2_train_df, method2_y, \\\n",
    "                                                      test_size=0.2, random_state=0)"
   ]
  },
  {
   "cell_type": "code",
   "execution_count": 28,
   "id": "944d1ba2-9fd7-4e3a-b83f-0b68914dfe58",
   "metadata": {},
   "outputs": [
    {
     "name": "stdout",
     "output_type": "stream",
     "text": [
      "1168\n",
      "1168\n",
      "292\n",
      "292\n"
     ]
    }
   ],
   "source": [
    "print(len(X_train1))\n",
    "print(len(y_train1))\n",
    "print(len(X_val1))\n",
    "print(len(y_val1))"
   ]
  },
  {
   "cell_type": "markdown",
   "id": "396d137e-6701-4c62-8f2f-a04b287a2553",
   "metadata": {},
   "source": [
    "## 모델 선언 및 훈련"
   ]
  },
  {
   "cell_type": "code",
   "execution_count": 29,
   "id": "138e5e07-fafd-4410-b561-d31d43358e7e",
   "metadata": {},
   "outputs": [],
   "source": [
    "from sklearn.linear_model import LinearRegression\n",
    "\n",
    "from sklearn.ensemble import RandomForestRegressor, AdaBoostRegressor, GradientBoostingRegressor\n",
    "from sklearn.metrics import r2_score, mean_absolute_error, mean_squared_error\n",
    "from sklearn.model_selection import cross_val_score\n",
    "\n",
    "from xgboost.sklearn import XGBRegressor\n",
    "import xgboost"
   ]
  },
  {
   "cell_type": "markdown",
   "id": "5427da38-72da-4a9a-a237-9ee74e25979a",
   "metadata": {},
   "source": [
    "* 회귀의 평가 지표 : 실제 값과 회귀 예측값의 차이를 기반\n",
    "\n",
    "회귀 평가지표 : MAE, MSE, RMSE, MSLE, RMSLE <br>\n",
    "=> 참고로 값이 작을수록 좋은 것\n",
    "\n",
    "* RMSE : MSE의 루트를 씌운 것.<BR>\n",
    "=> 오류 지표를 실제 값과 유사한 단위로 다시 변환하기에 해석이 다소 용이하다\n",
    "\n",
    "*  MAE (Mean Absolue Error) : 실제 값과 예측 값의 차이를 절댓값으로 변환해 평균함 <BR>\n",
    "=> MSE를 활용할 경우 error값이 클 경우 그에 제곱된 값이 출력되기 때문에 값이 너무 커져 보기 불편, 그래서 MAE 사용<BR>\n",
    "    \n",
    "* R^2  : R² 는 분산 기반으로 예측 성능을 평가한다. 1에 가까울수록 예측 정확도가 높은 것<BR>\n",
    "=> (R² = 예측값 Variance / 실제값 Variance)"
   ]
  },
  {
   "cell_type": "code",
   "execution_count": 30,
   "id": "9e82ab8e-c395-4a17-a651-58e29b9b6d4d",
   "metadata": {},
   "outputs": [],
   "source": [
    "def evaluation(model, train_x, train_y, val_x, val_y):\n",
    "    cv = cross_val_score(model, train_x, train_y, cv = 10)\n",
    "    y_pred = model.predict(val_x)\n",
    "    cv = np.mean(cv)\n",
    "    r2=r2_score(y_pred, val_y)\n",
    "    mae = mean_absolute_error(y_pred, val_y)\n",
    "    mse = mean_squared_error(y_pred, val_y)\n",
    "\n",
    "    return cv, r2, mae, mse"
   ]
  },
  {
   "cell_type": "code",
   "execution_count": 31,
   "id": "b73068ff-4a9b-4978-b51a-3eab51120a4d",
   "metadata": {},
   "outputs": [],
   "source": [
    "def show_plot(model, val_x, val_y):\n",
    "    y_pred = model.predict(val_x)\n",
    "\n",
    "    plt.scatter(val_y, y_pred)\n",
    "    plt.xlabel(\"Price Index: $Y_i$\")\n",
    "    plt.ylabel(\"Predicted price Index: $\\hat{Y}_i$\")\n",
    "    plt.title(\"Prices vs Predicted price Index: $Y_i$ vs $\\hat{Y}_i$\")"
   ]
  },
  {
   "cell_type": "markdown",
   "id": "0aff01a9-afd8-4f4d-a341-752a1ec585fc",
   "metadata": {},
   "source": [
    "### [1] Linear Regression"
   ]
  },
  {
   "cell_type": "markdown",
   "id": "a5e8d098-682a-431e-8b1e-6d4b5c7e7354",
   "metadata": {},
   "source": [
    "* 선형 회귀 분석 = Linear Regression"
   ]
  },
  {
   "cell_type": "code",
   "execution_count": 32,
   "id": "7531c5e7-bb51-40d5-9f59-28c5edd6aba3",
   "metadata": {},
   "outputs": [
    {
     "data": {
      "text/plain": [
       "LinearRegression()"
      ]
     },
     "execution_count": 32,
     "metadata": {},
     "output_type": "execute_result"
    }
   ],
   "source": [
    "lgs=LinearRegression()\n",
    "lgs.fit(X_train1, y_train1)"
   ]
  },
  {
   "cell_type": "code",
   "execution_count": 33,
   "id": "0c8b6395-506e-4ab6-beb2-791663772e2a",
   "metadata": {},
   "outputs": [
    {
     "name": "stdout",
     "output_type": "stream",
     "text": [
      "Accuracy : 0.654327\n"
     ]
    }
   ],
   "source": [
    "print(\"Accuracy : %f\" % lgs.score(X_val1, y_val1)) # score()함수 => 정확도 측정"
   ]
  },
  {
   "cell_type": "code",
   "execution_count": 34,
   "id": "4fa35145-ae78-40ab-bba5-5a769770aaea",
   "metadata": {},
   "outputs": [
    {
     "data": {
      "image/png": "[encoded data removed]",
      "text/plain": [
       "<Figure size 432x288 with 1 Axes>"
      ]
     },
     "metadata": {
      "needs_background": "light"
     },
     "output_type": "display_data"
    }
   ],
   "source": [
    "show_plot(lgs, X_val1, y_val1)"
   ]
  },
  {
   "cell_type": "code",
   "execution_count": 35,
   "id": "098dd29f-474c-447a-bec7-b60c5f90a7d5",
   "metadata": {},
   "outputs": [
    {
     "data": {
      "text/plain": [
       "LinearRegression()"
      ]
     },
     "execution_count": 35,
     "metadata": {},
     "output_type": "execute_result"
    }
   ],
   "source": [
    "lgs=LinearRegression()\n",
    "lgs.fit(X_train2, y_train2)"
   ]
  },
  {
   "cell_type": "code",
   "execution_count": 36,
   "id": "de3fe765-6a24-4c0a-ae9a-4fde96e65d1f",
   "metadata": {},
   "outputs": [
    {
     "name": "stdout",
     "output_type": "stream",
     "text": [
      "Accuracy : 0.653113\n"
     ]
    }
   ],
   "source": [
    "print(\"Accuracy : %f\" % lgs.score(X_val2, y_val2)) # score()함수 => 정확도 측정"
   ]
  },
  {
   "cell_type": "code",
   "execution_count": 37,
   "id": "eb365a36-ecce-4849-b55c-bb6e393d17a3",
   "metadata": {},
   "outputs": [
    {
     "data": {
      "image/png": "[encoded data removed]",
      "text/plain": [
       "<Figure size 432x288 with 1 Axes>"
      ]
     },
     "metadata": {
      "needs_background": "light"
     },
     "output_type": "display_data"
    }
   ],
   "source": [
    "show_plot(lgs, X_val2, y_val2)"
   ]
  },
  {
   "cell_type": "markdown",
   "id": "bb78a732-7f92-49b7-88d4-e6c43ef4bc52",
   "metadata": {},
   "source": [
    "### [2] GradientBoostingRegressor"
   ]
  },
  {
   "cell_type": "code",
   "execution_count": 38,
   "id": "5ff03fa5-1ec7-4f28-a271-6b192b48204b",
   "metadata": {},
   "outputs": [
    {
     "data": {
      "text/plain": [
       "GradientBoostingRegressor(max_depth=10, n_estimators=1000, random_state=31)"
      ]
     },
     "execution_count": 38,
     "metadata": {},
     "output_type": "execute_result"
    }
   ],
   "source": [
    "gbr = GradientBoostingRegressor(n_estimators=1000, learning_rate=0.1, max_depth=10, random_state=31)\n",
    "gbr.fit(X_train1, y_train1)"
   ]
  },
  {
   "cell_type": "code",
   "execution_count": 39,
   "id": "18ce26b1-d73d-4fc6-8d32-d139bc33a6f5",
   "metadata": {},
   "outputs": [
    {
     "name": "stdout",
     "output_type": "stream",
     "text": [
      "Cross val score: 0.7298446138202321\n",
      "R^2 score: 0.828128172511679\n",
      "Mean Absolute Erro: 23926.125713365018\n",
      "Mean Mean Squared Erro: 1273812134.0231745\n"
     ]
    }
   ],
   "source": [
    "result = evaluation(gbr, X_train1, y_train1, X_val1, y_val1)\n",
    "print(\"Cross val score: \" + str(result[0]))\n",
    "print(\"R^2 score: \" + str(result[1]))\n",
    "print(\"Mean Absolute Erro: \" + str(result[2]))\n",
    "print(\"Mean Mean Squared Erro: \" + str(result[3]))"
   ]
  },
  {
   "cell_type": "code",
   "execution_count": 40,
   "id": "fadb2cf8-eba9-4329-9dd6-2e96df872e6f",
   "metadata": {},
   "outputs": [
    {
     "name": "stdout",
     "output_type": "stream",
     "text": [
      "Accuracy : 0.815546\n"
     ]
    }
   ],
   "source": [
    "print(\"Accuracy : %f\" % gbr.score(X_val1, y_val1)) # score()함수 => 정확도 측정"
   ]
  },
  {
   "cell_type": "code",
   "execution_count": 41,
   "id": "85ae01d3-d249-4264-acc0-d5b6a5125460",
   "metadata": {},
   "outputs": [
    {
     "data": {
      "image/png": "[encoded data removed]",
      "text/plain": [
       "<Figure size 432x288 with 1 Axes>"
      ]
     },
     "metadata": {
      "needs_background": "light"
     },
     "output_type": "display_data"
    }
   ],
   "source": [
    "show_plot(gbr, X_val1, y_val1)"
   ]
  },
  {
   "cell_type": "code",
   "execution_count": 42,
   "id": "c4ec9047-444f-44ea-a600-d70a6608248f",
   "metadata": {},
   "outputs": [
    {
     "data": {
      "text/plain": [
       "GradientBoostingRegressor(max_depth=10, n_estimators=1000, random_state=31)"
      ]
     },
     "execution_count": 42,
     "metadata": {},
     "output_type": "execute_result"
    }
   ],
   "source": [
    "gbr = GradientBoostingRegressor(n_estimators=1000, learning_rate=0.1, max_depth=10, random_state=31)\n",
    "gbr.fit(X_train2, y_train2)"
   ]
  },
  {
   "cell_type": "code",
   "execution_count": 43,
   "id": "8e122934-f3f1-4206-8454-5ce9585a125b",
   "metadata": {},
   "outputs": [
    {
     "name": "stdout",
     "output_type": "stream",
     "text": [
      "Cross val score: 0.7373291342685419\n",
      "R^2 score: 0.8266814242276678\n",
      "Mean Absolute Erro: 24158.230371666676\n",
      "Mean Mean Squared Erro: 1286687201.7325878\n"
     ]
    }
   ],
   "source": [
    "result = evaluation(gbr, X_train2, y_train2, X_val2, y_val2)\n",
    "print(\"Cross val score: \" + str(result[0]))\n",
    "print(\"R^2 score: \" + str(result[1]))\n",
    "print(\"Mean Absolute Erro: \" + str(result[2]))\n",
    "print(\"Mean Mean Squared Erro: \" + str(result[3]))"
   ]
  },
  {
   "cell_type": "code",
   "execution_count": 44,
   "id": "0d01f6bc-dc10-463c-bf74-7cd6ed94f677",
   "metadata": {},
   "outputs": [
    {
     "name": "stdout",
     "output_type": "stream",
     "text": [
      "Accuracy : 0.813682\n"
     ]
    }
   ],
   "source": [
    "print(\"Accuracy : %f\" % gbr.score(X_val2, y_val2)) # score()함수 => 정확도 측정"
   ]
  },
  {
   "cell_type": "code",
   "execution_count": 45,
   "id": "68470643-2d4c-4c28-a4d8-91a77a96a963",
   "metadata": {},
   "outputs": [
    {
     "data": {
      "image/png": "[encoded data removed]",
      "text/plain": [
       "<Figure size 432x288 with 1 Axes>"
      ]
     },
     "metadata": {
      "needs_background": "light"
     },
     "output_type": "display_data"
    }
   ],
   "source": [
    "show_plot(gbr, X_val2, y_val2)"
   ]
  },
  {
   "cell_type": "markdown",
   "id": "a90fc1e9-22d9-4457-a9ab-329a4c4ce08c",
   "metadata": {},
   "source": [
    "### [3] Random Forest Model"
   ]
  },
  {
   "cell_type": "code",
   "execution_count": 46,
   "id": "443e0b7c-80ae-4b93-8c2a-6447e4df3abd",
   "metadata": {},
   "outputs": [
    {
     "data": {
      "text/plain": [
       "RandomForestRegressor(bootstrap=False, max_depth=500, min_samples_leaf=15,\n",
       "                      n_jobs=-1, random_state=18)"
      ]
     },
     "execution_count": 46,
     "metadata": {},
     "output_type": "execute_result"
    }
   ],
   "source": [
    "forest=RandomForestRegressor(bootstrap=False, max_depth=500, max_features='auto',\n",
    "                       min_samples_leaf=15,criterion='mse', n_jobs=-1, random_state=18)\n",
    "\n",
    "forest.fit(X_train1, y_train1)"
   ]
  },
  {
   "cell_type": "code",
   "execution_count": 47,
   "id": "2b48f0fd-8cb6-414f-ae29-f2975e478b0c",
   "metadata": {},
   "outputs": [
    {
     "name": "stdout",
     "output_type": "stream",
     "text": [
      "Cross val score: 0.782312282612228\n",
      "R^2 score: 0.7157177979569723\n",
      "Mean Absolute Erro: 24172.37699343249\n",
      "Mean Mean Squared Erro: 1653829914.735353\n"
     ]
    }
   ],
   "source": [
    "result = evaluation(forest, X_train1, y_train1, X_val1, y_val1)\n",
    "print(\"Cross val score: \" + str(result[0]))\n",
    "print(\"R^2 score: \" + str(result[1]))\n",
    "print(\"Mean Absolute Erro: \" + str(result[2]))\n",
    "print(\"Mean Mean Squared Erro: \" + str(result[3]))"
   ]
  },
  {
   "cell_type": "code",
   "execution_count": 48,
   "id": "f432e46e-bcc1-4141-b4b7-8f6a09482c19",
   "metadata": {},
   "outputs": [
    {
     "name": "stdout",
     "output_type": "stream",
     "text": [
      "Accuracy : 0.760518\n"
     ]
    }
   ],
   "source": [
    "print(\"Accuracy : %f\" % forest.score(X_val1, y_val1)) # score()함수 => 정확도 측정"
   ]
  },
  {
   "cell_type": "code",
   "execution_count": 49,
   "id": "c1f43886-797a-4a8a-942d-bcfad4c6e1be",
   "metadata": {},
   "outputs": [
    {
     "data": {
      "image/png": "[encoded data removed]",
      "text/plain": [
       "<Figure size 432x288 with 1 Axes>"
      ]
     },
     "metadata": {
      "needs_background": "light"
     },
     "output_type": "display_data"
    }
   ],
   "source": [
    "show_plot(forest, X_val1, y_val1)"
   ]
  },
  {
   "cell_type": "code",
   "execution_count": 50,
   "id": "283dd67a-c2d6-4052-b4d4-4fe795991d97",
   "metadata": {},
   "outputs": [
    {
     "data": {
      "text/plain": [
       "RandomForestRegressor(bootstrap=False, max_depth=500, min_samples_leaf=15,\n",
       "                      n_jobs=-1, random_state=18)"
      ]
     },
     "execution_count": 50,
     "metadata": {},
     "output_type": "execute_result"
    }
   ],
   "source": [
    "forest=RandomForestRegressor(bootstrap=False, max_depth=500, max_features='auto',\n",
    "                       min_samples_leaf=15,criterion='mse', n_jobs=-1, random_state=18)\n",
    "\n",
    "forest.fit(X_train2, y_train2)"
   ]
  },
  {
   "cell_type": "code",
   "execution_count": 51,
   "id": "8b29e19c-05f1-4814-afa1-e4494a388314",
   "metadata": {},
   "outputs": [
    {
     "name": "stdout",
     "output_type": "stream",
     "text": [
      "Cross val score: 0.7829810710454479\n",
      "R^2 score: 0.7162205496577457\n",
      "Mean Absolute Erro: 24161.226870391638\n",
      "Mean Mean Squared Erro: 1653641892.1942036\n"
     ]
    }
   ],
   "source": [
    "result = evaluation(forest, X_train2, y_train2, X_val2, y_val2)\n",
    "print(\"Cross val score: \" + str(result[0]))\n",
    "print(\"R^2 score: \" + str(result[1]))\n",
    "print(\"Mean Absolute Erro: \" + str(result[2]))\n",
    "print(\"Mean Mean Squared Erro: \" + str(result[3]))"
   ]
  },
  {
   "cell_type": "markdown",
   "id": "fdefc2a8-3892-4633-a6f8-db5805d72a1a",
   "metadata": {},
   "source": [
    "### [4] XGBoost Regressor"
   ]
  },
  {
   "cell_type": "code",
   "execution_count": 52,
   "id": "257eaa9e-31dc-4730-8ec3-36d189fca014",
   "metadata": {},
   "outputs": [
    {
     "data": {
      "text/plain": [
       "XGBRegressor(base_score=0.5, booster='gbtree', colsample_bylevel=1,\n",
       "             colsample_bynode=1, colsample_bytree=1, gamma=0, gpu_id=-1,\n",
       "             importance_type='gain', interaction_constraints='',\n",
       "             learning_rate=0.01, max_delta_step=0, max_depth=6,\n",
       "             min_child_weight=1, missing=nan, monotone_constraints='()',\n",
       "             n_estimators=1000, n_jobs=8, num_parallel_tree=1, random_state=31,\n",
       "             reg_alpha=0, reg_lambda=1, scale_pos_weight=1, subsample=1,\n",
       "             tree_method='exact', validate_parameters=1, verbosity=None)"
      ]
     },
     "execution_count": 52,
     "metadata": {},
     "output_type": "execute_result"
    }
   ],
   "source": [
    "xgb = XGBRegressor(learning_rate=0.01, n_estimators=1000, \\\n",
    "                       objective='reg:squarederror', random_state = 31)\n",
    "\n",
    "xgb.fit(X_train1, y_train1)"
   ]
  },
  {
   "cell_type": "code",
   "execution_count": 53,
   "id": "e56bc2ed-876a-4431-a3a2-01a3dc63e5ed",
   "metadata": {},
   "outputs": [
    {
     "data": {
      "text/plain": [
       "<AxesSubplot:title={'center':'Feature importance'}, xlabel='F score', ylabel='Features'>"
      ]
     },
     "execution_count": 53,
     "metadata": {},
     "output_type": "execute_result"
    },
    {
     "data": {
      "image/png": "[encoded data removed]",
      "text/plain": [
       "<Figure size 432x288 with 1 Axes>"
      ]
     },
     "metadata": {
      "needs_background": "light"
     },
     "output_type": "display_data"
    }
   ],
   "source": [
    "xgboost.plot_importance(xgb)"
   ]
  },
  {
   "cell_type": "code",
   "execution_count": 54,
   "id": "e4262cbe-48b2-4e02-bb65-c83b4fa0bc84",
   "metadata": {},
   "outputs": [
    {
     "name": "stdout",
     "output_type": "stream",
     "text": [
      "Cross val score: 0.7700815887418193\n",
      "R^2 score: 0.8432683983602036\n",
      "Mean Absolute Erro: 20233.890156785103\n",
      "Mean Mean Squared Erro: 1036313582.9683478\n"
     ]
    }
   ],
   "source": [
    "result = evaluation(xgb, X_train1, y_train1, X_val1, y_val1)\n",
    "print(\"Cross val score: \" + str(result[0]))\n",
    "print(\"R^2 score: \" + str(result[1]))\n",
    "print(\"Mean Absolute Erro: \" + str(result[2]))\n",
    "print(\"Mean Mean Squared Erro: \" + str(result[3]))"
   ]
  },
  {
   "cell_type": "code",
   "execution_count": 55,
   "id": "48ad9589-4f3c-4c42-be33-64ba77494bef",
   "metadata": {},
   "outputs": [
    {
     "data": {
      "image/png": "[encoded data removed]",
      "text/plain": [
       "<Figure size 432x288 with 1 Axes>"
      ]
     },
     "metadata": {
      "needs_background": "light"
     },
     "output_type": "display_data"
    }
   ],
   "source": [
    "show_plot(xgb, X_val1, y_val1)"
   ]
  },
  {
   "cell_type": "code",
   "execution_count": 56,
   "id": "ad51b6f2-954a-4f4c-9076-74bca168b740",
   "metadata": {},
   "outputs": [
    {
     "data": {
      "text/plain": [
       "XGBRegressor(base_score=0.5, booster='gbtree', colsample_bylevel=1,\n",
       "             colsample_bynode=1, colsample_bytree=1, gamma=0, gpu_id=-1,\n",
       "             importance_type='gain', interaction_constraints='',\n",
       "             learning_rate=0.01, max_delta_step=0, max_depth=6,\n",
       "             min_child_weight=1, missing=nan, monotone_constraints='()',\n",
       "             n_estimators=1000, n_jobs=8, num_parallel_tree=1, random_state=31,\n",
       "             reg_alpha=0, reg_lambda=1, scale_pos_weight=1, subsample=1,\n",
       "             tree_method='exact', validate_parameters=1, verbosity=None)"
      ]
     },
     "execution_count": 56,
     "metadata": {},
     "output_type": "execute_result"
    }
   ],
   "source": [
    "xgb = XGBRegressor(learning_rate=0.01, n_estimators=1000, \\\n",
    "                       objective='reg:squarederror', random_state = 31)\n",
    "\n",
    "xgb.fit(X_train2, y_train2)"
   ]
  },
  {
   "cell_type": "code",
   "execution_count": 57,
   "id": "ae3fea8b-5152-4a53-9d68-ecad60408921",
   "metadata": {},
   "outputs": [
    {
     "name": "stdout",
     "output_type": "stream",
     "text": [
      "Cross val score: 0.7717663545116069\n",
      "R^2 score: 0.8415377944131167\n",
      "Mean Absolute Erro: 20324.96153949058\n",
      "Mean Mean Squared Erro: 1028143513.0941662\n"
     ]
    }
   ],
   "source": [
    "result = evaluation(xgb, X_train2, y_train2, X_val2, y_val2)\n",
    "print(\"Cross val score: \" + str(result[0]))\n",
    "print(\"R^2 score: \" + str(result[1]))\n",
    "print(\"Mean Absolute Erro: \" + str(result[2]))\n",
    "print(\"Mean Mean Squared Erro: \" + str(result[3]))"
   ]
  },
  {
   "cell_type": "code",
   "execution_count": 58,
   "id": "649a84ca-61a1-43e3-aca6-d97831cc6c2a",
   "metadata": {},
   "outputs": [
    {
     "data": {
      "text/plain": [
       "<AxesSubplot:title={'center':'Feature importance'}, xlabel='F score', ylabel='Features'>"
      ]
     },
     "execution_count": 58,
     "metadata": {},
     "output_type": "execute_result"
    },
    {
     "data": {
      "image/png": "[encoded data removed]",
      "text/plain": [
       "<Figure size 432x288 with 1 Axes>"
      ]
     },
     "metadata": {
      "needs_background": "light"
     },
     "output_type": "display_data"
    }
   ],
   "source": [
    "xgboost.plot_importance(xgb)"
   ]
  },
  {
   "cell_type": "markdown",
   "id": "c78f83fa-c6b5-49b0-88d8-86a2a49b1b66",
   "metadata": {},
   "source": [
    "## Kaggle submission\n",
    "\n",
    "TEST DATA이용\n",
    "\n",
    "* [method1_test_df, method2_test_df]"
   ]
  },
  {
   "cell_type": "code",
   "execution_count": 59,
   "id": "07ca5748-a9ee-4cda-ba82-cd8123c01bb9",
   "metadata": {},
   "outputs": [],
   "source": [
    "ids = method2_test_df['Id']"
   ]
  },
  {
   "cell_type": "code",
   "execution_count": 60,
   "id": "e4f3a9cc-4e3b-4db1-9c28-5d5db0624361",
   "metadata": {},
   "outputs": [],
   "source": [
    "models = [\n",
    "    lgs, gbr, forest, xgb\n",
    "]\n",
    "models_name = [\n",
    "    'lgs', 'gbr', 'forest', 'xgb'\n",
    "]"
   ]
  },
  {
   "cell_type": "code",
   "execution_count": 61,
   "id": "1cb0b71e-ed96-477b-be6c-b35dca08ed63",
   "metadata": {},
   "outputs": [],
   "source": [
    "results = []\n",
    "for idx, model in enumerate(models):\n",
    "    predictions = model.predict(method2_test_df.drop(['Id'],axis=1))\n",
    "    df = pd.DataFrame(list(zip(ids, predictions)), columns =['Id', 'SalePrice'])\n",
    "    df.to_csv('./dataset/result_'+models_name[idx]+'.csv',index=False)"
   ]
  },
  {
   "cell_type": "code",
   "execution_count": null,
   "id": "fb355fbb-8914-48b7-9bea-055986d5a668",
   "metadata": {},
   "outputs": [],
   "source": []
  }
 ],
 "metadata": {
  "kernelspec": {
   "display_name": "Python 3",
   "language": "python",
   "name": "python3"
  },
  "language_info": {
   "codemirror_mode": {
    "name": "ipython",
    "version": 3
   },
   "file_extension": ".py",
   "mimetype": "text/x-python",
   "name": "python",
   "nbconvert_exporter": "python",
   "pygments_lexer": "ipython3",
   "version": "3.8.8"
  }
 },
 "nbformat": 4,
 "nbformat_minor": 5
}
