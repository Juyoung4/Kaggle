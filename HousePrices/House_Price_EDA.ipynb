{
 "cells": [
  {
   "cell_type": "code",
   "execution_count": 1,
   "id": "3b981983",
   "metadata": {},
   "outputs": [
    {
     "name": "stdout",
     "output_type": "stream",
     "text": [
      "/bin/bash: kaggle: command not found\n"
     ]
    }
   ],
   "source": [
    "!kaggle competitions download -c house-prices-advanced-regression-techniques"
   ]
  },
  {
   "cell_type": "code",
   "execution_count": 2,
   "id": "6bb8e086",
   "metadata": {},
   "outputs": [],
   "source": [
    "import re, json\n",
    "import pandas as pd\n",
    "import numpy as np\n",
    "import os\n",
    "\n",
    "import matplotlib.pyplot as plt\n",
    "import seaborn as sns\n",
    "%matplotlib inline"
   ]
  },
  {
   "cell_type": "code",
   "execution_count": 3,
   "id": "c45dd6bf",
   "metadata": {},
   "outputs": [],
   "source": [
    "PATH = '/home/ai-sjjy/workspace/juyoung/HousePrices/dataset/'"
   ]
  },
  {
   "cell_type": "code",
   "execution_count": 4,
   "id": "3e1ff2e8",
   "metadata": {},
   "outputs": [],
   "source": [
    "TRAIN_DATA = 'train.csv'\n",
    "TEST_DATA = 'test.csv'"
   ]
  },
  {
   "cell_type": "code",
   "execution_count": 5,
   "id": "4b47e5d6",
   "metadata": {},
   "outputs": [],
   "source": [
    "train_df = pd.read_csv(PATH + TRAIN_DATA)\n",
    "test_df = pd.read_csv(PATH + TEST_DATA)"
   ]
  },
  {
   "cell_type": "code",
   "execution_count": 6,
   "id": "f8463b90",
   "metadata": {},
   "outputs": [
    {
     "data": {
      "text/html": [
       "<div>\n",
       "<style scoped>\n",
       "    .dataframe tbody tr th:only-of-type {\n",
       "        vertical-align: middle;\n",
       "    }\n",
       "\n",
       "    .dataframe tbody tr th {\n",
       "        vertical-align: top;\n",
       "    }\n",
       "\n",
       "    .dataframe thead th {\n",
       "        text-align: right;\n",
       "    }\n",
       "</style>\n",
       "<table border=\"1\" class=\"dataframe\">\n",
       "  <thead>\n",
       "    <tr style=\"text-align: right;\">\n",
       "      <th></th>\n",
       "      <th>Id</th>\n",
       "      <th>MSSubClass</th>\n",
       "      <th>MSZoning</th>\n",
       "      <th>LotFrontage</th>\n",
       "      <th>LotArea</th>\n",
       "      <th>Street</th>\n",
       "      <th>Alley</th>\n",
       "      <th>LotShape</th>\n",
       "      <th>LandContour</th>\n",
       "      <th>Utilities</th>\n",
       "      <th>...</th>\n",
       "      <th>PoolArea</th>\n",
       "      <th>PoolQC</th>\n",
       "      <th>Fence</th>\n",
       "      <th>MiscFeature</th>\n",
       "      <th>MiscVal</th>\n",
       "      <th>MoSold</th>\n",
       "      <th>YrSold</th>\n",
       "      <th>SaleType</th>\n",
       "      <th>SaleCondition</th>\n",
       "      <th>SalePrice</th>\n",
       "    </tr>\n",
       "  </thead>\n",
       "  <tbody>\n",
       "    <tr>\n",
       "      <th>0</th>\n",
       "      <td>1</td>\n",
       "      <td>60</td>\n",
       "      <td>RL</td>\n",
       "      <td>65.0</td>\n",
       "      <td>8450</td>\n",
       "      <td>Pave</td>\n",
       "      <td>NaN</td>\n",
       "      <td>Reg</td>\n",
       "      <td>Lvl</td>\n",
       "      <td>AllPub</td>\n",
       "      <td>...</td>\n",
       "      <td>0</td>\n",
       "      <td>NaN</td>\n",
       "      <td>NaN</td>\n",
       "      <td>NaN</td>\n",
       "      <td>0</td>\n",
       "      <td>2</td>\n",
       "      <td>2008</td>\n",
       "      <td>WD</td>\n",
       "      <td>Normal</td>\n",
       "      <td>208500</td>\n",
       "    </tr>\n",
       "    <tr>\n",
       "      <th>1</th>\n",
       "      <td>2</td>\n",
       "      <td>20</td>\n",
       "      <td>RL</td>\n",
       "      <td>80.0</td>\n",
       "      <td>9600</td>\n",
       "      <td>Pave</td>\n",
       "      <td>NaN</td>\n",
       "      <td>Reg</td>\n",
       "      <td>Lvl</td>\n",
       "      <td>AllPub</td>\n",
       "      <td>...</td>\n",
       "      <td>0</td>\n",
       "      <td>NaN</td>\n",
       "      <td>NaN</td>\n",
       "      <td>NaN</td>\n",
       "      <td>0</td>\n",
       "      <td>5</td>\n",
       "      <td>2007</td>\n",
       "      <td>WD</td>\n",
       "      <td>Normal</td>\n",
       "      <td>181500</td>\n",
       "    </tr>\n",
       "    <tr>\n",
       "      <th>2</th>\n",
       "      <td>3</td>\n",
       "      <td>60</td>\n",
       "      <td>RL</td>\n",
       "      <td>68.0</td>\n",
       "      <td>11250</td>\n",
       "      <td>Pave</td>\n",
       "      <td>NaN</td>\n",
       "      <td>IR1</td>\n",
       "      <td>Lvl</td>\n",
       "      <td>AllPub</td>\n",
       "      <td>...</td>\n",
       "      <td>0</td>\n",
       "      <td>NaN</td>\n",
       "      <td>NaN</td>\n",
       "      <td>NaN</td>\n",
       "      <td>0</td>\n",
       "      <td>9</td>\n",
       "      <td>2008</td>\n",
       "      <td>WD</td>\n",
       "      <td>Normal</td>\n",
       "      <td>223500</td>\n",
       "    </tr>\n",
       "    <tr>\n",
       "      <th>3</th>\n",
       "      <td>4</td>\n",
       "      <td>70</td>\n",
       "      <td>RL</td>\n",
       "      <td>60.0</td>\n",
       "      <td>9550</td>\n",
       "      <td>Pave</td>\n",
       "      <td>NaN</td>\n",
       "      <td>IR1</td>\n",
       "      <td>Lvl</td>\n",
       "      <td>AllPub</td>\n",
       "      <td>...</td>\n",
       "      <td>0</td>\n",
       "      <td>NaN</td>\n",
       "      <td>NaN</td>\n",
       "      <td>NaN</td>\n",
       "      <td>0</td>\n",
       "      <td>2</td>\n",
       "      <td>2006</td>\n",
       "      <td>WD</td>\n",
       "      <td>Abnorml</td>\n",
       "      <td>140000</td>\n",
       "    </tr>\n",
       "    <tr>\n",
       "      <th>4</th>\n",
       "      <td>5</td>\n",
       "      <td>60</td>\n",
       "      <td>RL</td>\n",
       "      <td>84.0</td>\n",
       "      <td>14260</td>\n",
       "      <td>Pave</td>\n",
       "      <td>NaN</td>\n",
       "      <td>IR1</td>\n",
       "      <td>Lvl</td>\n",
       "      <td>AllPub</td>\n",
       "      <td>...</td>\n",
       "      <td>0</td>\n",
       "      <td>NaN</td>\n",
       "      <td>NaN</td>\n",
       "      <td>NaN</td>\n",
       "      <td>0</td>\n",
       "      <td>12</td>\n",
       "      <td>2008</td>\n",
       "      <td>WD</td>\n",
       "      <td>Normal</td>\n",
       "      <td>250000</td>\n",
       "    </tr>\n",
       "    <tr>\n",
       "      <th>...</th>\n",
       "      <td>...</td>\n",
       "      <td>...</td>\n",
       "      <td>...</td>\n",
       "      <td>...</td>\n",
       "      <td>...</td>\n",
       "      <td>...</td>\n",
       "      <td>...</td>\n",
       "      <td>...</td>\n",
       "      <td>...</td>\n",
       "      <td>...</td>\n",
       "      <td>...</td>\n",
       "      <td>...</td>\n",
       "      <td>...</td>\n",
       "      <td>...</td>\n",
       "      <td>...</td>\n",
       "      <td>...</td>\n",
       "      <td>...</td>\n",
       "      <td>...</td>\n",
       "      <td>...</td>\n",
       "      <td>...</td>\n",
       "      <td>...</td>\n",
       "    </tr>\n",
       "    <tr>\n",
       "      <th>1455</th>\n",
       "      <td>1456</td>\n",
       "      <td>60</td>\n",
       "      <td>RL</td>\n",
       "      <td>62.0</td>\n",
       "      <td>7917</td>\n",
       "      <td>Pave</td>\n",
       "      <td>NaN</td>\n",
       "      <td>Reg</td>\n",
       "      <td>Lvl</td>\n",
       "      <td>AllPub</td>\n",
       "      <td>...</td>\n",
       "      <td>0</td>\n",
       "      <td>NaN</td>\n",
       "      <td>NaN</td>\n",
       "      <td>NaN</td>\n",
       "      <td>0</td>\n",
       "      <td>8</td>\n",
       "      <td>2007</td>\n",
       "      <td>WD</td>\n",
       "      <td>Normal</td>\n",
       "      <td>175000</td>\n",
       "    </tr>\n",
       "    <tr>\n",
       "      <th>1456</th>\n",
       "      <td>1457</td>\n",
       "      <td>20</td>\n",
       "      <td>RL</td>\n",
       "      <td>85.0</td>\n",
       "      <td>13175</td>\n",
       "      <td>Pave</td>\n",
       "      <td>NaN</td>\n",
       "      <td>Reg</td>\n",
       "      <td>Lvl</td>\n",
       "      <td>AllPub</td>\n",
       "      <td>...</td>\n",
       "      <td>0</td>\n",
       "      <td>NaN</td>\n",
       "      <td>MnPrv</td>\n",
       "      <td>NaN</td>\n",
       "      <td>0</td>\n",
       "      <td>2</td>\n",
       "      <td>2010</td>\n",
       "      <td>WD</td>\n",
       "      <td>Normal</td>\n",
       "      <td>210000</td>\n",
       "    </tr>\n",
       "    <tr>\n",
       "      <th>1457</th>\n",
       "      <td>1458</td>\n",
       "      <td>70</td>\n",
       "      <td>RL</td>\n",
       "      <td>66.0</td>\n",
       "      <td>9042</td>\n",
       "      <td>Pave</td>\n",
       "      <td>NaN</td>\n",
       "      <td>Reg</td>\n",
       "      <td>Lvl</td>\n",
       "      <td>AllPub</td>\n",
       "      <td>...</td>\n",
       "      <td>0</td>\n",
       "      <td>NaN</td>\n",
       "      <td>GdPrv</td>\n",
       "      <td>Shed</td>\n",
       "      <td>2500</td>\n",
       "      <td>5</td>\n",
       "      <td>2010</td>\n",
       "      <td>WD</td>\n",
       "      <td>Normal</td>\n",
       "      <td>266500</td>\n",
       "    </tr>\n",
       "    <tr>\n",
       "      <th>1458</th>\n",
       "      <td>1459</td>\n",
       "      <td>20</td>\n",
       "      <td>RL</td>\n",
       "      <td>68.0</td>\n",
       "      <td>9717</td>\n",
       "      <td>Pave</td>\n",
       "      <td>NaN</td>\n",
       "      <td>Reg</td>\n",
       "      <td>Lvl</td>\n",
       "      <td>AllPub</td>\n",
       "      <td>...</td>\n",
       "      <td>0</td>\n",
       "      <td>NaN</td>\n",
       "      <td>NaN</td>\n",
       "      <td>NaN</td>\n",
       "      <td>0</td>\n",
       "      <td>4</td>\n",
       "      <td>2010</td>\n",
       "      <td>WD</td>\n",
       "      <td>Normal</td>\n",
       "      <td>142125</td>\n",
       "    </tr>\n",
       "    <tr>\n",
       "      <th>1459</th>\n",
       "      <td>1460</td>\n",
       "      <td>20</td>\n",
       "      <td>RL</td>\n",
       "      <td>75.0</td>\n",
       "      <td>9937</td>\n",
       "      <td>Pave</td>\n",
       "      <td>NaN</td>\n",
       "      <td>Reg</td>\n",
       "      <td>Lvl</td>\n",
       "      <td>AllPub</td>\n",
       "      <td>...</td>\n",
       "      <td>0</td>\n",
       "      <td>NaN</td>\n",
       "      <td>NaN</td>\n",
       "      <td>NaN</td>\n",
       "      <td>0</td>\n",
       "      <td>6</td>\n",
       "      <td>2008</td>\n",
       "      <td>WD</td>\n",
       "      <td>Normal</td>\n",
       "      <td>147500</td>\n",
       "    </tr>\n",
       "  </tbody>\n",
       "</table>\n",
       "<p>1460 rows × 81 columns</p>\n",
       "</div>"
      ],
      "text/plain": [
       "        Id  MSSubClass MSZoning  LotFrontage  LotArea Street Alley LotShape  \\\n",
       "0        1          60       RL         65.0     8450   Pave   NaN      Reg   \n",
       "1        2          20       RL         80.0     9600   Pave   NaN      Reg   \n",
       "2        3          60       RL         68.0    11250   Pave   NaN      IR1   \n",
       "3        4          70       RL         60.0     9550   Pave   NaN      IR1   \n",
       "4        5          60       RL         84.0    14260   Pave   NaN      IR1   \n",
       "...    ...         ...      ...          ...      ...    ...   ...      ...   \n",
       "1455  1456          60       RL         62.0     7917   Pave   NaN      Reg   \n",
       "1456  1457          20       RL         85.0    13175   Pave   NaN      Reg   \n",
       "1457  1458          70       RL         66.0     9042   Pave   NaN      Reg   \n",
       "1458  1459          20       RL         68.0     9717   Pave   NaN      Reg   \n",
       "1459  1460          20       RL         75.0     9937   Pave   NaN      Reg   \n",
       "\n",
       "     LandContour Utilities  ... PoolArea PoolQC  Fence MiscFeature MiscVal  \\\n",
       "0            Lvl    AllPub  ...        0    NaN    NaN         NaN       0   \n",
       "1            Lvl    AllPub  ...        0    NaN    NaN         NaN       0   \n",
       "2            Lvl    AllPub  ...        0    NaN    NaN         NaN       0   \n",
       "3            Lvl    AllPub  ...        0    NaN    NaN         NaN       0   \n",
       "4            Lvl    AllPub  ...        0    NaN    NaN         NaN       0   \n",
       "...          ...       ...  ...      ...    ...    ...         ...     ...   \n",
       "1455         Lvl    AllPub  ...        0    NaN    NaN         NaN       0   \n",
       "1456         Lvl    AllPub  ...        0    NaN  MnPrv         NaN       0   \n",
       "1457         Lvl    AllPub  ...        0    NaN  GdPrv        Shed    2500   \n",
       "1458         Lvl    AllPub  ...        0    NaN    NaN         NaN       0   \n",
       "1459         Lvl    AllPub  ...        0    NaN    NaN         NaN       0   \n",
       "\n",
       "     MoSold YrSold  SaleType  SaleCondition  SalePrice  \n",
       "0         2   2008        WD         Normal     208500  \n",
       "1         5   2007        WD         Normal     181500  \n",
       "2         9   2008        WD         Normal     223500  \n",
       "3         2   2006        WD        Abnorml     140000  \n",
       "4        12   2008        WD         Normal     250000  \n",
       "...     ...    ...       ...            ...        ...  \n",
       "1455      8   2007        WD         Normal     175000  \n",
       "1456      2   2010        WD         Normal     210000  \n",
       "1457      5   2010        WD         Normal     266500  \n",
       "1458      4   2010        WD         Normal     142125  \n",
       "1459      6   2008        WD         Normal     147500  \n",
       "\n",
       "[1460 rows x 81 columns]"
      ]
     },
     "execution_count": 6,
     "metadata": {},
     "output_type": "execute_result"
    }
   ],
   "source": [
    "train_df"
   ]
  },
  {
   "cell_type": "code",
   "execution_count": 7,
   "id": "8f90e293",
   "metadata": {},
   "outputs": [],
   "source": [
    "# OverallQual, YearBUil, TotalBsmtSF, GrLiveArea"
   ]
  },
  {
   "cell_type": "code",
   "execution_count": null,
   "id": "31a7fb4b",
   "metadata": {},
   "outputs": [],
   "source": []
  },
  {
   "cell_type": "code",
   "execution_count": 8,
   "id": "c10e53c9",
   "metadata": {},
   "outputs": [],
   "source": [
    "from sklearn.preprocessing import LabelEncoder\n",
    "features = ['ExterQual','BsmtQual']\n",
    "for feature in features:   \n",
    "    le = LabelEncoder()\n",
    "    train_df[feature] = le.fit_transform(train_df[feature])\n",
    "    test_df[feature] = le.fit_transform(test_df[feature])"
   ]
  },
  {
   "cell_type": "code",
   "execution_count": null,
   "id": "78652b18",
   "metadata": {},
   "outputs": [],
   "source": []
  },
  {
   "cell_type": "code",
   "execution_count": 9,
   "id": "de698ca3",
   "metadata": {},
   "outputs": [
    {
     "data": {
      "text/plain": [
       "0       3\n",
       "1       3\n",
       "2       2\n",
       "3       3\n",
       "4       2\n",
       "       ..\n",
       "1454    3\n",
       "1455    3\n",
       "1456    3\n",
       "1457    2\n",
       "1458    2\n",
       "Name: BsmtQual, Length: 1459, dtype: int64"
      ]
     },
     "execution_count": 9,
     "metadata": {},
     "output_type": "execute_result"
    }
   ],
   "source": [
    "test_df['BsmtQual']"
   ]
  },
  {
   "cell_type": "code",
   "execution_count": 10,
   "id": "348a10d8",
   "metadata": {},
   "outputs": [
    {
     "data": {
      "text/html": [
       "<div>\n",
       "<style scoped>\n",
       "    .dataframe tbody tr th:only-of-type {\n",
       "        vertical-align: middle;\n",
       "    }\n",
       "\n",
       "    .dataframe tbody tr th {\n",
       "        vertical-align: top;\n",
       "    }\n",
       "\n",
       "    .dataframe thead th {\n",
       "        text-align: right;\n",
       "    }\n",
       "</style>\n",
       "<table border=\"1\" class=\"dataframe\">\n",
       "  <thead>\n",
       "    <tr style=\"text-align: right;\">\n",
       "      <th></th>\n",
       "      <th>Id</th>\n",
       "      <th>MSSubClass</th>\n",
       "      <th>MSZoning</th>\n",
       "      <th>LotFrontage</th>\n",
       "      <th>LotArea</th>\n",
       "      <th>Street</th>\n",
       "      <th>Alley</th>\n",
       "      <th>LotShape</th>\n",
       "      <th>LandContour</th>\n",
       "      <th>Utilities</th>\n",
       "      <th>...</th>\n",
       "      <th>PoolArea</th>\n",
       "      <th>PoolQC</th>\n",
       "      <th>Fence</th>\n",
       "      <th>MiscFeature</th>\n",
       "      <th>MiscVal</th>\n",
       "      <th>MoSold</th>\n",
       "      <th>YrSold</th>\n",
       "      <th>SaleType</th>\n",
       "      <th>SaleCondition</th>\n",
       "      <th>SalePrice</th>\n",
       "    </tr>\n",
       "  </thead>\n",
       "  <tbody>\n",
       "    <tr>\n",
       "      <th>0</th>\n",
       "      <td>1</td>\n",
       "      <td>60</td>\n",
       "      <td>RL</td>\n",
       "      <td>65.0</td>\n",
       "      <td>8450</td>\n",
       "      <td>Pave</td>\n",
       "      <td>NaN</td>\n",
       "      <td>Reg</td>\n",
       "      <td>Lvl</td>\n",
       "      <td>AllPub</td>\n",
       "      <td>...</td>\n",
       "      <td>0</td>\n",
       "      <td>NaN</td>\n",
       "      <td>NaN</td>\n",
       "      <td>NaN</td>\n",
       "      <td>0</td>\n",
       "      <td>2</td>\n",
       "      <td>2008</td>\n",
       "      <td>WD</td>\n",
       "      <td>Normal</td>\n",
       "      <td>208500</td>\n",
       "    </tr>\n",
       "    <tr>\n",
       "      <th>1</th>\n",
       "      <td>2</td>\n",
       "      <td>20</td>\n",
       "      <td>RL</td>\n",
       "      <td>80.0</td>\n",
       "      <td>9600</td>\n",
       "      <td>Pave</td>\n",
       "      <td>NaN</td>\n",
       "      <td>Reg</td>\n",
       "      <td>Lvl</td>\n",
       "      <td>AllPub</td>\n",
       "      <td>...</td>\n",
       "      <td>0</td>\n",
       "      <td>NaN</td>\n",
       "      <td>NaN</td>\n",
       "      <td>NaN</td>\n",
       "      <td>0</td>\n",
       "      <td>5</td>\n",
       "      <td>2007</td>\n",
       "      <td>WD</td>\n",
       "      <td>Normal</td>\n",
       "      <td>181500</td>\n",
       "    </tr>\n",
       "    <tr>\n",
       "      <th>2</th>\n",
       "      <td>3</td>\n",
       "      <td>60</td>\n",
       "      <td>RL</td>\n",
       "      <td>68.0</td>\n",
       "      <td>11250</td>\n",
       "      <td>Pave</td>\n",
       "      <td>NaN</td>\n",
       "      <td>IR1</td>\n",
       "      <td>Lvl</td>\n",
       "      <td>AllPub</td>\n",
       "      <td>...</td>\n",
       "      <td>0</td>\n",
       "      <td>NaN</td>\n",
       "      <td>NaN</td>\n",
       "      <td>NaN</td>\n",
       "      <td>0</td>\n",
       "      <td>9</td>\n",
       "      <td>2008</td>\n",
       "      <td>WD</td>\n",
       "      <td>Normal</td>\n",
       "      <td>223500</td>\n",
       "    </tr>\n",
       "    <tr>\n",
       "      <th>3</th>\n",
       "      <td>4</td>\n",
       "      <td>70</td>\n",
       "      <td>RL</td>\n",
       "      <td>60.0</td>\n",
       "      <td>9550</td>\n",
       "      <td>Pave</td>\n",
       "      <td>NaN</td>\n",
       "      <td>IR1</td>\n",
       "      <td>Lvl</td>\n",
       "      <td>AllPub</td>\n",
       "      <td>...</td>\n",
       "      <td>0</td>\n",
       "      <td>NaN</td>\n",
       "      <td>NaN</td>\n",
       "      <td>NaN</td>\n",
       "      <td>0</td>\n",
       "      <td>2</td>\n",
       "      <td>2006</td>\n",
       "      <td>WD</td>\n",
       "      <td>Abnorml</td>\n",
       "      <td>140000</td>\n",
       "    </tr>\n",
       "    <tr>\n",
       "      <th>4</th>\n",
       "      <td>5</td>\n",
       "      <td>60</td>\n",
       "      <td>RL</td>\n",
       "      <td>84.0</td>\n",
       "      <td>14260</td>\n",
       "      <td>Pave</td>\n",
       "      <td>NaN</td>\n",
       "      <td>IR1</td>\n",
       "      <td>Lvl</td>\n",
       "      <td>AllPub</td>\n",
       "      <td>...</td>\n",
       "      <td>0</td>\n",
       "      <td>NaN</td>\n",
       "      <td>NaN</td>\n",
       "      <td>NaN</td>\n",
       "      <td>0</td>\n",
       "      <td>12</td>\n",
       "      <td>2008</td>\n",
       "      <td>WD</td>\n",
       "      <td>Normal</td>\n",
       "      <td>250000</td>\n",
       "    </tr>\n",
       "    <tr>\n",
       "      <th>...</th>\n",
       "      <td>...</td>\n",
       "      <td>...</td>\n",
       "      <td>...</td>\n",
       "      <td>...</td>\n",
       "      <td>...</td>\n",
       "      <td>...</td>\n",
       "      <td>...</td>\n",
       "      <td>...</td>\n",
       "      <td>...</td>\n",
       "      <td>...</td>\n",
       "      <td>...</td>\n",
       "      <td>...</td>\n",
       "      <td>...</td>\n",
       "      <td>...</td>\n",
       "      <td>...</td>\n",
       "      <td>...</td>\n",
       "      <td>...</td>\n",
       "      <td>...</td>\n",
       "      <td>...</td>\n",
       "      <td>...</td>\n",
       "      <td>...</td>\n",
       "    </tr>\n",
       "    <tr>\n",
       "      <th>1455</th>\n",
       "      <td>1456</td>\n",
       "      <td>60</td>\n",
       "      <td>RL</td>\n",
       "      <td>62.0</td>\n",
       "      <td>7917</td>\n",
       "      <td>Pave</td>\n",
       "      <td>NaN</td>\n",
       "      <td>Reg</td>\n",
       "      <td>Lvl</td>\n",
       "      <td>AllPub</td>\n",
       "      <td>...</td>\n",
       "      <td>0</td>\n",
       "      <td>NaN</td>\n",
       "      <td>NaN</td>\n",
       "      <td>NaN</td>\n",
       "      <td>0</td>\n",
       "      <td>8</td>\n",
       "      <td>2007</td>\n",
       "      <td>WD</td>\n",
       "      <td>Normal</td>\n",
       "      <td>175000</td>\n",
       "    </tr>\n",
       "    <tr>\n",
       "      <th>1456</th>\n",
       "      <td>1457</td>\n",
       "      <td>20</td>\n",
       "      <td>RL</td>\n",
       "      <td>85.0</td>\n",
       "      <td>13175</td>\n",
       "      <td>Pave</td>\n",
       "      <td>NaN</td>\n",
       "      <td>Reg</td>\n",
       "      <td>Lvl</td>\n",
       "      <td>AllPub</td>\n",
       "      <td>...</td>\n",
       "      <td>0</td>\n",
       "      <td>NaN</td>\n",
       "      <td>MnPrv</td>\n",
       "      <td>NaN</td>\n",
       "      <td>0</td>\n",
       "      <td>2</td>\n",
       "      <td>2010</td>\n",
       "      <td>WD</td>\n",
       "      <td>Normal</td>\n",
       "      <td>210000</td>\n",
       "    </tr>\n",
       "    <tr>\n",
       "      <th>1457</th>\n",
       "      <td>1458</td>\n",
       "      <td>70</td>\n",
       "      <td>RL</td>\n",
       "      <td>66.0</td>\n",
       "      <td>9042</td>\n",
       "      <td>Pave</td>\n",
       "      <td>NaN</td>\n",
       "      <td>Reg</td>\n",
       "      <td>Lvl</td>\n",
       "      <td>AllPub</td>\n",
       "      <td>...</td>\n",
       "      <td>0</td>\n",
       "      <td>NaN</td>\n",
       "      <td>GdPrv</td>\n",
       "      <td>Shed</td>\n",
       "      <td>2500</td>\n",
       "      <td>5</td>\n",
       "      <td>2010</td>\n",
       "      <td>WD</td>\n",
       "      <td>Normal</td>\n",
       "      <td>266500</td>\n",
       "    </tr>\n",
       "    <tr>\n",
       "      <th>1458</th>\n",
       "      <td>1459</td>\n",
       "      <td>20</td>\n",
       "      <td>RL</td>\n",
       "      <td>68.0</td>\n",
       "      <td>9717</td>\n",
       "      <td>Pave</td>\n",
       "      <td>NaN</td>\n",
       "      <td>Reg</td>\n",
       "      <td>Lvl</td>\n",
       "      <td>AllPub</td>\n",
       "      <td>...</td>\n",
       "      <td>0</td>\n",
       "      <td>NaN</td>\n",
       "      <td>NaN</td>\n",
       "      <td>NaN</td>\n",
       "      <td>0</td>\n",
       "      <td>4</td>\n",
       "      <td>2010</td>\n",
       "      <td>WD</td>\n",
       "      <td>Normal</td>\n",
       "      <td>142125</td>\n",
       "    </tr>\n",
       "    <tr>\n",
       "      <th>1459</th>\n",
       "      <td>1460</td>\n",
       "      <td>20</td>\n",
       "      <td>RL</td>\n",
       "      <td>75.0</td>\n",
       "      <td>9937</td>\n",
       "      <td>Pave</td>\n",
       "      <td>NaN</td>\n",
       "      <td>Reg</td>\n",
       "      <td>Lvl</td>\n",
       "      <td>AllPub</td>\n",
       "      <td>...</td>\n",
       "      <td>0</td>\n",
       "      <td>NaN</td>\n",
       "      <td>NaN</td>\n",
       "      <td>NaN</td>\n",
       "      <td>0</td>\n",
       "      <td>6</td>\n",
       "      <td>2008</td>\n",
       "      <td>WD</td>\n",
       "      <td>Normal</td>\n",
       "      <td>147500</td>\n",
       "    </tr>\n",
       "  </tbody>\n",
       "</table>\n",
       "<p>1460 rows × 81 columns</p>\n",
       "</div>"
      ],
      "text/plain": [
       "        Id  MSSubClass MSZoning  LotFrontage  LotArea Street Alley LotShape  \\\n",
       "0        1          60       RL         65.0     8450   Pave   NaN      Reg   \n",
       "1        2          20       RL         80.0     9600   Pave   NaN      Reg   \n",
       "2        3          60       RL         68.0    11250   Pave   NaN      IR1   \n",
       "3        4          70       RL         60.0     9550   Pave   NaN      IR1   \n",
       "4        5          60       RL         84.0    14260   Pave   NaN      IR1   \n",
       "...    ...         ...      ...          ...      ...    ...   ...      ...   \n",
       "1455  1456          60       RL         62.0     7917   Pave   NaN      Reg   \n",
       "1456  1457          20       RL         85.0    13175   Pave   NaN      Reg   \n",
       "1457  1458          70       RL         66.0     9042   Pave   NaN      Reg   \n",
       "1458  1459          20       RL         68.0     9717   Pave   NaN      Reg   \n",
       "1459  1460          20       RL         75.0     9937   Pave   NaN      Reg   \n",
       "\n",
       "     LandContour Utilities  ... PoolArea PoolQC  Fence MiscFeature MiscVal  \\\n",
       "0            Lvl    AllPub  ...        0    NaN    NaN         NaN       0   \n",
       "1            Lvl    AllPub  ...        0    NaN    NaN         NaN       0   \n",
       "2            Lvl    AllPub  ...        0    NaN    NaN         NaN       0   \n",
       "3            Lvl    AllPub  ...        0    NaN    NaN         NaN       0   \n",
       "4            Lvl    AllPub  ...        0    NaN    NaN         NaN       0   \n",
       "...          ...       ...  ...      ...    ...    ...         ...     ...   \n",
       "1455         Lvl    AllPub  ...        0    NaN    NaN         NaN       0   \n",
       "1456         Lvl    AllPub  ...        0    NaN  MnPrv         NaN       0   \n",
       "1457         Lvl    AllPub  ...        0    NaN  GdPrv        Shed    2500   \n",
       "1458         Lvl    AllPub  ...        0    NaN    NaN         NaN       0   \n",
       "1459         Lvl    AllPub  ...        0    NaN    NaN         NaN       0   \n",
       "\n",
       "     MoSold YrSold  SaleType  SaleCondition  SalePrice  \n",
       "0         2   2008        WD         Normal     208500  \n",
       "1         5   2007        WD         Normal     181500  \n",
       "2         9   2008        WD         Normal     223500  \n",
       "3         2   2006        WD        Abnorml     140000  \n",
       "4        12   2008        WD         Normal     250000  \n",
       "...     ...    ...       ...            ...        ...  \n",
       "1455      8   2007        WD         Normal     175000  \n",
       "1456      2   2010        WD         Normal     210000  \n",
       "1457      5   2010        WD         Normal     266500  \n",
       "1458      4   2010        WD         Normal     142125  \n",
       "1459      6   2008        WD         Normal     147500  \n",
       "\n",
       "[1460 rows x 81 columns]"
      ]
     },
     "execution_count": 10,
     "metadata": {},
     "output_type": "execute_result"
    }
   ],
   "source": [
    "train_df"
   ]
  },
  {
   "cell_type": "code",
   "execution_count": null,
   "id": "e0de8792",
   "metadata": {},
   "outputs": [],
   "source": []
  },
  {
   "cell_type": "markdown",
   "id": "f2a153d9",
   "metadata": {},
   "source": [
    "# SalePrice 데이터 분석"
   ]
  },
  {
   "cell_type": "code",
   "execution_count": 11,
   "id": "cea185ac",
   "metadata": {},
   "outputs": [
    {
     "data": {
      "text/plain": [
       "count      1460.000000\n",
       "mean     180921.195890\n",
       "std       79442.502883\n",
       "min       34900.000000\n",
       "25%      129975.000000\n",
       "50%      163000.000000\n",
       "75%      214000.000000\n",
       "max      755000.000000\n",
       "Name: SalePrice, dtype: float64"
      ]
     },
     "execution_count": 11,
     "metadata": {},
     "output_type": "execute_result"
    }
   ],
   "source": [
    "train_df['SalePrice'].describe()"
   ]
  },
  {
   "cell_type": "code",
   "execution_count": 12,
   "id": "3f74b0f7",
   "metadata": {},
   "outputs": [
    {
     "name": "stderr",
     "output_type": "stream",
     "text": [
      "/home/ai-sjjy/anaconda3/lib/python3.8/site-packages/seaborn/distributions.py:2557: FutureWarning: `distplot` is a deprecated function and will be removed in a future version. Please adapt your code to use either `displot` (a figure-level function with similar flexibility) or `histplot` (an axes-level function for histograms).\n",
      "  warnings.warn(msg, FutureWarning)\n"
     ]
    },
    {
     "data": {
      "image/png": "[encoded data removed]",
      "text/plain": [
       "<Figure size 432x288 with 1 Axes>"
      ]
     },
     "metadata": {
      "needs_background": "light"
     },
     "output_type": "display_data"
    }
   ],
   "source": [
    "sns.distplot(train_df['SalePrice']);"
   ]
  },
  {
   "cell_type": "code",
   "execution_count": 13,
   "id": "b2cf0258",
   "metadata": {},
   "outputs": [
    {
     "name": "stderr",
     "output_type": "stream",
     "text": [
      "/home/ai-sjjy/anaconda3/lib/python3.8/site-packages/seaborn/distributions.py:2557: FutureWarning: `distplot` is a deprecated function and will be removed in a future version. Please adapt your code to use either `displot` (a figure-level function with similar flexibility) or `histplot` (an axes-level function for histograms).\n",
      "  warnings.warn(msg, FutureWarning)\n"
     ]
    },
    {
     "data": {
      "text/plain": [
       "<AxesSubplot:xlabel='SalePrice', ylabel='Density'>"
      ]
     },
     "execution_count": 13,
     "metadata": {},
     "output_type": "execute_result"
    },
    {
     "data": {
      "image/png": "[encoded data removed]",
      "text/plain": [
       "<Figure size 432x288 with 1 Axes>"
      ]
     },
     "metadata": {
      "needs_background": "light"
     },
     "output_type": "display_data"
    }
   ],
   "source": [
    "sns.distplot(np.log(train_df['SalePrice']), kde=True)  # log-normal dist"
   ]
  },
  {
   "cell_type": "code",
   "execution_count": null,
   "id": "0af81654",
   "metadata": {},
   "outputs": [],
   "source": []
  },
  {
   "cell_type": "code",
   "execution_count": null,
   "id": "3ea4803e",
   "metadata": {},
   "outputs": [],
   "source": []
  },
  {
   "cell_type": "code",
   "execution_count": null,
   "id": "ffec282a",
   "metadata": {},
   "outputs": [],
   "source": []
  },
  {
   "cell_type": "code",
   "execution_count": 14,
   "id": "be430322",
   "metadata": {},
   "outputs": [
    {
     "data": {
      "image/png": "[encoded data removed]",
      "text/plain": [
       "<Figure size 864x648 with 2 Axes>"
      ]
     },
     "metadata": {
      "needs_background": "light"
     },
     "output_type": "display_data"
    }
   ],
   "source": [
    "corrmat = train_df.corr()\n",
    "f, ax = plt.subplots(figsize=(12, 9))\n",
    "sns.heatmap(corrmat, vmax=.8, square=True);"
   ]
  },
  {
   "cell_type": "code",
   "execution_count": 15,
   "id": "43548afb",
   "metadata": {},
   "outputs": [
    {
     "data": {
      "text/html": [
       "<div>\n",
       "<style scoped>\n",
       "    .dataframe tbody tr th:only-of-type {\n",
       "        vertical-align: middle;\n",
       "    }\n",
       "\n",
       "    .dataframe tbody tr th {\n",
       "        vertical-align: top;\n",
       "    }\n",
       "\n",
       "    .dataframe thead th {\n",
       "        text-align: right;\n",
       "    }\n",
       "</style>\n",
       "<table border=\"1\" class=\"dataframe\">\n",
       "  <thead>\n",
       "    <tr style=\"text-align: right;\">\n",
       "      <th></th>\n",
       "      <th>SalePrice</th>\n",
       "      <th>OverallQual</th>\n",
       "      <th>GrLivArea</th>\n",
       "      <th>GarageCars</th>\n",
       "      <th>GarageArea</th>\n",
       "      <th>TotalBsmtSF</th>\n",
       "      <th>1stFlrSF</th>\n",
       "      <th>FullBath</th>\n",
       "      <th>TotRmsAbvGrd</th>\n",
       "      <th>YearBuilt</th>\n",
       "      <th>...</th>\n",
       "      <th>MiscVal</th>\n",
       "      <th>Id</th>\n",
       "      <th>LowQualFinSF</th>\n",
       "      <th>YrSold</th>\n",
       "      <th>OverallCond</th>\n",
       "      <th>MSSubClass</th>\n",
       "      <th>EnclosedPorch</th>\n",
       "      <th>KitchenAbvGr</th>\n",
       "      <th>BsmtQual</th>\n",
       "      <th>ExterQual</th>\n",
       "    </tr>\n",
       "  </thead>\n",
       "  <tbody>\n",
       "    <tr>\n",
       "      <th>MoSold</th>\n",
       "      <td>0.046432</td>\n",
       "      <td>0.070815</td>\n",
       "      <td>0.050240</td>\n",
       "      <td>0.040522</td>\n",
       "      <td>0.027974</td>\n",
       "      <td>0.013196</td>\n",
       "      <td>0.031372</td>\n",
       "      <td>0.055872</td>\n",
       "      <td>0.036907</td>\n",
       "      <td>0.012398</td>\n",
       "      <td>...</td>\n",
       "      <td>-0.006495</td>\n",
       "      <td>0.021172</td>\n",
       "      <td>-0.022174</td>\n",
       "      <td>-0.145721</td>\n",
       "      <td>-0.003511</td>\n",
       "      <td>-0.013585</td>\n",
       "      <td>-0.028887</td>\n",
       "      <td>0.026589</td>\n",
       "      <td>-0.008056</td>\n",
       "      <td>-0.024720</td>\n",
       "    </tr>\n",
       "    <tr>\n",
       "      <th>YrSold</th>\n",
       "      <td>-0.028923</td>\n",
       "      <td>-0.027347</td>\n",
       "      <td>-0.036526</td>\n",
       "      <td>-0.039117</td>\n",
       "      <td>-0.027378</td>\n",
       "      <td>-0.014969</td>\n",
       "      <td>-0.013604</td>\n",
       "      <td>-0.019669</td>\n",
       "      <td>-0.034516</td>\n",
       "      <td>-0.013618</td>\n",
       "      <td>...</td>\n",
       "      <td>0.004906</td>\n",
       "      <td>0.000712</td>\n",
       "      <td>-0.028921</td>\n",
       "      <td>1.000000</td>\n",
       "      <td>0.043950</td>\n",
       "      <td>-0.021407</td>\n",
       "      <td>-0.009916</td>\n",
       "      <td>0.031687</td>\n",
       "      <td>0.029369</td>\n",
       "      <td>-0.036300</td>\n",
       "    </tr>\n",
       "    <tr>\n",
       "      <th>SalePrice</th>\n",
       "      <td>1.000000</td>\n",
       "      <td>0.790982</td>\n",
       "      <td>0.708624</td>\n",
       "      <td>0.640409</td>\n",
       "      <td>0.623431</td>\n",
       "      <td>0.613581</td>\n",
       "      <td>0.605852</td>\n",
       "      <td>0.560664</td>\n",
       "      <td>0.533723</td>\n",
       "      <td>0.522897</td>\n",
       "      <td>...</td>\n",
       "      <td>-0.021190</td>\n",
       "      <td>-0.021917</td>\n",
       "      <td>-0.025606</td>\n",
       "      <td>-0.028923</td>\n",
       "      <td>-0.077856</td>\n",
       "      <td>-0.084284</td>\n",
       "      <td>-0.128578</td>\n",
       "      <td>-0.135907</td>\n",
       "      <td>-0.620886</td>\n",
       "      <td>-0.636884</td>\n",
       "    </tr>\n",
       "  </tbody>\n",
       "</table>\n",
       "<p>3 rows × 40 columns</p>\n",
       "</div>"
      ],
      "text/plain": [
       "           SalePrice  OverallQual  GrLivArea  GarageCars  GarageArea  \\\n",
       "MoSold      0.046432     0.070815   0.050240    0.040522    0.027974   \n",
       "YrSold     -0.028923    -0.027347  -0.036526   -0.039117   -0.027378   \n",
       "SalePrice   1.000000     0.790982   0.708624    0.640409    0.623431   \n",
       "\n",
       "           TotalBsmtSF  1stFlrSF  FullBath  TotRmsAbvGrd  YearBuilt  ...  \\\n",
       "MoSold        0.013196  0.031372  0.055872      0.036907   0.012398  ...   \n",
       "YrSold       -0.014969 -0.013604 -0.019669     -0.034516  -0.013618  ...   \n",
       "SalePrice     0.613581  0.605852  0.560664      0.533723   0.522897  ...   \n",
       "\n",
       "            MiscVal        Id  LowQualFinSF    YrSold  OverallCond  \\\n",
       "MoSold    -0.006495  0.021172     -0.022174 -0.145721    -0.003511   \n",
       "YrSold     0.004906  0.000712     -0.028921  1.000000     0.043950   \n",
       "SalePrice -0.021190 -0.021917     -0.025606 -0.028923    -0.077856   \n",
       "\n",
       "           MSSubClass  EnclosedPorch  KitchenAbvGr  BsmtQual  ExterQual  \n",
       "MoSold      -0.013585      -0.028887      0.026589 -0.008056  -0.024720  \n",
       "YrSold      -0.021407      -0.009916      0.031687  0.029369  -0.036300  \n",
       "SalePrice   -0.084284      -0.128578     -0.135907 -0.620886  -0.636884  \n",
       "\n",
       "[3 rows x 40 columns]"
      ]
     },
     "execution_count": 15,
     "metadata": {},
     "output_type": "execute_result"
    }
   ],
   "source": [
    "corrmat.sort_values(by='SalePrice', ascending=False).T.tail(3) # SalePrice 맨밑줄만 보기 위해"
   ]
  },
  {
   "cell_type": "code",
   "execution_count": 16,
   "id": "fb423247",
   "metadata": {},
   "outputs": [
    {
     "data": {
      "text/html": [
       "<div>\n",
       "<style scoped>\n",
       "    .dataframe tbody tr th:only-of-type {\n",
       "        vertical-align: middle;\n",
       "    }\n",
       "\n",
       "    .dataframe tbody tr th {\n",
       "        vertical-align: top;\n",
       "    }\n",
       "\n",
       "    .dataframe thead th {\n",
       "        text-align: right;\n",
       "    }\n",
       "</style>\n",
       "<table border=\"1\" class=\"dataframe\">\n",
       "  <thead>\n",
       "    <tr style=\"text-align: right;\">\n",
       "      <th></th>\n",
       "      <th>Id</th>\n",
       "      <th>MSSubClass</th>\n",
       "      <th>LotFrontage</th>\n",
       "      <th>LotArea</th>\n",
       "      <th>OverallQual</th>\n",
       "      <th>OverallCond</th>\n",
       "      <th>YearBuilt</th>\n",
       "      <th>YearRemodAdd</th>\n",
       "      <th>MasVnrArea</th>\n",
       "      <th>ExterQual</th>\n",
       "      <th>...</th>\n",
       "      <th>WoodDeckSF</th>\n",
       "      <th>OpenPorchSF</th>\n",
       "      <th>EnclosedPorch</th>\n",
       "      <th>3SsnPorch</th>\n",
       "      <th>ScreenPorch</th>\n",
       "      <th>PoolArea</th>\n",
       "      <th>MiscVal</th>\n",
       "      <th>MoSold</th>\n",
       "      <th>YrSold</th>\n",
       "      <th>SalePrice</th>\n",
       "    </tr>\n",
       "  </thead>\n",
       "  <tbody>\n",
       "    <tr>\n",
       "      <th>SalePrice</th>\n",
       "      <td>-0.021917</td>\n",
       "      <td>-0.084284</td>\n",
       "      <td>0.351799</td>\n",
       "      <td>0.263843</td>\n",
       "      <td>0.790982</td>\n",
       "      <td>-0.077856</td>\n",
       "      <td>0.522897</td>\n",
       "      <td>0.507101</td>\n",
       "      <td>0.477493</td>\n",
       "      <td>-0.636884</td>\n",
       "      <td>...</td>\n",
       "      <td>0.324413</td>\n",
       "      <td>0.315856</td>\n",
       "      <td>-0.128578</td>\n",
       "      <td>0.044584</td>\n",
       "      <td>0.111447</td>\n",
       "      <td>0.092404</td>\n",
       "      <td>-0.021190</td>\n",
       "      <td>0.046432</td>\n",
       "      <td>-0.028923</td>\n",
       "      <td>1.000000</td>\n",
       "    </tr>\n",
       "    <tr>\n",
       "      <th>OverallQual</th>\n",
       "      <td>-0.028365</td>\n",
       "      <td>0.032628</td>\n",
       "      <td>0.251646</td>\n",
       "      <td>0.105806</td>\n",
       "      <td>1.000000</td>\n",
       "      <td>-0.091932</td>\n",
       "      <td>0.572323</td>\n",
       "      <td>0.550684</td>\n",
       "      <td>0.411876</td>\n",
       "      <td>-0.634319</td>\n",
       "      <td>...</td>\n",
       "      <td>0.238923</td>\n",
       "      <td>0.308819</td>\n",
       "      <td>-0.113937</td>\n",
       "      <td>0.030371</td>\n",
       "      <td>0.064886</td>\n",
       "      <td>0.065166</td>\n",
       "      <td>-0.031406</td>\n",
       "      <td>0.070815</td>\n",
       "      <td>-0.027347</td>\n",
       "      <td>0.790982</td>\n",
       "    </tr>\n",
       "    <tr>\n",
       "      <th>GrLivArea</th>\n",
       "      <td>0.008273</td>\n",
       "      <td>0.074853</td>\n",
       "      <td>0.402797</td>\n",
       "      <td>0.263116</td>\n",
       "      <td>0.593007</td>\n",
       "      <td>-0.079686</td>\n",
       "      <td>0.199010</td>\n",
       "      <td>0.287389</td>\n",
       "      <td>0.390857</td>\n",
       "      <td>-0.407642</td>\n",
       "      <td>...</td>\n",
       "      <td>0.247433</td>\n",
       "      <td>0.330224</td>\n",
       "      <td>0.009113</td>\n",
       "      <td>0.020643</td>\n",
       "      <td>0.101510</td>\n",
       "      <td>0.170205</td>\n",
       "      <td>-0.002416</td>\n",
       "      <td>0.050240</td>\n",
       "      <td>-0.036526</td>\n",
       "      <td>0.708624</td>\n",
       "    </tr>\n",
       "    <tr>\n",
       "      <th>GarageCars</th>\n",
       "      <td>0.016570</td>\n",
       "      <td>-0.040110</td>\n",
       "      <td>0.285691</td>\n",
       "      <td>0.154871</td>\n",
       "      <td>0.600671</td>\n",
       "      <td>-0.185758</td>\n",
       "      <td>0.537850</td>\n",
       "      <td>0.420622</td>\n",
       "      <td>0.364204</td>\n",
       "      <td>-0.449980</td>\n",
       "      <td>...</td>\n",
       "      <td>0.226342</td>\n",
       "      <td>0.213569</td>\n",
       "      <td>-0.151434</td>\n",
       "      <td>0.035765</td>\n",
       "      <td>0.050494</td>\n",
       "      <td>0.020934</td>\n",
       "      <td>-0.043080</td>\n",
       "      <td>0.040522</td>\n",
       "      <td>-0.039117</td>\n",
       "      <td>0.640409</td>\n",
       "    </tr>\n",
       "    <tr>\n",
       "      <th>GarageArea</th>\n",
       "      <td>0.017634</td>\n",
       "      <td>-0.098672</td>\n",
       "      <td>0.344997</td>\n",
       "      <td>0.180403</td>\n",
       "      <td>0.562022</td>\n",
       "      <td>-0.151521</td>\n",
       "      <td>0.478954</td>\n",
       "      <td>0.371600</td>\n",
       "      <td>0.373066</td>\n",
       "      <td>-0.443532</td>\n",
       "      <td>...</td>\n",
       "      <td>0.224666</td>\n",
       "      <td>0.241435</td>\n",
       "      <td>-0.121777</td>\n",
       "      <td>0.035087</td>\n",
       "      <td>0.051412</td>\n",
       "      <td>0.061047</td>\n",
       "      <td>-0.027400</td>\n",
       "      <td>0.027974</td>\n",
       "      <td>-0.027378</td>\n",
       "      <td>0.623431</td>\n",
       "    </tr>\n",
       "    <tr>\n",
       "      <th>TotalBsmtSF</th>\n",
       "      <td>-0.015415</td>\n",
       "      <td>-0.238518</td>\n",
       "      <td>0.392075</td>\n",
       "      <td>0.260833</td>\n",
       "      <td>0.537808</td>\n",
       "      <td>-0.171098</td>\n",
       "      <td>0.391452</td>\n",
       "      <td>0.291066</td>\n",
       "      <td>0.363936</td>\n",
       "      <td>-0.445952</td>\n",
       "      <td>...</td>\n",
       "      <td>0.232019</td>\n",
       "      <td>0.247264</td>\n",
       "      <td>-0.095478</td>\n",
       "      <td>0.037384</td>\n",
       "      <td>0.084489</td>\n",
       "      <td>0.126053</td>\n",
       "      <td>-0.018479</td>\n",
       "      <td>0.013196</td>\n",
       "      <td>-0.014969</td>\n",
       "      <td>0.613581</td>\n",
       "    </tr>\n",
       "    <tr>\n",
       "      <th>1stFlrSF</th>\n",
       "      <td>0.010496</td>\n",
       "      <td>-0.251758</td>\n",
       "      <td>0.457181</td>\n",
       "      <td>0.299475</td>\n",
       "      <td>0.476224</td>\n",
       "      <td>-0.144203</td>\n",
       "      <td>0.281986</td>\n",
       "      <td>0.240379</td>\n",
       "      <td>0.344501</td>\n",
       "      <td>-0.383767</td>\n",
       "      <td>...</td>\n",
       "      <td>0.235459</td>\n",
       "      <td>0.211671</td>\n",
       "      <td>-0.065292</td>\n",
       "      <td>0.056104</td>\n",
       "      <td>0.088758</td>\n",
       "      <td>0.131525</td>\n",
       "      <td>-0.021096</td>\n",
       "      <td>0.031372</td>\n",
       "      <td>-0.013604</td>\n",
       "      <td>0.605852</td>\n",
       "    </tr>\n",
       "  </tbody>\n",
       "</table>\n",
       "<p>7 rows × 40 columns</p>\n",
       "</div>"
      ],
      "text/plain": [
       "                   Id  MSSubClass  LotFrontage   LotArea  OverallQual  \\\n",
       "SalePrice   -0.021917   -0.084284     0.351799  0.263843     0.790982   \n",
       "OverallQual -0.028365    0.032628     0.251646  0.105806     1.000000   \n",
       "GrLivArea    0.008273    0.074853     0.402797  0.263116     0.593007   \n",
       "GarageCars   0.016570   -0.040110     0.285691  0.154871     0.600671   \n",
       "GarageArea   0.017634   -0.098672     0.344997  0.180403     0.562022   \n",
       "TotalBsmtSF -0.015415   -0.238518     0.392075  0.260833     0.537808   \n",
       "1stFlrSF     0.010496   -0.251758     0.457181  0.299475     0.476224   \n",
       "\n",
       "             OverallCond  YearBuilt  YearRemodAdd  MasVnrArea  ExterQual  ...  \\\n",
       "SalePrice      -0.077856   0.522897      0.507101    0.477493  -0.636884  ...   \n",
       "OverallQual    -0.091932   0.572323      0.550684    0.411876  -0.634319  ...   \n",
       "GrLivArea      -0.079686   0.199010      0.287389    0.390857  -0.407642  ...   \n",
       "GarageCars     -0.185758   0.537850      0.420622    0.364204  -0.449980  ...   \n",
       "GarageArea     -0.151521   0.478954      0.371600    0.373066  -0.443532  ...   \n",
       "TotalBsmtSF    -0.171098   0.391452      0.291066    0.363936  -0.445952  ...   \n",
       "1stFlrSF       -0.144203   0.281986      0.240379    0.344501  -0.383767  ...   \n",
       "\n",
       "             WoodDeckSF  OpenPorchSF  EnclosedPorch  3SsnPorch  ScreenPorch  \\\n",
       "SalePrice      0.324413     0.315856      -0.128578   0.044584     0.111447   \n",
       "OverallQual    0.238923     0.308819      -0.113937   0.030371     0.064886   \n",
       "GrLivArea      0.247433     0.330224       0.009113   0.020643     0.101510   \n",
       "GarageCars     0.226342     0.213569      -0.151434   0.035765     0.050494   \n",
       "GarageArea     0.224666     0.241435      -0.121777   0.035087     0.051412   \n",
       "TotalBsmtSF    0.232019     0.247264      -0.095478   0.037384     0.084489   \n",
       "1stFlrSF       0.235459     0.211671      -0.065292   0.056104     0.088758   \n",
       "\n",
       "             PoolArea   MiscVal    MoSold    YrSold  SalePrice  \n",
       "SalePrice    0.092404 -0.021190  0.046432 -0.028923   1.000000  \n",
       "OverallQual  0.065166 -0.031406  0.070815 -0.027347   0.790982  \n",
       "GrLivArea    0.170205 -0.002416  0.050240 -0.036526   0.708624  \n",
       "GarageCars   0.020934 -0.043080  0.040522 -0.039117   0.640409  \n",
       "GarageArea   0.061047 -0.027400  0.027974 -0.027378   0.623431  \n",
       "TotalBsmtSF  0.126053 -0.018479  0.013196 -0.014969   0.613581  \n",
       "1stFlrSF     0.131525 -0.021096  0.031372 -0.013604   0.605852  \n",
       "\n",
       "[7 rows x 40 columns]"
      ]
     },
     "execution_count": 16,
     "metadata": {},
     "output_type": "execute_result"
    }
   ],
   "source": [
    "k=7\n",
    "cols = corrmat.nlargest(k, 'SalePrice') # SalePrice열기준 가장 큰 놈 순서대로 7개 나열\n",
    "cols  "
   ]
  },
  {
   "cell_type": "code",
   "execution_count": 17,
   "id": "34186942",
   "metadata": {},
   "outputs": [],
   "source": [
    "# GarageCars, OverallQual은 categorical data이고 ( 즉 discreate한 값들로 구성)\n",
    "# GrLivArea, GarageArea, TotalBsmtSF는 numerical data 일 것이다."
   ]
  },
  {
   "cell_type": "code",
   "execution_count": 18,
   "id": "1e1d29d1",
   "metadata": {},
   "outputs": [
    {
     "data": {
      "text/plain": [
       "0       2\n",
       "1       2\n",
       "2       2\n",
       "3       3\n",
       "4       3\n",
       "       ..\n",
       "1455    2\n",
       "1456    2\n",
       "1457    1\n",
       "1458    1\n",
       "1459    1\n",
       "Name: GarageCars, Length: 1460, dtype: int64"
      ]
     },
     "execution_count": 18,
     "metadata": {},
     "output_type": "execute_result"
    }
   ],
   "source": [
    "train_df.GarageCars"
   ]
  },
  {
   "cell_type": "code",
   "execution_count": 19,
   "id": "9a4aaaa0",
   "metadata": {},
   "outputs": [
    {
     "data": {
      "text/plain": [
       "0       7\n",
       "1       6\n",
       "2       7\n",
       "3       7\n",
       "4       8\n",
       "       ..\n",
       "1455    6\n",
       "1456    6\n",
       "1457    7\n",
       "1458    5\n",
       "1459    5\n",
       "Name: OverallQual, Length: 1460, dtype: int64"
      ]
     },
     "execution_count": 19,
     "metadata": {},
     "output_type": "execute_result"
    }
   ],
   "source": [
    "train_df.OverallQual"
   ]
  },
  {
   "cell_type": "code",
   "execution_count": 20,
   "id": "690a60b4",
   "metadata": {},
   "outputs": [
    {
     "data": {
      "text/plain": [
       "0       1710\n",
       "1       1262\n",
       "2       1786\n",
       "3       1717\n",
       "4       2198\n",
       "        ... \n",
       "1455    1647\n",
       "1456    2073\n",
       "1457    2340\n",
       "1458    1078\n",
       "1459    1256\n",
       "Name: GrLivArea, Length: 1460, dtype: int64"
      ]
     },
     "execution_count": 20,
     "metadata": {},
     "output_type": "execute_result"
    }
   ],
   "source": [
    "train_df.GrLivArea"
   ]
  },
  {
   "cell_type": "code",
   "execution_count": 21,
   "id": "32e86f55",
   "metadata": {},
   "outputs": [
    {
     "data": {
      "text/plain": [
       "0       548\n",
       "1       460\n",
       "2       608\n",
       "3       642\n",
       "4       836\n",
       "       ... \n",
       "1455    460\n",
       "1456    500\n",
       "1457    252\n",
       "1458    240\n",
       "1459    276\n",
       "Name: GarageArea, Length: 1460, dtype: int64"
      ]
     },
     "execution_count": 21,
     "metadata": {},
     "output_type": "execute_result"
    }
   ],
   "source": [
    "train_df.GarageArea"
   ]
  },
  {
   "cell_type": "code",
   "execution_count": 22,
   "id": "a824de41",
   "metadata": {},
   "outputs": [
    {
     "data": {
      "text/plain": [
       "0        856\n",
       "1       1262\n",
       "2        920\n",
       "3        756\n",
       "4       1145\n",
       "        ... \n",
       "1455     953\n",
       "1456    1542\n",
       "1457    1152\n",
       "1458    1078\n",
       "1459    1256\n",
       "Name: TotalBsmtSF, Length: 1460, dtype: int64"
      ]
     },
     "execution_count": 22,
     "metadata": {},
     "output_type": "execute_result"
    }
   ],
   "source": [
    "train_df.TotalBsmtSF"
   ]
  },
  {
   "cell_type": "code",
   "execution_count": 23,
   "id": "691dbcfd",
   "metadata": {},
   "outputs": [],
   "source": [
    "# 수치형 데이터 먼저 분석"
   ]
  },
  {
   "cell_type": "code",
   "execution_count": 24,
   "id": "7e09729d",
   "metadata": {},
   "outputs": [
    {
     "data": {
      "text/plain": [
       "<matplotlib.collections.PathCollection at 0x7f64d6ab7f70>"
      ]
     },
     "execution_count": 24,
     "metadata": {},
     "output_type": "execute_result"
    },
    {
     "data": {
      "image/png": "[encoded data removed]",
      "text/plain": [
       "<Figure size 864x576 with 3 Axes>"
      ]
     },
     "metadata": {
      "needs_background": "light"
     },
     "output_type": "display_data"
    }
   ],
   "source": [
    "var1 = 'GrLivArea'      \n",
    "var2 = 'GarageArea'\n",
    "var3 = 'TotalBsmtSF'     # 3개 모두 수치형 데이터(numerical data)\n",
    "\n",
    "plt.figure(figsize=(12,8))\n",
    "plt.subplot(1, 3, 1)\n",
    "plt.ylim(0, 800000)\n",
    "plt.scatter(train_df[var1], train_df.SalePrice)\n",
    "plt.subplot(1, 3, 2)\n",
    "plt.scatter(train_df[var2], train_df.SalePrice)\n",
    "plt.subplot(1, 3, 3)\n",
    "plt.scatter(train_df[var3], train_df.SalePrice)"
   ]
  },
  {
   "cell_type": "code",
   "execution_count": 25,
   "id": "66e07838",
   "metadata": {},
   "outputs": [],
   "source": [
    "# GrLivArea에 대해서 linear 함\n",
    "# \n"
   ]
  },
  {
   "cell_type": "code",
   "execution_count": null,
   "id": "79e9154e",
   "metadata": {},
   "outputs": [],
   "source": []
  },
  {
   "cell_type": "code",
   "execution_count": 26,
   "id": "dedb7dd7",
   "metadata": {},
   "outputs": [],
   "source": [
    "# 범주형 데이터 파악"
   ]
  },
  {
   "cell_type": "code",
   "execution_count": 27,
   "id": "9eeee4dc",
   "metadata": {},
   "outputs": [],
   "source": [
    "# OverallQual"
   ]
  },
  {
   "cell_type": "code",
   "execution_count": 28,
   "id": "be5ec796",
   "metadata": {},
   "outputs": [
    {
     "data": {
      "image/png": "[encoded data removed]",
      "text/plain": [
       "<Figure size 576x432 with 1 Axes>"
      ]
     },
     "metadata": {
      "needs_background": "light"
     },
     "output_type": "display_data"
    }
   ],
   "source": [
    "plt.subplots(figsize=(8, 6))\n",
    "fig = sns.boxplot(x='OverallQual', y=\"SalePrice\", data=train_df)\n",
    "fig.axis(ymin=0, ymax=800000);"
   ]
  },
  {
   "cell_type": "code",
   "execution_count": 29,
   "id": "74557e88",
   "metadata": {},
   "outputs": [],
   "source": [
    "# OverallQual의 각 카테고리(class)들에 대해 SalePrice의 값이 순차적으로 확연히 달라지는것을 확인할 수 있으므로\n",
    "# 굉장히 유용한 데이터임"
   ]
  },
  {
   "cell_type": "code",
   "execution_count": null,
   "id": "48b4103d",
   "metadata": {},
   "outputs": [],
   "source": []
  },
  {
   "cell_type": "code",
   "execution_count": 30,
   "id": "b17ad1b4",
   "metadata": {
    "scrolled": true
   },
   "outputs": [
    {
     "data": {
      "text/plain": [
       "(array([  0,   1,   2,   3,   4,   5,   6,   7,   8,   9,  10,  11,  12,\n",
       "         13,  14,  15,  16,  17,  18,  19,  20,  21,  22,  23,  24,  25,\n",
       "         26,  27,  28,  29,  30,  31,  32,  33,  34,  35,  36,  37,  38,\n",
       "         39,  40,  41,  42,  43,  44,  45,  46,  47,  48,  49,  50,  51,\n",
       "         52,  53,  54,  55,  56,  57,  58,  59,  60,  61,  62,  63,  64,\n",
       "         65,  66,  67,  68,  69,  70,  71,  72,  73,  74,  75,  76,  77,\n",
       "         78,  79,  80,  81,  82,  83,  84,  85,  86,  87,  88,  89,  90,\n",
       "         91,  92,  93,  94,  95,  96,  97,  98,  99, 100, 101, 102, 103,\n",
       "        104, 105, 106, 107, 108, 109, 110, 111]),\n",
       " [Text(0, 0, '1872'),\n",
       "  Text(1, 0, '1875'),\n",
       "  Text(2, 0, '1880'),\n",
       "  Text(3, 0, '1882'),\n",
       "  Text(4, 0, '1885'),\n",
       "  Text(5, 0, '1890'),\n",
       "  Text(6, 0, '1892'),\n",
       "  Text(7, 0, '1893'),\n",
       "  Text(8, 0, '1898'),\n",
       "  Text(9, 0, '1900'),\n",
       "  Text(10, 0, '1904'),\n",
       "  Text(11, 0, '1905'),\n",
       "  Text(12, 0, '1906'),\n",
       "  Text(13, 0, '1908'),\n",
       "  Text(14, 0, '1910'),\n",
       "  Text(15, 0, '1911'),\n",
       "  Text(16, 0, '1912'),\n",
       "  Text(17, 0, '1913'),\n",
       "  Text(18, 0, '1914'),\n",
       "  Text(19, 0, '1915'),\n",
       "  Text(20, 0, '1916'),\n",
       "  Text(21, 0, '1917'),\n",
       "  Text(22, 0, '1918'),\n",
       "  Text(23, 0, '1919'),\n",
       "  Text(24, 0, '1920'),\n",
       "  Text(25, 0, '1921'),\n",
       "  Text(26, 0, '1922'),\n",
       "  Text(27, 0, '1923'),\n",
       "  Text(28, 0, '1924'),\n",
       "  Text(29, 0, '1925'),\n",
       "  Text(30, 0, '1926'),\n",
       "  Text(31, 0, '1927'),\n",
       "  Text(32, 0, '1928'),\n",
       "  Text(33, 0, '1929'),\n",
       "  Text(34, 0, '1930'),\n",
       "  Text(35, 0, '1931'),\n",
       "  Text(36, 0, '1932'),\n",
       "  Text(37, 0, '1934'),\n",
       "  Text(38, 0, '1935'),\n",
       "  Text(39, 0, '1936'),\n",
       "  Text(40, 0, '1937'),\n",
       "  Text(41, 0, '1938'),\n",
       "  Text(42, 0, '1939'),\n",
       "  Text(43, 0, '1940'),\n",
       "  Text(44, 0, '1941'),\n",
       "  Text(45, 0, '1942'),\n",
       "  Text(46, 0, '1945'),\n",
       "  Text(47, 0, '1946'),\n",
       "  Text(48, 0, '1947'),\n",
       "  Text(49, 0, '1948'),\n",
       "  Text(50, 0, '1949'),\n",
       "  Text(51, 0, '1950'),\n",
       "  Text(52, 0, '1951'),\n",
       "  Text(53, 0, '1952'),\n",
       "  Text(54, 0, '1953'),\n",
       "  Text(55, 0, '1954'),\n",
       "  Text(56, 0, '1955'),\n",
       "  Text(57, 0, '1956'),\n",
       "  Text(58, 0, '1957'),\n",
       "  Text(59, 0, '1958'),\n",
       "  Text(60, 0, '1959'),\n",
       "  Text(61, 0, '1960'),\n",
       "  Text(62, 0, '1961'),\n",
       "  Text(63, 0, '1962'),\n",
       "  Text(64, 0, '1963'),\n",
       "  Text(65, 0, '1964'),\n",
       "  Text(66, 0, '1965'),\n",
       "  Text(67, 0, '1966'),\n",
       "  Text(68, 0, '1967'),\n",
       "  Text(69, 0, '1968'),\n",
       "  Text(70, 0, '1969'),\n",
       "  Text(71, 0, '1970'),\n",
       "  Text(72, 0, '1971'),\n",
       "  Text(73, 0, '1972'),\n",
       "  Text(74, 0, '1973'),\n",
       "  Text(75, 0, '1974'),\n",
       "  Text(76, 0, '1975'),\n",
       "  Text(77, 0, '1976'),\n",
       "  Text(78, 0, '1977'),\n",
       "  Text(79, 0, '1978'),\n",
       "  Text(80, 0, '1979'),\n",
       "  Text(81, 0, '1980'),\n",
       "  Text(82, 0, '1981'),\n",
       "  Text(83, 0, '1982'),\n",
       "  Text(84, 0, '1983'),\n",
       "  Text(85, 0, '1984'),\n",
       "  Text(86, 0, '1985'),\n",
       "  Text(87, 0, '1986'),\n",
       "  Text(88, 0, '1987'),\n",
       "  Text(89, 0, '1988'),\n",
       "  Text(90, 0, '1989'),\n",
       "  Text(91, 0, '1990'),\n",
       "  Text(92, 0, '1991'),\n",
       "  Text(93, 0, '1992'),\n",
       "  Text(94, 0, '1993'),\n",
       "  Text(95, 0, '1994'),\n",
       "  Text(96, 0, '1995'),\n",
       "  Text(97, 0, '1996'),\n",
       "  Text(98, 0, '1997'),\n",
       "  Text(99, 0, '1998'),\n",
       "  Text(100, 0, '1999'),\n",
       "  Text(101, 0, '2000'),\n",
       "  Text(102, 0, '2001'),\n",
       "  Text(103, 0, '2002'),\n",
       "  Text(104, 0, '2003'),\n",
       "  Text(105, 0, '2004'),\n",
       "  Text(106, 0, '2005'),\n",
       "  Text(107, 0, '2006'),\n",
       "  Text(108, 0, '2007'),\n",
       "  Text(109, 0, '2008'),\n",
       "  Text(110, 0, '2009'),\n",
       "  Text(111, 0, '2010')])"
      ]
     },
     "execution_count": 30,
     "metadata": {},
     "output_type": "execute_result"
    },
    {
     "data": {
      "image/png": "[encoded data removed]",
      "text/plain": [
       "<Figure size 720x864 with 2 Axes>"
      ]
     },
     "metadata": {
      "needs_background": "light"
     },
     "output_type": "display_data"
    }
   ],
   "source": [
    "plt.figure(figsize=(10,12))\n",
    "plt.subplot(2,1,1)\n",
    "plt.title('analysis for categorical data')\n",
    "sns.boxplot(data=train_df, x='GarageCars', y='SalePrice')\n",
    "plt.subplot(2,1,2)\n",
    "sns.boxplot(data=train_df, x='YearBuilt', y='SalePrice')\n",
    "plt.xticks(rotation=90)"
   ]
  },
  {
   "cell_type": "code",
   "execution_count": 31,
   "id": "5e2b2ca1",
   "metadata": {},
   "outputs": [],
   "source": [
    "# GarageCars도 어느정도 긍정적으로 SalePrice에 대해 값이 다르게 분포함 \n",
    "# category 2와 4가 겹치긴 하지만"
   ]
  },
  {
   "cell_type": "code",
   "execution_count": 32,
   "id": "b8c153ed",
   "metadata": {},
   "outputs": [],
   "source": [
    "# year_built를 보면 "
   ]
  },
  {
   "cell_type": "code",
   "execution_count": null,
   "id": "1ce76be4",
   "metadata": {},
   "outputs": [],
   "source": []
  },
  {
   "cell_type": "code",
   "execution_count": 33,
   "id": "9fcbf6a2",
   "metadata": {},
   "outputs": [
    {
     "name": "stderr",
     "output_type": "stream",
     "text": [
      "/home/ai-sjjy/anaconda3/lib/python3.8/site-packages/seaborn/axisgrid.py:1969: UserWarning: The `size` parameter has been renamed to `height`; please update your code.\n",
      "  warnings.warn(msg, UserWarning)\n"
     ]
    },
    {
     "data": {
      "image/png": "[encoded data removed]",
      "text/plain": [
       "<Figure size 1260x1260 with 56 Axes>"
      ]
     },
     "metadata": {},
     "output_type": "display_data"
    }
   ],
   "source": [
    "#scatterplot\n",
    "sns.set()\n",
    "cols = ['SalePrice', 'OverallQual', 'GrLivArea', 'GarageCars', 'TotalBsmtSF', 'FullBath', 'YearBuilt']\n",
    "sns.pairplot(train_df[cols], size = 2.5)\n",
    "plt.show();"
   ]
  },
  {
   "cell_type": "code",
   "execution_count": null,
   "id": "a42caa03",
   "metadata": {},
   "outputs": [],
   "source": []
  },
  {
   "cell_type": "code",
   "execution_count": null,
   "id": "f1f582bd",
   "metadata": {},
   "outputs": [],
   "source": []
  },
  {
   "cell_type": "markdown",
   "id": "c801a037",
   "metadata": {},
   "source": [
    "# 결측치 이상치 처리"
   ]
  },
  {
   "cell_type": "code",
   "execution_count": 34,
   "id": "daeeba50",
   "metadata": {},
   "outputs": [
    {
     "name": "stdout",
     "output_type": "stream",
     "text": [
      "(1460, 81)\n",
      "(1459, 80)\n"
     ]
    }
   ],
   "source": [
    "print(train_df.shape)\n",
    "print(test_df.shape)"
   ]
  },
  {
   "cell_type": "code",
   "execution_count": 35,
   "id": "718c11ce",
   "metadata": {},
   "outputs": [
    {
     "data": {
      "text/plain": [
       "PoolQC         1453\n",
       "MiscFeature    1406\n",
       "Alley          1369\n",
       "Fence          1179\n",
       "FireplaceQu     690\n",
       "               ... \n",
       "ExterQual         0\n",
       "Exterior2nd       0\n",
       "Exterior1st       0\n",
       "RoofMatl          0\n",
       "SalePrice         0\n",
       "Length: 81, dtype: int64"
      ]
     },
     "execution_count": 35,
     "metadata": {},
     "output_type": "execute_result"
    }
   ],
   "source": [
    "train_df.isna().sum().sort_values(ascending=False)"
   ]
  },
  {
   "cell_type": "code",
   "execution_count": 36,
   "id": "7334c7ba",
   "metadata": {},
   "outputs": [
    {
     "data": {
      "text/html": [
       "<div>\n",
       "<style scoped>\n",
       "    .dataframe tbody tr th:only-of-type {\n",
       "        vertical-align: middle;\n",
       "    }\n",
       "\n",
       "    .dataframe tbody tr th {\n",
       "        vertical-align: top;\n",
       "    }\n",
       "\n",
       "    .dataframe thead th {\n",
       "        text-align: right;\n",
       "    }\n",
       "</style>\n",
       "<table border=\"1\" class=\"dataframe\">\n",
       "  <thead>\n",
       "    <tr style=\"text-align: right;\">\n",
       "      <th></th>\n",
       "      <th>Total</th>\n",
       "      <th>Percent</th>\n",
       "    </tr>\n",
       "  </thead>\n",
       "  <tbody>\n",
       "    <tr>\n",
       "      <th>PoolQC</th>\n",
       "      <td>1456</td>\n",
       "      <td>0.997944</td>\n",
       "    </tr>\n",
       "    <tr>\n",
       "      <th>MiscFeature</th>\n",
       "      <td>1408</td>\n",
       "      <td>0.965045</td>\n",
       "    </tr>\n",
       "    <tr>\n",
       "      <th>Alley</th>\n",
       "      <td>1352</td>\n",
       "      <td>0.926662</td>\n",
       "    </tr>\n",
       "    <tr>\n",
       "      <th>Fence</th>\n",
       "      <td>1169</td>\n",
       "      <td>0.801234</td>\n",
       "    </tr>\n",
       "    <tr>\n",
       "      <th>FireplaceQu</th>\n",
       "      <td>730</td>\n",
       "      <td>0.500343</td>\n",
       "    </tr>\n",
       "    <tr>\n",
       "      <th>LotFrontage</th>\n",
       "      <td>227</td>\n",
       "      <td>0.155586</td>\n",
       "    </tr>\n",
       "    <tr>\n",
       "      <th>GarageCond</th>\n",
       "      <td>78</td>\n",
       "      <td>0.053461</td>\n",
       "    </tr>\n",
       "    <tr>\n",
       "      <th>GarageQual</th>\n",
       "      <td>78</td>\n",
       "      <td>0.053461</td>\n",
       "    </tr>\n",
       "    <tr>\n",
       "      <th>GarageYrBlt</th>\n",
       "      <td>78</td>\n",
       "      <td>0.053461</td>\n",
       "    </tr>\n",
       "    <tr>\n",
       "      <th>GarageFinish</th>\n",
       "      <td>78</td>\n",
       "      <td>0.053461</td>\n",
       "    </tr>\n",
       "    <tr>\n",
       "      <th>GarageType</th>\n",
       "      <td>76</td>\n",
       "      <td>0.052090</td>\n",
       "    </tr>\n",
       "    <tr>\n",
       "      <th>BsmtCond</th>\n",
       "      <td>45</td>\n",
       "      <td>0.030843</td>\n",
       "    </tr>\n",
       "    <tr>\n",
       "      <th>BsmtExposure</th>\n",
       "      <td>44</td>\n",
       "      <td>0.030158</td>\n",
       "    </tr>\n",
       "    <tr>\n",
       "      <th>BsmtFinType1</th>\n",
       "      <td>42</td>\n",
       "      <td>0.028787</td>\n",
       "    </tr>\n",
       "    <tr>\n",
       "      <th>BsmtFinType2</th>\n",
       "      <td>42</td>\n",
       "      <td>0.028787</td>\n",
       "    </tr>\n",
       "    <tr>\n",
       "      <th>MasVnrType</th>\n",
       "      <td>16</td>\n",
       "      <td>0.010966</td>\n",
       "    </tr>\n",
       "    <tr>\n",
       "      <th>MasVnrArea</th>\n",
       "      <td>15</td>\n",
       "      <td>0.010281</td>\n",
       "    </tr>\n",
       "    <tr>\n",
       "      <th>MSZoning</th>\n",
       "      <td>4</td>\n",
       "      <td>0.002742</td>\n",
       "    </tr>\n",
       "    <tr>\n",
       "      <th>BsmtHalfBath</th>\n",
       "      <td>2</td>\n",
       "      <td>0.001371</td>\n",
       "    </tr>\n",
       "    <tr>\n",
       "      <th>Utilities</th>\n",
       "      <td>2</td>\n",
       "      <td>0.001371</td>\n",
       "    </tr>\n",
       "  </tbody>\n",
       "</table>\n",
       "</div>"
      ],
      "text/plain": [
       "              Total   Percent\n",
       "PoolQC         1456  0.997944\n",
       "MiscFeature    1408  0.965045\n",
       "Alley          1352  0.926662\n",
       "Fence          1169  0.801234\n",
       "FireplaceQu     730  0.500343\n",
       "LotFrontage     227  0.155586\n",
       "GarageCond       78  0.053461\n",
       "GarageQual       78  0.053461\n",
       "GarageYrBlt      78  0.053461\n",
       "GarageFinish     78  0.053461\n",
       "GarageType       76  0.052090\n",
       "BsmtCond         45  0.030843\n",
       "BsmtExposure     44  0.030158\n",
       "BsmtFinType1     42  0.028787\n",
       "BsmtFinType2     42  0.028787\n",
       "MasVnrType       16  0.010966\n",
       "MasVnrArea       15  0.010281\n",
       "MSZoning          4  0.002742\n",
       "BsmtHalfBath      2  0.001371\n",
       "Utilities         2  0.001371"
      ]
     },
     "execution_count": 36,
     "metadata": {},
     "output_type": "execute_result"
    }
   ],
   "source": [
    "total = test_df.isna().sum().sort_values(ascending=False)\n",
    "percent = (test_df.isna().sum()/test_df.shape[0]).sort_values(ascending=False)\n",
    "missing_data = pd.concat([total, percent], axis=1, keys=['Total', 'Percent'])\n",
    "missing_data.head(20)   # PoolQC부터 LotFrontage는 missing Value가 너무 많아서 없앨 것임"
   ]
  },
  {
   "cell_type": "code",
   "execution_count": 37,
   "id": "6c7cab13",
   "metadata": {},
   "outputs": [
    {
     "data": {
      "text/html": [
       "<div>\n",
       "<style scoped>\n",
       "    .dataframe tbody tr th:only-of-type {\n",
       "        vertical-align: middle;\n",
       "    }\n",
       "\n",
       "    .dataframe tbody tr th {\n",
       "        vertical-align: top;\n",
       "    }\n",
       "\n",
       "    .dataframe thead th {\n",
       "        text-align: right;\n",
       "    }\n",
       "</style>\n",
       "<table border=\"1\" class=\"dataframe\">\n",
       "  <thead>\n",
       "    <tr style=\"text-align: right;\">\n",
       "      <th></th>\n",
       "      <th>Total</th>\n",
       "      <th>Percent</th>\n",
       "    </tr>\n",
       "  </thead>\n",
       "  <tbody>\n",
       "    <tr>\n",
       "      <th>PoolQC</th>\n",
       "      <td>1453</td>\n",
       "      <td>0.995205</td>\n",
       "    </tr>\n",
       "    <tr>\n",
       "      <th>MiscFeature</th>\n",
       "      <td>1406</td>\n",
       "      <td>0.963014</td>\n",
       "    </tr>\n",
       "    <tr>\n",
       "      <th>Alley</th>\n",
       "      <td>1369</td>\n",
       "      <td>0.937671</td>\n",
       "    </tr>\n",
       "    <tr>\n",
       "      <th>Fence</th>\n",
       "      <td>1179</td>\n",
       "      <td>0.807534</td>\n",
       "    </tr>\n",
       "    <tr>\n",
       "      <th>FireplaceQu</th>\n",
       "      <td>690</td>\n",
       "      <td>0.472603</td>\n",
       "    </tr>\n",
       "    <tr>\n",
       "      <th>LotFrontage</th>\n",
       "      <td>259</td>\n",
       "      <td>0.177397</td>\n",
       "    </tr>\n",
       "    <tr>\n",
       "      <th>GarageYrBlt</th>\n",
       "      <td>81</td>\n",
       "      <td>0.055479</td>\n",
       "    </tr>\n",
       "    <tr>\n",
       "      <th>GarageCond</th>\n",
       "      <td>81</td>\n",
       "      <td>0.055479</td>\n",
       "    </tr>\n",
       "    <tr>\n",
       "      <th>GarageType</th>\n",
       "      <td>81</td>\n",
       "      <td>0.055479</td>\n",
       "    </tr>\n",
       "    <tr>\n",
       "      <th>GarageFinish</th>\n",
       "      <td>81</td>\n",
       "      <td>0.055479</td>\n",
       "    </tr>\n",
       "    <tr>\n",
       "      <th>GarageQual</th>\n",
       "      <td>81</td>\n",
       "      <td>0.055479</td>\n",
       "    </tr>\n",
       "    <tr>\n",
       "      <th>BsmtFinType2</th>\n",
       "      <td>38</td>\n",
       "      <td>0.026027</td>\n",
       "    </tr>\n",
       "    <tr>\n",
       "      <th>BsmtExposure</th>\n",
       "      <td>38</td>\n",
       "      <td>0.026027</td>\n",
       "    </tr>\n",
       "    <tr>\n",
       "      <th>BsmtCond</th>\n",
       "      <td>37</td>\n",
       "      <td>0.025342</td>\n",
       "    </tr>\n",
       "    <tr>\n",
       "      <th>BsmtFinType1</th>\n",
       "      <td>37</td>\n",
       "      <td>0.025342</td>\n",
       "    </tr>\n",
       "    <tr>\n",
       "      <th>MasVnrArea</th>\n",
       "      <td>8</td>\n",
       "      <td>0.005479</td>\n",
       "    </tr>\n",
       "    <tr>\n",
       "      <th>MasVnrType</th>\n",
       "      <td>8</td>\n",
       "      <td>0.005479</td>\n",
       "    </tr>\n",
       "    <tr>\n",
       "      <th>Electrical</th>\n",
       "      <td>1</td>\n",
       "      <td>0.000685</td>\n",
       "    </tr>\n",
       "    <tr>\n",
       "      <th>Functional</th>\n",
       "      <td>0</td>\n",
       "      <td>0.000000</td>\n",
       "    </tr>\n",
       "    <tr>\n",
       "      <th>Id</th>\n",
       "      <td>0</td>\n",
       "      <td>0.000000</td>\n",
       "    </tr>\n",
       "  </tbody>\n",
       "</table>\n",
       "</div>"
      ],
      "text/plain": [
       "              Total   Percent\n",
       "PoolQC         1453  0.995205\n",
       "MiscFeature    1406  0.963014\n",
       "Alley          1369  0.937671\n",
       "Fence          1179  0.807534\n",
       "FireplaceQu     690  0.472603\n",
       "LotFrontage     259  0.177397\n",
       "GarageYrBlt      81  0.055479\n",
       "GarageCond       81  0.055479\n",
       "GarageType       81  0.055479\n",
       "GarageFinish     81  0.055479\n",
       "GarageQual       81  0.055479\n",
       "BsmtFinType2     38  0.026027\n",
       "BsmtExposure     38  0.026027\n",
       "BsmtCond         37  0.025342\n",
       "BsmtFinType1     37  0.025342\n",
       "MasVnrArea        8  0.005479\n",
       "MasVnrType        8  0.005479\n",
       "Electrical        1  0.000685\n",
       "Functional        0  0.000000\n",
       "Id                0  0.000000"
      ]
     },
     "execution_count": 37,
     "metadata": {},
     "output_type": "execute_result"
    }
   ],
   "source": [
    "total = train_df.isna().sum().sort_values(ascending=False)\n",
    "percent = (train_df.isna().sum()/train_df.shape[0]).sort_values(ascending=False)\n",
    "missing_data = pd.concat([total, percent], axis=1, keys=['Total', 'Percent'])\n",
    "missing_data.head(20)   # PoolQC부터 LotFrontage는 missing Value가 너무 많아서 없앨 것임"
   ]
  },
  {
   "cell_type": "code",
   "execution_count": 38,
   "id": "c62c7b5c",
   "metadata": {},
   "outputs": [],
   "source": [
    "train_df = train_df.drop(['PoolQC'], axis=1)\n",
    "train_df = train_df.drop(['MiscFeature'], axis=1)\n",
    "train_df = train_df.drop(['Alley'], axis=1)\n",
    "train_df = train_df.drop(['Fence'], axis=1)\n",
    "train_df = train_df.drop(['FireplaceQu'], axis=1)\n",
    "\n",
    "test_df = test_df.drop(['PoolQC'], axis=1)\n",
    "test_df = test_df.drop(['MiscFeature'], axis=1)\n",
    "test_df = test_df.drop(['Alley'], axis=1)\n",
    "test_df = test_df.drop(['Fence'], axis=1)\n",
    "test_df = test_df.drop(['FireplaceQu'], axis=1)"
   ]
  },
  {
   "cell_type": "code",
   "execution_count": 39,
   "id": "48314495",
   "metadata": {},
   "outputs": [
    {
     "data": {
      "text/plain": [
       "LotFrontage     259\n",
       "GarageType       81\n",
       "GarageCond       81\n",
       "GarageYrBlt      81\n",
       "GarageFinish     81\n",
       "               ... \n",
       "BsmtFinSF2        0\n",
       "BsmtUnfSF         0\n",
       "TotalBsmtSF       0\n",
       "MSSubClass        0\n",
       "SalePrice         0\n",
       "Length: 76, dtype: int64"
      ]
     },
     "execution_count": 39,
     "metadata": {},
     "output_type": "execute_result"
    }
   ],
   "source": [
    "train_df.isna().sum().sort_values(ascending=False)"
   ]
  },
  {
   "cell_type": "code",
   "execution_count": 40,
   "id": "d5064678",
   "metadata": {},
   "outputs": [
    {
     "name": "stdout",
     "output_type": "stream",
     "text": [
      "(1460, 76)\n",
      "(1459, 75)\n"
     ]
    }
   ],
   "source": [
    "print(train_df.shape)\n",
    "print(test_df.shape)"
   ]
  },
  {
   "cell_type": "markdown",
   "id": "cc2b62bb",
   "metadata": {},
   "source": [
    "# LotFrontage 수치형 데이터 Nan 평균으로 채우기"
   ]
  },
  {
   "cell_type": "code",
   "execution_count": 41,
   "id": "fac3c422",
   "metadata": {},
   "outputs": [
    {
     "data": {
      "text/plain": [
       "array([ 65.,  80.,  68.,  60.,  84.,  85.,  75.,  nan,  51.,  50.,  70.,\n",
       "        91.,  72.,  66., 101.,  57.,  44., 110.,  98.,  47., 108., 112.,\n",
       "        74., 115.,  61.,  48.,  33.,  52., 100.,  24.,  89.,  63.,  76.,\n",
       "        81.,  95.,  69.,  21.,  32.,  78., 121., 122.,  40., 105.,  73.,\n",
       "        77.,  64.,  94.,  34.,  90.,  55.,  88.,  82.,  71., 120., 107.,\n",
       "        92., 134.,  62.,  86., 141.,  97.,  54.,  41.,  79., 174.,  99.,\n",
       "        67.,  83.,  43., 103.,  93.,  30., 129., 140.,  35.,  37., 118.,\n",
       "        87., 116., 150., 111.,  49.,  96.,  59.,  36.,  56., 102.,  58.,\n",
       "        38., 109., 130.,  53., 137.,  45., 106., 104.,  42.,  39., 144.,\n",
       "       114., 128., 149., 313., 168., 182., 138., 160., 152., 124., 153.,\n",
       "        46.])"
      ]
     },
     "execution_count": 41,
     "metadata": {},
     "output_type": "execute_result"
    }
   ],
   "source": [
    "train_df['LotFrontage'].unique()"
   ]
  },
  {
   "cell_type": "code",
   "execution_count": 42,
   "id": "83532f3d",
   "metadata": {},
   "outputs": [
    {
     "data": {
      "text/plain": [
       "70"
      ]
     },
     "execution_count": 42,
     "metadata": {},
     "output_type": "execute_result"
    }
   ],
   "source": [
    "int(train_df['LotFrontage'].mean())"
   ]
  },
  {
   "cell_type": "code",
   "execution_count": 43,
   "id": "3f5f29e4",
   "metadata": {},
   "outputs": [],
   "source": [
    "# 평균 대입\n",
    "train_df.loc[train_df['LotFrontage'].isnull(), 'LotFrontage']=int(train_df['LotFrontage'].mean())\n",
    "test_df.loc[test_df['LotFrontage'].isnull(), 'LotFrontage']=int(test_df['LotFrontage'].mean())"
   ]
  },
  {
   "cell_type": "code",
   "execution_count": 44,
   "id": "2c3d64eb",
   "metadata": {},
   "outputs": [
    {
     "data": {
      "text/plain": [
       "array([ 65.,  80.,  68.,  60.,  84.,  85.,  75.,  70.,  51.,  50.,  91.,\n",
       "        72.,  66., 101.,  57.,  44., 110.,  98.,  47., 108., 112.,  74.,\n",
       "       115.,  61.,  48.,  33.,  52., 100.,  24.,  89.,  63.,  76.,  81.,\n",
       "        95.,  69.,  21.,  32.,  78., 121., 122.,  40., 105.,  73.,  77.,\n",
       "        64.,  94.,  34.,  90.,  55.,  88.,  82.,  71., 120., 107.,  92.,\n",
       "       134.,  62.,  86., 141.,  97.,  54.,  41.,  79., 174.,  99.,  67.,\n",
       "        83.,  43., 103.,  93.,  30., 129., 140.,  35.,  37., 118.,  87.,\n",
       "       116., 150., 111.,  49.,  96.,  59.,  36.,  56., 102.,  58.,  38.,\n",
       "       109., 130.,  53., 137.,  45., 106., 104.,  42.,  39., 144., 114.,\n",
       "       128., 149., 313., 168., 182., 138., 160., 152., 124., 153.,  46.])"
      ]
     },
     "execution_count": 44,
     "metadata": {},
     "output_type": "execute_result"
    }
   ],
   "source": [
    "train_df['LotFrontage'].unique()\n",
    "# nan 사라짐"
   ]
  },
  {
   "cell_type": "code",
   "execution_count": 45,
   "id": "66a16180",
   "metadata": {},
   "outputs": [],
   "source": [
    "# 여기 밑부분은 안하는 부분"
   ]
  },
  {
   "cell_type": "markdown",
   "id": "e710eb68",
   "metadata": {},
   "source": [
    "### Garage, Bsmt, Mas 부분의 결측치행이 모두 같아서 공통된것 하나만 행으로 삭제시키면 다 삭제가 됨\n",
    "* 시험적으로 train_df2라는 새로운 데이터 프레임을 만듬\n",
    "* (해당 결측치 행으로 제거한 경우)"
   ]
  },
  {
   "cell_type": "code",
   "execution_count": 46,
   "id": "7897f1b9",
   "metadata": {},
   "outputs": [
    {
     "data": {
      "text/plain": [
       "GarageType      81\n",
       "GarageYrBlt     81\n",
       "GarageFinish    81\n",
       "GarageQual      81\n",
       "GarageCond      81\n",
       "                ..\n",
       "BsmtFinSF2       0\n",
       "BsmtUnfSF        0\n",
       "TotalBsmtSF      0\n",
       "MSSubClass       0\n",
       "SalePrice        0\n",
       "Length: 76, dtype: int64"
      ]
     },
     "execution_count": 46,
     "metadata": {},
     "output_type": "execute_result"
    }
   ],
   "source": [
    "train_df.isna().sum().sort_values(ascending=False)"
   ]
  },
  {
   "cell_type": "code",
   "execution_count": 47,
   "id": "92b514ce",
   "metadata": {},
   "outputs": [
    {
     "data": {
      "text/plain": [
       "BsmtExposure    31\n",
       "BsmtFinType2    31\n",
       "BsmtCond        30\n",
       "BsmtFinType1    30\n",
       "MasVnrType       8\n",
       "                ..\n",
       "BsmtFinSF2       0\n",
       "BsmtUnfSF        0\n",
       "TotalBsmtSF      0\n",
       "MSSubClass       0\n",
       "SalePrice        0\n",
       "Length: 76, dtype: int64"
      ]
     },
     "execution_count": 47,
     "metadata": {},
     "output_type": "execute_result"
    }
   ],
   "source": [
    "train_df2 = train_df.dropna(subset=['GarageYrBlt'])\n",
    "train_df2.isna().sum().sort_values(ascending=False)"
   ]
  },
  {
   "cell_type": "code",
   "execution_count": 48,
   "id": "3bb8daa5",
   "metadata": {},
   "outputs": [
    {
     "data": {
      "text/plain": [
       "(1379, 76)"
      ]
     },
     "execution_count": 48,
     "metadata": {},
     "output_type": "execute_result"
    }
   ],
   "source": [
    "train_df2.shape"
   ]
  },
  {
   "cell_type": "code",
   "execution_count": 49,
   "id": "d145aa5d",
   "metadata": {},
   "outputs": [
    {
     "data": {
      "text/plain": [
       "MasVnrType      8\n",
       "MasVnrArea      8\n",
       "Electrical      1\n",
       "BsmtExposure    1\n",
       "HalfBath        0\n",
       "               ..\n",
       "ExterQual       0\n",
       "Exterior2nd     0\n",
       "Exterior1st     0\n",
       "RoofMatl        0\n",
       "SalePrice       0\n",
       "Length: 76, dtype: int64"
      ]
     },
     "execution_count": 49,
     "metadata": {},
     "output_type": "execute_result"
    }
   ],
   "source": [
    "train_df2 = train_df2.dropna(subset=['BsmtFinType2'])\n",
    "train_df2.isna().sum().sort_values(ascending=False)"
   ]
  },
  {
   "cell_type": "code",
   "execution_count": 50,
   "id": "99b6d3f9",
   "metadata": {},
   "outputs": [
    {
     "data": {
      "text/plain": [
       "(1348, 76)"
      ]
     },
     "execution_count": 50,
     "metadata": {},
     "output_type": "execute_result"
    }
   ],
   "source": [
    "train_df2.shape"
   ]
  },
  {
   "cell_type": "code",
   "execution_count": 51,
   "id": "4bb025c7",
   "metadata": {},
   "outputs": [
    {
     "data": {
      "text/plain": [
       "Electrical      1\n",
       "BsmtExposure    1\n",
       "Id              0\n",
       "HalfBath        0\n",
       "Fireplaces      0\n",
       "               ..\n",
       "MasVnrType      0\n",
       "Exterior2nd     0\n",
       "Exterior1st     0\n",
       "RoofMatl        0\n",
       "SalePrice       0\n",
       "Length: 76, dtype: int64"
      ]
     },
     "execution_count": 51,
     "metadata": {},
     "output_type": "execute_result"
    }
   ],
   "source": [
    "train_df2 = train_df2.dropna(subset=['MasVnrType'])\n",
    "train_df2.isna().sum().sort_values(ascending=False)"
   ]
  },
  {
   "cell_type": "code",
   "execution_count": 52,
   "id": "cad2fe67",
   "metadata": {},
   "outputs": [
    {
     "data": {
      "text/plain": [
       "(1340, 76)"
      ]
     },
     "execution_count": 52,
     "metadata": {},
     "output_type": "execute_result"
    }
   ],
   "source": [
    "train_df2.shape"
   ]
  },
  {
   "cell_type": "code",
   "execution_count": 53,
   "id": "571f330f",
   "metadata": {},
   "outputs": [
    {
     "data": {
      "text/plain": [
       "Id              0\n",
       "FullBath        0\n",
       "Fireplaces      0\n",
       "Functional      0\n",
       "TotRmsAbvGrd    0\n",
       "               ..\n",
       "MasVnrType      0\n",
       "Exterior2nd     0\n",
       "Exterior1st     0\n",
       "RoofMatl        0\n",
       "SalePrice       0\n",
       "Length: 76, dtype: int64"
      ]
     },
     "execution_count": 53,
     "metadata": {},
     "output_type": "execute_result"
    }
   ],
   "source": [
    "train_df2 = train_df2.dropna(subset=['Electrical'])\n",
    "train_df2 = train_df2.dropna(subset=['BsmtExposure'])\n",
    "train_df2.isna().sum().sort_values(ascending=False)"
   ]
  },
  {
   "cell_type": "markdown",
   "id": "e6297dda",
   "metadata": {},
   "source": [
    "# 원래 하려는 것\n",
    "* 수치적 데이터는 평균으로 nan을 채움\n",
    "* 범주형 데이터는 0으로 nan을 채움    음............."
   ]
  },
  {
   "cell_type": "code",
   "execution_count": 54,
   "id": "6ecd6ae9",
   "metadata": {},
   "outputs": [
    {
     "data": {
      "text/html": [
       "<div>\n",
       "<style scoped>\n",
       "    .dataframe tbody tr th:only-of-type {\n",
       "        vertical-align: middle;\n",
       "    }\n",
       "\n",
       "    .dataframe tbody tr th {\n",
       "        vertical-align: top;\n",
       "    }\n",
       "\n",
       "    .dataframe thead th {\n",
       "        text-align: right;\n",
       "    }\n",
       "</style>\n",
       "<table border=\"1\" class=\"dataframe\">\n",
       "  <thead>\n",
       "    <tr style=\"text-align: right;\">\n",
       "      <th></th>\n",
       "      <th>Total</th>\n",
       "      <th>Percent</th>\n",
       "    </tr>\n",
       "  </thead>\n",
       "  <tbody>\n",
       "    <tr>\n",
       "      <th>GarageType</th>\n",
       "      <td>81</td>\n",
       "      <td>0.055479</td>\n",
       "    </tr>\n",
       "    <tr>\n",
       "      <th>GarageYrBlt</th>\n",
       "      <td>81</td>\n",
       "      <td>0.055479</td>\n",
       "    </tr>\n",
       "    <tr>\n",
       "      <th>GarageFinish</th>\n",
       "      <td>81</td>\n",
       "      <td>0.055479</td>\n",
       "    </tr>\n",
       "    <tr>\n",
       "      <th>GarageQual</th>\n",
       "      <td>81</td>\n",
       "      <td>0.055479</td>\n",
       "    </tr>\n",
       "    <tr>\n",
       "      <th>GarageCond</th>\n",
       "      <td>81</td>\n",
       "      <td>0.055479</td>\n",
       "    </tr>\n",
       "    <tr>\n",
       "      <th>BsmtExposure</th>\n",
       "      <td>38</td>\n",
       "      <td>0.026027</td>\n",
       "    </tr>\n",
       "    <tr>\n",
       "      <th>BsmtFinType2</th>\n",
       "      <td>38</td>\n",
       "      <td>0.026027</td>\n",
       "    </tr>\n",
       "    <tr>\n",
       "      <th>BsmtFinType1</th>\n",
       "      <td>37</td>\n",
       "      <td>0.025342</td>\n",
       "    </tr>\n",
       "    <tr>\n",
       "      <th>BsmtCond</th>\n",
       "      <td>37</td>\n",
       "      <td>0.025342</td>\n",
       "    </tr>\n",
       "    <tr>\n",
       "      <th>MasVnrArea</th>\n",
       "      <td>8</td>\n",
       "      <td>0.005479</td>\n",
       "    </tr>\n",
       "    <tr>\n",
       "      <th>MasVnrType</th>\n",
       "      <td>8</td>\n",
       "      <td>0.005479</td>\n",
       "    </tr>\n",
       "    <tr>\n",
       "      <th>Electrical</th>\n",
       "      <td>1</td>\n",
       "      <td>0.000685</td>\n",
       "    </tr>\n",
       "    <tr>\n",
       "      <th>FullBath</th>\n",
       "      <td>0</td>\n",
       "      <td>0.000000</td>\n",
       "    </tr>\n",
       "    <tr>\n",
       "      <th>BsmtHalfBath</th>\n",
       "      <td>0</td>\n",
       "      <td>0.000000</td>\n",
       "    </tr>\n",
       "    <tr>\n",
       "      <th>TotRmsAbvGrd</th>\n",
       "      <td>0</td>\n",
       "      <td>0.000000</td>\n",
       "    </tr>\n",
       "    <tr>\n",
       "      <th>HalfBath</th>\n",
       "      <td>0</td>\n",
       "      <td>0.000000</td>\n",
       "    </tr>\n",
       "    <tr>\n",
       "      <th>BedroomAbvGr</th>\n",
       "      <td>0</td>\n",
       "      <td>0.000000</td>\n",
       "    </tr>\n",
       "    <tr>\n",
       "      <th>BsmtFullBath</th>\n",
       "      <td>0</td>\n",
       "      <td>0.000000</td>\n",
       "    </tr>\n",
       "    <tr>\n",
       "      <th>GrLivArea</th>\n",
       "      <td>0</td>\n",
       "      <td>0.000000</td>\n",
       "    </tr>\n",
       "    <tr>\n",
       "      <th>KitchenAbvGr</th>\n",
       "      <td>0</td>\n",
       "      <td>0.000000</td>\n",
       "    </tr>\n",
       "  </tbody>\n",
       "</table>\n",
       "</div>"
      ],
      "text/plain": [
       "              Total   Percent\n",
       "GarageType       81  0.055479\n",
       "GarageYrBlt      81  0.055479\n",
       "GarageFinish     81  0.055479\n",
       "GarageQual       81  0.055479\n",
       "GarageCond       81  0.055479\n",
       "BsmtExposure     38  0.026027\n",
       "BsmtFinType2     38  0.026027\n",
       "BsmtFinType1     37  0.025342\n",
       "BsmtCond         37  0.025342\n",
       "MasVnrArea        8  0.005479\n",
       "MasVnrType        8  0.005479\n",
       "Electrical        1  0.000685\n",
       "FullBath          0  0.000000\n",
       "BsmtHalfBath      0  0.000000\n",
       "TotRmsAbvGrd      0  0.000000\n",
       "HalfBath          0  0.000000\n",
       "BedroomAbvGr      0  0.000000\n",
       "BsmtFullBath      0  0.000000\n",
       "GrLivArea         0  0.000000\n",
       "KitchenAbvGr      0  0.000000"
      ]
     },
     "execution_count": 54,
     "metadata": {},
     "output_type": "execute_result"
    }
   ],
   "source": [
    "total = train_df.isna().sum().sort_values(ascending=False)\n",
    "percent = (train_df.isna().sum()/train_df.shape[0]).sort_values(ascending=False)\n",
    "missing_data = pd.concat([total, percent], axis=1, keys=['Total', 'Percent'])\n",
    "missing_data.head(20)   # PoolQC부터 LotFrontage는 missing Value가 너무 많아서 없앨 것임"
   ]
  },
  {
   "cell_type": "code",
   "execution_count": 55,
   "id": "f3309841",
   "metadata": {},
   "outputs": [
    {
     "data": {
      "text/html": [
       "<div>\n",
       "<style scoped>\n",
       "    .dataframe tbody tr th:only-of-type {\n",
       "        vertical-align: middle;\n",
       "    }\n",
       "\n",
       "    .dataframe tbody tr th {\n",
       "        vertical-align: top;\n",
       "    }\n",
       "\n",
       "    .dataframe thead th {\n",
       "        text-align: right;\n",
       "    }\n",
       "</style>\n",
       "<table border=\"1\" class=\"dataframe\">\n",
       "  <thead>\n",
       "    <tr style=\"text-align: right;\">\n",
       "      <th></th>\n",
       "      <th>Total</th>\n",
       "      <th>Percent</th>\n",
       "    </tr>\n",
       "  </thead>\n",
       "  <tbody>\n",
       "    <tr>\n",
       "      <th>GarageYrBlt</th>\n",
       "      <td>78</td>\n",
       "      <td>0.053461</td>\n",
       "    </tr>\n",
       "    <tr>\n",
       "      <th>GarageFinish</th>\n",
       "      <td>78</td>\n",
       "      <td>0.053461</td>\n",
       "    </tr>\n",
       "    <tr>\n",
       "      <th>GarageQual</th>\n",
       "      <td>78</td>\n",
       "      <td>0.053461</td>\n",
       "    </tr>\n",
       "    <tr>\n",
       "      <th>GarageCond</th>\n",
       "      <td>78</td>\n",
       "      <td>0.053461</td>\n",
       "    </tr>\n",
       "    <tr>\n",
       "      <th>GarageType</th>\n",
       "      <td>76</td>\n",
       "      <td>0.052090</td>\n",
       "    </tr>\n",
       "    <tr>\n",
       "      <th>BsmtCond</th>\n",
       "      <td>45</td>\n",
       "      <td>0.030843</td>\n",
       "    </tr>\n",
       "    <tr>\n",
       "      <th>BsmtExposure</th>\n",
       "      <td>44</td>\n",
       "      <td>0.030158</td>\n",
       "    </tr>\n",
       "    <tr>\n",
       "      <th>BsmtFinType2</th>\n",
       "      <td>42</td>\n",
       "      <td>0.028787</td>\n",
       "    </tr>\n",
       "    <tr>\n",
       "      <th>BsmtFinType1</th>\n",
       "      <td>42</td>\n",
       "      <td>0.028787</td>\n",
       "    </tr>\n",
       "    <tr>\n",
       "      <th>MasVnrType</th>\n",
       "      <td>16</td>\n",
       "      <td>0.010966</td>\n",
       "    </tr>\n",
       "    <tr>\n",
       "      <th>MasVnrArea</th>\n",
       "      <td>15</td>\n",
       "      <td>0.010281</td>\n",
       "    </tr>\n",
       "    <tr>\n",
       "      <th>MSZoning</th>\n",
       "      <td>4</td>\n",
       "      <td>0.002742</td>\n",
       "    </tr>\n",
       "    <tr>\n",
       "      <th>Utilities</th>\n",
       "      <td>2</td>\n",
       "      <td>0.001371</td>\n",
       "    </tr>\n",
       "    <tr>\n",
       "      <th>Functional</th>\n",
       "      <td>2</td>\n",
       "      <td>0.001371</td>\n",
       "    </tr>\n",
       "    <tr>\n",
       "      <th>BsmtHalfBath</th>\n",
       "      <td>2</td>\n",
       "      <td>0.001371</td>\n",
       "    </tr>\n",
       "    <tr>\n",
       "      <th>BsmtFullBath</th>\n",
       "      <td>2</td>\n",
       "      <td>0.001371</td>\n",
       "    </tr>\n",
       "    <tr>\n",
       "      <th>BsmtFinSF1</th>\n",
       "      <td>1</td>\n",
       "      <td>0.000685</td>\n",
       "    </tr>\n",
       "    <tr>\n",
       "      <th>Exterior2nd</th>\n",
       "      <td>1</td>\n",
       "      <td>0.000685</td>\n",
       "    </tr>\n",
       "    <tr>\n",
       "      <th>BsmtFinSF2</th>\n",
       "      <td>1</td>\n",
       "      <td>0.000685</td>\n",
       "    </tr>\n",
       "    <tr>\n",
       "      <th>KitchenQual</th>\n",
       "      <td>1</td>\n",
       "      <td>0.000685</td>\n",
       "    </tr>\n",
       "  </tbody>\n",
       "</table>\n",
       "</div>"
      ],
      "text/plain": [
       "              Total   Percent\n",
       "GarageYrBlt      78  0.053461\n",
       "GarageFinish     78  0.053461\n",
       "GarageQual       78  0.053461\n",
       "GarageCond       78  0.053461\n",
       "GarageType       76  0.052090\n",
       "BsmtCond         45  0.030843\n",
       "BsmtExposure     44  0.030158\n",
       "BsmtFinType2     42  0.028787\n",
       "BsmtFinType1     42  0.028787\n",
       "MasVnrType       16  0.010966\n",
       "MasVnrArea       15  0.010281\n",
       "MSZoning          4  0.002742\n",
       "Utilities         2  0.001371\n",
       "Functional        2  0.001371\n",
       "BsmtHalfBath      2  0.001371\n",
       "BsmtFullBath      2  0.001371\n",
       "BsmtFinSF1        1  0.000685\n",
       "Exterior2nd       1  0.000685\n",
       "BsmtFinSF2        1  0.000685\n",
       "KitchenQual       1  0.000685"
      ]
     },
     "execution_count": 55,
     "metadata": {},
     "output_type": "execute_result"
    }
   ],
   "source": [
    "total = test_df.isna().sum().sort_values(ascending=False)\n",
    "percent = (test_df.isna().sum()/test_df.shape[0]).sort_values(ascending=False)\n",
    "missing_data = pd.concat([total, percent], axis=1, keys=['Total', 'Percent'])\n",
    "missing_data.head(20)   # PoolQC부터 LotFrontage는 missing Value가 너무 많아서 없앨 것임"
   ]
  },
  {
   "cell_type": "markdown",
   "id": "04f0a1a1",
   "metadata": {},
   "source": [
    "# Garabage 부분 데이터 처리"
   ]
  },
  {
   "cell_type": "code",
   "execution_count": 56,
   "id": "c68a4035",
   "metadata": {},
   "outputs": [],
   "source": [
    "# GarageType nan을 none으로 수정"
   ]
  },
  {
   "cell_type": "code",
   "execution_count": 57,
   "id": "af2c5a31",
   "metadata": {},
   "outputs": [
    {
     "data": {
      "text/plain": [
       "array(['Attchd', 'Detchd', 'BuiltIn', 'CarPort', nan, 'Basment', '2Types'],\n",
       "      dtype=object)"
      ]
     },
     "execution_count": 57,
     "metadata": {},
     "output_type": "execute_result"
    }
   ],
   "source": [
    "train_df.GarageType.unique()"
   ]
  },
  {
   "cell_type": "code",
   "execution_count": 58,
   "id": "262f5742",
   "metadata": {},
   "outputs": [],
   "source": [
    "train_df.loc[train_df['GarageType'].isnull(), 'GarageType']='None'\n",
    "test_df.loc[test_df['GarageType'].isnull(), 'GarageType']='None'"
   ]
  },
  {
   "cell_type": "code",
   "execution_count": 59,
   "id": "439feaf8",
   "metadata": {},
   "outputs": [
    {
     "data": {
      "text/plain": [
       "array(['Attchd', 'Detchd', 'BuiltIn', 'CarPort', 'None', 'Basment',\n",
       "       '2Types'], dtype=object)"
      ]
     },
     "execution_count": 59,
     "metadata": {},
     "output_type": "execute_result"
    }
   ],
   "source": [
    "train_df.GarageType.unique()"
   ]
  },
  {
   "cell_type": "code",
   "execution_count": 60,
   "id": "5b0ffed7",
   "metadata": {},
   "outputs": [],
   "source": [
    "# GarageYrBlt nan을 평균 값으로 수정"
   ]
  },
  {
   "cell_type": "code",
   "execution_count": 61,
   "id": "926b7634",
   "metadata": {},
   "outputs": [
    {
     "data": {
      "text/plain": [
       "array([2003., 1976., 2001., 1998., 2000., 1993., 2004., 1973., 1931.,\n",
       "       1939., 1965., 2005., 1962., 2006., 1960., 1991., 1970., 1967.,\n",
       "       1958., 1930., 2002., 1968., 2007., 2008., 1957., 1920., 1966.,\n",
       "       1959., 1995., 1954., 1953.,   nan, 1983., 1977., 1997., 1985.,\n",
       "       1963., 1981., 1964., 1999., 1935., 1990., 1945., 1987., 1989.,\n",
       "       1915., 1956., 1948., 1974., 2009., 1950., 1961., 1921., 1900.,\n",
       "       1979., 1951., 1969., 1936., 1975., 1971., 1923., 1984., 1926.,\n",
       "       1955., 1986., 1988., 1916., 1932., 1972., 1918., 1980., 1924.,\n",
       "       1996., 1940., 1949., 1994., 1910., 1978., 1982., 1992., 1925.,\n",
       "       1941., 2010., 1927., 1947., 1937., 1942., 1938., 1952., 1928.,\n",
       "       1922., 1934., 1906., 1914., 1946., 1908., 1929., 1933.])"
      ]
     },
     "execution_count": 61,
     "metadata": {},
     "output_type": "execute_result"
    }
   ],
   "source": [
    "train_df.GarageYrBlt.unique()"
   ]
  },
  {
   "cell_type": "code",
   "execution_count": 62,
   "id": "9398e922",
   "metadata": {},
   "outputs": [
    {
     "data": {
      "text/plain": [
       "1978"
      ]
     },
     "execution_count": 62,
     "metadata": {},
     "output_type": "execute_result"
    }
   ],
   "source": [
    "int(train_df['GarageYrBlt'].mean())"
   ]
  },
  {
   "cell_type": "code",
   "execution_count": 63,
   "id": "e0259d5d",
   "metadata": {},
   "outputs": [],
   "source": [
    "train_df.loc[train_df['GarageYrBlt'].isnull(), 'GarageYrBlt']=int(train_df['GarageYrBlt'].mean())\n",
    "test_df.loc[test_df['GarageYrBlt'].isnull(), 'GarageYrBlt']=int(test_df['GarageYrBlt'].mean())"
   ]
  },
  {
   "cell_type": "code",
   "execution_count": 64,
   "id": "9d0ebdcc",
   "metadata": {},
   "outputs": [
    {
     "data": {
      "text/plain": [
       "array([2003., 1976., 2001., 1998., 2000., 1993., 2004., 1973., 1931.,\n",
       "       1939., 1965., 2005., 1962., 2006., 1960., 1991., 1970., 1967.,\n",
       "       1958., 1930., 2002., 1968., 2007., 2008., 1957., 1920., 1966.,\n",
       "       1959., 1995., 1954., 1953., 1978., 1983., 1977., 1997., 1985.,\n",
       "       1963., 1981., 1964., 1999., 1935., 1990., 1945., 1987., 1989.,\n",
       "       1915., 1956., 1948., 1974., 2009., 1950., 1961., 1921., 1900.,\n",
       "       1979., 1951., 1969., 1936., 1975., 1971., 1923., 1984., 1926.,\n",
       "       1955., 1986., 1988., 1916., 1932., 1972., 1918., 1980., 1924.,\n",
       "       1996., 1940., 1949., 1994., 1910., 1982., 1992., 1925., 1941.,\n",
       "       2010., 1927., 1947., 1937., 1942., 1938., 1952., 1928., 1922.,\n",
       "       1934., 1906., 1914., 1946., 1908., 1929., 1933.])"
      ]
     },
     "execution_count": 64,
     "metadata": {},
     "output_type": "execute_result"
    }
   ],
   "source": [
    "train_df.GarageYrBlt.unique()\n",
    "# nan 사라짐"
   ]
  },
  {
   "cell_type": "code",
   "execution_count": 65,
   "id": "abd2661d",
   "metadata": {},
   "outputs": [],
   "source": [
    "# GarageFinish "
   ]
  },
  {
   "cell_type": "code",
   "execution_count": 66,
   "id": "58395581",
   "metadata": {},
   "outputs": [
    {
     "data": {
      "text/plain": [
       "array(['RFn', 'Unf', 'Fin', nan], dtype=object)"
      ]
     },
     "execution_count": 66,
     "metadata": {},
     "output_type": "execute_result"
    }
   ],
   "source": [
    "train_df.GarageFinish.unique()"
   ]
  },
  {
   "cell_type": "code",
   "execution_count": 67,
   "id": "07952e12",
   "metadata": {},
   "outputs": [],
   "source": [
    "train_df.loc[train_df['GarageFinish'].isnull(), 'GarageFinish']='None'\n",
    "test_df.loc[test_df['GarageFinish'].isnull(), 'GarageFinish']='None'"
   ]
  },
  {
   "cell_type": "code",
   "execution_count": 68,
   "id": "784f4cbf",
   "metadata": {},
   "outputs": [
    {
     "data": {
      "text/plain": [
       "array(['RFn', 'Unf', 'Fin', 'None'], dtype=object)"
      ]
     },
     "execution_count": 68,
     "metadata": {},
     "output_type": "execute_result"
    }
   ],
   "source": [
    "train_df.GarageFinish.unique()"
   ]
  },
  {
   "cell_type": "code",
   "execution_count": 69,
   "id": "0661f29d",
   "metadata": {},
   "outputs": [],
   "source": [
    "# GarageQual"
   ]
  },
  {
   "cell_type": "code",
   "execution_count": 70,
   "id": "e8f2871b",
   "metadata": {},
   "outputs": [
    {
     "data": {
      "text/plain": [
       "array(['TA', 'Fa', 'Gd', nan, 'Ex', 'Po'], dtype=object)"
      ]
     },
     "execution_count": 70,
     "metadata": {},
     "output_type": "execute_result"
    }
   ],
   "source": [
    "train_df.GarageQual.unique()"
   ]
  },
  {
   "cell_type": "code",
   "execution_count": 71,
   "id": "2590f74a",
   "metadata": {},
   "outputs": [],
   "source": [
    "train_df.loc[train_df['GarageQual'].isnull(), 'GarageQual']='None'\n",
    "test_df.loc[test_df['GarageQual'].isnull(), 'GarageQual']='None'"
   ]
  },
  {
   "cell_type": "code",
   "execution_count": 72,
   "id": "acc427ea",
   "metadata": {},
   "outputs": [
    {
     "data": {
      "text/plain": [
       "array(['TA', 'Fa', 'Gd', 'None', 'Ex', 'Po'], dtype=object)"
      ]
     },
     "execution_count": 72,
     "metadata": {},
     "output_type": "execute_result"
    }
   ],
   "source": [
    "train_df.GarageQual.unique()"
   ]
  },
  {
   "cell_type": "code",
   "execution_count": 73,
   "id": "ab075fd1",
   "metadata": {},
   "outputs": [],
   "source": [
    "# GarageCond"
   ]
  },
  {
   "cell_type": "code",
   "execution_count": 74,
   "id": "692399b5",
   "metadata": {},
   "outputs": [
    {
     "data": {
      "text/plain": [
       "array(['TA', 'Fa', nan, 'Gd', 'Po', 'Ex'], dtype=object)"
      ]
     },
     "execution_count": 74,
     "metadata": {},
     "output_type": "execute_result"
    }
   ],
   "source": [
    "train_df.GarageCond.unique()"
   ]
  },
  {
   "cell_type": "code",
   "execution_count": 75,
   "id": "74637d39",
   "metadata": {},
   "outputs": [],
   "source": [
    "train_df.loc[train_df['GarageCond'].isnull(), 'GarageCond']='None'\n",
    "test_df.loc[test_df['GarageCond'].isnull(), 'GarageCond']='None'"
   ]
  },
  {
   "cell_type": "code",
   "execution_count": 76,
   "id": "c2c1e12f",
   "metadata": {},
   "outputs": [
    {
     "data": {
      "text/plain": [
       "array(['TA', 'Fa', 'None', 'Gd', 'Po', 'Ex'], dtype=object)"
      ]
     },
     "execution_count": 76,
     "metadata": {},
     "output_type": "execute_result"
    }
   ],
   "source": [
    "train_df.GarageCond.unique()"
   ]
  },
  {
   "cell_type": "code",
   "execution_count": 77,
   "id": "86b9b26c",
   "metadata": {},
   "outputs": [
    {
     "data": {
      "text/html": [
       "<div>\n",
       "<style scoped>\n",
       "    .dataframe tbody tr th:only-of-type {\n",
       "        vertical-align: middle;\n",
       "    }\n",
       "\n",
       "    .dataframe tbody tr th {\n",
       "        vertical-align: top;\n",
       "    }\n",
       "\n",
       "    .dataframe thead th {\n",
       "        text-align: right;\n",
       "    }\n",
       "</style>\n",
       "<table border=\"1\" class=\"dataframe\">\n",
       "  <thead>\n",
       "    <tr style=\"text-align: right;\">\n",
       "      <th></th>\n",
       "      <th>Total</th>\n",
       "      <th>Percent</th>\n",
       "    </tr>\n",
       "  </thead>\n",
       "  <tbody>\n",
       "    <tr>\n",
       "      <th>BsmtCond</th>\n",
       "      <td>45</td>\n",
       "      <td>0.030843</td>\n",
       "    </tr>\n",
       "    <tr>\n",
       "      <th>BsmtExposure</th>\n",
       "      <td>44</td>\n",
       "      <td>0.030158</td>\n",
       "    </tr>\n",
       "    <tr>\n",
       "      <th>BsmtFinType2</th>\n",
       "      <td>42</td>\n",
       "      <td>0.028787</td>\n",
       "    </tr>\n",
       "    <tr>\n",
       "      <th>BsmtFinType1</th>\n",
       "      <td>42</td>\n",
       "      <td>0.028787</td>\n",
       "    </tr>\n",
       "    <tr>\n",
       "      <th>MasVnrType</th>\n",
       "      <td>16</td>\n",
       "      <td>0.010966</td>\n",
       "    </tr>\n",
       "    <tr>\n",
       "      <th>MasVnrArea</th>\n",
       "      <td>15</td>\n",
       "      <td>0.010281</td>\n",
       "    </tr>\n",
       "    <tr>\n",
       "      <th>MSZoning</th>\n",
       "      <td>4</td>\n",
       "      <td>0.002742</td>\n",
       "    </tr>\n",
       "    <tr>\n",
       "      <th>BsmtFullBath</th>\n",
       "      <td>2</td>\n",
       "      <td>0.001371</td>\n",
       "    </tr>\n",
       "    <tr>\n",
       "      <th>BsmtHalfBath</th>\n",
       "      <td>2</td>\n",
       "      <td>0.001371</td>\n",
       "    </tr>\n",
       "    <tr>\n",
       "      <th>Utilities</th>\n",
       "      <td>2</td>\n",
       "      <td>0.001371</td>\n",
       "    </tr>\n",
       "    <tr>\n",
       "      <th>Functional</th>\n",
       "      <td>2</td>\n",
       "      <td>0.001371</td>\n",
       "    </tr>\n",
       "    <tr>\n",
       "      <th>TotalBsmtSF</th>\n",
       "      <td>1</td>\n",
       "      <td>0.000685</td>\n",
       "    </tr>\n",
       "    <tr>\n",
       "      <th>KitchenQual</th>\n",
       "      <td>1</td>\n",
       "      <td>0.000685</td>\n",
       "    </tr>\n",
       "    <tr>\n",
       "      <th>BsmtFinSF1</th>\n",
       "      <td>1</td>\n",
       "      <td>0.000685</td>\n",
       "    </tr>\n",
       "    <tr>\n",
       "      <th>GarageCars</th>\n",
       "      <td>1</td>\n",
       "      <td>0.000685</td>\n",
       "    </tr>\n",
       "    <tr>\n",
       "      <th>BsmtFinSF2</th>\n",
       "      <td>1</td>\n",
       "      <td>0.000685</td>\n",
       "    </tr>\n",
       "    <tr>\n",
       "      <th>BsmtUnfSF</th>\n",
       "      <td>1</td>\n",
       "      <td>0.000685</td>\n",
       "    </tr>\n",
       "    <tr>\n",
       "      <th>Exterior2nd</th>\n",
       "      <td>1</td>\n",
       "      <td>0.000685</td>\n",
       "    </tr>\n",
       "    <tr>\n",
       "      <th>Exterior1st</th>\n",
       "      <td>1</td>\n",
       "      <td>0.000685</td>\n",
       "    </tr>\n",
       "    <tr>\n",
       "      <th>SaleType</th>\n",
       "      <td>1</td>\n",
       "      <td>0.000685</td>\n",
       "    </tr>\n",
       "  </tbody>\n",
       "</table>\n",
       "</div>"
      ],
      "text/plain": [
       "              Total   Percent\n",
       "BsmtCond         45  0.030843\n",
       "BsmtExposure     44  0.030158\n",
       "BsmtFinType2     42  0.028787\n",
       "BsmtFinType1     42  0.028787\n",
       "MasVnrType       16  0.010966\n",
       "MasVnrArea       15  0.010281\n",
       "MSZoning          4  0.002742\n",
       "BsmtFullBath      2  0.001371\n",
       "BsmtHalfBath      2  0.001371\n",
       "Utilities         2  0.001371\n",
       "Functional        2  0.001371\n",
       "TotalBsmtSF       1  0.000685\n",
       "KitchenQual       1  0.000685\n",
       "BsmtFinSF1        1  0.000685\n",
       "GarageCars        1  0.000685\n",
       "BsmtFinSF2        1  0.000685\n",
       "BsmtUnfSF         1  0.000685\n",
       "Exterior2nd       1  0.000685\n",
       "Exterior1st       1  0.000685\n",
       "SaleType          1  0.000685"
      ]
     },
     "execution_count": 77,
     "metadata": {},
     "output_type": "execute_result"
    }
   ],
   "source": [
    "total = test_df.isna().sum().sort_values(ascending=False)\n",
    "percent = (test_df.isna().sum()/test_df.shape[0]).sort_values(ascending=False)\n",
    "missing_data = pd.concat([total, percent], axis=1, keys=['Total', 'Percent'])\n",
    "missing_data.head(20)   # PoolQC부터 LotFrontage는 missing Value가 너무 많아서 없앨 것임"
   ]
  },
  {
   "cell_type": "markdown",
   "id": "a90e434e",
   "metadata": {},
   "source": [
    "# Bsmt 부분 결측치 처리"
   ]
  },
  {
   "cell_type": "code",
   "execution_count": 78,
   "id": "5fe7fe78",
   "metadata": {},
   "outputs": [],
   "source": [
    "# BsmtFinType2 결측치 처리"
   ]
  },
  {
   "cell_type": "code",
   "execution_count": 79,
   "id": "eeffc30f",
   "metadata": {},
   "outputs": [
    {
     "data": {
      "text/plain": [
       "array(['Unf', 'BLQ', nan, 'ALQ', 'Rec', 'LwQ', 'GLQ'], dtype=object)"
      ]
     },
     "execution_count": 79,
     "metadata": {},
     "output_type": "execute_result"
    }
   ],
   "source": [
    "train_df['BsmtFinType2'].unique()"
   ]
  },
  {
   "cell_type": "code",
   "execution_count": 80,
   "id": "a8783c52",
   "metadata": {},
   "outputs": [
    {
     "data": {
      "text/plain": [
       "array(['Unf', 'BLQ', 'None', 'ALQ', 'Rec', 'LwQ', 'GLQ'], dtype=object)"
      ]
     },
     "execution_count": 80,
     "metadata": {},
     "output_type": "execute_result"
    }
   ],
   "source": [
    "train_df.loc[train_df['BsmtFinType2'].isnull(), 'BsmtFinType2']='None'\n",
    "test_df.loc[test_df['BsmtFinType2'].isnull(), 'BsmtFinType2']='None'\n",
    "train_df['BsmtFinType2'].unique()"
   ]
  },
  {
   "cell_type": "code",
   "execution_count": 81,
   "id": "bc2d25fe",
   "metadata": {},
   "outputs": [],
   "source": [
    "# BsmtExposure 결측치 처리"
   ]
  },
  {
   "cell_type": "code",
   "execution_count": 82,
   "id": "d5bb0a19",
   "metadata": {},
   "outputs": [
    {
     "data": {
      "text/plain": [
       "array(['No', 'Gd', 'Mn', 'Av', nan], dtype=object)"
      ]
     },
     "execution_count": 82,
     "metadata": {},
     "output_type": "execute_result"
    }
   ],
   "source": [
    "train_df['BsmtExposure'].unique()"
   ]
  },
  {
   "cell_type": "code",
   "execution_count": 83,
   "id": "cb7467a5",
   "metadata": {},
   "outputs": [
    {
     "data": {
      "text/plain": [
       "array(['No', 'Gd', 'Mn', 'Av', 'None'], dtype=object)"
      ]
     },
     "execution_count": 83,
     "metadata": {},
     "output_type": "execute_result"
    }
   ],
   "source": [
    "train_df.loc[train_df['BsmtExposure'].isnull(), 'BsmtExposure']='None'\n",
    "test_df.loc[test_df['BsmtExposure'].isnull(), 'BsmtExposure']='None'\n",
    "train_df['BsmtExposure'].unique()"
   ]
  },
  {
   "cell_type": "code",
   "execution_count": 84,
   "id": "97f22971",
   "metadata": {},
   "outputs": [],
   "source": [
    "# BsmtQual 결측치 처리"
   ]
  },
  {
   "cell_type": "code",
   "execution_count": 85,
   "id": "2943f522",
   "metadata": {},
   "outputs": [
    {
     "data": {
      "text/plain": [
       "array([2, 3, 0, 4, 1])"
      ]
     },
     "execution_count": 85,
     "metadata": {},
     "output_type": "execute_result"
    }
   ],
   "source": [
    "train_df['BsmtQual'].unique()"
   ]
  },
  {
   "cell_type": "code",
   "execution_count": 86,
   "id": "c8a2eec4",
   "metadata": {},
   "outputs": [],
   "source": [
    "# 앞서 가치있는 feature라고 판단하여 이미 labelEncoding을 해서 적용 결측치 고려할 필요없음"
   ]
  },
  {
   "cell_type": "code",
   "execution_count": 87,
   "id": "a86e92bd",
   "metadata": {},
   "outputs": [],
   "source": [
    "#BsmtCond 결측치 처리"
   ]
  },
  {
   "cell_type": "code",
   "execution_count": 88,
   "id": "27dbda9f",
   "metadata": {},
   "outputs": [
    {
     "data": {
      "text/plain": [
       "array(['TA', 'Gd', nan, 'Fa', 'Po'], dtype=object)"
      ]
     },
     "execution_count": 88,
     "metadata": {},
     "output_type": "execute_result"
    }
   ],
   "source": [
    "train_df['BsmtCond'].unique()"
   ]
  },
  {
   "cell_type": "code",
   "execution_count": 89,
   "id": "f2078e80",
   "metadata": {},
   "outputs": [
    {
     "data": {
      "text/plain": [
       "array(['TA', 'Gd', 'None', 'Fa', 'Po'], dtype=object)"
      ]
     },
     "execution_count": 89,
     "metadata": {},
     "output_type": "execute_result"
    }
   ],
   "source": [
    "train_df.loc[train_df['BsmtCond'].isnull(), 'BsmtCond']='None'\n",
    "test_df.loc[test_df['BsmtCond'].isnull(), 'BsmtCond']='None'\n",
    "train_df['BsmtCond'].unique()"
   ]
  },
  {
   "cell_type": "code",
   "execution_count": 90,
   "id": "6e7bed5a",
   "metadata": {},
   "outputs": [
    {
     "data": {
      "text/plain": [
       "array(['GLQ', 'ALQ', 'Unf', 'Rec', 'BLQ', nan, 'LwQ'], dtype=object)"
      ]
     },
     "execution_count": 90,
     "metadata": {},
     "output_type": "execute_result"
    }
   ],
   "source": [
    "train_df['BsmtFinType1'].unique()"
   ]
  },
  {
   "cell_type": "code",
   "execution_count": 91,
   "id": "d98196ae",
   "metadata": {},
   "outputs": [
    {
     "data": {
      "text/plain": [
       "array(['GLQ', 'ALQ', 'Unf', 'Rec', 'BLQ', 'None', 'LwQ'], dtype=object)"
      ]
     },
     "execution_count": 91,
     "metadata": {},
     "output_type": "execute_result"
    }
   ],
   "source": [
    "train_df.loc[train_df['BsmtFinType1'].isnull(),'BsmtFinType1']='None'\n",
    "test_df.loc[test_df['BsmtFinType1'].isnull(),'BsmtFinType1']='None'\n",
    "train_df['BsmtFinType1'].unique()"
   ]
  },
  {
   "cell_type": "code",
   "execution_count": 92,
   "id": "0de56d8a",
   "metadata": {},
   "outputs": [
    {
     "data": {
      "text/html": [
       "<div>\n",
       "<style scoped>\n",
       "    .dataframe tbody tr th:only-of-type {\n",
       "        vertical-align: middle;\n",
       "    }\n",
       "\n",
       "    .dataframe tbody tr th {\n",
       "        vertical-align: top;\n",
       "    }\n",
       "\n",
       "    .dataframe thead th {\n",
       "        text-align: right;\n",
       "    }\n",
       "</style>\n",
       "<table border=\"1\" class=\"dataframe\">\n",
       "  <thead>\n",
       "    <tr style=\"text-align: right;\">\n",
       "      <th></th>\n",
       "      <th>Total</th>\n",
       "      <th>Percent</th>\n",
       "    </tr>\n",
       "  </thead>\n",
       "  <tbody>\n",
       "    <tr>\n",
       "      <th>MasVnrType</th>\n",
       "      <td>16</td>\n",
       "      <td>0.010966</td>\n",
       "    </tr>\n",
       "    <tr>\n",
       "      <th>MasVnrArea</th>\n",
       "      <td>15</td>\n",
       "      <td>0.010281</td>\n",
       "    </tr>\n",
       "    <tr>\n",
       "      <th>MSZoning</th>\n",
       "      <td>4</td>\n",
       "      <td>0.002742</td>\n",
       "    </tr>\n",
       "    <tr>\n",
       "      <th>Functional</th>\n",
       "      <td>2</td>\n",
       "      <td>0.001371</td>\n",
       "    </tr>\n",
       "    <tr>\n",
       "      <th>BsmtFullBath</th>\n",
       "      <td>2</td>\n",
       "      <td>0.001371</td>\n",
       "    </tr>\n",
       "    <tr>\n",
       "      <th>BsmtHalfBath</th>\n",
       "      <td>2</td>\n",
       "      <td>0.001371</td>\n",
       "    </tr>\n",
       "    <tr>\n",
       "      <th>Utilities</th>\n",
       "      <td>2</td>\n",
       "      <td>0.001371</td>\n",
       "    </tr>\n",
       "    <tr>\n",
       "      <th>Exterior2nd</th>\n",
       "      <td>1</td>\n",
       "      <td>0.000685</td>\n",
       "    </tr>\n",
       "    <tr>\n",
       "      <th>Exterior1st</th>\n",
       "      <td>1</td>\n",
       "      <td>0.000685</td>\n",
       "    </tr>\n",
       "    <tr>\n",
       "      <th>GarageCars</th>\n",
       "      <td>1</td>\n",
       "      <td>0.000685</td>\n",
       "    </tr>\n",
       "    <tr>\n",
       "      <th>GarageArea</th>\n",
       "      <td>1</td>\n",
       "      <td>0.000685</td>\n",
       "    </tr>\n",
       "    <tr>\n",
       "      <th>KitchenQual</th>\n",
       "      <td>1</td>\n",
       "      <td>0.000685</td>\n",
       "    </tr>\n",
       "    <tr>\n",
       "      <th>TotalBsmtSF</th>\n",
       "      <td>1</td>\n",
       "      <td>0.000685</td>\n",
       "    </tr>\n",
       "    <tr>\n",
       "      <th>BsmtFinSF2</th>\n",
       "      <td>1</td>\n",
       "      <td>0.000685</td>\n",
       "    </tr>\n",
       "    <tr>\n",
       "      <th>BsmtUnfSF</th>\n",
       "      <td>1</td>\n",
       "      <td>0.000685</td>\n",
       "    </tr>\n",
       "    <tr>\n",
       "      <th>SaleType</th>\n",
       "      <td>1</td>\n",
       "      <td>0.000685</td>\n",
       "    </tr>\n",
       "    <tr>\n",
       "      <th>BsmtFinSF1</th>\n",
       "      <td>1</td>\n",
       "      <td>0.000685</td>\n",
       "    </tr>\n",
       "    <tr>\n",
       "      <th>HalfBath</th>\n",
       "      <td>0</td>\n",
       "      <td>0.000000</td>\n",
       "    </tr>\n",
       "    <tr>\n",
       "      <th>BedroomAbvGr</th>\n",
       "      <td>0</td>\n",
       "      <td>0.000000</td>\n",
       "    </tr>\n",
       "    <tr>\n",
       "      <th>KitchenAbvGr</th>\n",
       "      <td>0</td>\n",
       "      <td>0.000000</td>\n",
       "    </tr>\n",
       "  </tbody>\n",
       "</table>\n",
       "</div>"
      ],
      "text/plain": [
       "              Total   Percent\n",
       "MasVnrType       16  0.010966\n",
       "MasVnrArea       15  0.010281\n",
       "MSZoning          4  0.002742\n",
       "Functional        2  0.001371\n",
       "BsmtFullBath      2  0.001371\n",
       "BsmtHalfBath      2  0.001371\n",
       "Utilities         2  0.001371\n",
       "Exterior2nd       1  0.000685\n",
       "Exterior1st       1  0.000685\n",
       "GarageCars        1  0.000685\n",
       "GarageArea        1  0.000685\n",
       "KitchenQual       1  0.000685\n",
       "TotalBsmtSF       1  0.000685\n",
       "BsmtFinSF2        1  0.000685\n",
       "BsmtUnfSF         1  0.000685\n",
       "SaleType          1  0.000685\n",
       "BsmtFinSF1        1  0.000685\n",
       "HalfBath          0  0.000000\n",
       "BedroomAbvGr      0  0.000000\n",
       "KitchenAbvGr      0  0.000000"
      ]
     },
     "execution_count": 92,
     "metadata": {},
     "output_type": "execute_result"
    }
   ],
   "source": [
    "total = test_df.isna().sum().sort_values(ascending=False)\n",
    "percent = (test_df.isna().sum()/test_df.shape[0]).sort_values(ascending=False)\n",
    "missing_data = pd.concat([total, percent], axis=1, keys=['Total', 'Percent'])\n",
    "missing_data.head(20)   # PoolQC부터 LotFrontage는 missing Value가 너무 많아서 없앨 것임"
   ]
  },
  {
   "cell_type": "markdown",
   "id": "27c71c10",
   "metadata": {},
   "source": [
    "# Mas 부분 결측치 처리"
   ]
  },
  {
   "cell_type": "code",
   "execution_count": 93,
   "id": "1aba8317",
   "metadata": {
    "scrolled": true
   },
   "outputs": [
    {
     "data": {
      "text/plain": [
       "array([1.960e+02, 0.000e+00, 1.620e+02, 3.500e+02, 1.860e+02, 2.400e+02,\n",
       "       2.860e+02, 3.060e+02, 2.120e+02, 1.800e+02, 3.800e+02, 2.810e+02,\n",
       "       6.400e+02, 2.000e+02, 2.460e+02, 1.320e+02, 6.500e+02, 1.010e+02,\n",
       "       4.120e+02, 2.720e+02, 4.560e+02, 1.031e+03, 1.780e+02, 5.730e+02,\n",
       "       3.440e+02, 2.870e+02, 1.670e+02, 1.115e+03, 4.000e+01, 1.040e+02,\n",
       "       5.760e+02, 4.430e+02, 4.680e+02, 6.600e+01, 2.200e+01, 2.840e+02,\n",
       "       7.600e+01, 2.030e+02, 6.800e+01, 1.830e+02, 4.800e+01, 2.800e+01,\n",
       "       3.360e+02, 6.000e+02, 7.680e+02, 4.800e+02, 2.200e+02, 1.840e+02,\n",
       "       1.129e+03, 1.160e+02, 1.350e+02, 2.660e+02, 8.500e+01, 3.090e+02,\n",
       "       1.360e+02, 2.880e+02, 7.000e+01, 3.200e+02, 5.000e+01, 1.200e+02,\n",
       "       4.360e+02, 2.520e+02, 8.400e+01, 6.640e+02, 2.260e+02, 3.000e+02,\n",
       "       6.530e+02, 1.120e+02, 4.910e+02, 2.680e+02, 7.480e+02, 9.800e+01,\n",
       "       2.750e+02, 1.380e+02, 2.050e+02, 2.620e+02, 1.280e+02, 2.600e+02,\n",
       "       1.530e+02, 6.400e+01, 3.120e+02, 1.600e+01, 9.220e+02, 1.420e+02,\n",
       "       2.900e+02, 1.270e+02, 5.060e+02, 2.970e+02,       nan, 6.040e+02,\n",
       "       2.540e+02, 3.600e+01, 1.020e+02, 4.720e+02, 4.810e+02, 1.080e+02,\n",
       "       3.020e+02, 1.720e+02, 3.990e+02, 2.700e+02, 4.600e+01, 2.100e+02,\n",
       "       1.740e+02, 3.480e+02, 3.150e+02, 2.990e+02, 3.400e+02, 1.660e+02,\n",
       "       7.200e+01, 3.100e+01, 3.400e+01, 2.380e+02, 1.600e+03, 3.650e+02,\n",
       "       5.600e+01, 1.500e+02, 2.780e+02, 2.560e+02, 2.250e+02, 3.700e+02,\n",
       "       3.880e+02, 1.750e+02, 2.960e+02, 1.460e+02, 1.130e+02, 1.760e+02,\n",
       "       6.160e+02, 3.000e+01, 1.060e+02, 8.700e+02, 3.620e+02, 5.300e+02,\n",
       "       5.000e+02, 5.100e+02, 2.470e+02, 3.050e+02, 2.550e+02, 1.250e+02,\n",
       "       1.000e+02, 4.320e+02, 1.260e+02, 4.730e+02, 7.400e+01, 1.450e+02,\n",
       "       2.320e+02, 3.760e+02, 4.200e+01, 1.610e+02, 1.100e+02, 1.800e+01,\n",
       "       2.240e+02, 2.480e+02, 8.000e+01, 3.040e+02, 2.150e+02, 7.720e+02,\n",
       "       4.350e+02, 3.780e+02, 5.620e+02, 1.680e+02, 8.900e+01, 2.850e+02,\n",
       "       3.600e+02, 9.400e+01, 3.330e+02, 9.210e+02, 7.620e+02, 5.940e+02,\n",
       "       2.190e+02, 1.880e+02, 4.790e+02, 5.840e+02, 1.820e+02, 2.500e+02,\n",
       "       2.920e+02, 2.450e+02, 2.070e+02, 8.200e+01, 9.700e+01, 3.350e+02,\n",
       "       2.080e+02, 4.200e+02, 1.700e+02, 4.590e+02, 2.800e+02, 9.900e+01,\n",
       "       1.920e+02, 2.040e+02, 2.330e+02, 1.560e+02, 4.520e+02, 5.130e+02,\n",
       "       2.610e+02, 1.640e+02, 2.590e+02, 2.090e+02, 2.630e+02, 2.160e+02,\n",
       "       3.510e+02, 6.600e+02, 3.810e+02, 5.400e+01, 5.280e+02, 2.580e+02,\n",
       "       4.640e+02, 5.700e+01, 1.470e+02, 1.170e+03, 2.930e+02, 6.300e+02,\n",
       "       4.660e+02, 1.090e+02, 4.100e+01, 1.600e+02, 2.890e+02, 6.510e+02,\n",
       "       1.690e+02, 9.500e+01, 4.420e+02, 2.020e+02, 3.380e+02, 8.940e+02,\n",
       "       3.280e+02, 6.730e+02, 6.030e+02, 1.000e+00, 3.750e+02, 9.000e+01,\n",
       "       3.800e+01, 1.570e+02, 1.100e+01, 1.400e+02, 1.300e+02, 1.480e+02,\n",
       "       8.600e+02, 4.240e+02, 1.047e+03, 2.430e+02, 8.160e+02, 3.870e+02,\n",
       "       2.230e+02, 1.580e+02, 1.370e+02, 1.150e+02, 1.890e+02, 2.740e+02,\n",
       "       1.170e+02, 6.000e+01, 1.220e+02, 9.200e+01, 4.150e+02, 7.600e+02,\n",
       "       2.700e+01, 7.500e+01, 3.610e+02, 1.050e+02, 3.420e+02, 2.980e+02,\n",
       "       5.410e+02, 2.360e+02, 1.440e+02, 4.230e+02, 4.400e+01, 1.510e+02,\n",
       "       9.750e+02, 4.500e+02, 2.300e+02, 5.710e+02, 2.400e+01, 5.300e+01,\n",
       "       2.060e+02, 1.400e+01, 3.240e+02, 2.950e+02, 3.960e+02, 6.700e+01,\n",
       "       1.540e+02, 4.250e+02, 4.500e+01, 1.378e+03, 3.370e+02, 1.490e+02,\n",
       "       1.430e+02, 5.100e+01, 1.710e+02, 2.340e+02, 6.300e+01, 7.660e+02,\n",
       "       3.200e+01, 8.100e+01, 1.630e+02, 5.540e+02, 2.180e+02, 6.320e+02,\n",
       "       1.140e+02, 5.670e+02, 3.590e+02, 4.510e+02, 6.210e+02, 7.880e+02,\n",
       "       8.600e+01, 7.960e+02, 3.910e+02, 2.280e+02, 8.800e+01, 1.650e+02,\n",
       "       4.280e+02, 4.100e+02, 5.640e+02, 3.680e+02, 3.180e+02, 5.790e+02,\n",
       "       6.500e+01, 7.050e+02, 4.080e+02, 2.440e+02, 1.230e+02, 3.660e+02,\n",
       "       7.310e+02, 4.480e+02, 2.940e+02, 3.100e+02, 2.370e+02, 4.260e+02,\n",
       "       9.600e+01, 4.380e+02, 1.940e+02, 1.190e+02])"
      ]
     },
     "execution_count": 93,
     "metadata": {},
     "output_type": "execute_result"
    }
   ],
   "source": [
    "train_df['MasVnrArea'].unique()"
   ]
  },
  {
   "cell_type": "code",
   "execution_count": 94,
   "id": "4a613a0f",
   "metadata": {
    "scrolled": true
   },
   "outputs": [
    {
     "data": {
      "text/plain": [
       "array([1.96000000e+02, 0.00000000e+00, 1.62000000e+02, 3.50000000e+02,\n",
       "       1.86000000e+02, 2.40000000e+02, 2.86000000e+02, 3.06000000e+02,\n",
       "       2.12000000e+02, 1.80000000e+02, 3.80000000e+02, 2.81000000e+02,\n",
       "       6.40000000e+02, 2.00000000e+02, 2.46000000e+02, 1.32000000e+02,\n",
       "       6.50000000e+02, 1.01000000e+02, 4.12000000e+02, 2.72000000e+02,\n",
       "       4.56000000e+02, 1.03100000e+03, 1.78000000e+02, 5.73000000e+02,\n",
       "       3.44000000e+02, 2.87000000e+02, 1.67000000e+02, 1.11500000e+03,\n",
       "       4.00000000e+01, 1.04000000e+02, 5.76000000e+02, 4.43000000e+02,\n",
       "       4.68000000e+02, 6.60000000e+01, 2.20000000e+01, 2.84000000e+02,\n",
       "       7.60000000e+01, 2.03000000e+02, 6.80000000e+01, 1.83000000e+02,\n",
       "       4.80000000e+01, 2.80000000e+01, 3.36000000e+02, 6.00000000e+02,\n",
       "       7.68000000e+02, 4.80000000e+02, 2.20000000e+02, 1.84000000e+02,\n",
       "       1.12900000e+03, 1.16000000e+02, 1.35000000e+02, 2.66000000e+02,\n",
       "       8.50000000e+01, 3.09000000e+02, 1.36000000e+02, 2.88000000e+02,\n",
       "       7.00000000e+01, 3.20000000e+02, 5.00000000e+01, 1.20000000e+02,\n",
       "       4.36000000e+02, 2.52000000e+02, 8.40000000e+01, 6.64000000e+02,\n",
       "       2.26000000e+02, 3.00000000e+02, 6.53000000e+02, 1.12000000e+02,\n",
       "       4.91000000e+02, 2.68000000e+02, 7.48000000e+02, 9.80000000e+01,\n",
       "       2.75000000e+02, 1.38000000e+02, 2.05000000e+02, 2.62000000e+02,\n",
       "       1.28000000e+02, 2.60000000e+02, 1.53000000e+02, 6.40000000e+01,\n",
       "       3.12000000e+02, 1.60000000e+01, 9.22000000e+02, 1.42000000e+02,\n",
       "       2.90000000e+02, 1.27000000e+02, 5.06000000e+02, 2.97000000e+02,\n",
       "       1.03685262e+02, 6.04000000e+02, 2.54000000e+02, 3.60000000e+01,\n",
       "       1.02000000e+02, 4.72000000e+02, 4.81000000e+02, 1.08000000e+02,\n",
       "       3.02000000e+02, 1.72000000e+02, 3.99000000e+02, 2.70000000e+02,\n",
       "       4.60000000e+01, 2.10000000e+02, 1.74000000e+02, 3.48000000e+02,\n",
       "       3.15000000e+02, 2.99000000e+02, 3.40000000e+02, 1.66000000e+02,\n",
       "       7.20000000e+01, 3.10000000e+01, 3.40000000e+01, 2.38000000e+02,\n",
       "       1.60000000e+03, 3.65000000e+02, 5.60000000e+01, 1.50000000e+02,\n",
       "       2.78000000e+02, 2.56000000e+02, 2.25000000e+02, 3.70000000e+02,\n",
       "       3.88000000e+02, 1.75000000e+02, 2.96000000e+02, 1.46000000e+02,\n",
       "       1.13000000e+02, 1.76000000e+02, 6.16000000e+02, 3.00000000e+01,\n",
       "       1.06000000e+02, 8.70000000e+02, 3.62000000e+02, 5.30000000e+02,\n",
       "       5.00000000e+02, 5.10000000e+02, 2.47000000e+02, 3.05000000e+02,\n",
       "       2.55000000e+02, 1.25000000e+02, 1.00000000e+02, 4.32000000e+02,\n",
       "       1.26000000e+02, 4.73000000e+02, 7.40000000e+01, 1.45000000e+02,\n",
       "       2.32000000e+02, 3.76000000e+02, 4.20000000e+01, 1.61000000e+02,\n",
       "       1.10000000e+02, 1.80000000e+01, 2.24000000e+02, 2.48000000e+02,\n",
       "       8.00000000e+01, 3.04000000e+02, 2.15000000e+02, 7.72000000e+02,\n",
       "       4.35000000e+02, 3.78000000e+02, 5.62000000e+02, 1.68000000e+02,\n",
       "       8.90000000e+01, 2.85000000e+02, 3.60000000e+02, 9.40000000e+01,\n",
       "       3.33000000e+02, 9.21000000e+02, 7.62000000e+02, 5.94000000e+02,\n",
       "       2.19000000e+02, 1.88000000e+02, 4.79000000e+02, 5.84000000e+02,\n",
       "       1.82000000e+02, 2.50000000e+02, 2.92000000e+02, 2.45000000e+02,\n",
       "       2.07000000e+02, 8.20000000e+01, 9.70000000e+01, 3.35000000e+02,\n",
       "       2.08000000e+02, 4.20000000e+02, 1.70000000e+02, 4.59000000e+02,\n",
       "       2.80000000e+02, 9.90000000e+01, 1.92000000e+02, 2.04000000e+02,\n",
       "       2.33000000e+02, 1.56000000e+02, 4.52000000e+02, 5.13000000e+02,\n",
       "       2.61000000e+02, 1.64000000e+02, 2.59000000e+02, 2.09000000e+02,\n",
       "       2.63000000e+02, 2.16000000e+02, 3.51000000e+02, 6.60000000e+02,\n",
       "       3.81000000e+02, 5.40000000e+01, 5.28000000e+02, 2.58000000e+02,\n",
       "       4.64000000e+02, 5.70000000e+01, 1.47000000e+02, 1.17000000e+03,\n",
       "       2.93000000e+02, 6.30000000e+02, 4.66000000e+02, 1.09000000e+02,\n",
       "       4.10000000e+01, 1.60000000e+02, 2.89000000e+02, 6.51000000e+02,\n",
       "       1.69000000e+02, 9.50000000e+01, 4.42000000e+02, 2.02000000e+02,\n",
       "       3.38000000e+02, 8.94000000e+02, 3.28000000e+02, 6.73000000e+02,\n",
       "       6.03000000e+02, 1.00000000e+00, 3.75000000e+02, 9.00000000e+01,\n",
       "       3.80000000e+01, 1.57000000e+02, 1.10000000e+01, 1.40000000e+02,\n",
       "       1.30000000e+02, 1.48000000e+02, 8.60000000e+02, 4.24000000e+02,\n",
       "       1.04700000e+03, 2.43000000e+02, 8.16000000e+02, 3.87000000e+02,\n",
       "       2.23000000e+02, 1.58000000e+02, 1.37000000e+02, 1.15000000e+02,\n",
       "       1.89000000e+02, 2.74000000e+02, 1.17000000e+02, 6.00000000e+01,\n",
       "       1.22000000e+02, 9.20000000e+01, 4.15000000e+02, 7.60000000e+02,\n",
       "       2.70000000e+01, 7.50000000e+01, 3.61000000e+02, 1.05000000e+02,\n",
       "       3.42000000e+02, 2.98000000e+02, 5.41000000e+02, 2.36000000e+02,\n",
       "       1.44000000e+02, 4.23000000e+02, 4.40000000e+01, 1.51000000e+02,\n",
       "       9.75000000e+02, 4.50000000e+02, 2.30000000e+02, 5.71000000e+02,\n",
       "       2.40000000e+01, 5.30000000e+01, 2.06000000e+02, 1.40000000e+01,\n",
       "       3.24000000e+02, 2.95000000e+02, 3.96000000e+02, 6.70000000e+01,\n",
       "       1.54000000e+02, 4.25000000e+02, 4.50000000e+01, 1.37800000e+03,\n",
       "       3.37000000e+02, 1.49000000e+02, 1.43000000e+02, 5.10000000e+01,\n",
       "       1.71000000e+02, 2.34000000e+02, 6.30000000e+01, 7.66000000e+02,\n",
       "       3.20000000e+01, 8.10000000e+01, 1.63000000e+02, 5.54000000e+02,\n",
       "       2.18000000e+02, 6.32000000e+02, 1.14000000e+02, 5.67000000e+02,\n",
       "       3.59000000e+02, 4.51000000e+02, 6.21000000e+02, 7.88000000e+02,\n",
       "       8.60000000e+01, 7.96000000e+02, 3.91000000e+02, 2.28000000e+02,\n",
       "       8.80000000e+01, 1.65000000e+02, 4.28000000e+02, 4.10000000e+02,\n",
       "       5.64000000e+02, 3.68000000e+02, 3.18000000e+02, 5.79000000e+02,\n",
       "       6.50000000e+01, 7.05000000e+02, 4.08000000e+02, 2.44000000e+02,\n",
       "       1.23000000e+02, 3.66000000e+02, 7.31000000e+02, 4.48000000e+02,\n",
       "       2.94000000e+02, 3.10000000e+02, 2.37000000e+02, 4.26000000e+02,\n",
       "       9.60000000e+01, 4.38000000e+02, 1.94000000e+02, 1.19000000e+02])"
      ]
     },
     "execution_count": 94,
     "metadata": {},
     "output_type": "execute_result"
    }
   ],
   "source": [
    "train_df.loc[train_df['MasVnrArea'].isnull(),'MasVnrArea']=train_df['MasVnrArea'].fillna(train_df['MasVnrArea'].mean(), inplace=True)\n",
    "train_df['MasVnrArea'].unique()"
   ]
  },
  {
   "cell_type": "code",
   "execution_count": 95,
   "id": "700f8952",
   "metadata": {},
   "outputs": [
    {
     "data": {
      "text/plain": [
       "array(['BrkFace', 'None', 'Stone', 'BrkCmn', nan], dtype=object)"
      ]
     },
     "execution_count": 95,
     "metadata": {},
     "output_type": "execute_result"
    }
   ],
   "source": [
    "train_df['MasVnrType'].unique()"
   ]
  },
  {
   "cell_type": "code",
   "execution_count": 96,
   "id": "46587540",
   "metadata": {},
   "outputs": [
    {
     "data": {
      "text/plain": [
       "array(['BrkFace', 'None', 'Stone', 'BrkCmn'], dtype=object)"
      ]
     },
     "execution_count": 96,
     "metadata": {},
     "output_type": "execute_result"
    }
   ],
   "source": [
    "train_df.loc[train_df['MasVnrType'].isnull(),'MasVnrType']='None'\n",
    "train_df['MasVnrType'].unique()"
   ]
  },
  {
   "cell_type": "code",
   "execution_count": null,
   "id": "58cf4675",
   "metadata": {},
   "outputs": [],
   "source": []
  },
  {
   "cell_type": "code",
   "execution_count": null,
   "id": "776680a4",
   "metadata": {},
   "outputs": [],
   "source": []
  },
  {
   "cell_type": "markdown",
   "id": "bb636a96",
   "metadata": {},
   "source": [
    "# 나머지 Electrical 결측치 처리"
   ]
  },
  {
   "cell_type": "code",
   "execution_count": 97,
   "id": "c3992f4e",
   "metadata": {},
   "outputs": [
    {
     "data": {
      "text/plain": [
       "array(['SBrkr', 'FuseF', 'FuseA', 'FuseP', 'Mix', nan], dtype=object)"
      ]
     },
     "execution_count": 97,
     "metadata": {},
     "output_type": "execute_result"
    }
   ],
   "source": [
    "train_df.Electrical.unique()"
   ]
  },
  {
   "cell_type": "code",
   "execution_count": 98,
   "id": "d0ca9dda",
   "metadata": {},
   "outputs": [],
   "source": [
    "train_df.loc[train_df['Electrical'].isnull(), 'Electrical']='None'"
   ]
  },
  {
   "cell_type": "code",
   "execution_count": 99,
   "id": "6cfdfc3d",
   "metadata": {},
   "outputs": [
    {
     "data": {
      "text/plain": [
       "array(['SBrkr', 'FuseF', 'FuseA', 'FuseP', 'Mix', 'None'], dtype=object)"
      ]
     },
     "execution_count": 99,
     "metadata": {},
     "output_type": "execute_result"
    }
   ],
   "source": [
    "train_df.Electrical.unique()"
   ]
  },
  {
   "cell_type": "code",
   "execution_count": 100,
   "id": "a5b526a9",
   "metadata": {},
   "outputs": [
    {
     "data": {
      "text/html": [
       "<div>\n",
       "<style scoped>\n",
       "    .dataframe tbody tr th:only-of-type {\n",
       "        vertical-align: middle;\n",
       "    }\n",
       "\n",
       "    .dataframe tbody tr th {\n",
       "        vertical-align: top;\n",
       "    }\n",
       "\n",
       "    .dataframe thead th {\n",
       "        text-align: right;\n",
       "    }\n",
       "</style>\n",
       "<table border=\"1\" class=\"dataframe\">\n",
       "  <thead>\n",
       "    <tr style=\"text-align: right;\">\n",
       "      <th></th>\n",
       "      <th>Total</th>\n",
       "      <th>Percent</th>\n",
       "    </tr>\n",
       "  </thead>\n",
       "  <tbody>\n",
       "    <tr>\n",
       "      <th>Id</th>\n",
       "      <td>0</td>\n",
       "      <td>0.0</td>\n",
       "    </tr>\n",
       "    <tr>\n",
       "      <th>FullBath</th>\n",
       "      <td>0</td>\n",
       "      <td>0.0</td>\n",
       "    </tr>\n",
       "    <tr>\n",
       "      <th>Fireplaces</th>\n",
       "      <td>0</td>\n",
       "      <td>0.0</td>\n",
       "    </tr>\n",
       "    <tr>\n",
       "      <th>Functional</th>\n",
       "      <td>0</td>\n",
       "      <td>0.0</td>\n",
       "    </tr>\n",
       "    <tr>\n",
       "      <th>TotRmsAbvGrd</th>\n",
       "      <td>0</td>\n",
       "      <td>0.0</td>\n",
       "    </tr>\n",
       "    <tr>\n",
       "      <th>KitchenQual</th>\n",
       "      <td>0</td>\n",
       "      <td>0.0</td>\n",
       "    </tr>\n",
       "    <tr>\n",
       "      <th>KitchenAbvGr</th>\n",
       "      <td>0</td>\n",
       "      <td>0.0</td>\n",
       "    </tr>\n",
       "    <tr>\n",
       "      <th>BedroomAbvGr</th>\n",
       "      <td>0</td>\n",
       "      <td>0.0</td>\n",
       "    </tr>\n",
       "    <tr>\n",
       "      <th>HalfBath</th>\n",
       "      <td>0</td>\n",
       "      <td>0.0</td>\n",
       "    </tr>\n",
       "    <tr>\n",
       "      <th>BsmtHalfBath</th>\n",
       "      <td>0</td>\n",
       "      <td>0.0</td>\n",
       "    </tr>\n",
       "    <tr>\n",
       "      <th>MSSubClass</th>\n",
       "      <td>0</td>\n",
       "      <td>0.0</td>\n",
       "    </tr>\n",
       "    <tr>\n",
       "      <th>BsmtFullBath</th>\n",
       "      <td>0</td>\n",
       "      <td>0.0</td>\n",
       "    </tr>\n",
       "    <tr>\n",
       "      <th>GrLivArea</th>\n",
       "      <td>0</td>\n",
       "      <td>0.0</td>\n",
       "    </tr>\n",
       "    <tr>\n",
       "      <th>LowQualFinSF</th>\n",
       "      <td>0</td>\n",
       "      <td>0.0</td>\n",
       "    </tr>\n",
       "    <tr>\n",
       "      <th>2ndFlrSF</th>\n",
       "      <td>0</td>\n",
       "      <td>0.0</td>\n",
       "    </tr>\n",
       "    <tr>\n",
       "      <th>1stFlrSF</th>\n",
       "      <td>0</td>\n",
       "      <td>0.0</td>\n",
       "    </tr>\n",
       "    <tr>\n",
       "      <th>Electrical</th>\n",
       "      <td>0</td>\n",
       "      <td>0.0</td>\n",
       "    </tr>\n",
       "    <tr>\n",
       "      <th>CentralAir</th>\n",
       "      <td>0</td>\n",
       "      <td>0.0</td>\n",
       "    </tr>\n",
       "    <tr>\n",
       "      <th>GarageType</th>\n",
       "      <td>0</td>\n",
       "      <td>0.0</td>\n",
       "    </tr>\n",
       "    <tr>\n",
       "      <th>GarageYrBlt</th>\n",
       "      <td>0</td>\n",
       "      <td>0.0</td>\n",
       "    </tr>\n",
       "  </tbody>\n",
       "</table>\n",
       "</div>"
      ],
      "text/plain": [
       "              Total  Percent\n",
       "Id                0      0.0\n",
       "FullBath          0      0.0\n",
       "Fireplaces        0      0.0\n",
       "Functional        0      0.0\n",
       "TotRmsAbvGrd      0      0.0\n",
       "KitchenQual       0      0.0\n",
       "KitchenAbvGr      0      0.0\n",
       "BedroomAbvGr      0      0.0\n",
       "HalfBath          0      0.0\n",
       "BsmtHalfBath      0      0.0\n",
       "MSSubClass        0      0.0\n",
       "BsmtFullBath      0      0.0\n",
       "GrLivArea         0      0.0\n",
       "LowQualFinSF      0      0.0\n",
       "2ndFlrSF          0      0.0\n",
       "1stFlrSF          0      0.0\n",
       "Electrical        0      0.0\n",
       "CentralAir        0      0.0\n",
       "GarageType        0      0.0\n",
       "GarageYrBlt       0      0.0"
      ]
     },
     "execution_count": 100,
     "metadata": {},
     "output_type": "execute_result"
    }
   ],
   "source": [
    "total = train_df.isna().sum().sort_values(ascending=False)\n",
    "percent = (train_df.isna().sum()/train_df.shape[0]).sort_values(ascending=False)\n",
    "missing_data = pd.concat([total, percent], axis=1, keys=['Total', 'Percent'])\n",
    "missing_data.head(20)   # PoolQC부터 LotFrontage는 missing Value가 너무 많아서 없앨 것임"
   ]
  },
  {
   "cell_type": "code",
   "execution_count": 101,
   "id": "11d9e3e1",
   "metadata": {},
   "outputs": [
    {
     "data": {
      "text/html": [
       "<div>\n",
       "<style scoped>\n",
       "    .dataframe tbody tr th:only-of-type {\n",
       "        vertical-align: middle;\n",
       "    }\n",
       "\n",
       "    .dataframe tbody tr th {\n",
       "        vertical-align: top;\n",
       "    }\n",
       "\n",
       "    .dataframe thead th {\n",
       "        text-align: right;\n",
       "    }\n",
       "</style>\n",
       "<table border=\"1\" class=\"dataframe\">\n",
       "  <thead>\n",
       "    <tr style=\"text-align: right;\">\n",
       "      <th></th>\n",
       "      <th>Total</th>\n",
       "      <th>Percent</th>\n",
       "    </tr>\n",
       "  </thead>\n",
       "  <tbody>\n",
       "    <tr>\n",
       "      <th>MasVnrType</th>\n",
       "      <td>16</td>\n",
       "      <td>0.010966</td>\n",
       "    </tr>\n",
       "    <tr>\n",
       "      <th>MasVnrArea</th>\n",
       "      <td>15</td>\n",
       "      <td>0.010281</td>\n",
       "    </tr>\n",
       "    <tr>\n",
       "      <th>MSZoning</th>\n",
       "      <td>4</td>\n",
       "      <td>0.002742</td>\n",
       "    </tr>\n",
       "    <tr>\n",
       "      <th>Functional</th>\n",
       "      <td>2</td>\n",
       "      <td>0.001371</td>\n",
       "    </tr>\n",
       "    <tr>\n",
       "      <th>BsmtFullBath</th>\n",
       "      <td>2</td>\n",
       "      <td>0.001371</td>\n",
       "    </tr>\n",
       "    <tr>\n",
       "      <th>BsmtHalfBath</th>\n",
       "      <td>2</td>\n",
       "      <td>0.001371</td>\n",
       "    </tr>\n",
       "    <tr>\n",
       "      <th>Utilities</th>\n",
       "      <td>2</td>\n",
       "      <td>0.001371</td>\n",
       "    </tr>\n",
       "    <tr>\n",
       "      <th>Exterior2nd</th>\n",
       "      <td>1</td>\n",
       "      <td>0.000685</td>\n",
       "    </tr>\n",
       "    <tr>\n",
       "      <th>Exterior1st</th>\n",
       "      <td>1</td>\n",
       "      <td>0.000685</td>\n",
       "    </tr>\n",
       "    <tr>\n",
       "      <th>GarageCars</th>\n",
       "      <td>1</td>\n",
       "      <td>0.000685</td>\n",
       "    </tr>\n",
       "    <tr>\n",
       "      <th>GarageArea</th>\n",
       "      <td>1</td>\n",
       "      <td>0.000685</td>\n",
       "    </tr>\n",
       "    <tr>\n",
       "      <th>KitchenQual</th>\n",
       "      <td>1</td>\n",
       "      <td>0.000685</td>\n",
       "    </tr>\n",
       "    <tr>\n",
       "      <th>TotalBsmtSF</th>\n",
       "      <td>1</td>\n",
       "      <td>0.000685</td>\n",
       "    </tr>\n",
       "    <tr>\n",
       "      <th>BsmtFinSF2</th>\n",
       "      <td>1</td>\n",
       "      <td>0.000685</td>\n",
       "    </tr>\n",
       "    <tr>\n",
       "      <th>BsmtUnfSF</th>\n",
       "      <td>1</td>\n",
       "      <td>0.000685</td>\n",
       "    </tr>\n",
       "    <tr>\n",
       "      <th>SaleType</th>\n",
       "      <td>1</td>\n",
       "      <td>0.000685</td>\n",
       "    </tr>\n",
       "    <tr>\n",
       "      <th>BsmtFinSF1</th>\n",
       "      <td>1</td>\n",
       "      <td>0.000685</td>\n",
       "    </tr>\n",
       "    <tr>\n",
       "      <th>HalfBath</th>\n",
       "      <td>0</td>\n",
       "      <td>0.000000</td>\n",
       "    </tr>\n",
       "    <tr>\n",
       "      <th>BedroomAbvGr</th>\n",
       "      <td>0</td>\n",
       "      <td>0.000000</td>\n",
       "    </tr>\n",
       "    <tr>\n",
       "      <th>KitchenAbvGr</th>\n",
       "      <td>0</td>\n",
       "      <td>0.000000</td>\n",
       "    </tr>\n",
       "  </tbody>\n",
       "</table>\n",
       "</div>"
      ],
      "text/plain": [
       "              Total   Percent\n",
       "MasVnrType       16  0.010966\n",
       "MasVnrArea       15  0.010281\n",
       "MSZoning          4  0.002742\n",
       "Functional        2  0.001371\n",
       "BsmtFullBath      2  0.001371\n",
       "BsmtHalfBath      2  0.001371\n",
       "Utilities         2  0.001371\n",
       "Exterior2nd       1  0.000685\n",
       "Exterior1st       1  0.000685\n",
       "GarageCars        1  0.000685\n",
       "GarageArea        1  0.000685\n",
       "KitchenQual       1  0.000685\n",
       "TotalBsmtSF       1  0.000685\n",
       "BsmtFinSF2        1  0.000685\n",
       "BsmtUnfSF         1  0.000685\n",
       "SaleType          1  0.000685\n",
       "BsmtFinSF1        1  0.000685\n",
       "HalfBath          0  0.000000\n",
       "BedroomAbvGr      0  0.000000\n",
       "KitchenAbvGr      0  0.000000"
      ]
     },
     "execution_count": 101,
     "metadata": {},
     "output_type": "execute_result"
    }
   ],
   "source": [
    "total = test_df.isna().sum().sort_values(ascending=False)\n",
    "percent = (test_df.isna().sum()/test_df.shape[0]).sort_values(ascending=False)\n",
    "missing_data = pd.concat([total, percent], axis=1, keys=['Total', 'Percent'])\n",
    "missing_data.head(20)   # PoolQC부터 LotFrontage는 missing Value가 너무 많아서 없앨 것임"
   ]
  },
  {
   "cell_type": "code",
   "execution_count": 102,
   "id": "b52894d7",
   "metadata": {
    "scrolled": true
   },
   "outputs": [
    {
     "data": {
      "text/plain": [
       "array([ 856, 1262,  920,  756, 1145,  796, 1686, 1107,  952,  991, 1040,\n",
       "       1175,  912, 1494, 1253,  832, 1004,    0, 1114, 1029, 1158,  637,\n",
       "       1777, 1060, 1566,  900, 1704, 1484,  520,  649, 1228, 1234, 1398,\n",
       "       1561, 1117, 1097, 1297, 1057, 1088, 1350,  840,  938, 1150, 1752,\n",
       "       1434, 1656,  736,  955,  794,  816, 1842,  384, 1425,  970,  860,\n",
       "       1410,  780,  530, 1370,  576, 1143, 1947, 1453,  747, 1304, 2223,\n",
       "        845, 1086,  462,  672, 1768,  440,  896, 1237, 1563, 1065, 1288,\n",
       "        684,  612, 1013,  990, 1235,  876, 1214,  824,  680, 1588,  960,\n",
       "        458,  950, 1610,  741, 1226, 1053,  641,  789,  793, 1844,  994,\n",
       "       1264, 1809, 1028,  729, 1092, 1125, 1673,  728,  732, 1080, 1199,\n",
       "       1362, 1078,  660, 1008,  924,  992, 1063, 1267, 1461, 1907,  928,\n",
       "        864, 1734,  910, 1490, 1728,  715,  884,  969, 1710,  825, 1602,\n",
       "       1200,  572,  774, 1392, 1232, 1572, 1541,  882, 1149,  644, 1617,\n",
       "       1582,  720, 1064, 1606, 1202, 1151, 1052, 2216,  968,  504, 1188,\n",
       "       1593,  853,  725, 1431,  855, 1726, 1360,  755, 1713, 1121, 1196,\n",
       "        617,  848, 1424, 1140, 1100, 1157, 1212,  689, 1070, 1436,  686,\n",
       "        798, 1248, 1498, 1010,  713, 2392,  630, 1203,  483, 1373, 1194,\n",
       "       1462,  894, 1414,  996, 1694,  735,  540,  626,  948, 1845, 1020,\n",
       "       1367, 1444, 1573, 1302, 1314,  975, 1604,  963, 1482,  506,  926,\n",
       "       1422,  802,  740, 1095, 1385, 1152, 1240, 1560, 2121, 1160,  807,\n",
       "       1468, 1575,  625,  858,  698, 1079,  768,  795, 1416, 1003,  702,\n",
       "       1165, 1470, 2000,  700,  319,  861, 1896,  697,  972, 2136,  716,\n",
       "       1347, 1372, 1249, 1136, 1502, 1162,  710, 1719, 1383,  844,  596,\n",
       "       1056, 3206, 1358,  943, 1499, 1922, 1536, 1208, 1215,  967,  721,\n",
       "       1684,  536,  958, 1478,  764, 1848, 1869,  616,  624,  940, 1142,\n",
       "       1062,  888,  883, 1394, 1099, 1268,  953,  744,  608,  847,  683,\n",
       "        870, 1580, 1856,  982, 1026, 1293,  939,  784, 1256,  658, 1041,\n",
       "       1682,  804,  788, 1144,  961, 1260, 1310, 1141,  806, 1281, 1034,\n",
       "       1276, 1340, 1344,  988,  651, 1518,  907,  901,  765,  799,  648,\n",
       "       3094, 1440, 1258,  915, 1517,  930,  813, 1533,  872, 1242, 1364,\n",
       "        588,  709,  560, 1375, 1277, 1626, 1488,  808,  547, 1976, 2153,\n",
       "       1705, 1833, 1792, 1216,  999, 1113, 1073,  954,  264, 1269,  190,\n",
       "       3200,  866, 1501,  777, 1218, 1368, 1084, 2006, 1244, 3138, 1379,\n",
       "       1257, 1452,  528, 2035,  611,  707,  880, 1051, 1581, 1838, 1650,\n",
       "        723,  654, 1204, 1069, 1709,  998,  993, 1374, 1389, 1163, 1122,\n",
       "       1496,  846,  372, 1164, 1050, 2042, 1868, 1437,  742,  770, 1722,\n",
       "       1814, 1430, 1058,  908,  600,  965, 1032, 1299, 1120,  936,  783,\n",
       "       1822, 1522,  980, 1116,  978, 1156,  636, 1554, 1386,  811, 1520,\n",
       "       1952, 1766,  981, 1094, 2109,  525,  776, 1486, 1629, 1138, 2077,\n",
       "       1406, 1021, 1408,  738, 1477, 2046,  923, 1291, 1195, 1190,  874,\n",
       "        551, 1419, 2444, 1210,  927, 1112, 1391, 1800,  360, 1473, 1643,\n",
       "       1324,  270,  859,  718, 1176, 1311,  971, 1742,  941, 1698, 1584,\n",
       "       1595,  868, 1153,  893, 1349, 1337, 1720, 1479, 1030, 1318, 1252,\n",
       "        983, 1860,  836, 1935, 1614,  761, 1413,  956,  712,  650,  773,\n",
       "       1926,  731, 1417, 1024,  849, 1442, 1649, 1568,  778, 1489, 2078,\n",
       "       1454, 1516, 1067, 1559, 1127, 1390, 1273,  918, 1763, 1090, 1054,\n",
       "       1039, 1148, 1002, 1638,  105,  676, 1184, 1109,  892, 2217, 1505,\n",
       "       1059,  951, 2330, 1670, 1623, 1017, 1105, 1001,  546,  480, 1134,\n",
       "       1104, 1272, 1316, 1126, 1181, 1753,  964, 1466,  925, 1905, 1500,\n",
       "        585, 1632,  819, 1616, 1161,  828,  945,  979,  561,  696, 1330,\n",
       "        817, 1098, 1428,  673, 1241,  944, 1225, 1266, 1128,  485, 1930,\n",
       "       1396,  916,  822,  750, 1700, 1007, 1187,  691, 1574, 1680, 1346,\n",
       "        985, 1657,  602, 1022, 1082,  810, 1504, 1220, 1132, 1565, 1338,\n",
       "       1654, 1620, 1055,  800, 1306, 1475, 2524, 1992, 1193,  973,  854,\n",
       "        662, 1103, 1154,  942, 1048,  727,  690, 1096, 1459, 1251, 1247,\n",
       "       1074, 1271,  290,  655, 1463, 1836,  803,  833,  408,  533, 1012,\n",
       "       1552, 1005, 1530,  974, 1567, 1006, 1042, 1298,  704,  932, 1219,\n",
       "       1296, 1198,  959, 1261, 1598, 1683,  818, 1600, 2396, 1624,  831,\n",
       "       1224,  663,  879,  815, 1630, 2158,  931, 1660,  559, 1300, 1702,\n",
       "       1075, 1361, 1106, 1476, 1689, 2076,  792, 2110, 1405, 1192,  746,\n",
       "       1986,  841, 2002, 1332,  935, 1019,  661, 1309, 1328, 1085, 6110,\n",
       "       1246,  771,  976, 1652, 1278, 1902, 1274, 1393, 1622, 1352,  420,\n",
       "       1795,  544, 1510,  911,  693, 1284, 1732, 2033,  570, 1980,  814,\n",
       "        873,  757, 1108, 2633, 1571,  984, 1205,  714, 1746, 1525,  482,\n",
       "       1356,  862,  839, 1286, 1485, 1594,  622,  791,  708, 1223,  913,\n",
       "        656, 1319, 1932,  539, 1221, 1542])"
      ]
     },
     "execution_count": 102,
     "metadata": {},
     "output_type": "execute_result"
    }
   ],
   "source": [
    "train_df.TotalBsmtSF.unique()"
   ]
  },
  {
   "cell_type": "code",
   "execution_count": 103,
   "id": "5f1be400",
   "metadata": {},
   "outputs": [
    {
     "data": {
      "text/plain": [
       "1"
      ]
     },
     "execution_count": 103,
     "metadata": {},
     "output_type": "execute_result"
    }
   ],
   "source": [
    "test_df.loc[train_df['TotalBsmtSF'].isnull(), 'TotalBsmtSF']=int(train_df['TotalBsmtSF'].mean())\n",
    "test_df.TotalBsmtSF.isnull().sum()"
   ]
  },
  {
   "cell_type": "code",
   "execution_count": 104,
   "id": "927d70bb",
   "metadata": {},
   "outputs": [
    {
     "data": {
      "text/html": [
       "<div>\n",
       "<style scoped>\n",
       "    .dataframe tbody tr th:only-of-type {\n",
       "        vertical-align: middle;\n",
       "    }\n",
       "\n",
       "    .dataframe tbody tr th {\n",
       "        vertical-align: top;\n",
       "    }\n",
       "\n",
       "    .dataframe thead th {\n",
       "        text-align: right;\n",
       "    }\n",
       "</style>\n",
       "<table border=\"1\" class=\"dataframe\">\n",
       "  <thead>\n",
       "    <tr style=\"text-align: right;\">\n",
       "      <th></th>\n",
       "      <th>Id</th>\n",
       "      <th>MSSubClass</th>\n",
       "      <th>MSZoning</th>\n",
       "      <th>LotFrontage</th>\n",
       "      <th>LotArea</th>\n",
       "      <th>Street</th>\n",
       "      <th>LotShape</th>\n",
       "      <th>LandContour</th>\n",
       "      <th>Utilities</th>\n",
       "      <th>LotConfig</th>\n",
       "      <th>...</th>\n",
       "      <th>OpenPorchSF</th>\n",
       "      <th>EnclosedPorch</th>\n",
       "      <th>3SsnPorch</th>\n",
       "      <th>ScreenPorch</th>\n",
       "      <th>PoolArea</th>\n",
       "      <th>MiscVal</th>\n",
       "      <th>MoSold</th>\n",
       "      <th>YrSold</th>\n",
       "      <th>SaleType</th>\n",
       "      <th>SaleCondition</th>\n",
       "    </tr>\n",
       "  </thead>\n",
       "  <tbody>\n",
       "    <tr>\n",
       "      <th>0</th>\n",
       "      <td>1461</td>\n",
       "      <td>20</td>\n",
       "      <td>RH</td>\n",
       "      <td>80.0</td>\n",
       "      <td>11622</td>\n",
       "      <td>Pave</td>\n",
       "      <td>Reg</td>\n",
       "      <td>Lvl</td>\n",
       "      <td>AllPub</td>\n",
       "      <td>Inside</td>\n",
       "      <td>...</td>\n",
       "      <td>0</td>\n",
       "      <td>0</td>\n",
       "      <td>0</td>\n",
       "      <td>120</td>\n",
       "      <td>0</td>\n",
       "      <td>0</td>\n",
       "      <td>6</td>\n",
       "      <td>2010</td>\n",
       "      <td>WD</td>\n",
       "      <td>Normal</td>\n",
       "    </tr>\n",
       "    <tr>\n",
       "      <th>1</th>\n",
       "      <td>1462</td>\n",
       "      <td>20</td>\n",
       "      <td>RL</td>\n",
       "      <td>81.0</td>\n",
       "      <td>14267</td>\n",
       "      <td>Pave</td>\n",
       "      <td>IR1</td>\n",
       "      <td>Lvl</td>\n",
       "      <td>AllPub</td>\n",
       "      <td>Corner</td>\n",
       "      <td>...</td>\n",
       "      <td>36</td>\n",
       "      <td>0</td>\n",
       "      <td>0</td>\n",
       "      <td>0</td>\n",
       "      <td>0</td>\n",
       "      <td>12500</td>\n",
       "      <td>6</td>\n",
       "      <td>2010</td>\n",
       "      <td>WD</td>\n",
       "      <td>Normal</td>\n",
       "    </tr>\n",
       "    <tr>\n",
       "      <th>2</th>\n",
       "      <td>1463</td>\n",
       "      <td>60</td>\n",
       "      <td>RL</td>\n",
       "      <td>74.0</td>\n",
       "      <td>13830</td>\n",
       "      <td>Pave</td>\n",
       "      <td>IR1</td>\n",
       "      <td>Lvl</td>\n",
       "      <td>AllPub</td>\n",
       "      <td>Inside</td>\n",
       "      <td>...</td>\n",
       "      <td>34</td>\n",
       "      <td>0</td>\n",
       "      <td>0</td>\n",
       "      <td>0</td>\n",
       "      <td>0</td>\n",
       "      <td>0</td>\n",
       "      <td>3</td>\n",
       "      <td>2010</td>\n",
       "      <td>WD</td>\n",
       "      <td>Normal</td>\n",
       "    </tr>\n",
       "    <tr>\n",
       "      <th>3</th>\n",
       "      <td>1464</td>\n",
       "      <td>60</td>\n",
       "      <td>RL</td>\n",
       "      <td>78.0</td>\n",
       "      <td>9978</td>\n",
       "      <td>Pave</td>\n",
       "      <td>IR1</td>\n",
       "      <td>Lvl</td>\n",
       "      <td>AllPub</td>\n",
       "      <td>Inside</td>\n",
       "      <td>...</td>\n",
       "      <td>36</td>\n",
       "      <td>0</td>\n",
       "      <td>0</td>\n",
       "      <td>0</td>\n",
       "      <td>0</td>\n",
       "      <td>0</td>\n",
       "      <td>6</td>\n",
       "      <td>2010</td>\n",
       "      <td>WD</td>\n",
       "      <td>Normal</td>\n",
       "    </tr>\n",
       "    <tr>\n",
       "      <th>4</th>\n",
       "      <td>1465</td>\n",
       "      <td>120</td>\n",
       "      <td>RL</td>\n",
       "      <td>43.0</td>\n",
       "      <td>5005</td>\n",
       "      <td>Pave</td>\n",
       "      <td>IR1</td>\n",
       "      <td>HLS</td>\n",
       "      <td>AllPub</td>\n",
       "      <td>Inside</td>\n",
       "      <td>...</td>\n",
       "      <td>82</td>\n",
       "      <td>0</td>\n",
       "      <td>0</td>\n",
       "      <td>144</td>\n",
       "      <td>0</td>\n",
       "      <td>0</td>\n",
       "      <td>1</td>\n",
       "      <td>2010</td>\n",
       "      <td>WD</td>\n",
       "      <td>Normal</td>\n",
       "    </tr>\n",
       "    <tr>\n",
       "      <th>...</th>\n",
       "      <td>...</td>\n",
       "      <td>...</td>\n",
       "      <td>...</td>\n",
       "      <td>...</td>\n",
       "      <td>...</td>\n",
       "      <td>...</td>\n",
       "      <td>...</td>\n",
       "      <td>...</td>\n",
       "      <td>...</td>\n",
       "      <td>...</td>\n",
       "      <td>...</td>\n",
       "      <td>...</td>\n",
       "      <td>...</td>\n",
       "      <td>...</td>\n",
       "      <td>...</td>\n",
       "      <td>...</td>\n",
       "      <td>...</td>\n",
       "      <td>...</td>\n",
       "      <td>...</td>\n",
       "      <td>...</td>\n",
       "      <td>...</td>\n",
       "    </tr>\n",
       "    <tr>\n",
       "      <th>1454</th>\n",
       "      <td>2915</td>\n",
       "      <td>160</td>\n",
       "      <td>RM</td>\n",
       "      <td>21.0</td>\n",
       "      <td>1936</td>\n",
       "      <td>Pave</td>\n",
       "      <td>Reg</td>\n",
       "      <td>Lvl</td>\n",
       "      <td>AllPub</td>\n",
       "      <td>Inside</td>\n",
       "      <td>...</td>\n",
       "      <td>0</td>\n",
       "      <td>0</td>\n",
       "      <td>0</td>\n",
       "      <td>0</td>\n",
       "      <td>0</td>\n",
       "      <td>0</td>\n",
       "      <td>6</td>\n",
       "      <td>2006</td>\n",
       "      <td>WD</td>\n",
       "      <td>Normal</td>\n",
       "    </tr>\n",
       "    <tr>\n",
       "      <th>1455</th>\n",
       "      <td>2916</td>\n",
       "      <td>160</td>\n",
       "      <td>RM</td>\n",
       "      <td>21.0</td>\n",
       "      <td>1894</td>\n",
       "      <td>Pave</td>\n",
       "      <td>Reg</td>\n",
       "      <td>Lvl</td>\n",
       "      <td>AllPub</td>\n",
       "      <td>Inside</td>\n",
       "      <td>...</td>\n",
       "      <td>24</td>\n",
       "      <td>0</td>\n",
       "      <td>0</td>\n",
       "      <td>0</td>\n",
       "      <td>0</td>\n",
       "      <td>0</td>\n",
       "      <td>4</td>\n",
       "      <td>2006</td>\n",
       "      <td>WD</td>\n",
       "      <td>Abnorml</td>\n",
       "    </tr>\n",
       "    <tr>\n",
       "      <th>1456</th>\n",
       "      <td>2917</td>\n",
       "      <td>20</td>\n",
       "      <td>RL</td>\n",
       "      <td>160.0</td>\n",
       "      <td>20000</td>\n",
       "      <td>Pave</td>\n",
       "      <td>Reg</td>\n",
       "      <td>Lvl</td>\n",
       "      <td>AllPub</td>\n",
       "      <td>Inside</td>\n",
       "      <td>...</td>\n",
       "      <td>0</td>\n",
       "      <td>0</td>\n",
       "      <td>0</td>\n",
       "      <td>0</td>\n",
       "      <td>0</td>\n",
       "      <td>0</td>\n",
       "      <td>9</td>\n",
       "      <td>2006</td>\n",
       "      <td>WD</td>\n",
       "      <td>Abnorml</td>\n",
       "    </tr>\n",
       "    <tr>\n",
       "      <th>1457</th>\n",
       "      <td>2918</td>\n",
       "      <td>85</td>\n",
       "      <td>RL</td>\n",
       "      <td>62.0</td>\n",
       "      <td>10441</td>\n",
       "      <td>Pave</td>\n",
       "      <td>Reg</td>\n",
       "      <td>Lvl</td>\n",
       "      <td>AllPub</td>\n",
       "      <td>Inside</td>\n",
       "      <td>...</td>\n",
       "      <td>32</td>\n",
       "      <td>0</td>\n",
       "      <td>0</td>\n",
       "      <td>0</td>\n",
       "      <td>0</td>\n",
       "      <td>700</td>\n",
       "      <td>7</td>\n",
       "      <td>2006</td>\n",
       "      <td>WD</td>\n",
       "      <td>Normal</td>\n",
       "    </tr>\n",
       "    <tr>\n",
       "      <th>1458</th>\n",
       "      <td>2919</td>\n",
       "      <td>60</td>\n",
       "      <td>RL</td>\n",
       "      <td>74.0</td>\n",
       "      <td>9627</td>\n",
       "      <td>Pave</td>\n",
       "      <td>Reg</td>\n",
       "      <td>Lvl</td>\n",
       "      <td>AllPub</td>\n",
       "      <td>Inside</td>\n",
       "      <td>...</td>\n",
       "      <td>48</td>\n",
       "      <td>0</td>\n",
       "      <td>0</td>\n",
       "      <td>0</td>\n",
       "      <td>0</td>\n",
       "      <td>0</td>\n",
       "      <td>11</td>\n",
       "      <td>2006</td>\n",
       "      <td>WD</td>\n",
       "      <td>Normal</td>\n",
       "    </tr>\n",
       "  </tbody>\n",
       "</table>\n",
       "<p>1459 rows × 75 columns</p>\n",
       "</div>"
      ],
      "text/plain": [
       "        Id  MSSubClass MSZoning  LotFrontage  LotArea Street LotShape  \\\n",
       "0     1461          20       RH         80.0    11622   Pave      Reg   \n",
       "1     1462          20       RL         81.0    14267   Pave      IR1   \n",
       "2     1463          60       RL         74.0    13830   Pave      IR1   \n",
       "3     1464          60       RL         78.0     9978   Pave      IR1   \n",
       "4     1465         120       RL         43.0     5005   Pave      IR1   \n",
       "...    ...         ...      ...          ...      ...    ...      ...   \n",
       "1454  2915         160       RM         21.0     1936   Pave      Reg   \n",
       "1455  2916         160       RM         21.0     1894   Pave      Reg   \n",
       "1456  2917          20       RL        160.0    20000   Pave      Reg   \n",
       "1457  2918          85       RL         62.0    10441   Pave      Reg   \n",
       "1458  2919          60       RL         74.0     9627   Pave      Reg   \n",
       "\n",
       "     LandContour Utilities LotConfig  ... OpenPorchSF EnclosedPorch 3SsnPorch  \\\n",
       "0            Lvl    AllPub    Inside  ...           0             0         0   \n",
       "1            Lvl    AllPub    Corner  ...          36             0         0   \n",
       "2            Lvl    AllPub    Inside  ...          34             0         0   \n",
       "3            Lvl    AllPub    Inside  ...          36             0         0   \n",
       "4            HLS    AllPub    Inside  ...          82             0         0   \n",
       "...          ...       ...       ...  ...         ...           ...       ...   \n",
       "1454         Lvl    AllPub    Inside  ...           0             0         0   \n",
       "1455         Lvl    AllPub    Inside  ...          24             0         0   \n",
       "1456         Lvl    AllPub    Inside  ...           0             0         0   \n",
       "1457         Lvl    AllPub    Inside  ...          32             0         0   \n",
       "1458         Lvl    AllPub    Inside  ...          48             0         0   \n",
       "\n",
       "     ScreenPorch PoolArea MiscVal  MoSold  YrSold  SaleType  SaleCondition  \n",
       "0            120        0       0       6    2010        WD         Normal  \n",
       "1              0        0   12500       6    2010        WD         Normal  \n",
       "2              0        0       0       3    2010        WD         Normal  \n",
       "3              0        0       0       6    2010        WD         Normal  \n",
       "4            144        0       0       1    2010        WD         Normal  \n",
       "...          ...      ...     ...     ...     ...       ...            ...  \n",
       "1454           0        0       0       6    2006        WD         Normal  \n",
       "1455           0        0       0       4    2006        WD        Abnorml  \n",
       "1456           0        0       0       9    2006        WD        Abnorml  \n",
       "1457           0        0     700       7    2006        WD         Normal  \n",
       "1458           0        0       0      11    2006        WD         Normal  \n",
       "\n",
       "[1459 rows x 75 columns]"
      ]
     },
     "execution_count": 104,
     "metadata": {},
     "output_type": "execute_result"
    }
   ],
   "source": [
    "# 여기까지가 일단 train은 결측치 처리 모두 해주었고, test는 주요 data만 결측치 처리함\n",
    "test_df"
   ]
  },
  {
   "cell_type": "code",
   "execution_count": 105,
   "id": "67d56618",
   "metadata": {},
   "outputs": [],
   "source": [
    "########"
   ]
  },
  {
   "cell_type": "code",
   "execution_count": 106,
   "id": "d600b036",
   "metadata": {},
   "outputs": [
    {
     "data": {
      "text/plain": [
       "0          1\n",
       "1          2\n",
       "2          3\n",
       "3          4\n",
       "4          5\n",
       "        ... \n",
       "1455    1456\n",
       "1456    1457\n",
       "1457    1458\n",
       "1458    1459\n",
       "1459    1460\n",
       "Name: Id, Length: 1460, dtype: int64"
      ]
     },
     "execution_count": 106,
     "metadata": {},
     "output_type": "execute_result"
    }
   ],
   "source": [
    "train_df.Id"
   ]
  },
  {
   "cell_type": "code",
   "execution_count": 107,
   "id": "0925219f",
   "metadata": {},
   "outputs": [
    {
     "data": {
      "text/plain": [
       "1298    5642\n",
       "Name: GrLivArea, dtype: int64"
      ]
     },
     "execution_count": 107,
     "metadata": {},
     "output_type": "execute_result"
    }
   ],
   "source": [
    "train_df['GrLivArea'][train_df['GrLivArea']>=5000]"
   ]
  },
  {
   "cell_type": "markdown",
   "id": "03060962-0c3e-4b56-a714-2dc691921f1f",
   "metadata": {},
   "source": [
    "## 확인"
   ]
  },
  {
   "cell_type": "code",
   "execution_count": 108,
   "id": "756b5125",
   "metadata": {},
   "outputs": [],
   "source": [
    "categorical_features = ['OverallQual', 'GrLivArea', 'GarageCars', 'GarageArea', 'TotalBsmtSF', 'ExterQual', 'BsmtQual']"
   ]
  },
  {
   "cell_type": "code",
   "execution_count": 109,
   "id": "1c009bee",
   "metadata": {},
   "outputs": [],
   "source": [
    "train_df = train_df[categorical_features + ['SalePrice']]\n",
    "test_df = test_df[categorical_features+['Id']]"
   ]
  },
  {
   "cell_type": "code",
   "execution_count": 110,
   "id": "0d8f6e16",
   "metadata": {},
   "outputs": [
    {
     "data": {
      "text/html": [
       "<div>\n",
       "<style scoped>\n",
       "    .dataframe tbody tr th:only-of-type {\n",
       "        vertical-align: middle;\n",
       "    }\n",
       "\n",
       "    .dataframe tbody tr th {\n",
       "        vertical-align: top;\n",
       "    }\n",
       "\n",
       "    .dataframe thead th {\n",
       "        text-align: right;\n",
       "    }\n",
       "</style>\n",
       "<table border=\"1\" class=\"dataframe\">\n",
       "  <thead>\n",
       "    <tr style=\"text-align: right;\">\n",
       "      <th></th>\n",
       "      <th>OverallQual</th>\n",
       "      <th>GrLivArea</th>\n",
       "      <th>GarageCars</th>\n",
       "      <th>GarageArea</th>\n",
       "      <th>TotalBsmtSF</th>\n",
       "      <th>ExterQual</th>\n",
       "      <th>BsmtQual</th>\n",
       "      <th>SalePrice</th>\n",
       "    </tr>\n",
       "  </thead>\n",
       "  <tbody>\n",
       "    <tr>\n",
       "      <th>0</th>\n",
       "      <td>7</td>\n",
       "      <td>1710</td>\n",
       "      <td>2</td>\n",
       "      <td>548</td>\n",
       "      <td>856</td>\n",
       "      <td>2</td>\n",
       "      <td>2</td>\n",
       "      <td>208500</td>\n",
       "    </tr>\n",
       "    <tr>\n",
       "      <th>1</th>\n",
       "      <td>6</td>\n",
       "      <td>1262</td>\n",
       "      <td>2</td>\n",
       "      <td>460</td>\n",
       "      <td>1262</td>\n",
       "      <td>3</td>\n",
       "      <td>2</td>\n",
       "      <td>181500</td>\n",
       "    </tr>\n",
       "    <tr>\n",
       "      <th>2</th>\n",
       "      <td>7</td>\n",
       "      <td>1786</td>\n",
       "      <td>2</td>\n",
       "      <td>608</td>\n",
       "      <td>920</td>\n",
       "      <td>2</td>\n",
       "      <td>2</td>\n",
       "      <td>223500</td>\n",
       "    </tr>\n",
       "    <tr>\n",
       "      <th>3</th>\n",
       "      <td>7</td>\n",
       "      <td>1717</td>\n",
       "      <td>3</td>\n",
       "      <td>642</td>\n",
       "      <td>756</td>\n",
       "      <td>3</td>\n",
       "      <td>3</td>\n",
       "      <td>140000</td>\n",
       "    </tr>\n",
       "    <tr>\n",
       "      <th>4</th>\n",
       "      <td>8</td>\n",
       "      <td>2198</td>\n",
       "      <td>3</td>\n",
       "      <td>836</td>\n",
       "      <td>1145</td>\n",
       "      <td>2</td>\n",
       "      <td>2</td>\n",
       "      <td>250000</td>\n",
       "    </tr>\n",
       "  </tbody>\n",
       "</table>\n",
       "</div>"
      ],
      "text/plain": [
       "   OverallQual  GrLivArea  GarageCars  GarageArea  TotalBsmtSF  ExterQual  \\\n",
       "0            7       1710           2         548          856          2   \n",
       "1            6       1262           2         460         1262          3   \n",
       "2            7       1786           2         608          920          2   \n",
       "3            7       1717           3         642          756          3   \n",
       "4            8       2198           3         836         1145          2   \n",
       "\n",
       "   BsmtQual  SalePrice  \n",
       "0         2     208500  \n",
       "1         2     181500  \n",
       "2         2     223500  \n",
       "3         3     140000  \n",
       "4         2     250000  "
      ]
     },
     "execution_count": 110,
     "metadata": {},
     "output_type": "execute_result"
    }
   ],
   "source": [
    "train_df.head()"
   ]
  },
  {
   "cell_type": "code",
   "execution_count": 111,
   "id": "2b677c3d-1326-4a21-bca4-e04990702745",
   "metadata": {},
   "outputs": [
    {
     "data": {
      "text/plain": [
       "OverallQual    0\n",
       "GrLivArea      0\n",
       "GarageCars     0\n",
       "GarageArea     0\n",
       "TotalBsmtSF    0\n",
       "ExterQual      0\n",
       "BsmtQual       0\n",
       "SalePrice      0\n",
       "dtype: int64"
      ]
     },
     "execution_count": 111,
     "metadata": {},
     "output_type": "execute_result"
    }
   ],
   "source": [
    "train_df.isnull().sum()"
   ]
  },
  {
   "cell_type": "markdown",
   "id": "d4d845b9-580d-4cae-816e-99052a3140a2",
   "metadata": {},
   "source": [
    "## 데이터 세트(train, validation)a split\n",
    "\n",
    "#### 입력 데이터 확인\n",
    "[method1_test_df, method2_test_df]\n",
    "\n",
    "* X : method1_train_df\n",
    "* y : method1_y\n",
    "    \n"
   ]
  },
  {
   "cell_type": "code",
   "execution_count": 113,
   "id": "a8898073-231d-4eba-adef-bfbf145d5d58",
   "metadata": {},
   "outputs": [],
   "source": [
    "method1_train_df = train_df"
   ]
  },
  {
   "cell_type": "code",
   "execution_count": 114,
   "id": "98f11768-1152-4b93-b37c-e3dfb60fcc7c",
   "metadata": {},
   "outputs": [],
   "source": [
    "method1_y = method1_train_df['SalePrice']\n",
    "method1_train_df = method1_train_df.drop('SalePrice', axis=1)"
   ]
  },
  {
   "cell_type": "code",
   "execution_count": 115,
   "id": "89a24f7e-66ac-42f3-b19d-b3569ccc43fc",
   "metadata": {},
   "outputs": [],
   "source": [
    "from sklearn.model_selection import train_test_split # 데이터 셋 \n",
    "\n",
    "# 방법 1\n",
    "X_train1, X_val1, y_train1, y_val1 = train_test_split(method1_train_df, method1_y, \\\n",
    "                                                      test_size=0.2, random_state=0)"
   ]
  },
  {
   "cell_type": "code",
   "execution_count": 116,
   "id": "282ad42d-db57-4193-8b11-379ce708b1a9",
   "metadata": {},
   "outputs": [
    {
     "name": "stdout",
     "output_type": "stream",
     "text": [
      "1168\n",
      "1168\n",
      "292\n",
      "292\n"
     ]
    }
   ],
   "source": [
    "print(len(X_train1))\n",
    "print(len(y_train1))\n",
    "print(len(X_val1))\n",
    "print(len(y_val1))"
   ]
  },
  {
   "cell_type": "markdown",
   "id": "76e9cf01-6a36-413a-9812-548965729e5d",
   "metadata": {},
   "source": [
    "## 모델 선언 및 훈련"
   ]
  },
  {
   "cell_type": "code",
   "execution_count": 117,
   "id": "264078bc-7944-49b9-a310-12b127253fc1",
   "metadata": {},
   "outputs": [],
   "source": [
    "from sklearn.linear_model import LinearRegression\n",
    "\n",
    "from sklearn.ensemble import RandomForestRegressor, AdaBoostRegressor, GradientBoostingRegressor\n",
    "from sklearn.metrics import r2_score, mean_absolute_error, mean_squared_error\n",
    "from sklearn.model_selection import cross_val_score\n",
    "\n",
    "from xgboost.sklearn import XGBRegressor\n",
    "import xgboost"
   ]
  },
  {
   "cell_type": "code",
   "execution_count": 118,
   "id": "8cf6876b-8d38-4a75-9128-cca784661161",
   "metadata": {},
   "outputs": [],
   "source": [
    "def evaluation(model, train_x, train_y, val_x, val_y):\n",
    "    cv = cross_val_score(model, train_x, train_y, cv = 10)\n",
    "    y_pred = model.predict(val_x)\n",
    "    cv = np.mean(cv)\n",
    "    r2=r2_score(y_pred, val_y)\n",
    "    mae = mean_absolute_error(y_pred, val_y)\n",
    "    mse = mean_squared_error(y_pred, val_y)\n",
    "\n",
    "    return cv, r2, mae, mse"
   ]
  },
  {
   "cell_type": "code",
   "execution_count": 119,
   "id": "30266e80-21ea-488c-bd26-3ce865813c0d",
   "metadata": {},
   "outputs": [],
   "source": [
    "def show_plot(model, val_x, val_y):\n",
    "    y_pred = model.predict(val_x)\n",
    "\n",
    "    plt.scatter(val_y, y_pred)\n",
    "    plt.xlabel(\"Price Index: $Y_i$\")\n",
    "    plt.ylabel(\"Predicted price Index: $\\hat{Y}_i$\")\n",
    "    plt.title(\"Prices vs Predicted price Index: $Y_i$ vs $\\hat{Y}_i$\")"
   ]
  },
  {
   "cell_type": "markdown",
   "id": "b1a85a6b-2be3-4c1e-8851-3211500c0699",
   "metadata": {},
   "source": [
    "### [1] Linear Regression"
   ]
  },
  {
   "cell_type": "code",
   "execution_count": 120,
   "id": "f23dd202-0d58-48eb-986f-35acbf01fd0b",
   "metadata": {},
   "outputs": [
    {
     "data": {
      "text/plain": [
       "LinearRegression()"
      ]
     },
     "execution_count": 120,
     "metadata": {},
     "output_type": "execute_result"
    }
   ],
   "source": [
    "lgs=LinearRegression()\n",
    "lgs.fit(X_train1, y_train1)"
   ]
  },
  {
   "cell_type": "code",
   "execution_count": 121,
   "id": "f081e1a9-a660-4305-ade2-14a8e43d2dad",
   "metadata": {},
   "outputs": [
    {
     "name": "stdout",
     "output_type": "stream",
     "text": [
      "Accuracy : 0.660303\n"
     ]
    }
   ],
   "source": [
    "print(\"Accuracy : %f\" % lgs.score(X_val1, y_val1)) # score()함수 => 정확도 측정"
   ]
  },
  {
   "cell_type": "code",
   "execution_count": 122,
   "id": "b94d0341-2bbb-48b0-b0ec-8a75dfe6fd46",
   "metadata": {},
   "outputs": [
    {
     "data": {
      "image/png": "[encoded data removed]",
      "text/plain": [
       "<Figure size 432x288 with 1 Axes>"
      ]
     },
     "metadata": {},
     "output_type": "display_data"
    }
   ],
   "source": [
    "show_plot(lgs, X_val1, y_val1)"
   ]
  },
  {
   "cell_type": "markdown",
   "id": "4f77c47a-f106-4160-8c8f-68140f9a9e3c",
   "metadata": {},
   "source": [
    "### [2] GradientBoostingRegressor"
   ]
  },
  {
   "cell_type": "code",
   "execution_count": 124,
   "id": "312373ad-3e25-475d-8c13-1639f7d69908",
   "metadata": {},
   "outputs": [
    {
     "data": {
      "text/plain": [
       "GradientBoostingRegressor(max_depth=10, n_estimators=1000, random_state=31)"
      ]
     },
     "execution_count": 124,
     "metadata": {},
     "output_type": "execute_result"
    }
   ],
   "source": [
    "gbr = GradientBoostingRegressor(n_estimators=1000, learning_rate=0.1, max_depth=10, random_state=31)\n",
    "gbr.fit(X_train1, y_train1)"
   ]
  },
  {
   "cell_type": "code",
   "execution_count": 125,
   "id": "5e6ccf8f-4362-48b0-bf21-7cc275b57a36",
   "metadata": {},
   "outputs": [
    {
     "name": "stdout",
     "output_type": "stream",
     "text": [
      "Cross val score: 0.7371986341204524\n",
      "R^2 score: 0.8316456627575262\n",
      "Mean Absolute Erro: 23409.475885884938\n",
      "Mean Mean Squared Erro: 1220458430.6246765\n"
     ]
    }
   ],
   "source": [
    "result = evaluation(gbr, X_train1, y_train1, X_val1, y_val1)\n",
    "print(\"Cross val score: \" + str(result[0]))\n",
    "print(\"R^2 score: \" + str(result[1]))\n",
    "print(\"Mean Absolute Erro: \" + str(result[2]))\n",
    "print(\"Mean Mean Squared Erro: \" + str(result[3]))"
   ]
  },
  {
   "cell_type": "code",
   "execution_count": 126,
   "id": "0a92919f-ccee-4817-9755-05a5dadf4b74",
   "metadata": {},
   "outputs": [
    {
     "data": {
      "image/png": "[encoded data removed]",
      "text/plain": [
       "<Figure size 432x288 with 1 Axes>"
      ]
     },
     "metadata": {},
     "output_type": "display_data"
    }
   ],
   "source": [
    "show_plot(gbr, X_val1, y_val1)"
   ]
  },
  {
   "cell_type": "markdown",
   "id": "68fd0784-2afa-432f-9c0d-7e0f3da2eae4",
   "metadata": {},
   "source": [
    "### [3] Random Forest Model"
   ]
  },
  {
   "cell_type": "code",
   "execution_count": 127,
   "id": "28c5384e-8923-4577-a2b4-66b94720ea87",
   "metadata": {},
   "outputs": [
    {
     "data": {
      "text/plain": [
       "RandomForestRegressor(bootstrap=False, max_depth=500, min_samples_leaf=15,\n",
       "                      n_jobs=-1, random_state=18)"
      ]
     },
     "execution_count": 127,
     "metadata": {},
     "output_type": "execute_result"
    }
   ],
   "source": [
    "forest=RandomForestRegressor(bootstrap=False, max_depth=500, max_features='auto',\n",
    "                       min_samples_leaf=15,criterion='mse', n_jobs=-1, random_state=18)\n",
    "\n",
    "forest.fit(X_train1, y_train1)"
   ]
  },
  {
   "cell_type": "code",
   "execution_count": 128,
   "id": "85c87105-2fc3-424f-ad35-e0fba6528bce",
   "metadata": {},
   "outputs": [
    {
     "name": "stdout",
     "output_type": "stream",
     "text": [
      "Cross val score: 0.782392385497483\n",
      "R^2 score: 0.7131176213109837\n",
      "Mean Absolute Erro: 24039.325434191236\n",
      "Mean Mean Squared Erro: 1652176020.5791438\n"
     ]
    }
   ],
   "source": [
    "result = evaluation(forest, X_train1, y_train1, X_val1, y_val1)\n",
    "print(\"Cross val score: \" + str(result[0]))\n",
    "print(\"R^2 score: \" + str(result[1]))\n",
    "print(\"Mean Absolute Erro: \" + str(result[2]))\n",
    "print(\"Mean Mean Squared Erro: \" + str(result[3]))"
   ]
  },
  {
   "cell_type": "code",
   "execution_count": 129,
   "id": "c6a88c5d-fdbe-4035-8c39-6b3f0da19e72",
   "metadata": {},
   "outputs": [
    {
     "data": {
      "image/png": "[encoded data removed]",
      "text/plain": [
       "<Figure size 432x288 with 1 Axes>"
      ]
     },
     "metadata": {},
     "output_type": "display_data"
    }
   ],
   "source": [
    "show_plot(forest, X_val1, y_val1)"
   ]
  },
  {
   "cell_type": "markdown",
   "id": "a4011145-c6e9-409c-8135-902d2de4fd25",
   "metadata": {},
   "source": [
    "### [4] XGBoost Regressor"
   ]
  },
  {
   "cell_type": "code",
   "execution_count": 130,
   "id": "e528a89d-2304-4cf1-8841-55104cfc3e26",
   "metadata": {},
   "outputs": [
    {
     "data": {
      "text/plain": [
       "XGBRegressor(base_score=0.5, booster='gbtree', colsample_bylevel=1,\n",
       "             colsample_bynode=1, colsample_bytree=1, gamma=0, gpu_id=-1,\n",
       "             importance_type='gain', interaction_constraints='',\n",
       "             learning_rate=0.01, max_delta_step=0, max_depth=6,\n",
       "             min_child_weight=1, missing=nan, monotone_constraints='()',\n",
       "             n_estimators=1000, n_jobs=8, num_parallel_tree=1, random_state=31,\n",
       "             reg_alpha=0, reg_lambda=1, scale_pos_weight=1, subsample=1,\n",
       "             tree_method='exact', validate_parameters=1, verbosity=None)"
      ]
     },
     "execution_count": 130,
     "metadata": {},
     "output_type": "execute_result"
    }
   ],
   "source": [
    "xgb = XGBRegressor(learning_rate=0.01, n_estimators=1000, \\\n",
    "                       objective='reg:squarederror', random_state = 31)\n",
    "\n",
    "xgb.fit(X_train1, y_train1)"
   ]
  },
  {
   "cell_type": "code",
   "execution_count": 131,
   "id": "c32b7c5a-7342-4cf6-93f1-9c2d7d096f8f",
   "metadata": {},
   "outputs": [
    {
     "data": {
      "text/plain": [
       "<AxesSubplot:title={'center':'Feature importance'}, xlabel='F score', ylabel='Features'>"
      ]
     },
     "execution_count": 131,
     "metadata": {},
     "output_type": "execute_result"
    },
    {
     "data": {
      "image/png": "[encoded data removed]",
      "text/plain": [
       "<Figure size 432x288 with 1 Axes>"
      ]
     },
     "metadata": {},
     "output_type": "display_data"
    }
   ],
   "source": [
    "xgboost.plot_importance(xgb)"
   ]
  },
  {
   "cell_type": "code",
   "execution_count": 132,
   "id": "b8fdecee-c084-41a1-ad23-fccc00371de3",
   "metadata": {},
   "outputs": [
    {
     "name": "stdout",
     "output_type": "stream",
     "text": [
      "Cross val score: 0.7735538193567716\n",
      "R^2 score: 0.866737925095084\n",
      "Mean Absolute Erro: 19441.989833047945\n",
      "Mean Mean Squared Erro: 905869786.4610928\n"
     ]
    }
   ],
   "source": [
    "result = evaluation(xgb, X_train1, y_train1, X_val1, y_val1)\n",
    "print(\"Cross val score: \" + str(result[0]))\n",
    "print(\"R^2 score: \" + str(result[1]))\n",
    "print(\"Mean Absolute Erro: \" + str(result[2]))\n",
    "print(\"Mean Mean Squared Erro: \" + str(result[3]))"
   ]
  },
  {
   "cell_type": "code",
   "execution_count": 133,
   "id": "9c0830fd-498e-4d6a-b2e1-09351f8b0767",
   "metadata": {},
   "outputs": [
    {
     "data": {
      "image/png": "[encoded data removed]",
      "text/plain": [
       "<Figure size 432x288 with 1 Axes>"
      ]
     },
     "metadata": {},
     "output_type": "display_data"
    }
   ],
   "source": [
    "show_plot(xgb, X_val1, y_val1)"
   ]
  },
  {
   "cell_type": "markdown",
   "id": "b3c2e80d-19dd-4012-abaf-fe6de9be33e3",
   "metadata": {},
   "source": [
    "## Kaggle submission\n",
    "\n",
    "TEST DATA이용\n",
    "\n",
    "* [method1_test_df, method2_test_df]"
   ]
  },
  {
   "cell_type": "code",
   "execution_count": 136,
   "id": "1675edae-e5c4-405d-b91b-98dc78b95140",
   "metadata": {},
   "outputs": [
    {
     "data": {
      "text/plain": [
       "OverallQual    0\n",
       "GrLivArea      0\n",
       "GarageCars     1\n",
       "GarageArea     1\n",
       "TotalBsmtSF    1\n",
       "ExterQual      0\n",
       "BsmtQual       0\n",
       "Id             0\n",
       "dtype: int64"
      ]
     },
     "execution_count": 136,
     "metadata": {},
     "output_type": "execute_result"
    }
   ],
   "source": [
    "test_df.isnull().sum()"
   ]
  },
  {
   "cell_type": "code",
   "execution_count": 134,
   "id": "fe1d36b6-8b69-4d9d-b1e2-9b1bb9abb756",
   "metadata": {},
   "outputs": [
    {
     "ename": "NameError",
     "evalue": "name 'method2_test_df' is not defined",
     "output_type": "error",
     "traceback": [
      "\u001b[0;31m---------------------------------------------------------------------------\u001b[0m",
      "\u001b[0;31mNameError\u001b[0m                                 Traceback (most recent call last)",
      "\u001b[0;32m<ipython-input-134-5b7261c4a5c3>\u001b[0m in \u001b[0;36m<module>\u001b[0;34m\u001b[0m\n\u001b[0;32m----> 1\u001b[0;31m \u001b[0mids\u001b[0m \u001b[0;34m=\u001b[0m \u001b[0mmethod2_test_df\u001b[0m\u001b[0;34m[\u001b[0m\u001b[0;34m'Id'\u001b[0m\u001b[0;34m]\u001b[0m\u001b[0;34m\u001b[0m\u001b[0;34m\u001b[0m\u001b[0m\n\u001b[0m\u001b[1;32m      2\u001b[0m models = [\n\u001b[1;32m      3\u001b[0m     \u001b[0mlgs\u001b[0m\u001b[0;34m,\u001b[0m \u001b[0mgbr\u001b[0m\u001b[0;34m,\u001b[0m \u001b[0mforest\u001b[0m\u001b[0;34m,\u001b[0m \u001b[0mxgb\u001b[0m\u001b[0;34m\u001b[0m\u001b[0;34m\u001b[0m\u001b[0m\n\u001b[1;32m      4\u001b[0m ]\n\u001b[1;32m      5\u001b[0m models_name = [\n",
      "\u001b[0;31mNameError\u001b[0m: name 'method2_test_df' is not defined"
     ]
    }
   ],
   "source": [
    "ids = t['Id']\n",
    "models = [\n",
    "    lgs, gbr, forest, xgb\n",
    "]\n",
    "models_name = [\n",
    "    'lgs', 'gbr', 'forest', 'xgb'\n",
    "]"
   ]
  },
  {
   "cell_type": "code",
   "execution_count": null,
   "id": "078bdf71-7c23-4cc3-9a1b-fde922a080be",
   "metadata": {},
   "outputs": [],
   "source": [
    "results = []\n",
    "for idx, model in enumerate(models):\n",
    "    predictions = model.predict(method2_test_df.drop(['Id'],axis=1))\n",
    "    df = pd.DataFrame(list(zip(ids, predictions)), columns =['Id', 'SalePrice'])\n",
    "    df.to_csv('./dataset/result_'+models_name[idx]+'.csv',index=False)"
   ]
  }
 ],
 "metadata": {
  "kernelspec": {
   "display_name": "Python 3",
   "language": "python",
   "name": "python3"
  },
  "language_info": {
   "codemirror_mode": {
    "name": "ipython",
    "version": 3
   },
   "file_extension": ".py",
   "mimetype": "text/x-python",
   "name": "python",
   "nbconvert_exporter": "python",
   "pygments_lexer": "ipython3",
   "version": "3.8.8"
  }
 },
 "nbformat": 4,
 "nbformat_minor": 5
}
