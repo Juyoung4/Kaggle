{
 "cells": [
  {
   "cell_type": "code",
   "execution_count": 1,
   "id": "9b0ed194-8704-4f8c-8e17-a5fcb6b50cba",
   "metadata": {},
   "outputs": [],
   "source": [
    "path = \"/home/ai-sjjy/workspace/juyoung/programmers/dataset/\""
   ]
  },
  {
   "cell_type": "code",
   "execution_count": 2,
   "id": "d1fe623f-053f-4915-8ae7-f23d092c10b5",
   "metadata": {},
   "outputs": [],
   "source": [
    "import pandas as pd\n",
    "import numpy as np\n",
    "\n",
    "import matplotlib.pyplot as plt\n",
    "import seaborn as sns"
   ]
  },
  {
   "cell_type": "markdown",
   "id": "c7513476-db64-4548-9523-d9e99e33dcc4",
   "metadata": {},
   "source": [
    "## [1] dataset"
   ]
  },
  {
   "cell_type": "markdown",
   "id": "0e652265-5990-4f62-952f-c548dac2c9f8",
   "metadata": {},
   "source": [
    "1. train.csv => userID/jobID/applied\n",
    "2. job/job_companies.csv => companyID/jobID/companySize\n",
    "3. job/job_tags.csv => jobID/tagID\n",
    "4. job/tags.csv => tagID/keyword\n",
    "5. job/user_tags.csv => userID/tagID\n",
    "6. test_job.csv"
   ]
  },
  {
   "cell_type": "code",
   "execution_count": 3,
   "id": "e3a21f2f-cf12-47d6-9faf-4eddbff07a59",
   "metadata": {},
   "outputs": [],
   "source": [
    "train_df = pd.read_csv(path+'train.csv')\n",
    "\n",
    "job_company = pd.read_csv(path+'job/job_companies.csv')\n",
    "job_tags = pd.read_csv(path+'job/job_tags.csv')\n",
    "tags = pd.read_csv(path+'job/tags.csv')\n",
    "user_tags = pd.read_csv(path+'job/user_tags.csv')\n"
   ]
  },
  {
   "cell_type": "code",
   "execution_count": 4,
   "id": "4d6d2b81-c2fd-4347-80b3-52b87714e00c",
   "metadata": {},
   "outputs": [],
   "source": [
    "temp = pd.read_csv(path+'train.csv')"
   ]
  },
  {
   "cell_type": "code",
   "execution_count": 5,
   "id": "f19fd2fc-1b89-4aa3-a823-b7242ac99177",
   "metadata": {},
   "outputs": [],
   "source": [
    "test_df = pd.read_csv(path+'test_job.csv')"
   ]
  },
  {
   "cell_type": "code",
   "execution_count": 6,
   "id": "19524873-fb59-4353-a189-9a689324c687",
   "metadata": {},
   "outputs": [
    {
     "name": "stdout",
     "output_type": "stream",
     "text": [
      "6000\n",
      "2435\n",
      "733\n",
      "3477\n",
      "887\n",
      "17194\n"
     ]
    }
   ],
   "source": [
    "print(len(temp))\n",
    "print(len(test_df))\n",
    "\n",
    "print(len(job_company))\n",
    "print(len(job_tags))\n",
    "print(len(tags))\n",
    "print(len(user_tags))"
   ]
  },
  {
   "cell_type": "markdown",
   "id": "feaf2631-ed65-4b5c-ba0b-bd55e3449532",
   "metadata": {},
   "source": [
    "### [1-1] train"
   ]
  },
  {
   "cell_type": "code",
   "execution_count": 7,
   "id": "af358a92-2d38-47b0-8e23-53e81aa19e99",
   "metadata": {},
   "outputs": [
    {
     "data": {
      "text/html": [
       "<div>\n",
       "<style scoped>\n",
       "    .dataframe tbody tr th:only-of-type {\n",
       "        vertical-align: middle;\n",
       "    }\n",
       "\n",
       "    .dataframe tbody tr th {\n",
       "        vertical-align: top;\n",
       "    }\n",
       "\n",
       "    .dataframe thead th {\n",
       "        text-align: right;\n",
       "    }\n",
       "</style>\n",
       "<table border=\"1\" class=\"dataframe\">\n",
       "  <thead>\n",
       "    <tr style=\"text-align: right;\">\n",
       "      <th></th>\n",
       "      <th>userID</th>\n",
       "      <th>jobID</th>\n",
       "      <th>applied</th>\n",
       "    </tr>\n",
       "  </thead>\n",
       "  <tbody>\n",
       "    <tr>\n",
       "      <th>0</th>\n",
       "      <td>fe292163d06253b716e9a0099b42031d</td>\n",
       "      <td>15de21c670ae7c3f6f3f1f37029303c9</td>\n",
       "      <td>0</td>\n",
       "    </tr>\n",
       "    <tr>\n",
       "      <th>1</th>\n",
       "      <td>6377fa90618fae77571e8dc90d98d409</td>\n",
       "      <td>55b37c5c270e5d84c793e486d798c01d</td>\n",
       "      <td>0</td>\n",
       "    </tr>\n",
       "    <tr>\n",
       "      <th>2</th>\n",
       "      <td>8ec0888a5b04139be0dfe942c7eb4199</td>\n",
       "      <td>0fcbc61acd0479dc77e3cccc0f5ffca7</td>\n",
       "      <td>1</td>\n",
       "    </tr>\n",
       "    <tr>\n",
       "      <th>3</th>\n",
       "      <td>f862b39f767d3a1991bdeb2ea1401c9c</td>\n",
       "      <td>3b5dca501ee1e6d8cd7b905f4e1bf723</td>\n",
       "      <td>0</td>\n",
       "    </tr>\n",
       "    <tr>\n",
       "      <th>4</th>\n",
       "      <td>cac14930c65d72c16efac2c51a6b7f71</td>\n",
       "      <td>287e03db1d99e0ec2edb90d079e142f3</td>\n",
       "      <td>0</td>\n",
       "    </tr>\n",
       "  </tbody>\n",
       "</table>\n",
       "</div>"
      ],
      "text/plain": [
       "                             userID                             jobID  applied\n",
       "0  fe292163d06253b716e9a0099b42031d  15de21c670ae7c3f6f3f1f37029303c9        0\n",
       "1  6377fa90618fae77571e8dc90d98d409  55b37c5c270e5d84c793e486d798c01d        0\n",
       "2  8ec0888a5b04139be0dfe942c7eb4199  0fcbc61acd0479dc77e3cccc0f5ffca7        1\n",
       "3  f862b39f767d3a1991bdeb2ea1401c9c  3b5dca501ee1e6d8cd7b905f4e1bf723        0\n",
       "4  cac14930c65d72c16efac2c51a6b7f71  287e03db1d99e0ec2edb90d079e142f3        0"
      ]
     },
     "execution_count": 7,
     "metadata": {},
     "output_type": "execute_result"
    }
   ],
   "source": [
    "train_df.head(5)"
   ]
  },
  {
   "cell_type": "code",
   "execution_count": 8,
   "id": "8b40e4b2-ec31-4913-8398-3c7b08f9894b",
   "metadata": {},
   "outputs": [
    {
     "name": "stdout",
     "output_type": "stream",
     "text": [
      "<class 'pandas.core.frame.DataFrame'>\n",
      "RangeIndex: 6000 entries, 0 to 5999\n",
      "Data columns (total 3 columns):\n",
      " #   Column   Non-Null Count  Dtype \n",
      "---  ------   --------------  ----- \n",
      " 0   userID   6000 non-null   object\n",
      " 1   jobID    6000 non-null   object\n",
      " 2   applied  6000 non-null   int64 \n",
      "dtypes: int64(1), object(2)\n",
      "memory usage: 140.8+ KB\n"
     ]
    }
   ],
   "source": [
    "train_df.info()"
   ]
  },
  {
   "cell_type": "markdown",
   "id": "a8d9fc67-e9e1-4234-8fa4-2270e77fadf6",
   "metadata": {},
   "source": [
    "* applied의 0과 1 비율 확인\n",
    "\n",
    "=> 1의 비율이 너무 적다"
   ]
  },
  {
   "cell_type": "code",
   "execution_count": 9,
   "id": "804b2580-02ee-404a-8801-b91e614476a0",
   "metadata": {},
   "outputs": [
    {
     "data": {
      "text/plain": [
       "<AxesSubplot:xlabel='applied', ylabel='count'>"
      ]
     },
     "execution_count": 9,
     "metadata": {},
     "output_type": "execute_result"
    },
    {
     "data": {
      "image/png": "[encoded data removed]",
      "text/plain": [
       "<Figure size 432x288 with 1 Axes>"
      ]
     },
     "metadata": {
      "needs_background": "light"
     },
     "output_type": "display_data"
    }
   ],
   "source": [
    "sns.countplot(x='applied', data=train_df)"
   ]
  },
  {
   "cell_type": "code",
   "execution_count": 10,
   "id": "dd4343c7-8a67-4662-bd54-9d7090921308",
   "metadata": {},
   "outputs": [
    {
     "data": {
      "text/plain": [
       "userID     0\n",
       "jobID      0\n",
       "applied    0\n",
       "dtype: int64"
      ]
     },
     "execution_count": 10,
     "metadata": {},
     "output_type": "execute_result"
    }
   ],
   "source": [
    "# 결측치 확인\n",
    "train_df.isnull().sum()"
   ]
  },
  {
   "cell_type": "code",
   "execution_count": 11,
   "id": "823da055-31ab-498a-9887-06f4a562d2a1",
   "metadata": {},
   "outputs": [
    {
     "data": {
      "text/plain": [
       "companyID       0\n",
       "jobID           0\n",
       "companySize    90\n",
       "dtype: int64"
      ]
     },
     "execution_count": 11,
     "metadata": {},
     "output_type": "execute_result"
    }
   ],
   "source": [
    "# 결측치 확인\n",
    "job_company.isnull().sum()"
   ]
  },
  {
   "cell_type": "markdown",
   "id": "bbcf991b-9cba-4c93-b3c0-c4e2b9c6dcf5",
   "metadata": {},
   "source": [
    "* companySize 쪽에서 nan 있음"
   ]
  },
  {
   "cell_type": "code",
   "execution_count": 12,
   "id": "6a7f770e-68aa-4f74-bfdf-1fd41e321cb6",
   "metadata": {},
   "outputs": [
    {
     "data": {
      "text/plain": [
       "jobID    0\n",
       "tagID    0\n",
       "dtype: int64"
      ]
     },
     "execution_count": 12,
     "metadata": {},
     "output_type": "execute_result"
    }
   ],
   "source": [
    "# 결측치 확인\n",
    "job_tags.isnull().sum()"
   ]
  },
  {
   "cell_type": "code",
   "execution_count": 13,
   "id": "07be6817-a37e-4bb6-a6a0-d40f967ca372",
   "metadata": {},
   "outputs": [
    {
     "data": {
      "text/plain": [
       "userID    0\n",
       "tagID     0\n",
       "dtype: int64"
      ]
     },
     "execution_count": 13,
     "metadata": {},
     "output_type": "execute_result"
    }
   ],
   "source": [
    "# 결측치 확인\n",
    "user_tags.isnull().sum()"
   ]
  },
  {
   "cell_type": "markdown",
   "id": "a3dc168e-b074-4c97-b1e3-58a023124bdf",
   "metadata": {},
   "source": [
    "### [1-2] train_test 합치기"
   ]
  },
  {
   "cell_type": "code",
   "execution_count": 14,
   "id": "5f0a1761-0c46-43b6-9406-74e2267c4113",
   "metadata": {},
   "outputs": [],
   "source": [
    "test_df['applied'] = -1"
   ]
  },
  {
   "cell_type": "code",
   "execution_count": 15,
   "id": "56e9915b-1db5-433b-985d-e990c996ea57",
   "metadata": {},
   "outputs": [],
   "source": [
    "total_df = pd.concat([train_df, test_df])"
   ]
  },
  {
   "cell_type": "code",
   "execution_count": 16,
   "id": "20b735c8-8bc0-4caf-ac0b-48353968e89d",
   "metadata": {},
   "outputs": [
    {
     "data": {
      "text/html": [
       "<div>\n",
       "<style scoped>\n",
       "    .dataframe tbody tr th:only-of-type {\n",
       "        vertical-align: middle;\n",
       "    }\n",
       "\n",
       "    .dataframe tbody tr th {\n",
       "        vertical-align: top;\n",
       "    }\n",
       "\n",
       "    .dataframe thead th {\n",
       "        text-align: right;\n",
       "    }\n",
       "</style>\n",
       "<table border=\"1\" class=\"dataframe\">\n",
       "  <thead>\n",
       "    <tr style=\"text-align: right;\">\n",
       "      <th></th>\n",
       "      <th>userID</th>\n",
       "      <th>jobID</th>\n",
       "      <th>applied</th>\n",
       "    </tr>\n",
       "  </thead>\n",
       "  <tbody>\n",
       "    <tr>\n",
       "      <th>0</th>\n",
       "      <td>fe292163d06253b716e9a0099b42031d</td>\n",
       "      <td>15de21c670ae7c3f6f3f1f37029303c9</td>\n",
       "      <td>0</td>\n",
       "    </tr>\n",
       "    <tr>\n",
       "      <th>1</th>\n",
       "      <td>6377fa90618fae77571e8dc90d98d409</td>\n",
       "      <td>55b37c5c270e5d84c793e486d798c01d</td>\n",
       "      <td>0</td>\n",
       "    </tr>\n",
       "    <tr>\n",
       "      <th>2</th>\n",
       "      <td>8ec0888a5b04139be0dfe942c7eb4199</td>\n",
       "      <td>0fcbc61acd0479dc77e3cccc0f5ffca7</td>\n",
       "      <td>1</td>\n",
       "    </tr>\n",
       "    <tr>\n",
       "      <th>3</th>\n",
       "      <td>f862b39f767d3a1991bdeb2ea1401c9c</td>\n",
       "      <td>3b5dca501ee1e6d8cd7b905f4e1bf723</td>\n",
       "      <td>0</td>\n",
       "    </tr>\n",
       "    <tr>\n",
       "      <th>4</th>\n",
       "      <td>cac14930c65d72c16efac2c51a6b7f71</td>\n",
       "      <td>287e03db1d99e0ec2edb90d079e142f3</td>\n",
       "      <td>0</td>\n",
       "    </tr>\n",
       "  </tbody>\n",
       "</table>\n",
       "</div>"
      ],
      "text/plain": [
       "                             userID                             jobID  applied\n",
       "0  fe292163d06253b716e9a0099b42031d  15de21c670ae7c3f6f3f1f37029303c9        0\n",
       "1  6377fa90618fae77571e8dc90d98d409  55b37c5c270e5d84c793e486d798c01d        0\n",
       "2  8ec0888a5b04139be0dfe942c7eb4199  0fcbc61acd0479dc77e3cccc0f5ffca7        1\n",
       "3  f862b39f767d3a1991bdeb2ea1401c9c  3b5dca501ee1e6d8cd7b905f4e1bf723        0\n",
       "4  cac14930c65d72c16efac2c51a6b7f71  287e03db1d99e0ec2edb90d079e142f3        0"
      ]
     },
     "execution_count": 16,
     "metadata": {},
     "output_type": "execute_result"
    }
   ],
   "source": [
    "total_df.head(5)"
   ]
  },
  {
   "cell_type": "markdown",
   "id": "c3e77ca6-2c94-45d6-a738-6350c5904e75",
   "metadata": {},
   "source": [
    "### [1-3] train에 job_company 합쳐서 보기"
   ]
  },
  {
   "cell_type": "markdown",
   "id": "87a8a0fd-b39c-4687-8b5b-9fe223801236",
   "metadata": {},
   "source": [
    "* 먼저 company + job에 대한 키워드 태그 합치기"
   ]
  },
  {
   "cell_type": "code",
   "execution_count": 17,
   "id": "6f17a07d-23db-4a10-817d-56313f7f9219",
   "metadata": {},
   "outputs": [],
   "source": [
    "total_df = pd.merge(total_df, job_company, how='outer',on='jobID')"
   ]
  },
  {
   "cell_type": "code",
   "execution_count": 18,
   "id": "c5f2d604-9191-4241-8ace-e00501812610",
   "metadata": {},
   "outputs": [
    {
     "data": {
      "text/html": [
       "<div>\n",
       "<style scoped>\n",
       "    .dataframe tbody tr th:only-of-type {\n",
       "        vertical-align: middle;\n",
       "    }\n",
       "\n",
       "    .dataframe tbody tr th {\n",
       "        vertical-align: top;\n",
       "    }\n",
       "\n",
       "    .dataframe thead th {\n",
       "        text-align: right;\n",
       "    }\n",
       "</style>\n",
       "<table border=\"1\" class=\"dataframe\">\n",
       "  <thead>\n",
       "    <tr style=\"text-align: right;\">\n",
       "      <th></th>\n",
       "      <th>userID</th>\n",
       "      <th>jobID</th>\n",
       "      <th>applied</th>\n",
       "      <th>companyID</th>\n",
       "      <th>companySize</th>\n",
       "    </tr>\n",
       "  </thead>\n",
       "  <tbody>\n",
       "    <tr>\n",
       "      <th>0</th>\n",
       "      <td>fe292163d06253b716e9a0099b42031d</td>\n",
       "      <td>15de21c670ae7c3f6f3f1f37029303c9</td>\n",
       "      <td>0</td>\n",
       "      <td>4f6ffe13a5d75b2d6a3923922b3922e5</td>\n",
       "      <td>11-50</td>\n",
       "    </tr>\n",
       "    <tr>\n",
       "      <th>1</th>\n",
       "      <td>1d0d19d2d7d31ccf3747614aec7273c8</td>\n",
       "      <td>15de21c670ae7c3f6f3f1f37029303c9</td>\n",
       "      <td>0</td>\n",
       "      <td>4f6ffe13a5d75b2d6a3923922b3922e5</td>\n",
       "      <td>11-50</td>\n",
       "    </tr>\n",
       "    <tr>\n",
       "      <th>2</th>\n",
       "      <td>c70daf247944fe3add32218f914c75a6</td>\n",
       "      <td>15de21c670ae7c3f6f3f1f37029303c9</td>\n",
       "      <td>0</td>\n",
       "      <td>4f6ffe13a5d75b2d6a3923922b3922e5</td>\n",
       "      <td>11-50</td>\n",
       "    </tr>\n",
       "    <tr>\n",
       "      <th>3</th>\n",
       "      <td>883b4172416f7b84234d3aeda4199f8f</td>\n",
       "      <td>15de21c670ae7c3f6f3f1f37029303c9</td>\n",
       "      <td>1</td>\n",
       "      <td>4f6ffe13a5d75b2d6a3923922b3922e5</td>\n",
       "      <td>11-50</td>\n",
       "    </tr>\n",
       "    <tr>\n",
       "      <th>4</th>\n",
       "      <td>6bc5d37951120d6d49672ce647c4e563</td>\n",
       "      <td>15de21c670ae7c3f6f3f1f37029303c9</td>\n",
       "      <td>0</td>\n",
       "      <td>4f6ffe13a5d75b2d6a3923922b3922e5</td>\n",
       "      <td>11-50</td>\n",
       "    </tr>\n",
       "  </tbody>\n",
       "</table>\n",
       "</div>"
      ],
      "text/plain": [
       "                             userID                             jobID  \\\n",
       "0  fe292163d06253b716e9a0099b42031d  15de21c670ae7c3f6f3f1f37029303c9   \n",
       "1  1d0d19d2d7d31ccf3747614aec7273c8  15de21c670ae7c3f6f3f1f37029303c9   \n",
       "2  c70daf247944fe3add32218f914c75a6  15de21c670ae7c3f6f3f1f37029303c9   \n",
       "3  883b4172416f7b84234d3aeda4199f8f  15de21c670ae7c3f6f3f1f37029303c9   \n",
       "4  6bc5d37951120d6d49672ce647c4e563  15de21c670ae7c3f6f3f1f37029303c9   \n",
       "\n",
       "   applied                         companyID companySize  \n",
       "0        0  4f6ffe13a5d75b2d6a3923922b3922e5       11-50  \n",
       "1        0  4f6ffe13a5d75b2d6a3923922b3922e5       11-50  \n",
       "2        0  4f6ffe13a5d75b2d6a3923922b3922e5       11-50  \n",
       "3        1  4f6ffe13a5d75b2d6a3923922b3922e5       11-50  \n",
       "4        0  4f6ffe13a5d75b2d6a3923922b3922e5       11-50  "
      ]
     },
     "execution_count": 18,
     "metadata": {},
     "output_type": "execute_result"
    }
   ],
   "source": [
    "total_df.head(5)"
   ]
  },
  {
   "cell_type": "code",
   "execution_count": 19,
   "id": "44ddf411-a9c8-40e8-939d-04d21114f300",
   "metadata": {},
   "outputs": [],
   "source": [
    "total_df.drop(['companyID'], axis=1, inplace=True)"
   ]
  },
  {
   "cell_type": "code",
   "execution_count": 20,
   "id": "5d458737-66cd-419c-82f3-7c48b2530113",
   "metadata": {},
   "outputs": [
    {
     "data": {
      "text/html": [
       "<div>\n",
       "<style scoped>\n",
       "    .dataframe tbody tr th:only-of-type {\n",
       "        vertical-align: middle;\n",
       "    }\n",
       "\n",
       "    .dataframe tbody tr th {\n",
       "        vertical-align: top;\n",
       "    }\n",
       "\n",
       "    .dataframe thead th {\n",
       "        text-align: right;\n",
       "    }\n",
       "</style>\n",
       "<table border=\"1\" class=\"dataframe\">\n",
       "  <thead>\n",
       "    <tr style=\"text-align: right;\">\n",
       "      <th></th>\n",
       "      <th>userID</th>\n",
       "      <th>jobID</th>\n",
       "      <th>applied</th>\n",
       "      <th>companySize</th>\n",
       "    </tr>\n",
       "  </thead>\n",
       "  <tbody>\n",
       "    <tr>\n",
       "      <th>0</th>\n",
       "      <td>fe292163d06253b716e9a0099b42031d</td>\n",
       "      <td>15de21c670ae7c3f6f3f1f37029303c9</td>\n",
       "      <td>0</td>\n",
       "      <td>11-50</td>\n",
       "    </tr>\n",
       "    <tr>\n",
       "      <th>1</th>\n",
       "      <td>1d0d19d2d7d31ccf3747614aec7273c8</td>\n",
       "      <td>15de21c670ae7c3f6f3f1f37029303c9</td>\n",
       "      <td>0</td>\n",
       "      <td>11-50</td>\n",
       "    </tr>\n",
       "    <tr>\n",
       "      <th>2</th>\n",
       "      <td>c70daf247944fe3add32218f914c75a6</td>\n",
       "      <td>15de21c670ae7c3f6f3f1f37029303c9</td>\n",
       "      <td>0</td>\n",
       "      <td>11-50</td>\n",
       "    </tr>\n",
       "    <tr>\n",
       "      <th>3</th>\n",
       "      <td>883b4172416f7b84234d3aeda4199f8f</td>\n",
       "      <td>15de21c670ae7c3f6f3f1f37029303c9</td>\n",
       "      <td>1</td>\n",
       "      <td>11-50</td>\n",
       "    </tr>\n",
       "    <tr>\n",
       "      <th>4</th>\n",
       "      <td>6bc5d37951120d6d49672ce647c4e563</td>\n",
       "      <td>15de21c670ae7c3f6f3f1f37029303c9</td>\n",
       "      <td>0</td>\n",
       "      <td>11-50</td>\n",
       "    </tr>\n",
       "    <tr>\n",
       "      <th>...</th>\n",
       "      <td>...</td>\n",
       "      <td>...</td>\n",
       "      <td>...</td>\n",
       "      <td>...</td>\n",
       "    </tr>\n",
       "    <tr>\n",
       "      <th>8430</th>\n",
       "      <td>1f1baa5b8edac74eb4eaa329f14a0361</td>\n",
       "      <td>d81f9c1be2e08964bf9f24b15f0e4900</td>\n",
       "      <td>-1</td>\n",
       "      <td>NaN</td>\n",
       "    </tr>\n",
       "    <tr>\n",
       "      <th>8431</th>\n",
       "      <td>ebaee1af0c501f22ddfe242fc16dae53</td>\n",
       "      <td>a51fb975227d6640e4fe47854476d133</td>\n",
       "      <td>-1</td>\n",
       "      <td>201-500</td>\n",
       "    </tr>\n",
       "    <tr>\n",
       "      <th>8432</th>\n",
       "      <td>fa2a28ade168508972790316e314d47e</td>\n",
       "      <td>7940ab47468396569a906f75ff3f20ef</td>\n",
       "      <td>-1</td>\n",
       "      <td>11-50</td>\n",
       "    </tr>\n",
       "    <tr>\n",
       "      <th>8433</th>\n",
       "      <td>3e15cc11f979ed25912dff5b0669f2cd</td>\n",
       "      <td>74bba22728b6185eec06286af6bec36d</td>\n",
       "      <td>-1</td>\n",
       "      <td>11-50</td>\n",
       "    </tr>\n",
       "    <tr>\n",
       "      <th>8434</th>\n",
       "      <td>ce3c9c905135bab43c25500d3435a7a7</td>\n",
       "      <td>7501e5d4da87ac39d782741cd794002d</td>\n",
       "      <td>-1</td>\n",
       "      <td>11-50</td>\n",
       "    </tr>\n",
       "  </tbody>\n",
       "</table>\n",
       "<p>8435 rows × 4 columns</p>\n",
       "</div>"
      ],
      "text/plain": [
       "                                userID                             jobID  \\\n",
       "0     fe292163d06253b716e9a0099b42031d  15de21c670ae7c3f6f3f1f37029303c9   \n",
       "1     1d0d19d2d7d31ccf3747614aec7273c8  15de21c670ae7c3f6f3f1f37029303c9   \n",
       "2     c70daf247944fe3add32218f914c75a6  15de21c670ae7c3f6f3f1f37029303c9   \n",
       "3     883b4172416f7b84234d3aeda4199f8f  15de21c670ae7c3f6f3f1f37029303c9   \n",
       "4     6bc5d37951120d6d49672ce647c4e563  15de21c670ae7c3f6f3f1f37029303c9   \n",
       "...                                ...                               ...   \n",
       "8430  1f1baa5b8edac74eb4eaa329f14a0361  d81f9c1be2e08964bf9f24b15f0e4900   \n",
       "8431  ebaee1af0c501f22ddfe242fc16dae53  a51fb975227d6640e4fe47854476d133   \n",
       "8432  fa2a28ade168508972790316e314d47e  7940ab47468396569a906f75ff3f20ef   \n",
       "8433  3e15cc11f979ed25912dff5b0669f2cd  74bba22728b6185eec06286af6bec36d   \n",
       "8434  ce3c9c905135bab43c25500d3435a7a7  7501e5d4da87ac39d782741cd794002d   \n",
       "\n",
       "      applied companySize  \n",
       "0           0       11-50  \n",
       "1           0       11-50  \n",
       "2           0       11-50  \n",
       "3           1       11-50  \n",
       "4           0       11-50  \n",
       "...       ...         ...  \n",
       "8430       -1         NaN  \n",
       "8431       -1     201-500  \n",
       "8432       -1       11-50  \n",
       "8433       -1       11-50  \n",
       "8434       -1       11-50  \n",
       "\n",
       "[8435 rows x 4 columns]"
      ]
     },
     "execution_count": 20,
     "metadata": {},
     "output_type": "execute_result"
    }
   ],
   "source": [
    "total_df.drop_duplicates(subset=None, keep='first', inplace=False, ignore_index=False)"
   ]
  },
  {
   "cell_type": "code",
   "execution_count": 21,
   "id": "ef9c2a8f-7de0-45ba-934d-1439bd3f8286",
   "metadata": {},
   "outputs": [
    {
     "data": {
      "text/plain": [
       "0"
      ]
     },
     "execution_count": 21,
     "metadata": {},
     "output_type": "execute_result"
    }
   ],
   "source": [
    "total_df['applied'].isnull().sum()"
   ]
  },
  {
   "cell_type": "code",
   "execution_count": 22,
   "id": "1206fea6-1b6e-41ee-a68c-572c67bcf9e7",
   "metadata": {},
   "outputs": [
    {
     "name": "stdout",
     "output_type": "stream",
     "text": [
      "<class 'pandas.core.frame.DataFrame'>\n",
      "Int64Index: 8435 entries, 0 to 8434\n",
      "Data columns (total 4 columns):\n",
      " #   Column       Non-Null Count  Dtype \n",
      "---  ------       --------------  ----- \n",
      " 0   userID       8435 non-null   object\n",
      " 1   jobID        8435 non-null   object\n",
      " 2   applied      8435 non-null   int64 \n",
      " 3   companySize  7532 non-null   object\n",
      "dtypes: int64(1), object(3)\n",
      "memory usage: 329.5+ KB\n"
     ]
    }
   ],
   "source": [
    "total_df.info()"
   ]
  },
  {
   "cell_type": "markdown",
   "id": "f0171877-5bad-459e-8849-713844f6c1c2",
   "metadata": {},
   "source": [
    "## [2] DATA EDA"
   ]
  },
  {
   "cell_type": "markdown",
   "id": "250801f8-6d4a-423d-bd22-288b945251a8",
   "metadata": {},
   "source": [
    "### [2-1] companyID 범위 나누기"
   ]
  },
  {
   "cell_type": "code",
   "execution_count": 23,
   "id": "bd8bb8f1-fc92-4d0f-a5ea-97cb925fc2c6",
   "metadata": {
    "tags": []
   },
   "outputs": [
    {
     "data": {
      "text/plain": [
       "array(['11-50', '101-200', nan, '51-100', '201-500', '1-10', '1000 이상',\n",
       "       '501-1000'], dtype=object)"
      ]
     },
     "execution_count": 23,
     "metadata": {},
     "output_type": "execute_result"
    }
   ],
   "source": [
    "total_df.companySize.unique()"
   ]
  },
  {
   "cell_type": "markdown",
   "id": "6fe8266f-0417-4ad2-94ce-312db8d1c978",
   "metadata": {},
   "source": [
    "##### 범주형으로 변경\n",
    "\n",
    "* '1-10' : 'A'\n",
    "* '11-50' : 'B'\n",
    "* '51-100' : 'C'\n",
    "* '101-200' : 'D'\n",
    "* '201-500' : 'E'\n",
    "* '501-1000' : 'F'\n",
    "* '1000 이상' : 'G'\n",
    "* 'none' : 'None'"
   ]
  },
  {
   "cell_type": "code",
   "execution_count": 24,
   "id": "33fa76ad-8bdf-4648-a9a5-d52bfe18bac8",
   "metadata": {},
   "outputs": [],
   "source": [
    "companySize = total_df.companySize.tolist()\n",
    "\n",
    "for idx, com in enumerate(companySize):\n",
    "    if com == '1-10': companySize[idx] = 'A'\n",
    "    elif com == '11-50': companySize[idx] = 'B'\n",
    "    elif com == '51-100': companySize[idx] = 'C'\n",
    "    elif com == '101-200': companySize[idx] = 'D'\n",
    "    elif com == '201-500': companySize[idx] = 'E'\n",
    "    elif com == '501-1000': companySize[idx] = 'F'\n",
    "    elif com == '1000 이상': companySize[idx] = 'G'\n",
    "    else: companySize[idx] = 'None'"
   ]
  },
  {
   "cell_type": "code",
   "execution_count": 25,
   "id": "b7e0588b-f57a-4dee-9873-45994f801b23",
   "metadata": {},
   "outputs": [],
   "source": [
    "total_df['companySize'] = companySize"
   ]
  },
  {
   "cell_type": "markdown",
   "id": "68cef3ae-b5d3-4a08-b782-61677d715904",
   "metadata": {},
   "source": [
    "#### [2-1-1] 회사 크기와 관계"
   ]
  },
  {
   "cell_type": "code",
   "execution_count": 26,
   "id": "4722667d-20e8-4db8-a9e8-161dbddf7540",
   "metadata": {},
   "outputs": [
    {
     "data": {
      "text/plain": [
       "<AxesSubplot:xlabel='companySize', ylabel='count'>"
      ]
     },
     "execution_count": 26,
     "metadata": {},
     "output_type": "execute_result"
    },
    {
     "data": {
      "image/png": "[encoded data removed]",
      "text/plain": [
       "<Figure size 576x360 with 1 Axes>"
      ]
     },
     "metadata": {
      "needs_background": "light"
     },
     "output_type": "display_data"
    }
   ],
   "source": [
    "plt.figure(figsize=(8, 5))\n",
    "sns.countplot(x='companySize', data=total_df)"
   ]
  },
  {
   "cell_type": "markdown",
   "id": "4b500d32-67d5-489f-9eab-55bd91a24d17",
   "metadata": {},
   "source": [
    "* applied 회사에 등록할 때, B(11-50)이 크고 / 등록하지 않았을 때 B(11-50)가 압도적으로 크고 그 다음부터 조금씩 다르다"
   ]
  },
  {
   "cell_type": "code",
   "execution_count": 27,
   "id": "1f26203e-ceac-4a7e-926b-82f6bfbd9932",
   "metadata": {},
   "outputs": [
    {
     "data": {
      "text/plain": [
       "<AxesSubplot:xlabel='companySize', ylabel='count'>"
      ]
     },
     "execution_count": 27,
     "metadata": {},
     "output_type": "execute_result"
    },
    {
     "data": {
      "image/png": "[encoded data removed]",
      "text/plain": [
       "<Figure size 720x432 with 1 Axes>"
      ]
     },
     "metadata": {
      "needs_background": "light"
     },
     "output_type": "display_data"
    },
    {
     "data": {
      "image/png": "[encoded data removed]",
      "text/plain": [
       "<Figure size 720x432 with 1 Axes>"
      ]
     },
     "metadata": {
      "needs_background": "light"
     },
     "output_type": "display_data"
    },
    {
     "data": {
      "image/png": "[encoded data removed]",
      "text/plain": [
       "<Figure size 720x432 with 1 Axes>"
      ]
     },
     "metadata": {
      "needs_background": "light"
     },
     "output_type": "display_data"
    }
   ],
   "source": [
    "plt.figure(figsize=(10, 6))\n",
    "sns.countplot(x='companySize', data=total_df[total_df['applied'] == -1])\n",
    "\n",
    "plt.figure(figsize=(10, 6))\n",
    "sns.countplot(x='companySize', data=total_df[total_df['applied'] == 1])\n",
    "\n",
    "\n",
    "plt.figure(figsize=(10, 6))\n",
    "sns.countplot(x='companySize', data=total_df[total_df['applied'] == 0])"
   ]
  },
  {
   "cell_type": "markdown",
   "id": "c96ae6bf-517d-49f4-a316-601316d35b02",
   "metadata": {},
   "source": [
    "* test일 경우 : B-C-NONE-D-A-E-G-F\n",
    "* Applied할 경우 : B-C-None-D-A-E-G-F\n",
    "* Not Applied할 경우 : B-C-A-None-D-E-G-F"
   ]
  },
  {
   "cell_type": "markdown",
   "id": "dd3cb96d-1303-4a09-82ce-b003eaf2ac02",
   "metadata": {},
   "source": [
    "### [2-2] job_keyword / user_keyword"
   ]
  },
  {
   "cell_type": "markdown",
   "id": "3316aaa1-5131-4413-aa75-40342961543a",
   "metadata": {},
   "source": [
    "* job keyword랑 user keyword간의 연관성\n",
    "\n",
    "=> 두 키워드간에 공통 된 키워드 뽑으면 되낭..?\n",
    "\n",
    "* job_tags/user_tags"
   ]
  },
  {
   "cell_type": "code",
   "execution_count": 28,
   "id": "f08e06ce-4cdb-4ea2-9a1a-4232cfa5555a",
   "metadata": {},
   "outputs": [
    {
     "data": {
      "text/html": [
       "<div>\n",
       "<style scoped>\n",
       "    .dataframe tbody tr th:only-of-type {\n",
       "        vertical-align: middle;\n",
       "    }\n",
       "\n",
       "    .dataframe tbody tr th {\n",
       "        vertical-align: top;\n",
       "    }\n",
       "\n",
       "    .dataframe thead th {\n",
       "        text-align: right;\n",
       "    }\n",
       "</style>\n",
       "<table border=\"1\" class=\"dataframe\">\n",
       "  <thead>\n",
       "    <tr style=\"text-align: right;\">\n",
       "      <th></th>\n",
       "      <th>userID</th>\n",
       "      <th>jobID</th>\n",
       "      <th>applied</th>\n",
       "      <th>companySize</th>\n",
       "    </tr>\n",
       "  </thead>\n",
       "  <tbody>\n",
       "    <tr>\n",
       "      <th>0</th>\n",
       "      <td>fe292163d06253b716e9a0099b42031d</td>\n",
       "      <td>15de21c670ae7c3f6f3f1f37029303c9</td>\n",
       "      <td>0</td>\n",
       "      <td>B</td>\n",
       "    </tr>\n",
       "    <tr>\n",
       "      <th>1</th>\n",
       "      <td>1d0d19d2d7d31ccf3747614aec7273c8</td>\n",
       "      <td>15de21c670ae7c3f6f3f1f37029303c9</td>\n",
       "      <td>0</td>\n",
       "      <td>B</td>\n",
       "    </tr>\n",
       "    <tr>\n",
       "      <th>2</th>\n",
       "      <td>c70daf247944fe3add32218f914c75a6</td>\n",
       "      <td>15de21c670ae7c3f6f3f1f37029303c9</td>\n",
       "      <td>0</td>\n",
       "      <td>B</td>\n",
       "    </tr>\n",
       "  </tbody>\n",
       "</table>\n",
       "</div>"
      ],
      "text/plain": [
       "                             userID                             jobID  \\\n",
       "0  fe292163d06253b716e9a0099b42031d  15de21c670ae7c3f6f3f1f37029303c9   \n",
       "1  1d0d19d2d7d31ccf3747614aec7273c8  15de21c670ae7c3f6f3f1f37029303c9   \n",
       "2  c70daf247944fe3add32218f914c75a6  15de21c670ae7c3f6f3f1f37029303c9   \n",
       "\n",
       "   applied companySize  \n",
       "0        0           B  \n",
       "1        0           B  \n",
       "2        0           B  "
      ]
     },
     "execution_count": 28,
     "metadata": {},
     "output_type": "execute_result"
    }
   ],
   "source": [
    "total_df.head(3)"
   ]
  },
  {
   "cell_type": "code",
   "execution_count": 29,
   "id": "185281ba-5620-4491-a5a3-f80f45a90d4f",
   "metadata": {},
   "outputs": [
    {
     "data": {
      "text/html": [
       "<div>\n",
       "<style scoped>\n",
       "    .dataframe tbody tr th:only-of-type {\n",
       "        vertical-align: middle;\n",
       "    }\n",
       "\n",
       "    .dataframe tbody tr th {\n",
       "        vertical-align: top;\n",
       "    }\n",
       "\n",
       "    .dataframe thead th {\n",
       "        text-align: right;\n",
       "    }\n",
       "</style>\n",
       "<table border=\"1\" class=\"dataframe\">\n",
       "  <thead>\n",
       "    <tr style=\"text-align: right;\">\n",
       "      <th></th>\n",
       "      <th>jobID</th>\n",
       "      <th>tagID</th>\n",
       "    </tr>\n",
       "  </thead>\n",
       "  <tbody>\n",
       "    <tr>\n",
       "      <th>0</th>\n",
       "      <td>320722549d1751cf3f247855f937b982</td>\n",
       "      <td>d38901788c533e8286cb6400b40b386d</td>\n",
       "    </tr>\n",
       "    <tr>\n",
       "      <th>1</th>\n",
       "      <td>e744f91c29ec99f0e662c9177946c627</td>\n",
       "      <td>3948ead63a9f2944218de038d8934305</td>\n",
       "    </tr>\n",
       "    <tr>\n",
       "      <th>2</th>\n",
       "      <td>e744f91c29ec99f0e662c9177946c627</td>\n",
       "      <td>0e095e054ee94774d6a496099eb1cf6a</td>\n",
       "    </tr>\n",
       "  </tbody>\n",
       "</table>\n",
       "</div>"
      ],
      "text/plain": [
       "                              jobID                             tagID\n",
       "0  320722549d1751cf3f247855f937b982  d38901788c533e8286cb6400b40b386d\n",
       "1  e744f91c29ec99f0e662c9177946c627  3948ead63a9f2944218de038d8934305\n",
       "2  e744f91c29ec99f0e662c9177946c627  0e095e054ee94774d6a496099eb1cf6a"
      ]
     },
     "execution_count": 29,
     "metadata": {},
     "output_type": "execute_result"
    }
   ],
   "source": [
    "job_tags.head(3)"
   ]
  },
  {
   "cell_type": "code",
   "execution_count": 30,
   "id": "304b8f2a-1c85-49f0-9889-dac32d402be0",
   "metadata": {},
   "outputs": [],
   "source": [
    "job_tag_infos = dict()\n",
    "jID, tID = job_tags.jobID.tolist(), job_tags.tagID.tolist()\n",
    "\n",
    "for idx in range(len(jID)):\n",
    "    if jID[idx] not in job_tag_infos.keys(): job_tag_infos[jID[idx]] = {tID[idx]}\n",
    "    else: job_tag_infos[jID[idx]].add(tID[idx])"
   ]
  },
  {
   "cell_type": "code",
   "execution_count": 31,
   "id": "876244cf-04a7-4e98-8119-88c0b7946c11",
   "metadata": {},
   "outputs": [
    {
     "data": {
      "text/html": [
       "<div>\n",
       "<style scoped>\n",
       "    .dataframe tbody tr th:only-of-type {\n",
       "        vertical-align: middle;\n",
       "    }\n",
       "\n",
       "    .dataframe tbody tr th {\n",
       "        vertical-align: top;\n",
       "    }\n",
       "\n",
       "    .dataframe thead th {\n",
       "        text-align: right;\n",
       "    }\n",
       "</style>\n",
       "<table border=\"1\" class=\"dataframe\">\n",
       "  <thead>\n",
       "    <tr style=\"text-align: right;\">\n",
       "      <th></th>\n",
       "      <th>userID</th>\n",
       "      <th>tagID</th>\n",
       "    </tr>\n",
       "  </thead>\n",
       "  <tbody>\n",
       "    <tr>\n",
       "      <th>0</th>\n",
       "      <td>e576423831e043f7928d9ac113abbe6f</td>\n",
       "      <td>82c2559140b95ccda9c6ca4a8b981f1e</td>\n",
       "    </tr>\n",
       "    <tr>\n",
       "      <th>1</th>\n",
       "      <td>e576423831e043f7928d9ac113abbe6f</td>\n",
       "      <td>2ba8698b79439589fdd2b0f7218d8b07</td>\n",
       "    </tr>\n",
       "    <tr>\n",
       "      <th>2</th>\n",
       "      <td>e576423831e043f7928d9ac113abbe6f</td>\n",
       "      <td>351b33587c5fdd93bd42ef7ac9995a28</td>\n",
       "    </tr>\n",
       "  </tbody>\n",
       "</table>\n",
       "</div>"
      ],
      "text/plain": [
       "                             userID                             tagID\n",
       "0  e576423831e043f7928d9ac113abbe6f  82c2559140b95ccda9c6ca4a8b981f1e\n",
       "1  e576423831e043f7928d9ac113abbe6f  2ba8698b79439589fdd2b0f7218d8b07\n",
       "2  e576423831e043f7928d9ac113abbe6f  351b33587c5fdd93bd42ef7ac9995a28"
      ]
     },
     "execution_count": 31,
     "metadata": {},
     "output_type": "execute_result"
    }
   ],
   "source": [
    "user_tags.head(3)"
   ]
  },
  {
   "cell_type": "code",
   "execution_count": 32,
   "id": "0060f353-7e50-4114-9077-c3ec4d4847f3",
   "metadata": {},
   "outputs": [],
   "source": [
    "user_tag_infos = dict()\n",
    "uID, tID = user_tags.userID\t.tolist(), user_tags.tagID.tolist()\n",
    "\n",
    "for idx in range(len(uID)):\n",
    "    if uID[idx] not in user_tag_infos.keys(): user_tag_infos[uID[idx]] = {tID[idx]}\n",
    "    else: user_tag_infos[uID[idx]].add(tID[idx])"
   ]
  },
  {
   "cell_type": "code",
   "execution_count": 33,
   "id": "3b966266-782d-4b60-a454-7b94debcfd07",
   "metadata": {},
   "outputs": [
    {
     "data": {
      "text/html": [
       "<div>\n",
       "<style scoped>\n",
       "    .dataframe tbody tr th:only-of-type {\n",
       "        vertical-align: middle;\n",
       "    }\n",
       "\n",
       "    .dataframe tbody tr th {\n",
       "        vertical-align: top;\n",
       "    }\n",
       "\n",
       "    .dataframe thead th {\n",
       "        text-align: right;\n",
       "    }\n",
       "</style>\n",
       "<table border=\"1\" class=\"dataframe\">\n",
       "  <thead>\n",
       "    <tr style=\"text-align: right;\">\n",
       "      <th></th>\n",
       "      <th>userID</th>\n",
       "      <th>tagID</th>\n",
       "    </tr>\n",
       "  </thead>\n",
       "  <tbody>\n",
       "    <tr>\n",
       "      <th>4100</th>\n",
       "      <td>fe292163d06253b716e9a0099b42031d</td>\n",
       "      <td>285ab9448d2751ee57ece7f762c39095</td>\n",
       "    </tr>\n",
       "    <tr>\n",
       "      <th>4101</th>\n",
       "      <td>fe292163d06253b716e9a0099b42031d</td>\n",
       "      <td>a1d50185e7426cbb0acad1e6ca74b9aa</td>\n",
       "    </tr>\n",
       "    <tr>\n",
       "      <th>4102</th>\n",
       "      <td>fe292163d06253b716e9a0099b42031d</td>\n",
       "      <td>f47330643ae134ca204bf6b2481fec47</td>\n",
       "    </tr>\n",
       "    <tr>\n",
       "      <th>4103</th>\n",
       "      <td>fe292163d06253b716e9a0099b42031d</td>\n",
       "      <td>5680522b8e2bb01943234bce7bf84534</td>\n",
       "    </tr>\n",
       "    <tr>\n",
       "      <th>4104</th>\n",
       "      <td>fe292163d06253b716e9a0099b42031d</td>\n",
       "      <td>285f89b802bcb2651801455c86d78f2a</td>\n",
       "    </tr>\n",
       "    <tr>\n",
       "      <th>...</th>\n",
       "      <td>...</td>\n",
       "      <td>...</td>\n",
       "    </tr>\n",
       "    <tr>\n",
       "      <th>11811</th>\n",
       "      <td>fe292163d06253b716e9a0099b42031d</td>\n",
       "      <td>285ab9448d2751ee57ece7f762c39095</td>\n",
       "    </tr>\n",
       "    <tr>\n",
       "      <th>11812</th>\n",
       "      <td>fe292163d06253b716e9a0099b42031d</td>\n",
       "      <td>81dc9bdb52d04dc20036dbd8313ed055</td>\n",
       "    </tr>\n",
       "    <tr>\n",
       "      <th>11815</th>\n",
       "      <td>fe292163d06253b716e9a0099b42031d</td>\n",
       "      <td>285f89b802bcb2651801455c86d78f2a</td>\n",
       "    </tr>\n",
       "    <tr>\n",
       "      <th>11816</th>\n",
       "      <td>fe292163d06253b716e9a0099b42031d</td>\n",
       "      <td>fe2d010308a6b3799a3d9c728ee74244</td>\n",
       "    </tr>\n",
       "    <tr>\n",
       "      <th>11817</th>\n",
       "      <td>fe292163d06253b716e9a0099b42031d</td>\n",
       "      <td>4122cb13c7a474c1976c9706ae36521d</td>\n",
       "    </tr>\n",
       "  </tbody>\n",
       "</table>\n",
       "<p>151 rows × 2 columns</p>\n",
       "</div>"
      ],
      "text/plain": [
       "                                 userID                             tagID\n",
       "4100   fe292163d06253b716e9a0099b42031d  285ab9448d2751ee57ece7f762c39095\n",
       "4101   fe292163d06253b716e9a0099b42031d  a1d50185e7426cbb0acad1e6ca74b9aa\n",
       "4102   fe292163d06253b716e9a0099b42031d  f47330643ae134ca204bf6b2481fec47\n",
       "4103   fe292163d06253b716e9a0099b42031d  5680522b8e2bb01943234bce7bf84534\n",
       "4104   fe292163d06253b716e9a0099b42031d  285f89b802bcb2651801455c86d78f2a\n",
       "...                                 ...                               ...\n",
       "11811  fe292163d06253b716e9a0099b42031d  285ab9448d2751ee57ece7f762c39095\n",
       "11812  fe292163d06253b716e9a0099b42031d  81dc9bdb52d04dc20036dbd8313ed055\n",
       "11815  fe292163d06253b716e9a0099b42031d  285f89b802bcb2651801455c86d78f2a\n",
       "11816  fe292163d06253b716e9a0099b42031d  fe2d010308a6b3799a3d9c728ee74244\n",
       "11817  fe292163d06253b716e9a0099b42031d  4122cb13c7a474c1976c9706ae36521d\n",
       "\n",
       "[151 rows x 2 columns]"
      ]
     },
     "execution_count": 33,
     "metadata": {},
     "output_type": "execute_result"
    }
   ],
   "source": [
    "user_tags[user_tags['userID']=='fe292163d06253b716e9a0099b42031d']"
   ]
  },
  {
   "cell_type": "code",
   "execution_count": 34,
   "id": "03a5047c-cc46-401e-9c72-c0f961d6f863",
   "metadata": {},
   "outputs": [],
   "source": [
    "user_id = total_df.userID.tolist()\n",
    "job_id = total_df.jobID.tolist()"
   ]
  },
  {
   "cell_type": "code",
   "execution_count": 35,
   "id": "53341a96-83af-474f-8563-fd50cfbe50c3",
   "metadata": {},
   "outputs": [],
   "source": [
    "user_tag_count = []\n",
    "job_tag_count = []\n",
    "user_job_tag_inter = []\n",
    "\n",
    "for idx in range(len(user_id)):\n",
    "    # [1] user_tag 가져오기\n",
    "    user_tags_set = user_tag_infos[user_id[idx]]\n",
    "    \n",
    "    # [2] job_tag 가져오기\n",
    "    job_tags_set = job_tag_infos[job_id[idx]]\n",
    "    \n",
    "    # [3] user tag, job tag, user_job intersaction 개수 저장\n",
    "    user_tag_count.append(len(user_tags_set))\n",
    "    job_tag_count.append(len(job_tags_set))\n",
    "    user_job_tag_inter.append(len(user_tags_set & job_tags_set))\n",
    "\n",
    "total_df['user_tag_count'] = user_tag_count\n",
    "total_df['job_tag_count'] = job_tag_count\n",
    "total_df['user_job_tag_inter'] = user_job_tag_inter"
   ]
  },
  {
   "cell_type": "code",
   "execution_count": 36,
   "id": "b89b7b2a-6fa0-4a64-8714-c5a686dfe0b5",
   "metadata": {},
   "outputs": [
    {
     "data": {
      "text/html": [
       "<div>\n",
       "<style scoped>\n",
       "    .dataframe tbody tr th:only-of-type {\n",
       "        vertical-align: middle;\n",
       "    }\n",
       "\n",
       "    .dataframe tbody tr th {\n",
       "        vertical-align: top;\n",
       "    }\n",
       "\n",
       "    .dataframe thead th {\n",
       "        text-align: right;\n",
       "    }\n",
       "</style>\n",
       "<table border=\"1\" class=\"dataframe\">\n",
       "  <thead>\n",
       "    <tr style=\"text-align: right;\">\n",
       "      <th></th>\n",
       "      <th>userID</th>\n",
       "      <th>jobID</th>\n",
       "      <th>applied</th>\n",
       "      <th>companySize</th>\n",
       "      <th>user_tag_count</th>\n",
       "      <th>job_tag_count</th>\n",
       "      <th>user_job_tag_inter</th>\n",
       "    </tr>\n",
       "  </thead>\n",
       "  <tbody>\n",
       "    <tr>\n",
       "      <th>0</th>\n",
       "      <td>fe292163d06253b716e9a0099b42031d</td>\n",
       "      <td>15de21c670ae7c3f6f3f1f37029303c9</td>\n",
       "      <td>0</td>\n",
       "      <td>B</td>\n",
       "      <td>13</td>\n",
       "      <td>2</td>\n",
       "      <td>0</td>\n",
       "    </tr>\n",
       "    <tr>\n",
       "      <th>1</th>\n",
       "      <td>1d0d19d2d7d31ccf3747614aec7273c8</td>\n",
       "      <td>15de21c670ae7c3f6f3f1f37029303c9</td>\n",
       "      <td>0</td>\n",
       "      <td>B</td>\n",
       "      <td>25</td>\n",
       "      <td>2</td>\n",
       "      <td>0</td>\n",
       "    </tr>\n",
       "    <tr>\n",
       "      <th>2</th>\n",
       "      <td>c70daf247944fe3add32218f914c75a6</td>\n",
       "      <td>15de21c670ae7c3f6f3f1f37029303c9</td>\n",
       "      <td>0</td>\n",
       "      <td>B</td>\n",
       "      <td>6</td>\n",
       "      <td>2</td>\n",
       "      <td>0</td>\n",
       "    </tr>\n",
       "    <tr>\n",
       "      <th>3</th>\n",
       "      <td>883b4172416f7b84234d3aeda4199f8f</td>\n",
       "      <td>15de21c670ae7c3f6f3f1f37029303c9</td>\n",
       "      <td>1</td>\n",
       "      <td>B</td>\n",
       "      <td>4</td>\n",
       "      <td>2</td>\n",
       "      <td>0</td>\n",
       "    </tr>\n",
       "    <tr>\n",
       "      <th>4</th>\n",
       "      <td>6bc5d37951120d6d49672ce647c4e563</td>\n",
       "      <td>15de21c670ae7c3f6f3f1f37029303c9</td>\n",
       "      <td>0</td>\n",
       "      <td>B</td>\n",
       "      <td>11</td>\n",
       "      <td>2</td>\n",
       "      <td>0</td>\n",
       "    </tr>\n",
       "    <tr>\n",
       "      <th>...</th>\n",
       "      <td>...</td>\n",
       "      <td>...</td>\n",
       "      <td>...</td>\n",
       "      <td>...</td>\n",
       "      <td>...</td>\n",
       "      <td>...</td>\n",
       "      <td>...</td>\n",
       "    </tr>\n",
       "    <tr>\n",
       "      <th>8430</th>\n",
       "      <td>1f1baa5b8edac74eb4eaa329f14a0361</td>\n",
       "      <td>d81f9c1be2e08964bf9f24b15f0e4900</td>\n",
       "      <td>-1</td>\n",
       "      <td>None</td>\n",
       "      <td>31</td>\n",
       "      <td>2</td>\n",
       "      <td>2</td>\n",
       "    </tr>\n",
       "    <tr>\n",
       "      <th>8431</th>\n",
       "      <td>ebaee1af0c501f22ddfe242fc16dae53</td>\n",
       "      <td>a51fb975227d6640e4fe47854476d133</td>\n",
       "      <td>-1</td>\n",
       "      <td>E</td>\n",
       "      <td>13</td>\n",
       "      <td>3</td>\n",
       "      <td>1</td>\n",
       "    </tr>\n",
       "    <tr>\n",
       "      <th>8432</th>\n",
       "      <td>fa2a28ade168508972790316e314d47e</td>\n",
       "      <td>7940ab47468396569a906f75ff3f20ef</td>\n",
       "      <td>-1</td>\n",
       "      <td>B</td>\n",
       "      <td>10</td>\n",
       "      <td>3</td>\n",
       "      <td>0</td>\n",
       "    </tr>\n",
       "    <tr>\n",
       "      <th>8433</th>\n",
       "      <td>3e15cc11f979ed25912dff5b0669f2cd</td>\n",
       "      <td>74bba22728b6185eec06286af6bec36d</td>\n",
       "      <td>-1</td>\n",
       "      <td>B</td>\n",
       "      <td>17</td>\n",
       "      <td>3</td>\n",
       "      <td>0</td>\n",
       "    </tr>\n",
       "    <tr>\n",
       "      <th>8434</th>\n",
       "      <td>ce3c9c905135bab43c25500d3435a7a7</td>\n",
       "      <td>7501e5d4da87ac39d782741cd794002d</td>\n",
       "      <td>-1</td>\n",
       "      <td>B</td>\n",
       "      <td>6</td>\n",
       "      <td>4</td>\n",
       "      <td>2</td>\n",
       "    </tr>\n",
       "  </tbody>\n",
       "</table>\n",
       "<p>8435 rows × 7 columns</p>\n",
       "</div>"
      ],
      "text/plain": [
       "                                userID                             jobID  \\\n",
       "0     fe292163d06253b716e9a0099b42031d  15de21c670ae7c3f6f3f1f37029303c9   \n",
       "1     1d0d19d2d7d31ccf3747614aec7273c8  15de21c670ae7c3f6f3f1f37029303c9   \n",
       "2     c70daf247944fe3add32218f914c75a6  15de21c670ae7c3f6f3f1f37029303c9   \n",
       "3     883b4172416f7b84234d3aeda4199f8f  15de21c670ae7c3f6f3f1f37029303c9   \n",
       "4     6bc5d37951120d6d49672ce647c4e563  15de21c670ae7c3f6f3f1f37029303c9   \n",
       "...                                ...                               ...   \n",
       "8430  1f1baa5b8edac74eb4eaa329f14a0361  d81f9c1be2e08964bf9f24b15f0e4900   \n",
       "8431  ebaee1af0c501f22ddfe242fc16dae53  a51fb975227d6640e4fe47854476d133   \n",
       "8432  fa2a28ade168508972790316e314d47e  7940ab47468396569a906f75ff3f20ef   \n",
       "8433  3e15cc11f979ed25912dff5b0669f2cd  74bba22728b6185eec06286af6bec36d   \n",
       "8434  ce3c9c905135bab43c25500d3435a7a7  7501e5d4da87ac39d782741cd794002d   \n",
       "\n",
       "      applied companySize  user_tag_count  job_tag_count  user_job_tag_inter  \n",
       "0           0           B              13              2                   0  \n",
       "1           0           B              25              2                   0  \n",
       "2           0           B               6              2                   0  \n",
       "3           1           B               4              2                   0  \n",
       "4           0           B              11              2                   0  \n",
       "...       ...         ...             ...            ...                 ...  \n",
       "8430       -1        None              31              2                   2  \n",
       "8431       -1           E              13              3                   1  \n",
       "8432       -1           B              10              3                   0  \n",
       "8433       -1           B              17              3                   0  \n",
       "8434       -1           B               6              4                   2  \n",
       "\n",
       "[8435 rows x 7 columns]"
      ]
     },
     "execution_count": 36,
     "metadata": {},
     "output_type": "execute_result"
    }
   ],
   "source": [
    "total_df"
   ]
  },
  {
   "cell_type": "markdown",
   "id": "a8d7c86e-be9f-43a1-a7e1-357a21c9840f",
   "metadata": {},
   "source": [
    "* 사용자 관심 키워드(많이 적음)\n",
    "* 회사가 원하는 키워드 => 적음 \n",
    "* 그러니까, 관심도 확인하려면 intersaction/회사가 원하는 키워드"
   ]
  },
  {
   "cell_type": "code",
   "execution_count": 37,
   "id": "7843c994-fdc2-4b59-bc19-1ad2deed31fb",
   "metadata": {},
   "outputs": [],
   "source": [
    "total_df['keyword_ratio'] = total_df['user_job_tag_inter']/total_df['job_tag_count']"
   ]
  },
  {
   "cell_type": "code",
   "execution_count": 38,
   "id": "05e628e2-cdf6-4b8b-acfd-1c2b52bc25f2",
   "metadata": {},
   "outputs": [
    {
     "data": {
      "text/html": [
       "<div>\n",
       "<style scoped>\n",
       "    .dataframe tbody tr th:only-of-type {\n",
       "        vertical-align: middle;\n",
       "    }\n",
       "\n",
       "    .dataframe tbody tr th {\n",
       "        vertical-align: top;\n",
       "    }\n",
       "\n",
       "    .dataframe thead th {\n",
       "        text-align: right;\n",
       "    }\n",
       "</style>\n",
       "<table border=\"1\" class=\"dataframe\">\n",
       "  <thead>\n",
       "    <tr style=\"text-align: right;\">\n",
       "      <th></th>\n",
       "      <th>userID</th>\n",
       "      <th>jobID</th>\n",
       "      <th>applied</th>\n",
       "      <th>companySize</th>\n",
       "      <th>user_tag_count</th>\n",
       "      <th>job_tag_count</th>\n",
       "      <th>user_job_tag_inter</th>\n",
       "      <th>keyword_ratio</th>\n",
       "    </tr>\n",
       "  </thead>\n",
       "  <tbody>\n",
       "    <tr>\n",
       "      <th>0</th>\n",
       "      <td>fe292163d06253b716e9a0099b42031d</td>\n",
       "      <td>15de21c670ae7c3f6f3f1f37029303c9</td>\n",
       "      <td>0</td>\n",
       "      <td>B</td>\n",
       "      <td>13</td>\n",
       "      <td>2</td>\n",
       "      <td>0</td>\n",
       "      <td>0.000000</td>\n",
       "    </tr>\n",
       "    <tr>\n",
       "      <th>1</th>\n",
       "      <td>1d0d19d2d7d31ccf3747614aec7273c8</td>\n",
       "      <td>15de21c670ae7c3f6f3f1f37029303c9</td>\n",
       "      <td>0</td>\n",
       "      <td>B</td>\n",
       "      <td>25</td>\n",
       "      <td>2</td>\n",
       "      <td>0</td>\n",
       "      <td>0.000000</td>\n",
       "    </tr>\n",
       "    <tr>\n",
       "      <th>2</th>\n",
       "      <td>c70daf247944fe3add32218f914c75a6</td>\n",
       "      <td>15de21c670ae7c3f6f3f1f37029303c9</td>\n",
       "      <td>0</td>\n",
       "      <td>B</td>\n",
       "      <td>6</td>\n",
       "      <td>2</td>\n",
       "      <td>0</td>\n",
       "      <td>0.000000</td>\n",
       "    </tr>\n",
       "    <tr>\n",
       "      <th>3</th>\n",
       "      <td>883b4172416f7b84234d3aeda4199f8f</td>\n",
       "      <td>15de21c670ae7c3f6f3f1f37029303c9</td>\n",
       "      <td>1</td>\n",
       "      <td>B</td>\n",
       "      <td>4</td>\n",
       "      <td>2</td>\n",
       "      <td>0</td>\n",
       "      <td>0.000000</td>\n",
       "    </tr>\n",
       "    <tr>\n",
       "      <th>4</th>\n",
       "      <td>6bc5d37951120d6d49672ce647c4e563</td>\n",
       "      <td>15de21c670ae7c3f6f3f1f37029303c9</td>\n",
       "      <td>0</td>\n",
       "      <td>B</td>\n",
       "      <td>11</td>\n",
       "      <td>2</td>\n",
       "      <td>0</td>\n",
       "      <td>0.000000</td>\n",
       "    </tr>\n",
       "    <tr>\n",
       "      <th>...</th>\n",
       "      <td>...</td>\n",
       "      <td>...</td>\n",
       "      <td>...</td>\n",
       "      <td>...</td>\n",
       "      <td>...</td>\n",
       "      <td>...</td>\n",
       "      <td>...</td>\n",
       "      <td>...</td>\n",
       "    </tr>\n",
       "    <tr>\n",
       "      <th>8430</th>\n",
       "      <td>1f1baa5b8edac74eb4eaa329f14a0361</td>\n",
       "      <td>d81f9c1be2e08964bf9f24b15f0e4900</td>\n",
       "      <td>-1</td>\n",
       "      <td>None</td>\n",
       "      <td>31</td>\n",
       "      <td>2</td>\n",
       "      <td>2</td>\n",
       "      <td>1.000000</td>\n",
       "    </tr>\n",
       "    <tr>\n",
       "      <th>8431</th>\n",
       "      <td>ebaee1af0c501f22ddfe242fc16dae53</td>\n",
       "      <td>a51fb975227d6640e4fe47854476d133</td>\n",
       "      <td>-1</td>\n",
       "      <td>E</td>\n",
       "      <td>13</td>\n",
       "      <td>3</td>\n",
       "      <td>1</td>\n",
       "      <td>0.333333</td>\n",
       "    </tr>\n",
       "    <tr>\n",
       "      <th>8432</th>\n",
       "      <td>fa2a28ade168508972790316e314d47e</td>\n",
       "      <td>7940ab47468396569a906f75ff3f20ef</td>\n",
       "      <td>-1</td>\n",
       "      <td>B</td>\n",
       "      <td>10</td>\n",
       "      <td>3</td>\n",
       "      <td>0</td>\n",
       "      <td>0.000000</td>\n",
       "    </tr>\n",
       "    <tr>\n",
       "      <th>8433</th>\n",
       "      <td>3e15cc11f979ed25912dff5b0669f2cd</td>\n",
       "      <td>74bba22728b6185eec06286af6bec36d</td>\n",
       "      <td>-1</td>\n",
       "      <td>B</td>\n",
       "      <td>17</td>\n",
       "      <td>3</td>\n",
       "      <td>0</td>\n",
       "      <td>0.000000</td>\n",
       "    </tr>\n",
       "    <tr>\n",
       "      <th>8434</th>\n",
       "      <td>ce3c9c905135bab43c25500d3435a7a7</td>\n",
       "      <td>7501e5d4da87ac39d782741cd794002d</td>\n",
       "      <td>-1</td>\n",
       "      <td>B</td>\n",
       "      <td>6</td>\n",
       "      <td>4</td>\n",
       "      <td>2</td>\n",
       "      <td>0.500000</td>\n",
       "    </tr>\n",
       "  </tbody>\n",
       "</table>\n",
       "<p>8435 rows × 8 columns</p>\n",
       "</div>"
      ],
      "text/plain": [
       "                                userID                             jobID  \\\n",
       "0     fe292163d06253b716e9a0099b42031d  15de21c670ae7c3f6f3f1f37029303c9   \n",
       "1     1d0d19d2d7d31ccf3747614aec7273c8  15de21c670ae7c3f6f3f1f37029303c9   \n",
       "2     c70daf247944fe3add32218f914c75a6  15de21c670ae7c3f6f3f1f37029303c9   \n",
       "3     883b4172416f7b84234d3aeda4199f8f  15de21c670ae7c3f6f3f1f37029303c9   \n",
       "4     6bc5d37951120d6d49672ce647c4e563  15de21c670ae7c3f6f3f1f37029303c9   \n",
       "...                                ...                               ...   \n",
       "8430  1f1baa5b8edac74eb4eaa329f14a0361  d81f9c1be2e08964bf9f24b15f0e4900   \n",
       "8431  ebaee1af0c501f22ddfe242fc16dae53  a51fb975227d6640e4fe47854476d133   \n",
       "8432  fa2a28ade168508972790316e314d47e  7940ab47468396569a906f75ff3f20ef   \n",
       "8433  3e15cc11f979ed25912dff5b0669f2cd  74bba22728b6185eec06286af6bec36d   \n",
       "8434  ce3c9c905135bab43c25500d3435a7a7  7501e5d4da87ac39d782741cd794002d   \n",
       "\n",
       "      applied companySize  user_tag_count  job_tag_count  user_job_tag_inter  \\\n",
       "0           0           B              13              2                   0   \n",
       "1           0           B              25              2                   0   \n",
       "2           0           B               6              2                   0   \n",
       "3           1           B               4              2                   0   \n",
       "4           0           B              11              2                   0   \n",
       "...       ...         ...             ...            ...                 ...   \n",
       "8430       -1        None              31              2                   2   \n",
       "8431       -1           E              13              3                   1   \n",
       "8432       -1           B              10              3                   0   \n",
       "8433       -1           B              17              3                   0   \n",
       "8434       -1           B               6              4                   2   \n",
       "\n",
       "      keyword_ratio  \n",
       "0          0.000000  \n",
       "1          0.000000  \n",
       "2          0.000000  \n",
       "3          0.000000  \n",
       "4          0.000000  \n",
       "...             ...  \n",
       "8430       1.000000  \n",
       "8431       0.333333  \n",
       "8432       0.000000  \n",
       "8433       0.000000  \n",
       "8434       0.500000  \n",
       "\n",
       "[8435 rows x 8 columns]"
      ]
     },
     "execution_count": 38,
     "metadata": {},
     "output_type": "execute_result"
    }
   ],
   "source": [
    "total_df"
   ]
  },
  {
   "cell_type": "markdown",
   "id": "04dfd952-21b5-4acd-9500-0b63eb87fe93",
   "metadata": {},
   "source": [
    "* 이 ratio가 applied에 영향을 끼치는가?"
   ]
  },
  {
   "cell_type": "code",
   "execution_count": 39,
   "id": "5f25d9c1-ff23-471b-80b6-e31944696c81",
   "metadata": {},
   "outputs": [],
   "source": [
    "temp_df = total_df[total_df['applied'] != -1]"
   ]
  },
  {
   "cell_type": "code",
   "execution_count": 40,
   "id": "33c0133b-7f0e-481e-aa66-6105603babdd",
   "metadata": {},
   "outputs": [
    {
     "data": {
      "text/html": [
       "<div>\n",
       "<style scoped>\n",
       "    .dataframe tbody tr th:only-of-type {\n",
       "        vertical-align: middle;\n",
       "    }\n",
       "\n",
       "    .dataframe tbody tr th {\n",
       "        vertical-align: top;\n",
       "    }\n",
       "\n",
       "    .dataframe thead th {\n",
       "        text-align: right;\n",
       "    }\n",
       "</style>\n",
       "<table border=\"1\" class=\"dataframe\">\n",
       "  <thead>\n",
       "    <tr style=\"text-align: right;\">\n",
       "      <th></th>\n",
       "      <th>userID</th>\n",
       "      <th>jobID</th>\n",
       "      <th>applied</th>\n",
       "      <th>companySize</th>\n",
       "      <th>user_tag_count</th>\n",
       "      <th>job_tag_count</th>\n",
       "      <th>user_job_tag_inter</th>\n",
       "      <th>keyword_ratio</th>\n",
       "    </tr>\n",
       "  </thead>\n",
       "  <tbody>\n",
       "    <tr>\n",
       "      <th>0</th>\n",
       "      <td>fe292163d06253b716e9a0099b42031d</td>\n",
       "      <td>15de21c670ae7c3f6f3f1f37029303c9</td>\n",
       "      <td>0</td>\n",
       "      <td>B</td>\n",
       "      <td>13</td>\n",
       "      <td>2</td>\n",
       "      <td>0</td>\n",
       "      <td>0.000000</td>\n",
       "    </tr>\n",
       "    <tr>\n",
       "      <th>1</th>\n",
       "      <td>1d0d19d2d7d31ccf3747614aec7273c8</td>\n",
       "      <td>15de21c670ae7c3f6f3f1f37029303c9</td>\n",
       "      <td>0</td>\n",
       "      <td>B</td>\n",
       "      <td>25</td>\n",
       "      <td>2</td>\n",
       "      <td>0</td>\n",
       "      <td>0.000000</td>\n",
       "    </tr>\n",
       "    <tr>\n",
       "      <th>2</th>\n",
       "      <td>c70daf247944fe3add32218f914c75a6</td>\n",
       "      <td>15de21c670ae7c3f6f3f1f37029303c9</td>\n",
       "      <td>0</td>\n",
       "      <td>B</td>\n",
       "      <td>6</td>\n",
       "      <td>2</td>\n",
       "      <td>0</td>\n",
       "      <td>0.000000</td>\n",
       "    </tr>\n",
       "    <tr>\n",
       "      <th>3</th>\n",
       "      <td>883b4172416f7b84234d3aeda4199f8f</td>\n",
       "      <td>15de21c670ae7c3f6f3f1f37029303c9</td>\n",
       "      <td>1</td>\n",
       "      <td>B</td>\n",
       "      <td>4</td>\n",
       "      <td>2</td>\n",
       "      <td>0</td>\n",
       "      <td>0.000000</td>\n",
       "    </tr>\n",
       "    <tr>\n",
       "      <th>4</th>\n",
       "      <td>6bc5d37951120d6d49672ce647c4e563</td>\n",
       "      <td>15de21c670ae7c3f6f3f1f37029303c9</td>\n",
       "      <td>0</td>\n",
       "      <td>B</td>\n",
       "      <td>11</td>\n",
       "      <td>2</td>\n",
       "      <td>0</td>\n",
       "      <td>0.000000</td>\n",
       "    </tr>\n",
       "    <tr>\n",
       "      <th>...</th>\n",
       "      <td>...</td>\n",
       "      <td>...</td>\n",
       "      <td>...</td>\n",
       "      <td>...</td>\n",
       "      <td>...</td>\n",
       "      <td>...</td>\n",
       "      <td>...</td>\n",
       "      <td>...</td>\n",
       "    </tr>\n",
       "    <tr>\n",
       "      <th>8395</th>\n",
       "      <td>946aa0c612952da8d67dd338a43d5929</td>\n",
       "      <td>f29b38f160f87ae86df31cee1982066f</td>\n",
       "      <td>0</td>\n",
       "      <td>F</td>\n",
       "      <td>6</td>\n",
       "      <td>7</td>\n",
       "      <td>2</td>\n",
       "      <td>0.285714</td>\n",
       "    </tr>\n",
       "    <tr>\n",
       "      <th>8397</th>\n",
       "      <td>fd1b4044581c63b9cb16d91958302072</td>\n",
       "      <td>92262bf907af914b95a0fc33c3f33bf6</td>\n",
       "      <td>0</td>\n",
       "      <td>B</td>\n",
       "      <td>22</td>\n",
       "      <td>3</td>\n",
       "      <td>0</td>\n",
       "      <td>0.000000</td>\n",
       "    </tr>\n",
       "    <tr>\n",
       "      <th>8398</th>\n",
       "      <td>b94a3f555cc529e2ef5d5277651a33c1</td>\n",
       "      <td>caf1a3dfb505ffed0d024130f58c5cfa</td>\n",
       "      <td>0</td>\n",
       "      <td>B</td>\n",
       "      <td>10</td>\n",
       "      <td>3</td>\n",
       "      <td>0</td>\n",
       "      <td>0.000000</td>\n",
       "    </tr>\n",
       "    <tr>\n",
       "      <th>8404</th>\n",
       "      <td>78492ae8ee0c7aeab730674170296142</td>\n",
       "      <td>7f1171a78ce0780a2142a6eb7bc4f3c8</td>\n",
       "      <td>1</td>\n",
       "      <td>A</td>\n",
       "      <td>5</td>\n",
       "      <td>11</td>\n",
       "      <td>1</td>\n",
       "      <td>0.090909</td>\n",
       "    </tr>\n",
       "    <tr>\n",
       "      <th>8405</th>\n",
       "      <td>c0b199d73bdf390c2f4c3150b6ee1574</td>\n",
       "      <td>e3796ae838835da0b6f6ea37bcf8bcb7</td>\n",
       "      <td>0</td>\n",
       "      <td>C</td>\n",
       "      <td>25</td>\n",
       "      <td>6</td>\n",
       "      <td>3</td>\n",
       "      <td>0.500000</td>\n",
       "    </tr>\n",
       "  </tbody>\n",
       "</table>\n",
       "<p>6000 rows × 8 columns</p>\n",
       "</div>"
      ],
      "text/plain": [
       "                                userID                             jobID  \\\n",
       "0     fe292163d06253b716e9a0099b42031d  15de21c670ae7c3f6f3f1f37029303c9   \n",
       "1     1d0d19d2d7d31ccf3747614aec7273c8  15de21c670ae7c3f6f3f1f37029303c9   \n",
       "2     c70daf247944fe3add32218f914c75a6  15de21c670ae7c3f6f3f1f37029303c9   \n",
       "3     883b4172416f7b84234d3aeda4199f8f  15de21c670ae7c3f6f3f1f37029303c9   \n",
       "4     6bc5d37951120d6d49672ce647c4e563  15de21c670ae7c3f6f3f1f37029303c9   \n",
       "...                                ...                               ...   \n",
       "8395  946aa0c612952da8d67dd338a43d5929  f29b38f160f87ae86df31cee1982066f   \n",
       "8397  fd1b4044581c63b9cb16d91958302072  92262bf907af914b95a0fc33c3f33bf6   \n",
       "8398  b94a3f555cc529e2ef5d5277651a33c1  caf1a3dfb505ffed0d024130f58c5cfa   \n",
       "8404  78492ae8ee0c7aeab730674170296142  7f1171a78ce0780a2142a6eb7bc4f3c8   \n",
       "8405  c0b199d73bdf390c2f4c3150b6ee1574  e3796ae838835da0b6f6ea37bcf8bcb7   \n",
       "\n",
       "      applied companySize  user_tag_count  job_tag_count  user_job_tag_inter  \\\n",
       "0           0           B              13              2                   0   \n",
       "1           0           B              25              2                   0   \n",
       "2           0           B               6              2                   0   \n",
       "3           1           B               4              2                   0   \n",
       "4           0           B              11              2                   0   \n",
       "...       ...         ...             ...            ...                 ...   \n",
       "8395        0           F               6              7                   2   \n",
       "8397        0           B              22              3                   0   \n",
       "8398        0           B              10              3                   0   \n",
       "8404        1           A               5             11                   1   \n",
       "8405        0           C              25              6                   3   \n",
       "\n",
       "      keyword_ratio  \n",
       "0          0.000000  \n",
       "1          0.000000  \n",
       "2          0.000000  \n",
       "3          0.000000  \n",
       "4          0.000000  \n",
       "...             ...  \n",
       "8395       0.285714  \n",
       "8397       0.000000  \n",
       "8398       0.000000  \n",
       "8404       0.090909  \n",
       "8405       0.500000  \n",
       "\n",
       "[6000 rows x 8 columns]"
      ]
     },
     "execution_count": 40,
     "metadata": {},
     "output_type": "execute_result"
    }
   ],
   "source": [
    "temp_df"
   ]
  },
  {
   "cell_type": "markdown",
   "id": "5e95e263-5101-403b-abd1-664743238405",
   "metadata": {},
   "source": [
    "* 아래 그래프보면, 그래도 ratio가 높아야 지원할 확률이 높다\n",
    "* ration가 낮을수록 지원하지 않는 경향이 있다"
   ]
  },
  {
   "cell_type": "code",
   "execution_count": 41,
   "id": "a9d15474-ffa9-4fbc-9062-e1f01ad28595",
   "metadata": {},
   "outputs": [
    {
     "data": {
      "text/plain": [
       "<AxesSubplot:xlabel='applied', ylabel='keyword_ratio'>"
      ]
     },
     "execution_count": 41,
     "metadata": {},
     "output_type": "execute_result"
    },
    {
     "data": {
      "image/png": "[encoded data removed]",
      "text/plain": [
       "<Figure size 432x288 with 1 Axes>"
      ]
     },
     "metadata": {
      "needs_background": "light"
     },
     "output_type": "display_data"
    }
   ],
   "source": [
    "sns.boxplot(x=temp_df['applied'], y=temp_df['keyword_ratio'])"
   ]
  },
  {
   "cell_type": "code",
   "execution_count": 42,
   "id": "ce22e4b9-751e-4a5b-8e23-7ced2ce346ca",
   "metadata": {},
   "outputs": [
    {
     "data": {
      "text/plain": [
       "<matplotlib.collections.PathCollection at 0x7f483d28cb50>"
      ]
     },
     "execution_count": 42,
     "metadata": {},
     "output_type": "execute_result"
    },
    {
     "data": {
      "image/png": "[encoded data removed]",
      "text/plain": [
       "<Figure size 1440x720 with 2 Axes>"
      ]
     },
     "metadata": {
      "needs_background": "light"
     },
     "output_type": "display_data"
    }
   ],
   "source": [
    "plt.figure(figsize=(20, 10))\n",
    "plt.subplot(1, 2, 1)\n",
    "plt.scatter(x=temp_df[temp_df['applied']==1]['keyword_ratio'], y=temp_df[temp_df['applied']==1]['user_tag_count'], color='r', marker=\"x\")\n",
    "plt.subplot(1, 2, 2)\n",
    "plt.scatter(x=temp_df[temp_df['applied']==0]['keyword_ratio'], y=temp_df[temp_df['applied']==0]['user_tag_count'], color='b')"
   ]
  },
  {
   "cell_type": "code",
   "execution_count": null,
   "id": "939a6f2f-4be0-44d9-ad01-554d9e56d01d",
   "metadata": {},
   "outputs": [],
   "source": []
  },
  {
   "cell_type": "markdown",
   "id": "3f8f0c6c-4817-40de-84de-bbf1051c58fe",
   "metadata": {},
   "source": [
    "## [3] Model"
   ]
  },
  {
   "cell_type": "markdown",
   "id": "4692858f-815d-412d-9b83-d9528141e28a",
   "metadata": {},
   "source": [
    "### [3-1] 범주형 데이터 처리"
   ]
  },
  {
   "cell_type": "markdown",
   "id": "85804aa8-0f71-47c3-bea0-6cec90c8a7eb",
   "metadata": {},
   "source": [
    "* 일단, Company size는 범주형이니까, 학습할 수 있도록 변경\n",
    "* one-hot encoding 진행"
   ]
  },
  {
   "cell_type": "code",
   "execution_count": 43,
   "id": "59006b33-89b9-4366-96d5-5e2db2a70ce1",
   "metadata": {},
   "outputs": [],
   "source": [
    "total_df = pd.get_dummies(total_df, columns=['companySize'])"
   ]
  },
  {
   "cell_type": "code",
   "execution_count": 44,
   "id": "eb57a2fc-bea6-4d3a-bec9-47717242026d",
   "metadata": {},
   "outputs": [
    {
     "data": {
      "text/html": [
       "<div>\n",
       "<style scoped>\n",
       "    .dataframe tbody tr th:only-of-type {\n",
       "        vertical-align: middle;\n",
       "    }\n",
       "\n",
       "    .dataframe tbody tr th {\n",
       "        vertical-align: top;\n",
       "    }\n",
       "\n",
       "    .dataframe thead th {\n",
       "        text-align: right;\n",
       "    }\n",
       "</style>\n",
       "<table border=\"1\" class=\"dataframe\">\n",
       "  <thead>\n",
       "    <tr style=\"text-align: right;\">\n",
       "      <th></th>\n",
       "      <th>userID</th>\n",
       "      <th>jobID</th>\n",
       "      <th>applied</th>\n",
       "      <th>user_tag_count</th>\n",
       "      <th>job_tag_count</th>\n",
       "      <th>user_job_tag_inter</th>\n",
       "      <th>keyword_ratio</th>\n",
       "      <th>companySize_A</th>\n",
       "      <th>companySize_B</th>\n",
       "      <th>companySize_C</th>\n",
       "      <th>companySize_D</th>\n",
       "      <th>companySize_E</th>\n",
       "      <th>companySize_F</th>\n",
       "      <th>companySize_G</th>\n",
       "      <th>companySize_None</th>\n",
       "    </tr>\n",
       "  </thead>\n",
       "  <tbody>\n",
       "    <tr>\n",
       "      <th>0</th>\n",
       "      <td>fe292163d06253b716e9a0099b42031d</td>\n",
       "      <td>15de21c670ae7c3f6f3f1f37029303c9</td>\n",
       "      <td>0</td>\n",
       "      <td>13</td>\n",
       "      <td>2</td>\n",
       "      <td>0</td>\n",
       "      <td>0.000000</td>\n",
       "      <td>0</td>\n",
       "      <td>1</td>\n",
       "      <td>0</td>\n",
       "      <td>0</td>\n",
       "      <td>0</td>\n",
       "      <td>0</td>\n",
       "      <td>0</td>\n",
       "      <td>0</td>\n",
       "    </tr>\n",
       "    <tr>\n",
       "      <th>1</th>\n",
       "      <td>1d0d19d2d7d31ccf3747614aec7273c8</td>\n",
       "      <td>15de21c670ae7c3f6f3f1f37029303c9</td>\n",
       "      <td>0</td>\n",
       "      <td>25</td>\n",
       "      <td>2</td>\n",
       "      <td>0</td>\n",
       "      <td>0.000000</td>\n",
       "      <td>0</td>\n",
       "      <td>1</td>\n",
       "      <td>0</td>\n",
       "      <td>0</td>\n",
       "      <td>0</td>\n",
       "      <td>0</td>\n",
       "      <td>0</td>\n",
       "      <td>0</td>\n",
       "    </tr>\n",
       "    <tr>\n",
       "      <th>2</th>\n",
       "      <td>c70daf247944fe3add32218f914c75a6</td>\n",
       "      <td>15de21c670ae7c3f6f3f1f37029303c9</td>\n",
       "      <td>0</td>\n",
       "      <td>6</td>\n",
       "      <td>2</td>\n",
       "      <td>0</td>\n",
       "      <td>0.000000</td>\n",
       "      <td>0</td>\n",
       "      <td>1</td>\n",
       "      <td>0</td>\n",
       "      <td>0</td>\n",
       "      <td>0</td>\n",
       "      <td>0</td>\n",
       "      <td>0</td>\n",
       "      <td>0</td>\n",
       "    </tr>\n",
       "    <tr>\n",
       "      <th>3</th>\n",
       "      <td>883b4172416f7b84234d3aeda4199f8f</td>\n",
       "      <td>15de21c670ae7c3f6f3f1f37029303c9</td>\n",
       "      <td>1</td>\n",
       "      <td>4</td>\n",
       "      <td>2</td>\n",
       "      <td>0</td>\n",
       "      <td>0.000000</td>\n",
       "      <td>0</td>\n",
       "      <td>1</td>\n",
       "      <td>0</td>\n",
       "      <td>0</td>\n",
       "      <td>0</td>\n",
       "      <td>0</td>\n",
       "      <td>0</td>\n",
       "      <td>0</td>\n",
       "    </tr>\n",
       "    <tr>\n",
       "      <th>4</th>\n",
       "      <td>6bc5d37951120d6d49672ce647c4e563</td>\n",
       "      <td>15de21c670ae7c3f6f3f1f37029303c9</td>\n",
       "      <td>0</td>\n",
       "      <td>11</td>\n",
       "      <td>2</td>\n",
       "      <td>0</td>\n",
       "      <td>0.000000</td>\n",
       "      <td>0</td>\n",
       "      <td>1</td>\n",
       "      <td>0</td>\n",
       "      <td>0</td>\n",
       "      <td>0</td>\n",
       "      <td>0</td>\n",
       "      <td>0</td>\n",
       "      <td>0</td>\n",
       "    </tr>\n",
       "    <tr>\n",
       "      <th>...</th>\n",
       "      <td>...</td>\n",
       "      <td>...</td>\n",
       "      <td>...</td>\n",
       "      <td>...</td>\n",
       "      <td>...</td>\n",
       "      <td>...</td>\n",
       "      <td>...</td>\n",
       "      <td>...</td>\n",
       "      <td>...</td>\n",
       "      <td>...</td>\n",
       "      <td>...</td>\n",
       "      <td>...</td>\n",
       "      <td>...</td>\n",
       "      <td>...</td>\n",
       "      <td>...</td>\n",
       "    </tr>\n",
       "    <tr>\n",
       "      <th>8430</th>\n",
       "      <td>1f1baa5b8edac74eb4eaa329f14a0361</td>\n",
       "      <td>d81f9c1be2e08964bf9f24b15f0e4900</td>\n",
       "      <td>-1</td>\n",
       "      <td>31</td>\n",
       "      <td>2</td>\n",
       "      <td>2</td>\n",
       "      <td>1.000000</td>\n",
       "      <td>0</td>\n",
       "      <td>0</td>\n",
       "      <td>0</td>\n",
       "      <td>0</td>\n",
       "      <td>0</td>\n",
       "      <td>0</td>\n",
       "      <td>0</td>\n",
       "      <td>1</td>\n",
       "    </tr>\n",
       "    <tr>\n",
       "      <th>8431</th>\n",
       "      <td>ebaee1af0c501f22ddfe242fc16dae53</td>\n",
       "      <td>a51fb975227d6640e4fe47854476d133</td>\n",
       "      <td>-1</td>\n",
       "      <td>13</td>\n",
       "      <td>3</td>\n",
       "      <td>1</td>\n",
       "      <td>0.333333</td>\n",
       "      <td>0</td>\n",
       "      <td>0</td>\n",
       "      <td>0</td>\n",
       "      <td>0</td>\n",
       "      <td>1</td>\n",
       "      <td>0</td>\n",
       "      <td>0</td>\n",
       "      <td>0</td>\n",
       "    </tr>\n",
       "    <tr>\n",
       "      <th>8432</th>\n",
       "      <td>fa2a28ade168508972790316e314d47e</td>\n",
       "      <td>7940ab47468396569a906f75ff3f20ef</td>\n",
       "      <td>-1</td>\n",
       "      <td>10</td>\n",
       "      <td>3</td>\n",
       "      <td>0</td>\n",
       "      <td>0.000000</td>\n",
       "      <td>0</td>\n",
       "      <td>1</td>\n",
       "      <td>0</td>\n",
       "      <td>0</td>\n",
       "      <td>0</td>\n",
       "      <td>0</td>\n",
       "      <td>0</td>\n",
       "      <td>0</td>\n",
       "    </tr>\n",
       "    <tr>\n",
       "      <th>8433</th>\n",
       "      <td>3e15cc11f979ed25912dff5b0669f2cd</td>\n",
       "      <td>74bba22728b6185eec06286af6bec36d</td>\n",
       "      <td>-1</td>\n",
       "      <td>17</td>\n",
       "      <td>3</td>\n",
       "      <td>0</td>\n",
       "      <td>0.000000</td>\n",
       "      <td>0</td>\n",
       "      <td>1</td>\n",
       "      <td>0</td>\n",
       "      <td>0</td>\n",
       "      <td>0</td>\n",
       "      <td>0</td>\n",
       "      <td>0</td>\n",
       "      <td>0</td>\n",
       "    </tr>\n",
       "    <tr>\n",
       "      <th>8434</th>\n",
       "      <td>ce3c9c905135bab43c25500d3435a7a7</td>\n",
       "      <td>7501e5d4da87ac39d782741cd794002d</td>\n",
       "      <td>-1</td>\n",
       "      <td>6</td>\n",
       "      <td>4</td>\n",
       "      <td>2</td>\n",
       "      <td>0.500000</td>\n",
       "      <td>0</td>\n",
       "      <td>1</td>\n",
       "      <td>0</td>\n",
       "      <td>0</td>\n",
       "      <td>0</td>\n",
       "      <td>0</td>\n",
       "      <td>0</td>\n",
       "      <td>0</td>\n",
       "    </tr>\n",
       "  </tbody>\n",
       "</table>\n",
       "<p>8435 rows × 15 columns</p>\n",
       "</div>"
      ],
      "text/plain": [
       "                                userID                             jobID  \\\n",
       "0     fe292163d06253b716e9a0099b42031d  15de21c670ae7c3f6f3f1f37029303c9   \n",
       "1     1d0d19d2d7d31ccf3747614aec7273c8  15de21c670ae7c3f6f3f1f37029303c9   \n",
       "2     c70daf247944fe3add32218f914c75a6  15de21c670ae7c3f6f3f1f37029303c9   \n",
       "3     883b4172416f7b84234d3aeda4199f8f  15de21c670ae7c3f6f3f1f37029303c9   \n",
       "4     6bc5d37951120d6d49672ce647c4e563  15de21c670ae7c3f6f3f1f37029303c9   \n",
       "...                                ...                               ...   \n",
       "8430  1f1baa5b8edac74eb4eaa329f14a0361  d81f9c1be2e08964bf9f24b15f0e4900   \n",
       "8431  ebaee1af0c501f22ddfe242fc16dae53  a51fb975227d6640e4fe47854476d133   \n",
       "8432  fa2a28ade168508972790316e314d47e  7940ab47468396569a906f75ff3f20ef   \n",
       "8433  3e15cc11f979ed25912dff5b0669f2cd  74bba22728b6185eec06286af6bec36d   \n",
       "8434  ce3c9c905135bab43c25500d3435a7a7  7501e5d4da87ac39d782741cd794002d   \n",
       "\n",
       "      applied  user_tag_count  job_tag_count  user_job_tag_inter  \\\n",
       "0           0              13              2                   0   \n",
       "1           0              25              2                   0   \n",
       "2           0               6              2                   0   \n",
       "3           1               4              2                   0   \n",
       "4           0              11              2                   0   \n",
       "...       ...             ...            ...                 ...   \n",
       "8430       -1              31              2                   2   \n",
       "8431       -1              13              3                   1   \n",
       "8432       -1              10              3                   0   \n",
       "8433       -1              17              3                   0   \n",
       "8434       -1               6              4                   2   \n",
       "\n",
       "      keyword_ratio  companySize_A  companySize_B  companySize_C  \\\n",
       "0          0.000000              0              1              0   \n",
       "1          0.000000              0              1              0   \n",
       "2          0.000000              0              1              0   \n",
       "3          0.000000              0              1              0   \n",
       "4          0.000000              0              1              0   \n",
       "...             ...            ...            ...            ...   \n",
       "8430       1.000000              0              0              0   \n",
       "8431       0.333333              0              0              0   \n",
       "8432       0.000000              0              1              0   \n",
       "8433       0.000000              0              1              0   \n",
       "8434       0.500000              0              1              0   \n",
       "\n",
       "      companySize_D  companySize_E  companySize_F  companySize_G  \\\n",
       "0                 0              0              0              0   \n",
       "1                 0              0              0              0   \n",
       "2                 0              0              0              0   \n",
       "3                 0              0              0              0   \n",
       "4                 0              0              0              0   \n",
       "...             ...            ...            ...            ...   \n",
       "8430              0              0              0              0   \n",
       "8431              0              1              0              0   \n",
       "8432              0              0              0              0   \n",
       "8433              0              0              0              0   \n",
       "8434              0              0              0              0   \n",
       "\n",
       "      companySize_None  \n",
       "0                    0  \n",
       "1                    0  \n",
       "2                    0  \n",
       "3                    0  \n",
       "4                    0  \n",
       "...                ...  \n",
       "8430                 1  \n",
       "8431                 0  \n",
       "8432                 0  \n",
       "8433                 0  \n",
       "8434                 0  \n",
       "\n",
       "[8435 rows x 15 columns]"
      ]
     },
     "execution_count": 44,
     "metadata": {},
     "output_type": "execute_result"
    }
   ],
   "source": [
    "total_df"
   ]
  },
  {
   "cell_type": "markdown",
   "id": "ec6c30f2-f679-4bd7-8cef-9ffe72a45593",
   "metadata": {},
   "source": [
    "### [3-2] train, test 분리"
   ]
  },
  {
   "cell_type": "markdown",
   "id": "85a6a962-60f5-4276-b1f5-6220e05734a0",
   "metadata": {},
   "source": [
    "* 분리하기 전에 먼저 필요없는 열 제거 : user_tag_count, job_tag_count, user_job_tag_inter"
   ]
  },
  {
   "cell_type": "code",
   "execution_count": 45,
   "id": "100dd12f-2ad2-4cb8-b402-7c00261b48de",
   "metadata": {},
   "outputs": [],
   "source": [
    "total_df.drop('user_tag_count', axis=1, inplace=True)\n",
    "total_df.drop('job_tag_count', axis=1, inplace=True)\n",
    "total_df.drop('user_job_tag_inter', axis=1, inplace=True)"
   ]
  },
  {
   "cell_type": "code",
   "execution_count": 46,
   "id": "4b866349-34c3-48be-900f-702983efc991",
   "metadata": {},
   "outputs": [],
   "source": [
    "train_df = total_df[total_df['applied'] != -1]\n",
    "test_df = total_df[total_df['applied']  == -1]"
   ]
  },
  {
   "cell_type": "code",
   "execution_count": 47,
   "id": "4f56c8cb-853d-4a13-b666-12829e357d1d",
   "metadata": {},
   "outputs": [
    {
     "data": {
      "text/plain": [
       "6000"
      ]
     },
     "execution_count": 47,
     "metadata": {},
     "output_type": "execute_result"
    }
   ],
   "source": [
    "len(train_df)"
   ]
  },
  {
   "cell_type": "code",
   "execution_count": 48,
   "id": "d80e3dda-e6e8-477c-84da-1cd54a6b481c",
   "metadata": {},
   "outputs": [
    {
     "data": {
      "text/plain": [
       "2435"
      ]
     },
     "execution_count": 48,
     "metadata": {},
     "output_type": "execute_result"
    }
   ],
   "source": [
    "len(test_df)"
   ]
  },
  {
   "cell_type": "code",
   "execution_count": 49,
   "id": "a79ef981-6ebe-4b24-8077-b79c6282c49c",
   "metadata": {},
   "outputs": [
    {
     "data": {
      "text/html": [
       "<div>\n",
       "<style scoped>\n",
       "    .dataframe tbody tr th:only-of-type {\n",
       "        vertical-align: middle;\n",
       "    }\n",
       "\n",
       "    .dataframe tbody tr th {\n",
       "        vertical-align: top;\n",
       "    }\n",
       "\n",
       "    .dataframe thead th {\n",
       "        text-align: right;\n",
       "    }\n",
       "</style>\n",
       "<table border=\"1\" class=\"dataframe\">\n",
       "  <thead>\n",
       "    <tr style=\"text-align: right;\">\n",
       "      <th></th>\n",
       "      <th>userID</th>\n",
       "      <th>jobID</th>\n",
       "      <th>applied</th>\n",
       "      <th>keyword_ratio</th>\n",
       "      <th>companySize_A</th>\n",
       "      <th>companySize_B</th>\n",
       "      <th>companySize_C</th>\n",
       "      <th>companySize_D</th>\n",
       "      <th>companySize_E</th>\n",
       "      <th>companySize_F</th>\n",
       "      <th>companySize_G</th>\n",
       "      <th>companySize_None</th>\n",
       "    </tr>\n",
       "  </thead>\n",
       "  <tbody>\n",
       "    <tr>\n",
       "      <th>0</th>\n",
       "      <td>fe292163d06253b716e9a0099b42031d</td>\n",
       "      <td>15de21c670ae7c3f6f3f1f37029303c9</td>\n",
       "      <td>0</td>\n",
       "      <td>0.000000</td>\n",
       "      <td>0</td>\n",
       "      <td>1</td>\n",
       "      <td>0</td>\n",
       "      <td>0</td>\n",
       "      <td>0</td>\n",
       "      <td>0</td>\n",
       "      <td>0</td>\n",
       "      <td>0</td>\n",
       "    </tr>\n",
       "    <tr>\n",
       "      <th>1</th>\n",
       "      <td>1d0d19d2d7d31ccf3747614aec7273c8</td>\n",
       "      <td>15de21c670ae7c3f6f3f1f37029303c9</td>\n",
       "      <td>0</td>\n",
       "      <td>0.000000</td>\n",
       "      <td>0</td>\n",
       "      <td>1</td>\n",
       "      <td>0</td>\n",
       "      <td>0</td>\n",
       "      <td>0</td>\n",
       "      <td>0</td>\n",
       "      <td>0</td>\n",
       "      <td>0</td>\n",
       "    </tr>\n",
       "    <tr>\n",
       "      <th>2</th>\n",
       "      <td>c70daf247944fe3add32218f914c75a6</td>\n",
       "      <td>15de21c670ae7c3f6f3f1f37029303c9</td>\n",
       "      <td>0</td>\n",
       "      <td>0.000000</td>\n",
       "      <td>0</td>\n",
       "      <td>1</td>\n",
       "      <td>0</td>\n",
       "      <td>0</td>\n",
       "      <td>0</td>\n",
       "      <td>0</td>\n",
       "      <td>0</td>\n",
       "      <td>0</td>\n",
       "    </tr>\n",
       "    <tr>\n",
       "      <th>3</th>\n",
       "      <td>883b4172416f7b84234d3aeda4199f8f</td>\n",
       "      <td>15de21c670ae7c3f6f3f1f37029303c9</td>\n",
       "      <td>1</td>\n",
       "      <td>0.000000</td>\n",
       "      <td>0</td>\n",
       "      <td>1</td>\n",
       "      <td>0</td>\n",
       "      <td>0</td>\n",
       "      <td>0</td>\n",
       "      <td>0</td>\n",
       "      <td>0</td>\n",
       "      <td>0</td>\n",
       "    </tr>\n",
       "    <tr>\n",
       "      <th>4</th>\n",
       "      <td>6bc5d37951120d6d49672ce647c4e563</td>\n",
       "      <td>15de21c670ae7c3f6f3f1f37029303c9</td>\n",
       "      <td>0</td>\n",
       "      <td>0.000000</td>\n",
       "      <td>0</td>\n",
       "      <td>1</td>\n",
       "      <td>0</td>\n",
       "      <td>0</td>\n",
       "      <td>0</td>\n",
       "      <td>0</td>\n",
       "      <td>0</td>\n",
       "      <td>0</td>\n",
       "    </tr>\n",
       "    <tr>\n",
       "      <th>...</th>\n",
       "      <td>...</td>\n",
       "      <td>...</td>\n",
       "      <td>...</td>\n",
       "      <td>...</td>\n",
       "      <td>...</td>\n",
       "      <td>...</td>\n",
       "      <td>...</td>\n",
       "      <td>...</td>\n",
       "      <td>...</td>\n",
       "      <td>...</td>\n",
       "      <td>...</td>\n",
       "      <td>...</td>\n",
       "    </tr>\n",
       "    <tr>\n",
       "      <th>8395</th>\n",
       "      <td>946aa0c612952da8d67dd338a43d5929</td>\n",
       "      <td>f29b38f160f87ae86df31cee1982066f</td>\n",
       "      <td>0</td>\n",
       "      <td>0.285714</td>\n",
       "      <td>0</td>\n",
       "      <td>0</td>\n",
       "      <td>0</td>\n",
       "      <td>0</td>\n",
       "      <td>0</td>\n",
       "      <td>1</td>\n",
       "      <td>0</td>\n",
       "      <td>0</td>\n",
       "    </tr>\n",
       "    <tr>\n",
       "      <th>8397</th>\n",
       "      <td>fd1b4044581c63b9cb16d91958302072</td>\n",
       "      <td>92262bf907af914b95a0fc33c3f33bf6</td>\n",
       "      <td>0</td>\n",
       "      <td>0.000000</td>\n",
       "      <td>0</td>\n",
       "      <td>1</td>\n",
       "      <td>0</td>\n",
       "      <td>0</td>\n",
       "      <td>0</td>\n",
       "      <td>0</td>\n",
       "      <td>0</td>\n",
       "      <td>0</td>\n",
       "    </tr>\n",
       "    <tr>\n",
       "      <th>8398</th>\n",
       "      <td>b94a3f555cc529e2ef5d5277651a33c1</td>\n",
       "      <td>caf1a3dfb505ffed0d024130f58c5cfa</td>\n",
       "      <td>0</td>\n",
       "      <td>0.000000</td>\n",
       "      <td>0</td>\n",
       "      <td>1</td>\n",
       "      <td>0</td>\n",
       "      <td>0</td>\n",
       "      <td>0</td>\n",
       "      <td>0</td>\n",
       "      <td>0</td>\n",
       "      <td>0</td>\n",
       "    </tr>\n",
       "    <tr>\n",
       "      <th>8404</th>\n",
       "      <td>78492ae8ee0c7aeab730674170296142</td>\n",
       "      <td>7f1171a78ce0780a2142a6eb7bc4f3c8</td>\n",
       "      <td>1</td>\n",
       "      <td>0.090909</td>\n",
       "      <td>1</td>\n",
       "      <td>0</td>\n",
       "      <td>0</td>\n",
       "      <td>0</td>\n",
       "      <td>0</td>\n",
       "      <td>0</td>\n",
       "      <td>0</td>\n",
       "      <td>0</td>\n",
       "    </tr>\n",
       "    <tr>\n",
       "      <th>8405</th>\n",
       "      <td>c0b199d73bdf390c2f4c3150b6ee1574</td>\n",
       "      <td>e3796ae838835da0b6f6ea37bcf8bcb7</td>\n",
       "      <td>0</td>\n",
       "      <td>0.500000</td>\n",
       "      <td>0</td>\n",
       "      <td>0</td>\n",
       "      <td>1</td>\n",
       "      <td>0</td>\n",
       "      <td>0</td>\n",
       "      <td>0</td>\n",
       "      <td>0</td>\n",
       "      <td>0</td>\n",
       "    </tr>\n",
       "  </tbody>\n",
       "</table>\n",
       "<p>6000 rows × 12 columns</p>\n",
       "</div>"
      ],
      "text/plain": [
       "                                userID                             jobID  \\\n",
       "0     fe292163d06253b716e9a0099b42031d  15de21c670ae7c3f6f3f1f37029303c9   \n",
       "1     1d0d19d2d7d31ccf3747614aec7273c8  15de21c670ae7c3f6f3f1f37029303c9   \n",
       "2     c70daf247944fe3add32218f914c75a6  15de21c670ae7c3f6f3f1f37029303c9   \n",
       "3     883b4172416f7b84234d3aeda4199f8f  15de21c670ae7c3f6f3f1f37029303c9   \n",
       "4     6bc5d37951120d6d49672ce647c4e563  15de21c670ae7c3f6f3f1f37029303c9   \n",
       "...                                ...                               ...   \n",
       "8395  946aa0c612952da8d67dd338a43d5929  f29b38f160f87ae86df31cee1982066f   \n",
       "8397  fd1b4044581c63b9cb16d91958302072  92262bf907af914b95a0fc33c3f33bf6   \n",
       "8398  b94a3f555cc529e2ef5d5277651a33c1  caf1a3dfb505ffed0d024130f58c5cfa   \n",
       "8404  78492ae8ee0c7aeab730674170296142  7f1171a78ce0780a2142a6eb7bc4f3c8   \n",
       "8405  c0b199d73bdf390c2f4c3150b6ee1574  e3796ae838835da0b6f6ea37bcf8bcb7   \n",
       "\n",
       "      applied  keyword_ratio  companySize_A  companySize_B  companySize_C  \\\n",
       "0           0       0.000000              0              1              0   \n",
       "1           0       0.000000              0              1              0   \n",
       "2           0       0.000000              0              1              0   \n",
       "3           1       0.000000              0              1              0   \n",
       "4           0       0.000000              0              1              0   \n",
       "...       ...            ...            ...            ...            ...   \n",
       "8395        0       0.285714              0              0              0   \n",
       "8397        0       0.000000              0              1              0   \n",
       "8398        0       0.000000              0              1              0   \n",
       "8404        1       0.090909              1              0              0   \n",
       "8405        0       0.500000              0              0              1   \n",
       "\n",
       "      companySize_D  companySize_E  companySize_F  companySize_G  \\\n",
       "0                 0              0              0              0   \n",
       "1                 0              0              0              0   \n",
       "2                 0              0              0              0   \n",
       "3                 0              0              0              0   \n",
       "4                 0              0              0              0   \n",
       "...             ...            ...            ...            ...   \n",
       "8395              0              0              1              0   \n",
       "8397              0              0              0              0   \n",
       "8398              0              0              0              0   \n",
       "8404              0              0              0              0   \n",
       "8405              0              0              0              0   \n",
       "\n",
       "      companySize_None  \n",
       "0                    0  \n",
       "1                    0  \n",
       "2                    0  \n",
       "3                    0  \n",
       "4                    0  \n",
       "...                ...  \n",
       "8395                 0  \n",
       "8397                 0  \n",
       "8398                 0  \n",
       "8404                 0  \n",
       "8405                 0  \n",
       "\n",
       "[6000 rows x 12 columns]"
      ]
     },
     "execution_count": 49,
     "metadata": {},
     "output_type": "execute_result"
    }
   ],
   "source": [
    "train_df"
   ]
  },
  {
   "cell_type": "markdown",
   "id": "b1e7136e-fac2-4e7e-a7fc-8e8f0258e261",
   "metadata": {},
   "source": [
    "* test dataset에서 applied 열 drop"
   ]
  },
  {
   "cell_type": "code",
   "execution_count": 50,
   "id": "5c7fd169-936c-4ca2-a494-aa01cc399003",
   "metadata": {},
   "outputs": [
    {
     "name": "stderr",
     "output_type": "stream",
     "text": [
      "/home/ai-sjjy/anaconda3/envs/juyoung2/lib/python3.8/site-packages/pandas/core/frame.py:4167: SettingWithCopyWarning: \n",
      "A value is trying to be set on a copy of a slice from a DataFrame\n",
      "\n",
      "See the caveats in the documentation: https://pandas.pydata.org/pandas-docs/stable/user_guide/indexing.html#returning-a-view-versus-a-copy\n",
      "  return super().drop(\n"
     ]
    }
   ],
   "source": [
    "test_df.drop('applied', axis=1, inplace=True)"
   ]
  },
  {
   "cell_type": "code",
   "execution_count": 51,
   "id": "ac385efe-115d-47fa-91b5-a6a54d55f9fc",
   "metadata": {},
   "outputs": [
    {
     "data": {
      "text/html": [
       "<div>\n",
       "<style scoped>\n",
       "    .dataframe tbody tr th:only-of-type {\n",
       "        vertical-align: middle;\n",
       "    }\n",
       "\n",
       "    .dataframe tbody tr th {\n",
       "        vertical-align: top;\n",
       "    }\n",
       "\n",
       "    .dataframe thead th {\n",
       "        text-align: right;\n",
       "    }\n",
       "</style>\n",
       "<table border=\"1\" class=\"dataframe\">\n",
       "  <thead>\n",
       "    <tr style=\"text-align: right;\">\n",
       "      <th></th>\n",
       "      <th>userID</th>\n",
       "      <th>jobID</th>\n",
       "      <th>keyword_ratio</th>\n",
       "      <th>companySize_A</th>\n",
       "      <th>companySize_B</th>\n",
       "      <th>companySize_C</th>\n",
       "      <th>companySize_D</th>\n",
       "      <th>companySize_E</th>\n",
       "      <th>companySize_F</th>\n",
       "      <th>companySize_G</th>\n",
       "      <th>companySize_None</th>\n",
       "    </tr>\n",
       "  </thead>\n",
       "  <tbody>\n",
       "    <tr>\n",
       "      <th>25</th>\n",
       "      <td>d41e0e6f6f1e29098d9d152511503ab2</td>\n",
       "      <td>15de21c670ae7c3f6f3f1f37029303c9</td>\n",
       "      <td>0.000000</td>\n",
       "      <td>0</td>\n",
       "      <td>1</td>\n",
       "      <td>0</td>\n",
       "      <td>0</td>\n",
       "      <td>0</td>\n",
       "      <td>0</td>\n",
       "      <td>0</td>\n",
       "      <td>0</td>\n",
       "    </tr>\n",
       "    <tr>\n",
       "      <th>26</th>\n",
       "      <td>946aa0c612952da8d67dd338a43d5929</td>\n",
       "      <td>15de21c670ae7c3f6f3f1f37029303c9</td>\n",
       "      <td>0.000000</td>\n",
       "      <td>0</td>\n",
       "      <td>1</td>\n",
       "      <td>0</td>\n",
       "      <td>0</td>\n",
       "      <td>0</td>\n",
       "      <td>0</td>\n",
       "      <td>0</td>\n",
       "      <td>0</td>\n",
       "    </tr>\n",
       "    <tr>\n",
       "      <th>27</th>\n",
       "      <td>4b847237599e42b2e62a06cdfbe693ec</td>\n",
       "      <td>15de21c670ae7c3f6f3f1f37029303c9</td>\n",
       "      <td>0.000000</td>\n",
       "      <td>0</td>\n",
       "      <td>1</td>\n",
       "      <td>0</td>\n",
       "      <td>0</td>\n",
       "      <td>0</td>\n",
       "      <td>0</td>\n",
       "      <td>0</td>\n",
       "      <td>0</td>\n",
       "    </tr>\n",
       "    <tr>\n",
       "      <th>28</th>\n",
       "      <td>bd652bf1e9b66171ef77f1e0db2e9c1e</td>\n",
       "      <td>15de21c670ae7c3f6f3f1f37029303c9</td>\n",
       "      <td>0.000000</td>\n",
       "      <td>0</td>\n",
       "      <td>1</td>\n",
       "      <td>0</td>\n",
       "      <td>0</td>\n",
       "      <td>0</td>\n",
       "      <td>0</td>\n",
       "      <td>0</td>\n",
       "      <td>0</td>\n",
       "    </tr>\n",
       "    <tr>\n",
       "      <th>29</th>\n",
       "      <td>6a901742172397a9e4c31a159a982708</td>\n",
       "      <td>15de21c670ae7c3f6f3f1f37029303c9</td>\n",
       "      <td>0.000000</td>\n",
       "      <td>0</td>\n",
       "      <td>1</td>\n",
       "      <td>0</td>\n",
       "      <td>0</td>\n",
       "      <td>0</td>\n",
       "      <td>0</td>\n",
       "      <td>0</td>\n",
       "      <td>0</td>\n",
       "    </tr>\n",
       "    <tr>\n",
       "      <th>...</th>\n",
       "      <td>...</td>\n",
       "      <td>...</td>\n",
       "      <td>...</td>\n",
       "      <td>...</td>\n",
       "      <td>...</td>\n",
       "      <td>...</td>\n",
       "      <td>...</td>\n",
       "      <td>...</td>\n",
       "      <td>...</td>\n",
       "      <td>...</td>\n",
       "      <td>...</td>\n",
       "    </tr>\n",
       "    <tr>\n",
       "      <th>8430</th>\n",
       "      <td>1f1baa5b8edac74eb4eaa329f14a0361</td>\n",
       "      <td>d81f9c1be2e08964bf9f24b15f0e4900</td>\n",
       "      <td>1.000000</td>\n",
       "      <td>0</td>\n",
       "      <td>0</td>\n",
       "      <td>0</td>\n",
       "      <td>0</td>\n",
       "      <td>0</td>\n",
       "      <td>0</td>\n",
       "      <td>0</td>\n",
       "      <td>1</td>\n",
       "    </tr>\n",
       "    <tr>\n",
       "      <th>8431</th>\n",
       "      <td>ebaee1af0c501f22ddfe242fc16dae53</td>\n",
       "      <td>a51fb975227d6640e4fe47854476d133</td>\n",
       "      <td>0.333333</td>\n",
       "      <td>0</td>\n",
       "      <td>0</td>\n",
       "      <td>0</td>\n",
       "      <td>0</td>\n",
       "      <td>1</td>\n",
       "      <td>0</td>\n",
       "      <td>0</td>\n",
       "      <td>0</td>\n",
       "    </tr>\n",
       "    <tr>\n",
       "      <th>8432</th>\n",
       "      <td>fa2a28ade168508972790316e314d47e</td>\n",
       "      <td>7940ab47468396569a906f75ff3f20ef</td>\n",
       "      <td>0.000000</td>\n",
       "      <td>0</td>\n",
       "      <td>1</td>\n",
       "      <td>0</td>\n",
       "      <td>0</td>\n",
       "      <td>0</td>\n",
       "      <td>0</td>\n",
       "      <td>0</td>\n",
       "      <td>0</td>\n",
       "    </tr>\n",
       "    <tr>\n",
       "      <th>8433</th>\n",
       "      <td>3e15cc11f979ed25912dff5b0669f2cd</td>\n",
       "      <td>74bba22728b6185eec06286af6bec36d</td>\n",
       "      <td>0.000000</td>\n",
       "      <td>0</td>\n",
       "      <td>1</td>\n",
       "      <td>0</td>\n",
       "      <td>0</td>\n",
       "      <td>0</td>\n",
       "      <td>0</td>\n",
       "      <td>0</td>\n",
       "      <td>0</td>\n",
       "    </tr>\n",
       "    <tr>\n",
       "      <th>8434</th>\n",
       "      <td>ce3c9c905135bab43c25500d3435a7a7</td>\n",
       "      <td>7501e5d4da87ac39d782741cd794002d</td>\n",
       "      <td>0.500000</td>\n",
       "      <td>0</td>\n",
       "      <td>1</td>\n",
       "      <td>0</td>\n",
       "      <td>0</td>\n",
       "      <td>0</td>\n",
       "      <td>0</td>\n",
       "      <td>0</td>\n",
       "      <td>0</td>\n",
       "    </tr>\n",
       "  </tbody>\n",
       "</table>\n",
       "<p>2435 rows × 11 columns</p>\n",
       "</div>"
      ],
      "text/plain": [
       "                                userID                             jobID  \\\n",
       "25    d41e0e6f6f1e29098d9d152511503ab2  15de21c670ae7c3f6f3f1f37029303c9   \n",
       "26    946aa0c612952da8d67dd338a43d5929  15de21c670ae7c3f6f3f1f37029303c9   \n",
       "27    4b847237599e42b2e62a06cdfbe693ec  15de21c670ae7c3f6f3f1f37029303c9   \n",
       "28    bd652bf1e9b66171ef77f1e0db2e9c1e  15de21c670ae7c3f6f3f1f37029303c9   \n",
       "29    6a901742172397a9e4c31a159a982708  15de21c670ae7c3f6f3f1f37029303c9   \n",
       "...                                ...                               ...   \n",
       "8430  1f1baa5b8edac74eb4eaa329f14a0361  d81f9c1be2e08964bf9f24b15f0e4900   \n",
       "8431  ebaee1af0c501f22ddfe242fc16dae53  a51fb975227d6640e4fe47854476d133   \n",
       "8432  fa2a28ade168508972790316e314d47e  7940ab47468396569a906f75ff3f20ef   \n",
       "8433  3e15cc11f979ed25912dff5b0669f2cd  74bba22728b6185eec06286af6bec36d   \n",
       "8434  ce3c9c905135bab43c25500d3435a7a7  7501e5d4da87ac39d782741cd794002d   \n",
       "\n",
       "      keyword_ratio  companySize_A  companySize_B  companySize_C  \\\n",
       "25         0.000000              0              1              0   \n",
       "26         0.000000              0              1              0   \n",
       "27         0.000000              0              1              0   \n",
       "28         0.000000              0              1              0   \n",
       "29         0.000000              0              1              0   \n",
       "...             ...            ...            ...            ...   \n",
       "8430       1.000000              0              0              0   \n",
       "8431       0.333333              0              0              0   \n",
       "8432       0.000000              0              1              0   \n",
       "8433       0.000000              0              1              0   \n",
       "8434       0.500000              0              1              0   \n",
       "\n",
       "      companySize_D  companySize_E  companySize_F  companySize_G  \\\n",
       "25                0              0              0              0   \n",
       "26                0              0              0              0   \n",
       "27                0              0              0              0   \n",
       "28                0              0              0              0   \n",
       "29                0              0              0              0   \n",
       "...             ...            ...            ...            ...   \n",
       "8430              0              0              0              0   \n",
       "8431              0              1              0              0   \n",
       "8432              0              0              0              0   \n",
       "8433              0              0              0              0   \n",
       "8434              0              0              0              0   \n",
       "\n",
       "      companySize_None  \n",
       "25                   0  \n",
       "26                   0  \n",
       "27                   0  \n",
       "28                   0  \n",
       "29                   0  \n",
       "...                ...  \n",
       "8430                 1  \n",
       "8431                 0  \n",
       "8432                 0  \n",
       "8433                 0  \n",
       "8434                 0  \n",
       "\n",
       "[2435 rows x 11 columns]"
      ]
     },
     "execution_count": 51,
     "metadata": {},
     "output_type": "execute_result"
    }
   ],
   "source": [
    "test_df"
   ]
  },
  {
   "cell_type": "markdown",
   "id": "c1b174e4-2f44-4cbf-8853-00ee5b559e7a",
   "metadata": {},
   "source": [
    "### [3-2] X, Y SET"
   ]
  },
  {
   "cell_type": "code",
   "execution_count": 52,
   "id": "7ac5c5e0-1148-4d7b-8a5d-071298a3affb",
   "metadata": {},
   "outputs": [],
   "source": [
    "train_y = train_df[['applied']]\n",
    "train_x = train_df.drop(['applied','userID', 'jobID'], axis=1,)"
   ]
  },
  {
   "cell_type": "code",
   "execution_count": 53,
   "id": "09a93559-d614-45ae-a0fd-ac9dfd77897a",
   "metadata": {},
   "outputs": [
    {
     "data": {
      "text/html": [
       "<div>\n",
       "<style scoped>\n",
       "    .dataframe tbody tr th:only-of-type {\n",
       "        vertical-align: middle;\n",
       "    }\n",
       "\n",
       "    .dataframe tbody tr th {\n",
       "        vertical-align: top;\n",
       "    }\n",
       "\n",
       "    .dataframe thead th {\n",
       "        text-align: right;\n",
       "    }\n",
       "</style>\n",
       "<table border=\"1\" class=\"dataframe\">\n",
       "  <thead>\n",
       "    <tr style=\"text-align: right;\">\n",
       "      <th></th>\n",
       "      <th>keyword_ratio</th>\n",
       "      <th>companySize_A</th>\n",
       "      <th>companySize_B</th>\n",
       "      <th>companySize_C</th>\n",
       "      <th>companySize_D</th>\n",
       "      <th>companySize_E</th>\n",
       "      <th>companySize_F</th>\n",
       "      <th>companySize_G</th>\n",
       "      <th>companySize_None</th>\n",
       "    </tr>\n",
       "  </thead>\n",
       "  <tbody>\n",
       "    <tr>\n",
       "      <th>0</th>\n",
       "      <td>0.000000</td>\n",
       "      <td>0</td>\n",
       "      <td>1</td>\n",
       "      <td>0</td>\n",
       "      <td>0</td>\n",
       "      <td>0</td>\n",
       "      <td>0</td>\n",
       "      <td>0</td>\n",
       "      <td>0</td>\n",
       "    </tr>\n",
       "    <tr>\n",
       "      <th>1</th>\n",
       "      <td>0.000000</td>\n",
       "      <td>0</td>\n",
       "      <td>1</td>\n",
       "      <td>0</td>\n",
       "      <td>0</td>\n",
       "      <td>0</td>\n",
       "      <td>0</td>\n",
       "      <td>0</td>\n",
       "      <td>0</td>\n",
       "    </tr>\n",
       "    <tr>\n",
       "      <th>2</th>\n",
       "      <td>0.000000</td>\n",
       "      <td>0</td>\n",
       "      <td>1</td>\n",
       "      <td>0</td>\n",
       "      <td>0</td>\n",
       "      <td>0</td>\n",
       "      <td>0</td>\n",
       "      <td>0</td>\n",
       "      <td>0</td>\n",
       "    </tr>\n",
       "    <tr>\n",
       "      <th>3</th>\n",
       "      <td>0.000000</td>\n",
       "      <td>0</td>\n",
       "      <td>1</td>\n",
       "      <td>0</td>\n",
       "      <td>0</td>\n",
       "      <td>0</td>\n",
       "      <td>0</td>\n",
       "      <td>0</td>\n",
       "      <td>0</td>\n",
       "    </tr>\n",
       "    <tr>\n",
       "      <th>4</th>\n",
       "      <td>0.000000</td>\n",
       "      <td>0</td>\n",
       "      <td>1</td>\n",
       "      <td>0</td>\n",
       "      <td>0</td>\n",
       "      <td>0</td>\n",
       "      <td>0</td>\n",
       "      <td>0</td>\n",
       "      <td>0</td>\n",
       "    </tr>\n",
       "    <tr>\n",
       "      <th>...</th>\n",
       "      <td>...</td>\n",
       "      <td>...</td>\n",
       "      <td>...</td>\n",
       "      <td>...</td>\n",
       "      <td>...</td>\n",
       "      <td>...</td>\n",
       "      <td>...</td>\n",
       "      <td>...</td>\n",
       "      <td>...</td>\n",
       "    </tr>\n",
       "    <tr>\n",
       "      <th>8395</th>\n",
       "      <td>0.285714</td>\n",
       "      <td>0</td>\n",
       "      <td>0</td>\n",
       "      <td>0</td>\n",
       "      <td>0</td>\n",
       "      <td>0</td>\n",
       "      <td>1</td>\n",
       "      <td>0</td>\n",
       "      <td>0</td>\n",
       "    </tr>\n",
       "    <tr>\n",
       "      <th>8397</th>\n",
       "      <td>0.000000</td>\n",
       "      <td>0</td>\n",
       "      <td>1</td>\n",
       "      <td>0</td>\n",
       "      <td>0</td>\n",
       "      <td>0</td>\n",
       "      <td>0</td>\n",
       "      <td>0</td>\n",
       "      <td>0</td>\n",
       "    </tr>\n",
       "    <tr>\n",
       "      <th>8398</th>\n",
       "      <td>0.000000</td>\n",
       "      <td>0</td>\n",
       "      <td>1</td>\n",
       "      <td>0</td>\n",
       "      <td>0</td>\n",
       "      <td>0</td>\n",
       "      <td>0</td>\n",
       "      <td>0</td>\n",
       "      <td>0</td>\n",
       "    </tr>\n",
       "    <tr>\n",
       "      <th>8404</th>\n",
       "      <td>0.090909</td>\n",
       "      <td>1</td>\n",
       "      <td>0</td>\n",
       "      <td>0</td>\n",
       "      <td>0</td>\n",
       "      <td>0</td>\n",
       "      <td>0</td>\n",
       "      <td>0</td>\n",
       "      <td>0</td>\n",
       "    </tr>\n",
       "    <tr>\n",
       "      <th>8405</th>\n",
       "      <td>0.500000</td>\n",
       "      <td>0</td>\n",
       "      <td>0</td>\n",
       "      <td>1</td>\n",
       "      <td>0</td>\n",
       "      <td>0</td>\n",
       "      <td>0</td>\n",
       "      <td>0</td>\n",
       "      <td>0</td>\n",
       "    </tr>\n",
       "  </tbody>\n",
       "</table>\n",
       "<p>6000 rows × 9 columns</p>\n",
       "</div>"
      ],
      "text/plain": [
       "      keyword_ratio  companySize_A  companySize_B  companySize_C  \\\n",
       "0          0.000000              0              1              0   \n",
       "1          0.000000              0              1              0   \n",
       "2          0.000000              0              1              0   \n",
       "3          0.000000              0              1              0   \n",
       "4          0.000000              0              1              0   \n",
       "...             ...            ...            ...            ...   \n",
       "8395       0.285714              0              0              0   \n",
       "8397       0.000000              0              1              0   \n",
       "8398       0.000000              0              1              0   \n",
       "8404       0.090909              1              0              0   \n",
       "8405       0.500000              0              0              1   \n",
       "\n",
       "      companySize_D  companySize_E  companySize_F  companySize_G  \\\n",
       "0                 0              0              0              0   \n",
       "1                 0              0              0              0   \n",
       "2                 0              0              0              0   \n",
       "3                 0              0              0              0   \n",
       "4                 0              0              0              0   \n",
       "...             ...            ...            ...            ...   \n",
       "8395              0              0              1              0   \n",
       "8397              0              0              0              0   \n",
       "8398              0              0              0              0   \n",
       "8404              0              0              0              0   \n",
       "8405              0              0              0              0   \n",
       "\n",
       "      companySize_None  \n",
       "0                    0  \n",
       "1                    0  \n",
       "2                    0  \n",
       "3                    0  \n",
       "4                    0  \n",
       "...                ...  \n",
       "8395                 0  \n",
       "8397                 0  \n",
       "8398                 0  \n",
       "8404                 0  \n",
       "8405                 0  \n",
       "\n",
       "[6000 rows x 9 columns]"
      ]
     },
     "execution_count": 53,
     "metadata": {},
     "output_type": "execute_result"
    }
   ],
   "source": [
    "train_x"
   ]
  },
  {
   "cell_type": "code",
   "execution_count": 54,
   "id": "dd7b7759-a11d-4ed8-aa43-913d44473121",
   "metadata": {},
   "outputs": [
    {
     "data": {
      "text/html": [
       "<div>\n",
       "<style scoped>\n",
       "    .dataframe tbody tr th:only-of-type {\n",
       "        vertical-align: middle;\n",
       "    }\n",
       "\n",
       "    .dataframe tbody tr th {\n",
       "        vertical-align: top;\n",
       "    }\n",
       "\n",
       "    .dataframe thead th {\n",
       "        text-align: right;\n",
       "    }\n",
       "</style>\n",
       "<table border=\"1\" class=\"dataframe\">\n",
       "  <thead>\n",
       "    <tr style=\"text-align: right;\">\n",
       "      <th></th>\n",
       "      <th>applied</th>\n",
       "    </tr>\n",
       "  </thead>\n",
       "  <tbody>\n",
       "    <tr>\n",
       "      <th>0</th>\n",
       "      <td>0</td>\n",
       "    </tr>\n",
       "    <tr>\n",
       "      <th>1</th>\n",
       "      <td>0</td>\n",
       "    </tr>\n",
       "    <tr>\n",
       "      <th>2</th>\n",
       "      <td>0</td>\n",
       "    </tr>\n",
       "    <tr>\n",
       "      <th>3</th>\n",
       "      <td>1</td>\n",
       "    </tr>\n",
       "    <tr>\n",
       "      <th>4</th>\n",
       "      <td>0</td>\n",
       "    </tr>\n",
       "    <tr>\n",
       "      <th>...</th>\n",
       "      <td>...</td>\n",
       "    </tr>\n",
       "    <tr>\n",
       "      <th>8395</th>\n",
       "      <td>0</td>\n",
       "    </tr>\n",
       "    <tr>\n",
       "      <th>8397</th>\n",
       "      <td>0</td>\n",
       "    </tr>\n",
       "    <tr>\n",
       "      <th>8398</th>\n",
       "      <td>0</td>\n",
       "    </tr>\n",
       "    <tr>\n",
       "      <th>8404</th>\n",
       "      <td>1</td>\n",
       "    </tr>\n",
       "    <tr>\n",
       "      <th>8405</th>\n",
       "      <td>0</td>\n",
       "    </tr>\n",
       "  </tbody>\n",
       "</table>\n",
       "<p>6000 rows × 1 columns</p>\n",
       "</div>"
      ],
      "text/plain": [
       "      applied\n",
       "0           0\n",
       "1           0\n",
       "2           0\n",
       "3           1\n",
       "4           0\n",
       "...       ...\n",
       "8395        0\n",
       "8397        0\n",
       "8398        0\n",
       "8404        1\n",
       "8405        0\n",
       "\n",
       "[6000 rows x 1 columns]"
      ]
     },
     "execution_count": 54,
     "metadata": {},
     "output_type": "execute_result"
    }
   ],
   "source": [
    "train_y"
   ]
  },
  {
   "cell_type": "code",
   "execution_count": 55,
   "id": "9e3bd004-ca1f-4e06-b1c2-c5e2cb980d69",
   "metadata": {},
   "outputs": [
    {
     "data": {
      "text/plain": [
       "array([0, 1])"
      ]
     },
     "execution_count": 55,
     "metadata": {},
     "output_type": "execute_result"
    }
   ],
   "source": [
    "train_y['applied'].unique()"
   ]
  },
  {
   "cell_type": "code",
   "execution_count": 56,
   "id": "ef5f3c48-4261-4022-892f-f338998b8546",
   "metadata": {},
   "outputs": [
    {
     "name": "stdout",
     "output_type": "stream",
     "text": [
      "<class 'pandas.core.frame.DataFrame'>\n",
      "Int64Index: 6000 entries, 0 to 8405\n",
      "Data columns (total 9 columns):\n",
      " #   Column            Non-Null Count  Dtype  \n",
      "---  ------            --------------  -----  \n",
      " 0   keyword_ratio     6000 non-null   float64\n",
      " 1   companySize_A     6000 non-null   uint8  \n",
      " 2   companySize_B     6000 non-null   uint8  \n",
      " 3   companySize_C     6000 non-null   uint8  \n",
      " 4   companySize_D     6000 non-null   uint8  \n",
      " 5   companySize_E     6000 non-null   uint8  \n",
      " 6   companySize_F     6000 non-null   uint8  \n",
      " 7   companySize_G     6000 non-null   uint8  \n",
      " 8   companySize_None  6000 non-null   uint8  \n",
      "dtypes: float64(1), uint8(8)\n",
      "memory usage: 140.6 KB\n"
     ]
    }
   ],
   "source": [
    "train_x.info()"
   ]
  },
  {
   "cell_type": "code",
   "execution_count": 57,
   "id": "a6fd6cf6-fe15-49b1-b31c-fe61d4d3096d",
   "metadata": {},
   "outputs": [
    {
     "name": "stdout",
     "output_type": "stream",
     "text": [
      "<class 'pandas.core.frame.DataFrame'>\n",
      "Int64Index: 6000 entries, 0 to 8405\n",
      "Data columns (total 1 columns):\n",
      " #   Column   Non-Null Count  Dtype\n",
      "---  ------   --------------  -----\n",
      " 0   applied  6000 non-null   int64\n",
      "dtypes: int64(1)\n",
      "memory usage: 93.8 KB\n"
     ]
    }
   ],
   "source": [
    "train_y.info()"
   ]
  },
  {
   "cell_type": "markdown",
   "id": "769d5a61-71e5-4286-9c41-4148a4f1b750",
   "metadata": {},
   "source": [
    "* train에서 validation set 분류"
   ]
  },
  {
   "cell_type": "code",
   "execution_count": 58,
   "id": "ee816e60-79dc-4ad3-bbff-d10177130533",
   "metadata": {},
   "outputs": [],
   "source": [
    "from sklearn.model_selection import train_test_split"
   ]
  },
  {
   "cell_type": "code",
   "execution_count": 59,
   "id": "5c46bb77-b2c0-44c0-99ec-5f9267e7d46f",
   "metadata": {},
   "outputs": [],
   "source": [
    "X_train, X_test, y_train, y_test = train_test_split(train_x , train_y, test_size = 0.2, random_state = 5)"
   ]
  },
  {
   "cell_type": "markdown",
   "id": "61bc778f-397e-4e01-9bca-558d06bf0144",
   "metadata": {},
   "source": [
    "## [4] 모델"
   ]
  },
  {
   "cell_type": "markdown",
   "id": "ffdafaae-e847-4cc6-b2b0-11290da05ffc",
   "metadata": {},
   "source": [
    "* 이진 분류 문제 : 로지스틱 회귀분석/랜덤 포리스트/서포트 벡터머신"
   ]
  },
  {
   "cell_type": "markdown",
   "id": "9ff35579-a5ef-4143-b3b1-772170238248",
   "metadata": {},
   "source": [
    "### [4-1] 로지스틱 회귀"
   ]
  },
  {
   "cell_type": "code",
   "execution_count": 60,
   "id": "18f39cba-7e87-4169-9ad8-af151ecdf7af",
   "metadata": {},
   "outputs": [],
   "source": [
    "from sklearn.metrics import confusion_matrix\n",
    "from sklearn.metrics import accuracy_score"
   ]
  },
  {
   "cell_type": "code",
   "execution_count": 61,
   "id": "cc648282-0854-4a30-a9ee-ba788ec0a35c",
   "metadata": {},
   "outputs": [],
   "source": [
    "from sklearn.linear_model import LogisticRegression"
   ]
  },
  {
   "cell_type": "code",
   "execution_count": 62,
   "id": "384a97f8-1b90-40fd-92e6-fc8d6e3b903c",
   "metadata": {},
   "outputs": [
    {
     "name": "stderr",
     "output_type": "stream",
     "text": [
      "/home/ai-sjjy/anaconda3/envs/juyoung2/lib/python3.8/site-packages/sklearn/utils/validation.py:63: DataConversionWarning: A column-vector y was passed when a 1d array was expected. Please change the shape of y to (n_samples, ), for example using ravel().\n",
      "  return f(*args, **kwargs)\n"
     ]
    },
    {
     "data": {
      "text/plain": [
       "LogisticRegression()"
      ]
     },
     "execution_count": 62,
     "metadata": {},
     "output_type": "execute_result"
    }
   ],
   "source": [
    "# logistic regression\n",
    "Logistic = LogisticRegression()\n",
    "Logistic.fit(X_train, y_train)"
   ]
  },
  {
   "cell_type": "code",
   "execution_count": 63,
   "id": "4d59fe80-3024-4110-83f4-5f420ad8b15e",
   "metadata": {},
   "outputs": [
    {
     "data": {
      "text/plain": [
       "0.8583333333333333"
      ]
     },
     "execution_count": 63,
     "metadata": {},
     "output_type": "execute_result"
    }
   ],
   "source": [
    "# accruracy_score (정확도 측정)\n",
    "pred = Logistic.predict(X_test)\n",
    "accuracy_score(y_test, pred)"
   ]
  },
  {
   "cell_type": "code",
   "execution_count": 64,
   "id": "d314805f-246f-420c-926e-c8b3a634c90a",
   "metadata": {},
   "outputs": [
    {
     "data": {
      "text/plain": [
       "Text(33.0, 0.5, 'Actual')"
      ]
     },
     "execution_count": 64,
     "metadata": {},
     "output_type": "execute_result"
    },
    {
     "data": {
      "image/png": "[encoded data removed]",
      "text/plain": [
       "<Figure size 432x288 with 2 Axes>"
      ]
     },
     "metadata": {
      "needs_background": "light"
     },
     "output_type": "display_data"
    }
   ],
   "source": [
    "# 혼동 행렬\n",
    "cm = confusion_matrix(y_test, pred)\n",
    "\n",
    "sns.heatmap(cm, annot=True, annot_kws={\"size\": 20}, cmap='YlOrBr')\n",
    "plt.xlabel('Predicted', fontsize=20)\n",
    "plt.ylabel('Actual', fontsize=20)"
   ]
  },
  {
   "cell_type": "markdown",
   "id": "a72d00cf-fde4-43d2-8762-801ceef94954",
   "metadata": {},
   "source": [
    "### [4-2] 랜덤 포레스트"
   ]
  },
  {
   "cell_type": "code",
   "execution_count": 65,
   "id": "146b35ba-701e-4c85-8726-045c004509b9",
   "metadata": {},
   "outputs": [],
   "source": [
    "from sklearn.ensemble import RandomForestClassifier"
   ]
  },
  {
   "cell_type": "code",
   "execution_count": 66,
   "id": "eee05e6b-3272-4f7a-a4d5-dff91e7b0b76",
   "metadata": {},
   "outputs": [
    {
     "name": "stderr",
     "output_type": "stream",
     "text": [
      "<ipython-input-66-c02e534ca3d4>:2: DataConversionWarning: A column-vector y was passed when a 1d array was expected. Please change the shape of y to (n_samples,), for example using ravel().\n",
      "  forest.fit(X_train, y_train)\n"
     ]
    },
    {
     "data": {
      "text/plain": [
       "RandomForestClassifier(n_estimators=150)"
      ]
     },
     "execution_count": 66,
     "metadata": {},
     "output_type": "execute_result"
    }
   ],
   "source": [
    "forest = RandomForestClassifier(n_estimators=150)\n",
    "forest.fit(X_train, y_train)"
   ]
  },
  {
   "cell_type": "code",
   "execution_count": 67,
   "id": "c39a85e9-a497-4f53-b023-21fb45265ad6",
   "metadata": {},
   "outputs": [
    {
     "data": {
      "text/plain": [
       "0.8516666666666667"
      ]
     },
     "execution_count": 67,
     "metadata": {},
     "output_type": "execute_result"
    }
   ],
   "source": [
    "pred = forest.predict(X_test)\n",
    "accuracy_score(y_test, pred)"
   ]
  },
  {
   "cell_type": "code",
   "execution_count": 68,
   "id": "80b74b63-6910-47d6-89dd-88299a79415f",
   "metadata": {},
   "outputs": [
    {
     "data": {
      "text/plain": [
       "Text(33.0, 0.5, 'Actual')"
      ]
     },
     "execution_count": 68,
     "metadata": {},
     "output_type": "execute_result"
    },
    {
     "data": {
      "image/png": "[encoded data removed]",
      "text/plain": [
       "<Figure size 432x288 with 2 Axes>"
      ]
     },
     "metadata": {
      "needs_background": "light"
     },
     "output_type": "display_data"
    }
   ],
   "source": [
    "# 혼동 행렬\n",
    "cm = confusion_matrix(y_test, pred)\n",
    "\n",
    "sns.heatmap(cm, annot=True, annot_kws={\"size\": 20}, cmap='YlOrBr')\n",
    "plt.xlabel('Predicted', fontsize=20)\n",
    "plt.ylabel('Actual', fontsize=20)"
   ]
  },
  {
   "cell_type": "markdown",
   "id": "7b4a2eb9-1160-4efc-bd36-7aa214500568",
   "metadata": {},
   "source": [
    "### [4-3] SVM"
   ]
  },
  {
   "cell_type": "code",
   "execution_count": 69,
   "id": "e2b56901-a90e-4c60-8a5b-823ca0cc2806",
   "metadata": {},
   "outputs": [],
   "source": [
    "from sklearn import svm"
   ]
  },
  {
   "cell_type": "code",
   "execution_count": 70,
   "id": "c76f2fab-5651-4316-8ed5-46b7768e55e6",
   "metadata": {},
   "outputs": [
    {
     "name": "stderr",
     "output_type": "stream",
     "text": [
      "/home/ai-sjjy/anaconda3/envs/juyoung2/lib/python3.8/site-packages/sklearn/utils/validation.py:63: DataConversionWarning: A column-vector y was passed when a 1d array was expected. Please change the shape of y to (n_samples, ), for example using ravel().\n",
      "  return f(*args, **kwargs)\n"
     ]
    },
    {
     "data": {
      "text/plain": [
       "SVC()"
      ]
     },
     "execution_count": 70,
     "metadata": {},
     "output_type": "execute_result"
    }
   ],
   "source": [
    "SVM_ = svm.SVC(kernel='rbf')\n",
    "SVM_.fit(X_train, y_train)"
   ]
  },
  {
   "cell_type": "code",
   "execution_count": 71,
   "id": "ab7543b1-c38d-4e42-a6fd-2bb30e405186",
   "metadata": {},
   "outputs": [
    {
     "data": {
      "text/plain": [
       "0.8583333333333333"
      ]
     },
     "execution_count": 71,
     "metadata": {},
     "output_type": "execute_result"
    }
   ],
   "source": [
    "pred = SVM_.predict(X_test)\n",
    "accuracy_score(y_test, pred)"
   ]
  },
  {
   "cell_type": "code",
   "execution_count": 72,
   "id": "dd849d1e-63b6-4c28-abdd-363990873347",
   "metadata": {},
   "outputs": [
    {
     "data": {
      "text/plain": [
       "Text(33.0, 0.5, 'Actual')"
      ]
     },
     "execution_count": 72,
     "metadata": {},
     "output_type": "execute_result"
    },
    {
     "data": {
      "image/png": "[encoded data removed]",
      "text/plain": [
       "<Figure size 432x288 with 2 Axes>"
      ]
     },
     "metadata": {
      "needs_background": "light"
     },
     "output_type": "display_data"
    }
   ],
   "source": [
    "# 혼동 행렬\n",
    "cm = confusion_matrix(y_test, pred)\n",
    "\n",
    "sns.heatmap(cm, annot=True, annot_kws={\"size\": 20}, cmap='YlOrBr')\n",
    "plt.xlabel('Predicted', fontsize=20)\n",
    "plt.ylabel('Actual', fontsize=20)"
   ]
  },
  {
   "cell_type": "markdown",
   "id": "1d0a7290-b984-4bcd-a5ea-514c3fcda021",
   "metadata": {},
   "source": [
    "## [5] test_set 예측"
   ]
  },
  {
   "cell_type": "code",
   "execution_count": 73,
   "id": "1000ff99-8795-4e91-aaf0-3bce9bb33be6",
   "metadata": {},
   "outputs": [
    {
     "data": {
      "text/html": [
       "<div>\n",
       "<style scoped>\n",
       "    .dataframe tbody tr th:only-of-type {\n",
       "        vertical-align: middle;\n",
       "    }\n",
       "\n",
       "    .dataframe tbody tr th {\n",
       "        vertical-align: top;\n",
       "    }\n",
       "\n",
       "    .dataframe thead th {\n",
       "        text-align: right;\n",
       "    }\n",
       "</style>\n",
       "<table border=\"1\" class=\"dataframe\">\n",
       "  <thead>\n",
       "    <tr style=\"text-align: right;\">\n",
       "      <th></th>\n",
       "      <th>userID</th>\n",
       "      <th>jobID</th>\n",
       "      <th>keyword_ratio</th>\n",
       "      <th>companySize_A</th>\n",
       "      <th>companySize_B</th>\n",
       "      <th>companySize_C</th>\n",
       "      <th>companySize_D</th>\n",
       "      <th>companySize_E</th>\n",
       "      <th>companySize_F</th>\n",
       "      <th>companySize_G</th>\n",
       "      <th>companySize_None</th>\n",
       "    </tr>\n",
       "  </thead>\n",
       "  <tbody>\n",
       "    <tr>\n",
       "      <th>25</th>\n",
       "      <td>d41e0e6f6f1e29098d9d152511503ab2</td>\n",
       "      <td>15de21c670ae7c3f6f3f1f37029303c9</td>\n",
       "      <td>0.000000</td>\n",
       "      <td>0</td>\n",
       "      <td>1</td>\n",
       "      <td>0</td>\n",
       "      <td>0</td>\n",
       "      <td>0</td>\n",
       "      <td>0</td>\n",
       "      <td>0</td>\n",
       "      <td>0</td>\n",
       "    </tr>\n",
       "    <tr>\n",
       "      <th>26</th>\n",
       "      <td>946aa0c612952da8d67dd338a43d5929</td>\n",
       "      <td>15de21c670ae7c3f6f3f1f37029303c9</td>\n",
       "      <td>0.000000</td>\n",
       "      <td>0</td>\n",
       "      <td>1</td>\n",
       "      <td>0</td>\n",
       "      <td>0</td>\n",
       "      <td>0</td>\n",
       "      <td>0</td>\n",
       "      <td>0</td>\n",
       "      <td>0</td>\n",
       "    </tr>\n",
       "    <tr>\n",
       "      <th>27</th>\n",
       "      <td>4b847237599e42b2e62a06cdfbe693ec</td>\n",
       "      <td>15de21c670ae7c3f6f3f1f37029303c9</td>\n",
       "      <td>0.000000</td>\n",
       "      <td>0</td>\n",
       "      <td>1</td>\n",
       "      <td>0</td>\n",
       "      <td>0</td>\n",
       "      <td>0</td>\n",
       "      <td>0</td>\n",
       "      <td>0</td>\n",
       "      <td>0</td>\n",
       "    </tr>\n",
       "    <tr>\n",
       "      <th>28</th>\n",
       "      <td>bd652bf1e9b66171ef77f1e0db2e9c1e</td>\n",
       "      <td>15de21c670ae7c3f6f3f1f37029303c9</td>\n",
       "      <td>0.000000</td>\n",
       "      <td>0</td>\n",
       "      <td>1</td>\n",
       "      <td>0</td>\n",
       "      <td>0</td>\n",
       "      <td>0</td>\n",
       "      <td>0</td>\n",
       "      <td>0</td>\n",
       "      <td>0</td>\n",
       "    </tr>\n",
       "    <tr>\n",
       "      <th>29</th>\n",
       "      <td>6a901742172397a9e4c31a159a982708</td>\n",
       "      <td>15de21c670ae7c3f6f3f1f37029303c9</td>\n",
       "      <td>0.000000</td>\n",
       "      <td>0</td>\n",
       "      <td>1</td>\n",
       "      <td>0</td>\n",
       "      <td>0</td>\n",
       "      <td>0</td>\n",
       "      <td>0</td>\n",
       "      <td>0</td>\n",
       "      <td>0</td>\n",
       "    </tr>\n",
       "    <tr>\n",
       "      <th>...</th>\n",
       "      <td>...</td>\n",
       "      <td>...</td>\n",
       "      <td>...</td>\n",
       "      <td>...</td>\n",
       "      <td>...</td>\n",
       "      <td>...</td>\n",
       "      <td>...</td>\n",
       "      <td>...</td>\n",
       "      <td>...</td>\n",
       "      <td>...</td>\n",
       "      <td>...</td>\n",
       "    </tr>\n",
       "    <tr>\n",
       "      <th>8430</th>\n",
       "      <td>1f1baa5b8edac74eb4eaa329f14a0361</td>\n",
       "      <td>d81f9c1be2e08964bf9f24b15f0e4900</td>\n",
       "      <td>1.000000</td>\n",
       "      <td>0</td>\n",
       "      <td>0</td>\n",
       "      <td>0</td>\n",
       "      <td>0</td>\n",
       "      <td>0</td>\n",
       "      <td>0</td>\n",
       "      <td>0</td>\n",
       "      <td>1</td>\n",
       "    </tr>\n",
       "    <tr>\n",
       "      <th>8431</th>\n",
       "      <td>ebaee1af0c501f22ddfe242fc16dae53</td>\n",
       "      <td>a51fb975227d6640e4fe47854476d133</td>\n",
       "      <td>0.333333</td>\n",
       "      <td>0</td>\n",
       "      <td>0</td>\n",
       "      <td>0</td>\n",
       "      <td>0</td>\n",
       "      <td>1</td>\n",
       "      <td>0</td>\n",
       "      <td>0</td>\n",
       "      <td>0</td>\n",
       "    </tr>\n",
       "    <tr>\n",
       "      <th>8432</th>\n",
       "      <td>fa2a28ade168508972790316e314d47e</td>\n",
       "      <td>7940ab47468396569a906f75ff3f20ef</td>\n",
       "      <td>0.000000</td>\n",
       "      <td>0</td>\n",
       "      <td>1</td>\n",
       "      <td>0</td>\n",
       "      <td>0</td>\n",
       "      <td>0</td>\n",
       "      <td>0</td>\n",
       "      <td>0</td>\n",
       "      <td>0</td>\n",
       "    </tr>\n",
       "    <tr>\n",
       "      <th>8433</th>\n",
       "      <td>3e15cc11f979ed25912dff5b0669f2cd</td>\n",
       "      <td>74bba22728b6185eec06286af6bec36d</td>\n",
       "      <td>0.000000</td>\n",
       "      <td>0</td>\n",
       "      <td>1</td>\n",
       "      <td>0</td>\n",
       "      <td>0</td>\n",
       "      <td>0</td>\n",
       "      <td>0</td>\n",
       "      <td>0</td>\n",
       "      <td>0</td>\n",
       "    </tr>\n",
       "    <tr>\n",
       "      <th>8434</th>\n",
       "      <td>ce3c9c905135bab43c25500d3435a7a7</td>\n",
       "      <td>7501e5d4da87ac39d782741cd794002d</td>\n",
       "      <td>0.500000</td>\n",
       "      <td>0</td>\n",
       "      <td>1</td>\n",
       "      <td>0</td>\n",
       "      <td>0</td>\n",
       "      <td>0</td>\n",
       "      <td>0</td>\n",
       "      <td>0</td>\n",
       "      <td>0</td>\n",
       "    </tr>\n",
       "  </tbody>\n",
       "</table>\n",
       "<p>2435 rows × 11 columns</p>\n",
       "</div>"
      ],
      "text/plain": [
       "                                userID                             jobID  \\\n",
       "25    d41e0e6f6f1e29098d9d152511503ab2  15de21c670ae7c3f6f3f1f37029303c9   \n",
       "26    946aa0c612952da8d67dd338a43d5929  15de21c670ae7c3f6f3f1f37029303c9   \n",
       "27    4b847237599e42b2e62a06cdfbe693ec  15de21c670ae7c3f6f3f1f37029303c9   \n",
       "28    bd652bf1e9b66171ef77f1e0db2e9c1e  15de21c670ae7c3f6f3f1f37029303c9   \n",
       "29    6a901742172397a9e4c31a159a982708  15de21c670ae7c3f6f3f1f37029303c9   \n",
       "...                                ...                               ...   \n",
       "8430  1f1baa5b8edac74eb4eaa329f14a0361  d81f9c1be2e08964bf9f24b15f0e4900   \n",
       "8431  ebaee1af0c501f22ddfe242fc16dae53  a51fb975227d6640e4fe47854476d133   \n",
       "8432  fa2a28ade168508972790316e314d47e  7940ab47468396569a906f75ff3f20ef   \n",
       "8433  3e15cc11f979ed25912dff5b0669f2cd  74bba22728b6185eec06286af6bec36d   \n",
       "8434  ce3c9c905135bab43c25500d3435a7a7  7501e5d4da87ac39d782741cd794002d   \n",
       "\n",
       "      keyword_ratio  companySize_A  companySize_B  companySize_C  \\\n",
       "25         0.000000              0              1              0   \n",
       "26         0.000000              0              1              0   \n",
       "27         0.000000              0              1              0   \n",
       "28         0.000000              0              1              0   \n",
       "29         0.000000              0              1              0   \n",
       "...             ...            ...            ...            ...   \n",
       "8430       1.000000              0              0              0   \n",
       "8431       0.333333              0              0              0   \n",
       "8432       0.000000              0              1              0   \n",
       "8433       0.000000              0              1              0   \n",
       "8434       0.500000              0              1              0   \n",
       "\n",
       "      companySize_D  companySize_E  companySize_F  companySize_G  \\\n",
       "25                0              0              0              0   \n",
       "26                0              0              0              0   \n",
       "27                0              0              0              0   \n",
       "28                0              0              0              0   \n",
       "29                0              0              0              0   \n",
       "...             ...            ...            ...            ...   \n",
       "8430              0              0              0              0   \n",
       "8431              0              1              0              0   \n",
       "8432              0              0              0              0   \n",
       "8433              0              0              0              0   \n",
       "8434              0              0              0              0   \n",
       "\n",
       "      companySize_None  \n",
       "25                   0  \n",
       "26                   0  \n",
       "27                   0  \n",
       "28                   0  \n",
       "29                   0  \n",
       "...                ...  \n",
       "8430                 1  \n",
       "8431                 0  \n",
       "8432                 0  \n",
       "8433                 0  \n",
       "8434                 0  \n",
       "\n",
       "[2435 rows x 11 columns]"
      ]
     },
     "execution_count": 73,
     "metadata": {},
     "output_type": "execute_result"
    }
   ],
   "source": [
    "test_df"
   ]
  },
  {
   "cell_type": "code",
   "execution_count": 75,
   "id": "38c5ce01-de10-48bb-b31e-562d20f3630d",
   "metadata": {},
   "outputs": [],
   "source": [
    "temp_test_df = test_df.drop(['userID', 'jobID'], axis=1)"
   ]
  },
  {
   "cell_type": "code",
   "execution_count": 76,
   "id": "9d54ab52-dba3-4548-b110-d84dd2649155",
   "metadata": {},
   "outputs": [],
   "source": [
    "predictions1 = Logistic.predict(temp_test_df)"
   ]
  },
  {
   "cell_type": "code",
   "execution_count": 81,
   "id": "4dc84a93-1594-46f0-a677-ca58886a896d",
   "metadata": {},
   "outputs": [
    {
     "name": "stderr",
     "output_type": "stream",
     "text": [
      "/home/ai-sjjy/anaconda3/envs/juyoung2/lib/python3.8/site-packages/seaborn/_decorators.py:36: FutureWarning: Pass the following variable as a keyword arg: x. From version 0.12, the only valid positional argument will be `data`, and passing other arguments without an explicit keyword will result in an error or misinterpretation.\n",
      "  warnings.warn(\n"
     ]
    },
    {
     "data": {
      "text/plain": [
       "<AxesSubplot:ylabel='count'>"
      ]
     },
     "execution_count": 81,
     "metadata": {},
     "output_type": "execute_result"
    },
    {
     "data": {
      "image/png": "[encoded data removed]",
      "text/plain": [
       "<Figure size 432x288 with 1 Axes>"
      ]
     },
     "metadata": {
      "needs_background": "light"
     },
     "output_type": "display_data"
    }
   ],
   "source": [
    "sns.countplot(predictions1)"
   ]
  },
  {
   "cell_type": "code",
   "execution_count": 77,
   "id": "ed6cd131-78db-4e6c-99e8-993cf5c9f7ba",
   "metadata": {},
   "outputs": [],
   "source": [
    "predictions2 = forest.predict(temp_test_df)"
   ]
  },
  {
   "cell_type": "code",
   "execution_count": 80,
   "id": "8f944470-5146-447c-8f2e-3c8857b6dae3",
   "metadata": {},
   "outputs": [
    {
     "name": "stderr",
     "output_type": "stream",
     "text": [
      "/home/ai-sjjy/anaconda3/envs/juyoung2/lib/python3.8/site-packages/seaborn/_decorators.py:36: FutureWarning: Pass the following variable as a keyword arg: x. From version 0.12, the only valid positional argument will be `data`, and passing other arguments without an explicit keyword will result in an error or misinterpretation.\n",
      "  warnings.warn(\n"
     ]
    },
    {
     "data": {
      "text/plain": [
       "<AxesSubplot:ylabel='count'>"
      ]
     },
     "execution_count": 80,
     "metadata": {},
     "output_type": "execute_result"
    },
    {
     "data": {
      "image/png": "[encoded data removed]",
      "text/plain": [
       "<Figure size 432x288 with 1 Axes>"
      ]
     },
     "metadata": {
      "needs_background": "light"
     },
     "output_type": "display_data"
    }
   ],
   "source": [
    "sns.countplot(predictions2)"
   ]
  },
  {
   "cell_type": "code",
   "execution_count": 78,
   "id": "a4da7081-0848-4f73-a593-9faa9154a2ea",
   "metadata": {},
   "outputs": [],
   "source": [
    "predictions3 = SVM_.predict(temp_test_df)"
   ]
  },
  {
   "cell_type": "code",
   "execution_count": 82,
   "id": "4150b8f5-d429-4693-a99b-90635835b785",
   "metadata": {},
   "outputs": [
    {
     "name": "stderr",
     "output_type": "stream",
     "text": [
      "/home/ai-sjjy/anaconda3/envs/juyoung2/lib/python3.8/site-packages/seaborn/_decorators.py:36: FutureWarning: Pass the following variable as a keyword arg: x. From version 0.12, the only valid positional argument will be `data`, and passing other arguments without an explicit keyword will result in an error or misinterpretation.\n",
      "  warnings.warn(\n"
     ]
    },
    {
     "data": {
      "text/plain": [
       "<AxesSubplot:ylabel='count'>"
      ]
     },
     "execution_count": 82,
     "metadata": {},
     "output_type": "execute_result"
    },
    {
     "data": {
      "image/png": "[encoded data removed]",
      "text/plain": [
       "<Figure size 432x288 with 1 Axes>"
      ]
     },
     "metadata": {
      "needs_background": "light"
     },
     "output_type": "display_data"
    }
   ],
   "source": [
    "sns.countplot(predictions3)"
   ]
  },
  {
   "cell_type": "code",
   "execution_count": 86,
   "id": "a9f43cd3-257d-4ebb-97d9-8435e1ab8e8d",
   "metadata": {},
   "outputs": [],
   "source": [
    "df = pd.DataFrame(predictions3, columns =['applied'])\n",
    "df.to_csv(path+'result_3.csv', index=False)"
   ]
  },
  {
   "cell_type": "markdown",
   "id": "3080832a-4a00-431d-bfef-8c15693811e8",
   "metadata": {},
   "source": [
    "## 결과"
   ]
  },
  {
   "cell_type": "markdown",
   "id": "2abd447b-39ef-4dea-959d-c1a0c78eb832",
   "metadata": {},
   "source": [
    "* 로지스틱이 가장 좋은 결과 도출"
   ]
  }
 ],
 "metadata": {
  "kernelspec": {
   "display_name": "Python 3",
   "language": "python",
   "name": "python3"
  },
  "language_info": {
   "codemirror_mode": {
    "name": "ipython",
    "version": 3
   },
   "file_extension": ".py",
   "mimetype": "text/x-python",
   "name": "python",
   "nbconvert_exporter": "python",
   "pygments_lexer": "ipython3",
   "version": "3.8.10"
  }
 },
 "nbformat": 4,
 "nbformat_minor": 5
}
